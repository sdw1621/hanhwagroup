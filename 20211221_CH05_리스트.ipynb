{
  "nbformat": 4,
  "nbformat_minor": 0,
  "metadata": {
    "colab": {
      "name": "20211221_CH05_리스트.ipynb",
      "provenance": [],
      "collapsed_sections": [],
      "authorship_tag": "ABX9TyOTfP56kCeK8lrLegsm++jX",
      "include_colab_link": true
    },
    "kernelspec": {
      "name": "python3",
      "display_name": "Python 3"
    },
    "language_info": {
      "name": "python"
    }
  },
  "cells": [
    {
      "cell_type": "markdown",
      "metadata": {
        "id": "view-in-github",
        "colab_type": "text"
      },
      "source": [
        "<a href=\"https://colab.research.google.com/github/sdw1621/hanhwagroup/blob/main/20211221_CH05_%EB%A6%AC%EC%8A%A4%ED%8A%B8.ipynb\" target=\"_parent\"><img src=\"https://colab.research.google.com/assets/colab-badge.svg\" alt=\"Open In Colab\"/></a>"
      ]
    },
    {
      "cell_type": "markdown",
      "source": [
        "###**PDF 180, 예제 5-2. 리스트 요소 추가**"
      ],
      "metadata": {
        "id": "16Mpe2B5viWF"
      }
    },
    {
      "cell_type": "code",
      "source": [
        "a = ['red', 'green', 'blue']\n",
        "a.append('yellow')\n",
        "print(a)"
      ],
      "metadata": {
        "colab": {
          "base_uri": "https://localhost:8080/"
        },
        "id": "tJMrciapYABY",
        "outputId": "a153195d-10d2-4547-dc95-6654cbcb1000"
      },
      "execution_count": 1,
      "outputs": [
        {
          "output_type": "stream",
          "name": "stdout",
          "text": [
            "['red', 'green', 'blue', 'yellow']\n"
          ]
        }
      ]
    },
    {
      "cell_type": "code",
      "source": [
        "a.insert(1, 'black')\n",
        "print(a)"
      ],
      "metadata": {
        "colab": {
          "base_uri": "https://localhost:8080/"
        },
        "id": "MPCMOndh3z22",
        "outputId": "4eecf5bf-3aa4-42c5-9047-60ea18bac6c8"
      },
      "execution_count": 2,
      "outputs": [
        {
          "output_type": "stream",
          "name": "stdout",
          "text": [
            "['red', 'black', 'green', 'blue', 'yellow']\n"
          ]
        }
      ]
    },
    {
      "cell_type": "code",
      "source": [
        "a = ['red', 'green', 'blue']\n",
        "a.append(['green', 'light_blue'])\n",
        "print(a)"
      ],
      "metadata": {
        "colab": {
          "base_uri": "https://localhost:8080/"
        },
        "id": "0JAyBURJ37RU",
        "outputId": "bccbed7b-6f35-4a89-c09f-be3886b2069e"
      },
      "execution_count": 3,
      "outputs": [
        {
          "output_type": "stream",
          "name": "stdout",
          "text": [
            "['red', 'green', 'blue', ['green', 'light_blue']]\n"
          ]
        }
      ]
    },
    {
      "cell_type": "code",
      "source": [
        "print(a[3])"
      ],
      "metadata": {
        "colab": {
          "base_uri": "https://localhost:8080/"
        },
        "id": "3EeRx3Pn4NUF",
        "outputId": "3ed0db83-0862-4c05-c185-d7ee5230f43e"
      },
      "execution_count": 4,
      "outputs": [
        {
          "output_type": "stream",
          "name": "stdout",
          "text": [
            "['green', 'light_blue']\n"
          ]
        }
      ]
    },
    {
      "cell_type": "code",
      "source": [
        "print(a[3][0])"
      ],
      "metadata": {
        "colab": {
          "base_uri": "https://localhost:8080/"
        },
        "id": "HvOsQM_p4TBD",
        "outputId": "29119a5d-bb4c-4bab-dbf5-2e202a42419c"
      },
      "execution_count": 5,
      "outputs": [
        {
          "output_type": "stream",
          "name": "stdout",
          "text": [
            "green\n"
          ]
        }
      ]
    },
    {
      "cell_type": "code",
      "source": [
        "a = ['red', 'green', 'blue']\n",
        "b = ['purple', 'white']\n",
        "a.extend(b)\n",
        "print(a)"
      ],
      "metadata": {
        "colab": {
          "base_uri": "https://localhost:8080/"
        },
        "id": "M_Zyu_Fo4VnF",
        "outputId": "79fa2b0d-09e8-4141-9fd7-715aa83571ed"
      },
      "execution_count": 6,
      "outputs": [
        {
          "output_type": "stream",
          "name": "stdout",
          "text": [
            "['red', 'green', 'blue', 'purple', 'white']\n"
          ]
        }
      ]
    },
    {
      "cell_type": "code",
      "source": [
        "customers = [\"유근영\", \"최병국\"] # DB\n",
        "new_customers = ['차경민', \"송우진\"] # 추가 가입\n",
        "\n",
        "customers.extend(new_customers)\n",
        "print(customers)"
      ],
      "metadata": {
        "colab": {
          "base_uri": "https://localhost:8080/"
        },
        "id": "yMC8my4R4lGr",
        "outputId": "b2dc49c2-3285-44d6-a990-f534ea5892ae"
      },
      "execution_count": 7,
      "outputs": [
        {
          "output_type": "stream",
          "name": "stdout",
          "text": [
            "['유근영', '최병국', '차경민', '송우진']\n"
          ]
        }
      ]
    },
    {
      "cell_type": "markdown",
      "source": [
        "###**PDF 181, 예제 5-3. 리스트 요소 삭제**"
      ],
      "metadata": {
        "id": "FwVBCI4G7yTU"
      }
    },
    {
      "cell_type": "code",
      "source": [
        "a = [10,20,30,40,50,60,70,80,90,100]\n",
        "x = a.index(30)\n",
        "print(x)"
      ],
      "metadata": {
        "colab": {
          "base_uri": "https://localhost:8080/"
        },
        "id": "fZYA3yrT5BYU",
        "outputId": "610951cc-33ef-4bf7-f4fc-e6db2774170c"
      },
      "execution_count": 8,
      "outputs": [
        {
          "output_type": "stream",
          "name": "stdout",
          "text": [
            "2\n"
          ]
        }
      ]
    },
    {
      "cell_type": "code",
      "source": [
        "a = [\"허민제\", \"주영민\", \"전원석\"]\n",
        "# x = a.index(\"주영민\")\n",
        "x = a.index(\"전원석\")\n",
        "print(x)"
      ],
      "metadata": {
        "colab": {
          "base_uri": "https://localhost:8080/"
        },
        "id": "lBxnzHMg7-5D",
        "outputId": "6e60baf6-c6d9-4352-e48d-6d14984c4522"
      },
      "execution_count": 10,
      "outputs": [
        {
          "output_type": "stream",
          "name": "stdout",
          "text": [
            "2\n"
          ]
        }
      ]
    },
    {
      "cell_type": "code",
      "source": [
        "a = [10,20,30,40,50,60,70,80,90,100]\n",
        "x = a.index(30)\n",
        "a.pop(x)\n",
        "print(a)"
      ],
      "metadata": {
        "colab": {
          "base_uri": "https://localhost:8080/"
        },
        "id": "yWBt6AHG8LZE",
        "outputId": "990b6099-3f90-4f70-a61b-2d693d0c7f45"
      },
      "execution_count": 11,
      "outputs": [
        {
          "output_type": "stream",
          "name": "stdout",
          "text": [
            "[10, 20, 40, 50, 60, 70, 80, 90, 100]\n"
          ]
        }
      ]
    },
    {
      "cell_type": "code",
      "source": [
        "a = [10,20,30,40,50,60,70,80,90,100]\n",
        "a.pop()\n",
        "print(a)"
      ],
      "metadata": {
        "colab": {
          "base_uri": "https://localhost:8080/"
        },
        "id": "xQ8iyztN8hDT",
        "outputId": "254e4582-88b6-475a-ea2c-6dbb6fe05da2"
      },
      "execution_count": 12,
      "outputs": [
        {
          "output_type": "stream",
          "name": "stdout",
          "text": [
            "[10, 20, 30, 40, 50, 60, 70, 80, 90]\n"
          ]
        }
      ]
    },
    {
      "cell_type": "code",
      "source": [
        "a = [10,20,30,40,50,60,70,80,90,100]\n",
        "a.pop(0)\n",
        "print(a)"
      ],
      "metadata": {
        "colab": {
          "base_uri": "https://localhost:8080/"
        },
        "id": "KBf4G6YB8plk",
        "outputId": "39016e26-c8b1-4669-93ed-8c9a752e94ab"
      },
      "execution_count": 13,
      "outputs": [
        {
          "output_type": "stream",
          "name": "stdout",
          "text": [
            "[20, 30, 40, 50, 60, 70, 80, 90, 100]\n"
          ]
        }
      ]
    },
    {
      "cell_type": "code",
      "source": [
        "a = [10,20,30,40,50,60,70,80,90,100]\n",
        "a.remove(90) # 실제 값을 없애기\n",
        "print(a)"
      ],
      "metadata": {
        "colab": {
          "base_uri": "https://localhost:8080/"
        },
        "id": "7NkwMvtq80T0",
        "outputId": "3118d6b0-2fde-45a3-f926-6dd7005323d6"
      },
      "execution_count": 14,
      "outputs": [
        {
          "output_type": "stream",
          "name": "stdout",
          "text": [
            "[10, 20, 30, 40, 50, 60, 70, 80, 100]\n"
          ]
        }
      ]
    },
    {
      "cell_type": "code",
      "source": [
        "a = [\"허민제\", \"주영민\", \"전원석\"]\n",
        "a.remove(\"주영민\") # 실제 값을 없애기\n",
        "print(a)"
      ],
      "metadata": {
        "colab": {
          "base_uri": "https://localhost:8080/"
        },
        "id": "atg9yu7O8-t8",
        "outputId": "d63a1695-bbc7-4513-c9a5-d92b63c36603"
      },
      "execution_count": 15,
      "outputs": [
        {
          "output_type": "stream",
          "name": "stdout",
          "text": [
            "['허민제', '전원석']\n"
          ]
        }
      ]
    },
    {
      "cell_type": "code",
      "source": [
        "a = [\"허민제\", \"주영민\", \"전원석\"]\n",
        "a.remove() # 실제 값을 없애기\n",
        "print(a)"
      ],
      "metadata": {
        "colab": {
          "base_uri": "https://localhost:8080/",
          "height": 210
        },
        "id": "GHAjNjQw9GUs",
        "outputId": "5a1d2336-2470-44d7-d68e-f1ec8d63b882"
      },
      "execution_count": 16,
      "outputs": [
        {
          "output_type": "error",
          "ename": "TypeError",
          "evalue": "ignored",
          "traceback": [
            "\u001b[0;31m---------------------------------------------------------------------------\u001b[0m",
            "\u001b[0;31mTypeError\u001b[0m                                 Traceback (most recent call last)",
            "\u001b[0;32m<ipython-input-16-d51b01b43c7f>\u001b[0m in \u001b[0;36m<module>\u001b[0;34m()\u001b[0m\n\u001b[1;32m      1\u001b[0m \u001b[0ma\u001b[0m \u001b[0;34m=\u001b[0m \u001b[0;34m[\u001b[0m\u001b[0;34m\"허민제\"\u001b[0m\u001b[0;34m,\u001b[0m \u001b[0;34m\"주영민\"\u001b[0m\u001b[0;34m,\u001b[0m \u001b[0;34m\"전원석\"\u001b[0m\u001b[0;34m]\u001b[0m\u001b[0;34m\u001b[0m\u001b[0;34m\u001b[0m\u001b[0m\n\u001b[0;32m----> 2\u001b[0;31m \u001b[0ma\u001b[0m\u001b[0;34m.\u001b[0m\u001b[0mremove\u001b[0m\u001b[0;34m(\u001b[0m\u001b[0;34m)\u001b[0m \u001b[0;31m# 실제 값을 없애기\u001b[0m\u001b[0;34m\u001b[0m\u001b[0;34m\u001b[0m\u001b[0m\n\u001b[0m\u001b[1;32m      3\u001b[0m \u001b[0mprint\u001b[0m\u001b[0;34m(\u001b[0m\u001b[0ma\u001b[0m\u001b[0;34m)\u001b[0m\u001b[0;34m\u001b[0m\u001b[0;34m\u001b[0m\u001b[0m\n",
            "\u001b[0;31mTypeError\u001b[0m: remove() takes exactly one argument (0 given)"
          ]
        }
      ]
    },
    {
      "cell_type": "code",
      "source": [
        "a = [\"허민제\", \"주영민\", \"전원석\"]\n",
        "a.remove(\"신동욱\") # 실제 값을 없애기\n",
        "print(a)"
      ],
      "metadata": {
        "colab": {
          "base_uri": "https://localhost:8080/",
          "height": 210
        },
        "id": "W4-2VEgn9I77",
        "outputId": "8aa79f01-eebd-49b7-8cfd-7bba45f34c72"
      },
      "execution_count": 17,
      "outputs": [
        {
          "output_type": "error",
          "ename": "ValueError",
          "evalue": "ignored",
          "traceback": [
            "\u001b[0;31m---------------------------------------------------------------------------\u001b[0m",
            "\u001b[0;31mValueError\u001b[0m                                Traceback (most recent call last)",
            "\u001b[0;32m<ipython-input-17-b3045c2be7d0>\u001b[0m in \u001b[0;36m<module>\u001b[0;34m()\u001b[0m\n\u001b[1;32m      1\u001b[0m \u001b[0ma\u001b[0m \u001b[0;34m=\u001b[0m \u001b[0;34m[\u001b[0m\u001b[0;34m\"허민제\"\u001b[0m\u001b[0;34m,\u001b[0m \u001b[0;34m\"주영민\"\u001b[0m\u001b[0;34m,\u001b[0m \u001b[0;34m\"전원석\"\u001b[0m\u001b[0;34m]\u001b[0m\u001b[0;34m\u001b[0m\u001b[0;34m\u001b[0m\u001b[0m\n\u001b[0;32m----> 2\u001b[0;31m \u001b[0ma\u001b[0m\u001b[0;34m.\u001b[0m\u001b[0mremove\u001b[0m\u001b[0;34m(\u001b[0m\u001b[0;34m\"신동욱\"\u001b[0m\u001b[0;34m)\u001b[0m \u001b[0;31m# 실제 값을 없애기\u001b[0m\u001b[0;34m\u001b[0m\u001b[0;34m\u001b[0m\u001b[0m\n\u001b[0m\u001b[1;32m      3\u001b[0m \u001b[0mprint\u001b[0m\u001b[0;34m(\u001b[0m\u001b[0ma\u001b[0m\u001b[0;34m)\u001b[0m\u001b[0;34m\u001b[0m\u001b[0;34m\u001b[0m\u001b[0m\n",
            "\u001b[0;31mValueError\u001b[0m: list.remove(x): x not in list"
          ]
        }
      ]
    },
    {
      "cell_type": "code",
      "source": [
        "a = [\"허민제\", \"주영민\", \"전원석\"]\n",
        "a.clear()\n",
        "print(a)"
      ],
      "metadata": {
        "colab": {
          "base_uri": "https://localhost:8080/"
        },
        "id": "ZuOOyQnH9MrD",
        "outputId": "5e7a9350-7cd5-4d51-b230-f38a4e066759"
      },
      "execution_count": 18,
      "outputs": [
        {
          "output_type": "stream",
          "name": "stdout",
          "text": [
            "[]\n"
          ]
        }
      ]
    },
    {
      "cell_type": "code",
      "source": [
        "# 예제 5-4 리스트 요소 카운트\n",
        "\n",
        "list1 = ['a','bb','c','d','aaa','b','aaa']\n",
        "list1_count = list1.count('aaa')\n",
        "print(list1_count) # 중복 데이터 몇 개니?"
      ],
      "metadata": {
        "colab": {
          "base_uri": "https://localhost:8080/"
        },
        "id": "ZNPUNKHu9X7L",
        "outputId": "b572523f-8652-41a2-81f1-799ae30d86c9"
      },
      "execution_count": 20,
      "outputs": [
        {
          "output_type": "stream",
          "name": "stdout",
          "text": [
            "2\n"
          ]
        }
      ]
    },
    {
      "cell_type": "code",
      "source": [
        "a = [\"허민제\", \"주영민\", \"전원석\", \"허민제\", \"허민제\"]\n",
        "a_count = a.count('허민제')\n",
        "print(a_count)"
      ],
      "metadata": {
        "colab": {
          "base_uri": "https://localhost:8080/"
        },
        "id": "6RE50MA896UD",
        "outputId": "5914fd62-d208-4101-b621-6abc9f643fa5"
      },
      "execution_count": 22,
      "outputs": [
        {
          "output_type": "stream",
          "name": "stdout",
          "text": [
            "3\n"
          ]
        }
      ]
    },
    {
      "cell_type": "code",
      "source": [
        "# PDF186, Q 5-3 리스트 요소 추가하기\n",
        "\n",
        "mylist = ['사과', '바나나', '파인애플', '배']\n",
        "mylist.append('키위')\n",
        "print(mylist)"
      ],
      "metadata": {
        "colab": {
          "base_uri": "https://localhost:8080/"
        },
        "id": "OWTIUyHd-M_z",
        "outputId": "940792c7-eaa8-4141-aa03-c21e7b425abe"
      },
      "execution_count": 23,
      "outputs": [
        {
          "output_type": "stream",
          "name": "stdout",
          "text": [
            "['사과', '바나나', '파인애플', '배', '키위']\n"
          ]
        }
      ]
    },
    {
      "cell_type": "code",
      "source": [
        "for a in mylist:\n",
        "  print(a)"
      ],
      "metadata": {
        "colab": {
          "base_uri": "https://localhost:8080/"
        },
        "id": "gSt59ptn_CqT",
        "outputId": "9e39c04a-9384-4e0a-aee1-f09c7d456c41"
      },
      "execution_count": 24,
      "outputs": [
        {
          "output_type": "stream",
          "name": "stdout",
          "text": [
            "사과\n",
            "바나나\n",
            "파인애플\n",
            "배\n",
            "키위\n"
          ]
        }
      ]
    },
    {
      "cell_type": "code",
      "source": [
        "# Q 5-4 리스트 요소 삭제하기\n",
        "mylist = ['사과','바나나','파인애플','포도','오렌지','배']\n",
        "mylist.remove('바나나')\n",
        "print(mylist)"
      ],
      "metadata": {
        "colab": {
          "base_uri": "https://localhost:8080/"
        },
        "id": "xpX2q0V6_L7D",
        "outputId": "a138dc3c-949b-4a7c-c40c-c2375ecadfd9"
      },
      "execution_count": 26,
      "outputs": [
        {
          "output_type": "stream",
          "name": "stdout",
          "text": [
            "['사과', '파인애플', '포도', '오렌지', '배']\n"
          ]
        }
      ]
    },
    {
      "cell_type": "code",
      "source": [
        "# Q 5-5 리스트 병합하기\n",
        "\n",
        "person1 = ['허민제','주영민','전원석']\n",
        "person2 = ['이동언','강태규','김대웅']\n",
        "\n",
        "person = person1 + person2\n",
        "print(person)\n"
      ],
      "metadata": {
        "colab": {
          "base_uri": "https://localhost:8080/"
        },
        "id": "pkMiObEb_q1C",
        "outputId": "22af6976-5297-41f0-ec43-b3099c01b228"
      },
      "execution_count": 28,
      "outputs": [
        {
          "output_type": "stream",
          "name": "stdout",
          "text": [
            "['허민제', '주영민', '전원석', '이동언', '강태규', '김대웅']\n"
          ]
        }
      ]
    },
    {
      "cell_type": "code",
      "source": [
        "# 문자열 + 문자열\n",
        "print(\"신동욱\" + \"강사님\")"
      ],
      "metadata": {
        "colab": {
          "base_uri": "https://localhost:8080/"
        },
        "id": "Qr4Gzt_aAZYC",
        "outputId": "8559da06-d814-4e1b-9a97-f257c3902f25"
      },
      "execution_count": 29,
      "outputs": [
        {
          "output_type": "stream",
          "name": "stdout",
          "text": [
            "신동욱강사님\n"
          ]
        }
      ]
    },
    {
      "cell_type": "code",
      "source": [
        "# 리스트 + 리스트\n",
        "person1 = ['허민제','주영민','전원석']\n",
        "person2 = ['이동언','강태규','김대웅']\n",
        "\n",
        "print(person1 + person2)"
      ],
      "metadata": {
        "colab": {
          "base_uri": "https://localhost:8080/"
        },
        "id": "Qqr3m97mAhbz",
        "outputId": "e41b3e71-2884-48ae-d8c1-55eedd5c8af6"
      },
      "execution_count": 30,
      "outputs": [
        {
          "output_type": "stream",
          "name": "stdout",
          "text": [
            "['허민제', '주영민', '전원석', '이동언', '강태규', '김대웅']\n"
          ]
        }
      ]
    },
    {
      "cell_type": "code",
      "source": [
        "# PDF 189, 예제 5-7 응용\n",
        "sales = [1000, 2000, 3000]\n",
        "\n",
        "sales_sum = 0\n",
        "\n",
        "for sale in sales:\n",
        "  # print(sale)\n",
        "  sales_sum = sales_sum + sale\n",
        "  # print(sales_sum)\n",
        "  avg = sales_sum / len(sales)\n",
        "\n",
        "print(f\"{avg:.0f}\")"
      ],
      "metadata": {
        "colab": {
          "base_uri": "https://localhost:8080/"
        },
        "id": "u0WPpkfwAplT",
        "outputId": "47a76ad6-ab0e-4668-f39f-58898680880b"
      },
      "execution_count": 36,
      "outputs": [
        {
          "output_type": "stream",
          "name": "stdout",
          "text": [
            "2000\n"
          ]
        }
      ]
    },
    {
      "cell_type": "code",
      "source": [
        "# Q 5-7, 리스트를 이용한 영어 단어 퀴즈\n",
        "\n",
        "questions = ['tr_in', 'b_s', '_axi', 'air_lane']\n",
        "answers = ['a','u','t','p']\n",
        "\n",
        "for i in range(len(questions)):\n",
        "  # print(questions[i] + f\"에서 밑줄(_) 안에 들어갈 알파벳은?\")\n",
        "  q = questions[i] + f\"에서 밑줄(_) 안에 들어갈 알파벳은?\"\n",
        "  ans = input(q)\n",
        "\n",
        "  if ans == answers[i]:\n",
        "    print(\"정답입니다.\")\n",
        "  else:\n",
        "    print(\"틀렸습니다.\")"
      ],
      "metadata": {
        "colab": {
          "base_uri": "https://localhost:8080/"
        },
        "id": "CtoFn_AmBS5D",
        "outputId": "efad74a8-95af-4916-c884-fa4b774e1ea6"
      },
      "execution_count": 41,
      "outputs": [
        {
          "output_type": "stream",
          "name": "stdout",
          "text": [
            "tr_in에서 밑줄(_) 안에 들어갈 알파벳은?a\n",
            "정답입니다.\n",
            "b_s에서 밑줄(_) 안에 들어갈 알파벳은?a\n",
            "틀렸습니다.\n",
            "_axi에서 밑줄(_) 안에 들어갈 알파벳은?t\n",
            "정답입니다.\n",
            "air_lane에서 밑줄(_) 안에 들어갈 알파벳은?q\n",
            "틀렸습니다.\n"
          ]
        }
      ]
    },
    {
      "cell_type": "code",
      "source": [
        "# 예제 5-9 2차원 리스트 기본 구조\n",
        "\n",
        "numbers = [ [10,20,30], [40,50,60] ]\n",
        "\n",
        "print(numbers[0][0])\n",
        "print(numbers[1][1])"
      ],
      "metadata": {
        "colab": {
          "base_uri": "https://localhost:8080/"
        },
        "id": "8q2yMtAvDJ-l",
        "outputId": "49cb14ba-f9f3-44c3-91ea-284f0f9e567a"
      },
      "execution_count": 44,
      "outputs": [
        {
          "output_type": "stream",
          "name": "stdout",
          "text": [
            "10\n",
            "50\n"
          ]
        }
      ]
    },
    {
      "cell_type": "code",
      "source": [
        ""
      ],
      "metadata": {
        "id": "daiV-JkBFANi"
      },
      "execution_count": null,
      "outputs": []
    }
  ]
}