{
  "nbformat": 4,
  "nbformat_minor": 0,
  "metadata": {
    "colab": {
      "name": "20211220_CH03_조건문.ipynb",
      "provenance": [],
      "collapsed_sections": [],
      "authorship_tag": "ABX9TyOP/KjKrgkucy7yqVQcVNC6",
      "include_colab_link": true
    },
    "kernelspec": {
      "name": "python3",
      "display_name": "Python 3"
    },
    "language_info": {
      "name": "python"
    }
  },
  "cells": [
    {
      "cell_type": "markdown",
      "metadata": {
        "id": "view-in-github",
        "colab_type": "text"
      },
      "source": [
        "<a href=\"https://colab.research.google.com/github/sdw1621/hanhwagroup/blob/main/20211220_CH03_%EC%A1%B0%EA%B1%B4%EB%AC%B8.ipynb\" target=\"_parent\"><img src=\"https://colab.research.google.com/assets/colab-badge.svg\" alt=\"Open In Colab\"/></a>"
      ]
    },
    {
      "cell_type": "markdown",
      "source": [
        "###**PDF 105, 예제 3-1. if~else구문으로 양수 판별**"
      ],
      "metadata": {
        "id": "16Mpe2B5viWF"
      }
    },
    {
      "cell_type": "markdown",
      "source": [
        "if 조건문:<br>\n",
        "&nbsp;  실행구문1<br>\n",
        "elif 조건문:<br>\n",
        "&nbsp;  실행구문2<br>\n",
        "elif 조건문:<br>\n",
        "&nbsp;  실행구문3<br>\n",
        "else:<br>\n",
        "&nbsp; 실행구문4"
      ],
      "metadata": {
        "id": "LD8ihj8l11rH"
      }
    },
    {
      "cell_type": "code",
      "source": [
        "# 자판기\n",
        "# 1~3까지는 콜라\n",
        "# 4~6까지는 사이다\n",
        "# 7~9까지는 오렌지쥬스\n",
        "# 10~12까지는 포도쥬스\n",
        "\n",
        "drink = int(input(\"먹고 싶은 음료의 숫자를 입력하세요 :\"))\n",
        "\n",
        "print(drink)\n",
        "print(type(drink))\n",
        "\n",
        "if 1 <= drink  <= 3:\n",
        "  print(\"콜라\")\n",
        "elif 4 <= drink <= 6:\n",
        "  print(\"사이다\")\n",
        "elif 7 <= drink <= 9:\n",
        "  print(\"오렌지쥬스\")\n",
        "else:\n",
        "  print(\"포도쥬스\")"
      ],
      "metadata": {
        "colab": {
          "base_uri": "https://localhost:8080/"
        },
        "id": "Vgpbwib3vMc1",
        "outputId": "9e5b2b5f-7afe-4a06-daca-4dd746318a7c"
      },
      "execution_count": 9,
      "outputs": [
        {
          "output_type": "stream",
          "name": "stdout",
          "text": [
            "먹고 싶은 음료의 숫자를 입력하세요 :2\n",
            "2\n",
            "<class 'int'>\n",
            "콜라\n"
          ]
        }
      ]
    },
    {
      "cell_type": "markdown",
      "source": [
        "###**PDF 110, 예제 3-2 비교 연산자의 참/거짓**"
      ],
      "metadata": {
        "id": "KI9eLzJi2v4m"
      }
    },
    {
      "cell_type": "code",
      "source": [
        "x = 10\n",
        "y = 3\n",
        "\n",
        "print(x + y == 13)"
      ],
      "metadata": {
        "colab": {
          "base_uri": "https://localhost:8080/"
        },
        "id": "4vRi_TDz0N13",
        "outputId": "965ea472-d196-4dc0-a165-5d2caa04d0b2"
      },
      "execution_count": 10,
      "outputs": [
        {
          "output_type": "stream",
          "name": "stdout",
          "text": [
            "True\n"
          ]
        }
      ]
    },
    {
      "cell_type": "code",
      "source": [
        "y = 3\n",
        "\n",
        "print(y % 3 != 0)"
      ],
      "metadata": {
        "colab": {
          "base_uri": "https://localhost:8080/"
        },
        "id": "cahfpMce3A3_",
        "outputId": "a9e5d5bc-8399-4fec-d2bd-aa5681e245a5"
      },
      "execution_count": 11,
      "outputs": [
        {
          "output_type": "stream",
          "name": "stdout",
          "text": [
            "False\n"
          ]
        }
      ]
    },
    {
      "cell_type": "markdown",
      "source": [
        "###**PDF 115, 예제 3-6 논리 연산자 not 사용 예**"
      ],
      "metadata": {
        "id": "Oab5f8lc30FL"
      }
    },
    {
      "cell_type": "code",
      "source": [
        "# not은 T -> F, F -> T\n",
        "\n",
        "name = input('이름을 입력하세요 : ')\n",
        "\n",
        "if not name: # Null, ''\n",
        "  print(\"이름이 입력되지 않았다.\")\n",
        "else:\n",
        "  print(\"이름: %s\" %name)"
      ],
      "metadata": {
        "colab": {
          "base_uri": "https://localhost:8080/"
        },
        "id": "90ivvFCu3PPd",
        "outputId": "160e982c-04a1-4b0c-e74a-813e84c5a725"
      },
      "execution_count": 13,
      "outputs": [
        {
          "output_type": "stream",
          "name": "stdout",
          "text": [
            "이름을 입력하세요 : \n",
            "이름이 입력되지 않았다.\n"
          ]
        }
      ]
    },
    {
      "cell_type": "markdown",
      "source": [
        "###**PDF 114, 예제 3-5 논리 연산자 or 사용 예**"
      ],
      "metadata": {
        "id": "yf8HB7Ws4y7C"
      }
    },
    {
      "cell_type": "code",
      "source": [
        "menu1 = input(\"먹고 싶은 음식 첫번째를 입력하세요\")\n",
        "menu2 = input(\"먹고 싶은 음식 두번째를 입력하세요\")\n",
        "\n",
        "# 나는 오늘 된장찌게 or 김치찌게 두 가지 중 한개\n",
        "# 혹은 같이 가는 친구도 김치찌게 두 가지 중 한개\n",
        "# 둘 다, 둘 중 하나의 메뉴가 있어도 되는 음식점에 감\n",
        "\n",
        "# or : 까칠하지 않음\n",
        "\n",
        "if menu1 == \"된장찌게\" or menu2 ==\"김치찌게\":\n",
        "  print(\"그 음식점에 간다.\")\n",
        "else:\n",
        "  print(\"저녁 안 먹을꺼야\")"
      ],
      "metadata": {
        "colab": {
          "base_uri": "https://localhost:8080/"
        },
        "id": "a059dIB24JPV",
        "outputId": "07e27c64-aca7-4c61-9379-a821f5f05b5b"
      },
      "execution_count": 19,
      "outputs": [
        {
          "output_type": "stream",
          "name": "stdout",
          "text": [
            "먹고 싶은 음식 첫번째를 입력하세요계란말이\n",
            "먹고 싶은 음식 두번째를 입력하세요제육볶음\n",
            "저녁 안 먹을꺼야\n"
          ]
        }
      ]
    },
    {
      "cell_type": "markdown",
      "source": [
        "###**PDF 112, 예제 3-4 논리 연산자 and 사용 예**"
      ],
      "metadata": {
        "id": "9ESMm1wB6QhC"
      }
    },
    {
      "cell_type": "code",
      "source": [
        "score1 = int(input(\"필기 성적을 입력하세요 : \"))\n",
        "score2 = int(input(\"실기 성적을 입력하세요 : \"))\n",
        "\n",
        "# 까칠한 애 : 둘 다 만족, 실행됨\n",
        "\n",
        "if score1 >= 80 and score2 >= 80:\n",
        "  print(\"합격\")\n",
        "else:\n",
        "  print(\"불합격\")"
      ],
      "metadata": {
        "colab": {
          "base_uri": "https://localhost:8080/"
        },
        "id": "-rrnCFl_5w0F",
        "outputId": "76930bbe-4ffd-4c39-e5fb-3f46d71cd0d6"
      },
      "execution_count": 21,
      "outputs": [
        {
          "output_type": "stream",
          "name": "stdout",
          "text": [
            "필기 성적을 입력하세요 : 75\n",
            "실기 성적을 입력하세요 : 95\n",
            "불합격\n"
          ]
        }
      ]
    },
    {
      "cell_type": "code",
      "source": [
        ""
      ],
      "metadata": {
        "id": "Olyc7Qy46uMW"
      },
      "execution_count": null,
      "outputs": []
    }
  ]
}