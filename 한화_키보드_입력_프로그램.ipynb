{
  "nbformat": 4,
  "nbformat_minor": 5,
  "metadata": {
    "kernelspec": {
      "display_name": "Python 3",
      "language": "python",
      "name": "python3"
    },
    "language_info": {
      "codemirror_mode": {
        "name": "ipython",
        "version": 3
      },
      "file_extension": ".py",
      "mimetype": "text/x-python",
      "name": "python",
      "nbconvert_exporter": "python",
      "pygments_lexer": "ipython3",
      "version": "3.8.8"
    },
    "colab": {
      "name": "한화 키보드 입력 프로그램.ipynb",
      "provenance": [],
      "include_colab_link": true
    }
  },
  "cells": [
    {
      "cell_type": "markdown",
      "metadata": {
        "id": "view-in-github",
        "colab_type": "text"
      },
      "source": [
        "<a href=\"https://colab.research.google.com/github/sdw1621/hanhwagroup/blob/main/%ED%95%9C%ED%99%94_%ED%82%A4%EB%B3%B4%EB%93%9C_%EC%9E%85%EB%A0%A5_%ED%94%84%EB%A1%9C%EA%B7%B8%EB%9E%A8.ipynb\" target=\"_parent\"><img src=\"https://colab.research.google.com/assets/colab-badge.svg\" alt=\"Open In Colab\"/></a>"
      ]
    },
    {
      "cell_type": "code",
      "metadata": {
        "id": "3f37c734",
        "outputId": "b3ace00f-d55f-4299-ea56-7b1825e243cc"
      },
      "source": [
        "# 주피터 노트북에서 실행헤야 됨\n",
        "\n",
        "!pip install pygame"
      ],
      "id": "3f37c734",
      "execution_count": null,
      "outputs": [
        {
          "name": "stdout",
          "output_type": "stream",
          "text": [
            "Requirement already satisfied: pygame in c:\\users\\sdw19\\anaconda3\\lib\\site-packages (2.0.1)\n"
          ]
        }
      ]
    },
    {
      "cell_type": "code",
      "metadata": {
        "id": "7f9b9d01",
        "outputId": "2fa6f053-b5db-4782-f091-5bb75f84766f"
      },
      "source": [
        "import pygame\n",
        "\n",
        "# 전체 스크린의 가로, 세로 크기 설정\n",
        "SCREEN_WIDTH = 400\n",
        "SCREEN_HEIGHT = 500\n",
        "\n",
        "# 초기화\n",
        "pygame.init()\n",
        "\n",
        "# 스크린 생성\n",
        "SCREEN = pygame.display.set_mode( (SCREEN_WIDTH, SCREEN_HEIGHT) )\n",
        "\n",
        "# window의 타이틀 설정\n",
        "pygame.display.set_caption(\"pygame test\")\n",
        "\n",
        "# Clock 객체 생성\n",
        "clock = pygame.time.Clock()\n",
        "\n",
        "playing = True\n",
        "\n",
        "while playing:\n",
        "    for event in pygame.event.get():\n",
        "        if event.type == pygame.QUIT:\n",
        "            playing = False\n",
        "            pygame.quit()\n",
        "\n",
        "        # 키가 눌렸을 때\n",
        "\n",
        "        if event.type == pygame.KEYDOWN:\n",
        "            if event.key == pygame.K_LEFT:\n",
        "                print(\"왼쪽 키 눌림\")\n",
        "            if event.key == pygame.K_RIGHT:\n",
        "                print(\"오른쪽 키 눌림\")\n",
        "\n",
        "            if event.key == pygame.K_UP:\n",
        "                print(\"위로 키 눌림\")\n",
        "            if event.key == pygame.K_DOWN:\n",
        "                print(\"아래로 키 눌림\")\n",
        "\n",
        "        # 키가 떼졌을 때\n",
        "        if event.type == pygame.KEYUP:\n",
        "            if event.key == pygame.K_LEFT:\n",
        "                print(\"왼쪽 키 떼짐\")\n",
        "            if event.key == pygame.K_RIGHT:\n",
        "                print(\"오른쪽 키 떼짐\")\n",
        "\n",
        "            if event.key == pygame.K_UP:\n",
        "                print(\"위로 키 떼짐\")\n",
        "            if event.key == pygame.K_DOWN:\n",
        "                print(\"아래로 키 떼짐\")\n",
        "\n",
        "    # fps 설정, while 구문안에 넣는다.\n",
        "    clock.tick(60)"
      ],
      "id": "7f9b9d01",
      "execution_count": null,
      "outputs": [
        {
          "name": "stdout",
          "output_type": "stream",
          "text": [
            "위로 키 눌림\n",
            "위로 키 떼짐\n",
            "왼쪽 키 눌림\n",
            "왼쪽 키 떼짐\n",
            "아래로 키 눌림\n",
            "아래로 키 떼짐\n",
            "오른쪽 키 눌림\n",
            "오른쪽 키 떼짐\n",
            "아래로 키 눌림\n",
            "아래로 키 떼짐\n",
            "오른쪽 키 눌림\n",
            "오른쪽 키 떼짐\n",
            "위로 키 눌림\n",
            "위로 키 떼짐\n",
            "왼쪽 키 눌림\n",
            "왼쪽 키 떼짐\n"
          ]
        }
      ]
    },
    {
      "cell_type": "code",
      "metadata": {
        "id": "21c117d8"
      },
      "source": [
        ""
      ],
      "id": "21c117d8",
      "execution_count": null,
      "outputs": []
    }
  ]
}