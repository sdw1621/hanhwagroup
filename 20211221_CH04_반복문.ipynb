{
  "nbformat": 4,
  "nbformat_minor": 0,
  "metadata": {
    "colab": {
      "name": "20211221_CH04_반복문.ipynb",
      "provenance": [],
      "collapsed_sections": [],
      "authorship_tag": "ABX9TyNjjNU+q9qMZZerujXJysxx",
      "include_colab_link": true
    },
    "kernelspec": {
      "name": "python3",
      "display_name": "Python 3"
    },
    "language_info": {
      "name": "python"
    }
  },
  "cells": [
    {
      "cell_type": "markdown",
      "metadata": {
        "id": "view-in-github",
        "colab_type": "text"
      },
      "source": [
        "<a href=\"https://colab.research.google.com/github/sdw1621/hanhwagroup/blob/main/20211221_CH04_%EB%B0%98%EB%B3%B5%EB%AC%B8.ipynb\" target=\"_parent\"><img src=\"https://colab.research.google.com/assets/colab-badge.svg\" alt=\"Open In Colab\"/></a>"
      ]
    },
    {
      "cell_type": "markdown",
      "source": [
        "###**PDF 140, 예제 4-1. for구문으로 반복 출력하기**"
      ],
      "metadata": {
        "id": "16Mpe2B5viWF"
      }
    },
    {
      "cell_type": "code",
      "source": [
        "print(range(5)) # range(범위) [시작번지:끝번지-1]"
      ],
      "metadata": {
        "colab": {
          "base_uri": "https://localhost:8080/"
        },
        "id": "tJMrciapYABY",
        "outputId": "34af5303-538d-4ce8-faeb-3ee10e89c954"
      },
      "execution_count": null,
      "outputs": [
        {
          "output_type": "stream",
          "name": "stdout",
          "text": [
            "range(0, 5)\n"
          ]
        }
      ]
    },
    {
      "cell_type": "code",
      "source": [
        "list(range(5)) # range(0, 5) => range[0:5], : 연속"
      ],
      "metadata": {
        "colab": {
          "base_uri": "https://localhost:8080/"
        },
        "id": "S4LMo7AoYc-n",
        "outputId": "d913d115-1f3e-465a-9346-09732a51b459"
      },
      "execution_count": null,
      "outputs": [
        {
          "output_type": "execute_result",
          "data": {
            "text/plain": [
              "[0, 1, 2, 3, 4]"
            ]
          },
          "metadata": {},
          "execution_count": 3
        }
      ]
    },
    {
      "cell_type": "code",
      "source": [
        "for x in [0, 1, 2, 3, 4]:\n",
        "  print(x)"
      ],
      "metadata": {
        "colab": {
          "base_uri": "https://localhost:8080/"
        },
        "id": "iVfy6AX9Yjs2",
        "outputId": "72a1100a-0b1e-4944-ae57-101f4288ec2c"
      },
      "execution_count": null,
      "outputs": [
        {
          "output_type": "stream",
          "name": "stdout",
          "text": [
            "0\n",
            "1\n",
            "2\n",
            "3\n",
            "4\n"
          ]
        }
      ]
    },
    {
      "cell_type": "code",
      "source": [
        "for x in [0, 1, 2, 3, 4]:\n",
        "  print(\"안녕하세요\")"
      ],
      "metadata": {
        "colab": {
          "base_uri": "https://localhost:8080/"
        },
        "id": "YCpMPZCWY-hX",
        "outputId": "2bf07a5f-f46a-42f2-8ff1-28e0239c60cc"
      },
      "execution_count": null,
      "outputs": [
        {
          "output_type": "stream",
          "name": "stdout",
          "text": [
            "안녕하세요\n",
            "안녕하세요\n",
            "안녕하세요\n",
            "안녕하세요\n",
            "안녕하세요\n"
          ]
        }
      ]
    },
    {
      "cell_type": "markdown",
      "source": [
        "###**PDF 141, 예제 4-2. while구문으로 반복 출력하기**"
      ],
      "metadata": {
        "id": "zML56ISWZafa"
      }
    },
    {
      "cell_type": "code",
      "source": [
        "# while 조건문:\n",
        "\n",
        "x = 0\n",
        "\n",
        "# 0 < 5 True\n",
        "# 1 < 5 True\n",
        "# 2 < 5 True\n",
        "# 3 < 5 True\n",
        "# 4 < 5 True\n",
        "# 5 < 5 False : 무한 반복 종료 조건\n",
        "while x < 5: \n",
        "  print(\"안녕하세요\")\n",
        "  x = x + 1"
      ],
      "metadata": {
        "colab": {
          "base_uri": "https://localhost:8080/"
        },
        "id": "0VnkIk6-ZK7m",
        "outputId": "abbeb5ce-3315-4335-b8ff-b0d6f58b20ff"
      },
      "execution_count": null,
      "outputs": [
        {
          "output_type": "stream",
          "name": "stdout",
          "text": [
            "안녕하세요\n",
            "안녕하세요\n",
            "안녕하세요\n",
            "안녕하세요\n",
            "안녕하세요\n"
          ]
        }
      ]
    },
    {
      "cell_type": "code",
      "source": [
        "x = 0\n",
        "\n",
        "password = input(\"고객님의 비밀번호를 입력하세요 : \")\n",
        "\n",
        "if password == \"12345\":\n",
        "  print(\"고객님 환영합니다.\")\n",
        "else:\n",
        "  while x < 5:\n",
        "    print(\"비밀번호를 확인하세요.\")\n",
        "    x = x + 1\n",
        "  print(\"영업점에 문의하세요.\")"
      ],
      "metadata": {
        "colab": {
          "base_uri": "https://localhost:8080/"
        },
        "id": "DRYCrw9vZypf",
        "outputId": "d0c3bceb-0ab3-45d8-f061-f085e00d9812"
      },
      "execution_count": null,
      "outputs": [
        {
          "output_type": "stream",
          "name": "stdout",
          "text": [
            "고객님의 비밀번호를 입력하세요 : 12346\n",
            "비밀번호를 확인하세요.\n",
            "비밀번호를 확인하세요.\n",
            "비밀번호를 확인하세요.\n",
            "비밀번호를 확인하세요.\n",
            "비밀번호를 확인하세요.\n",
            "영업점에 문의하세요.\n"
          ]
        }
      ]
    },
    {
      "cell_type": "markdown",
      "source": [
        "###**PDF 142, 예제 4-3. 10의 합계**"
      ],
      "metadata": {
        "id": "Tl4ccW5WffK-"
      }
    },
    {
      "cell_type": "code",
      "source": [
        "sum = 0 # 은행 통장\n",
        "\n",
        "for i in range(1, 11):\n",
        "  # print(i)\n",
        "  sum = sum + i\n",
        "  print(f\"{i}의 값, 누적합 : {sum}\")"
      ],
      "metadata": {
        "colab": {
          "base_uri": "https://localhost:8080/"
        },
        "id": "9nahzcRrbAS_",
        "outputId": "d9828a40-89bd-48a4-8b7a-f58869a9cd53"
      },
      "execution_count": null,
      "outputs": [
        {
          "output_type": "stream",
          "name": "stdout",
          "text": [
            "1의 값, 누적합 : 1\n",
            "2의 값, 누적합 : 3\n",
            "3의 값, 누적합 : 6\n",
            "4의 값, 누적합 : 10\n",
            "5의 값, 누적합 : 15\n",
            "6의 값, 누적합 : 21\n",
            "7의 값, 누적합 : 28\n",
            "8의 값, 누적합 : 36\n",
            "9의 값, 누적합 : 45\n",
            "10의 값, 누적합 : 55\n"
          ]
        }
      ]
    },
    {
      "cell_type": "code",
      "source": [
        "jumsus = [3, 100, 23, 44]\n",
        "\n",
        "for jumsu in jumsus:\n",
        "  # print(jumsu)\n",
        "  if jumsu >= 80:\n",
        "    print(f\"{jumsu} 포인트가 쌓였습니다. VIP입니다.\")"
      ],
      "metadata": {
        "colab": {
          "base_uri": "https://localhost:8080/"
        },
        "id": "hfG_43Ixf0-n",
        "outputId": "ed0b5a3b-80e5-46ad-b042-b4757a0b37cd"
      },
      "execution_count": null,
      "outputs": [
        {
          "output_type": "stream",
          "name": "stdout",
          "text": [
            "100 포인트가 쌓였습니다. VIP입니다.\n"
          ]
        }
      ]
    },
    {
      "cell_type": "code",
      "source": [
        "subjects = [\"python\", \"java\", \"c\", \"go\"]\n",
        "\n",
        "for subject in subjects:\n",
        "  if len(subject) >= 3:\n",
        "    print(subject)"
      ],
      "metadata": {
        "colab": {
          "base_uri": "https://localhost:8080/"
        },
        "id": "02YMUD7Qgsrf",
        "outputId": "f48b0a3b-8f61-4dd2-a6ff-eb64097d87bd"
      },
      "execution_count": null,
      "outputs": [
        {
          "output_type": "stream",
          "name": "stdout",
          "text": [
            "python\n",
            "java\n"
          ]
        }
      ]
    },
    {
      "cell_type": "markdown",
      "source": [
        "###**PDF 148, 예제 4-6. 문자열 세로 출력**"
      ],
      "metadata": {
        "id": "-w0JyHe-iIqT"
      }
    },
    {
      "cell_type": "code",
      "source": [
        "word = input(\"영어 문장을 입력하세요 : \")\n",
        "\n",
        "for x in word:\n",
        "  print(x)"
      ],
      "metadata": {
        "colab": {
          "base_uri": "https://localhost:8080/"
        },
        "id": "mH0IvfVChmJm",
        "outputId": "786fd810-f071-467e-bb0b-c1e0b41c0497"
      },
      "execution_count": null,
      "outputs": [
        {
          "output_type": "stream",
          "name": "stdout",
          "text": [
            "영어 문장을 입력하세요 : i see!\n",
            "i\n",
            " \n",
            "s\n",
            "e\n",
            "e\n",
            "!\n"
          ]
        }
      ]
    },
    {
      "cell_type": "code",
      "source": [
        "word = input(\"영어 문장을 입력하세요 : \")\n",
        "\n",
        "for x in word:\n",
        "  print(x, end=\"\")"
      ],
      "metadata": {
        "colab": {
          "base_uri": "https://localhost:8080/"
        },
        "id": "pDsTB0Q8iWYW",
        "outputId": "71210645-b908-4548-a2dd-b53e02e0b85b"
      },
      "execution_count": null,
      "outputs": [
        {
          "output_type": "stream",
          "name": "stdout",
          "text": [
            "영어 문장을 입력하세요 : i see!\n",
            "i see!"
          ]
        }
      ]
    },
    {
      "cell_type": "code",
      "source": [
        "passports = [\"S\", \"h\", \"i\", \"N\"]\n",
        "\n",
        "# 소문자만 출력해보기\n",
        "# islower()\n",
        "# isupper()\n",
        "\n",
        "for passport in passports:\n",
        "  print(passport)"
      ],
      "metadata": {
        "colab": {
          "base_uri": "https://localhost:8080/"
        },
        "id": "NtaI8h5Pija3",
        "outputId": "638b1b61-30cd-4160-8fdd-3e6a1b4f6e17"
      },
      "execution_count": null,
      "outputs": [
        {
          "output_type": "stream",
          "name": "stdout",
          "text": [
            "S\n",
            "h\n",
            "i\n",
            "N\n"
          ]
        }
      ]
    },
    {
      "cell_type": "code",
      "source": [
        "passports = [\"S\", \"h\", \"i\", \"N\"]\n",
        "\n",
        "for passport in passports:\n",
        "  if passport.islower() == True:\n",
        "    print(f\"{passport}는 소문자\")"
      ],
      "metadata": {
        "colab": {
          "base_uri": "https://localhost:8080/"
        },
        "id": "_TP2wEpijpRO",
        "outputId": "e87b4ce2-b3e6-42dd-dc18-df0a862d860d"
      },
      "execution_count": null,
      "outputs": [
        {
          "output_type": "stream",
          "name": "stdout",
          "text": [
            "h는 소문자\n",
            "i는 소문자\n"
          ]
        }
      ]
    },
    {
      "cell_type": "code",
      "source": [
        "passports = [\"S\", \"h\", \"i\", \"N\"]\n",
        "\n",
        "for passport in passports:\n",
        "  if passport.isupper() == True:\n",
        "    print(f\"{passport}는 대문자\")"
      ],
      "metadata": {
        "colab": {
          "base_uri": "https://localhost:8080/"
        },
        "id": "JNLtfoIxj29G",
        "outputId": "84e31213-edf2-40d0-991c-b4364c398d57"
      },
      "execution_count": null,
      "outputs": [
        {
          "output_type": "stream",
          "name": "stdout",
          "text": [
            "S는 대문자\n",
            "N는 대문자\n"
          ]
        }
      ]
    },
    {
      "cell_type": "code",
      "source": [
        "passports = [\"S\", \"h\", \"i\", \"N\"]\n",
        "\n",
        "for passport in passports:\n",
        "  if passport.isupper() != True:\n",
        "    print(f\"{passport}는 소문자\")"
      ],
      "metadata": {
        "colab": {
          "base_uri": "https://localhost:8080/"
        },
        "id": "05TrxRAxkDml",
        "outputId": "bc5274da-f4e7-4279-8108-0bb0d21c7a22"
      },
      "execution_count": null,
      "outputs": [
        {
          "output_type": "stream",
          "name": "stdout",
          "text": [
            "h는 소문자\n",
            "i는 소문자\n"
          ]
        }
      ]
    },
    {
      "cell_type": "code",
      "source": [
        "passports = [\"S\", \"h\", \"i\", \"N\"]\n",
        "\n",
        "for passport in passports:\n",
        "  if not passport.isupper():\n",
        "    print(f\"{passport}는 소문자\")"
      ],
      "metadata": {
        "colab": {
          "base_uri": "https://localhost:8080/"
        },
        "id": "T57ndC4WkIxO",
        "outputId": "bfe2dc96-aa33-4654-9d74-e0fb36842702"
      },
      "execution_count": null,
      "outputs": [
        {
          "output_type": "stream",
          "name": "stdout",
          "text": [
            "h는 소문자\n",
            "i는 소문자\n"
          ]
        }
      ]
    },
    {
      "cell_type": "markdown",
      "source": [
        "###**PDF 152, Q 4-2. 전화번호에서 하이픈 삭제하기**"
      ],
      "metadata": {
        "id": "S5RoXztdnMFt"
      }
    },
    {
      "cell_type": "code",
      "source": [
        "number = input(\"하이픈을 포함한 휴대폰 번호를 입력하세요 : \")\n",
        "# print(number)\n",
        "\n",
        "for x in number:\n",
        "  # print(x)\n",
        "  if x != '-': # 정규식(필터 최종 보스, 크롤링)\n",
        "    print('%s' %x, end='')"
      ],
      "metadata": {
        "colab": {
          "base_uri": "https://localhost:8080/"
        },
        "id": "8y3_n52qkUqu",
        "outputId": "aae91f0d-70c8-408f-e355-f0fe9f134b0d"
      },
      "execution_count": null,
      "outputs": [
        {
          "output_type": "stream",
          "name": "stdout",
          "text": [
            "하이픈을 포함한 휴대폰 번호를 입력하세요 : 010-1234-5678\n",
            "01012345678"
          ]
        }
      ]
    },
    {
      "cell_type": "markdown",
      "source": [
        "###**응용**"
      ],
      "metadata": {
        "id": "8GxL-GeHpUdv"
      }
    },
    {
      "cell_type": "code",
      "source": [
        "# 이벤트 페이지(보안)\n",
        "\n",
        "# 전화번호(핸드폰)\n",
        "# 010-2731-2579\n",
        "\n",
        "# 이벤트 당첨\n",
        "# 010-****-2579 예전\n",
        "# 2579 : 마지막 자리(요즘)\n",
        "\n",
        "# 010-2731-2579\n",
        "phone = input(\"-를 포함해서 본인의 전화번호를 입력하세요 : \")\n",
        "print(phone)\n",
        "\n",
        "# 슬라이싱\n",
        "print(phone[0:3]) # 010\n",
        "print(phone[4:8]) # 2731\n",
        "print(phone[-4:]) # 2579"
      ],
      "metadata": {
        "colab": {
          "base_uri": "https://localhost:8080/"
        },
        "id": "x6PA4YODneZ2",
        "outputId": "669bbdc4-da4d-4321-a5c4-328976cab816"
      },
      "execution_count": null,
      "outputs": [
        {
          "output_type": "stream",
          "name": "stdout",
          "text": [
            "-를 포함해서 본인의 전화번호를 입력하세요 : 010-2731-2579\n",
            "010-2731-2579\n",
            "010\n",
            "2731\n",
            "2579\n"
          ]
        }
      ]
    },
    {
      "cell_type": "code",
      "source": [
        "# 눈가리고 아웅 010-****-2579 \n",
        "print(phone[0:3] + phone[4:8] + phone[-4:])\n",
        "print(phone[0:3] + \"-\" + phone[4:8] + \"-\" + phone[-4:])\n",
        "print(phone[0:3] + \"-\" + \"****\" + \"-\" + phone[-4:])\n",
        "print(phone[0:3] + \"-****-\" + phone[-4:])"
      ],
      "metadata": {
        "colab": {
          "base_uri": "https://localhost:8080/"
        },
        "id": "PdbrhOZyp463",
        "outputId": "dab5844e-cd58-4505-b7db-95336522127d"
      },
      "execution_count": null,
      "outputs": [
        {
          "output_type": "stream",
          "name": "stdout",
          "text": [
            "01027312579\n",
            "010-2731-2579\n",
            "010-****-2579\n",
            "010-****-2579\n"
          ]
        }
      ]
    },
    {
      "cell_type": "code",
      "source": [
        "# 2579 : 마지막 자리(요즘)\n",
        "print(phone[-4:])\n",
        "print(\"끝 번호 \" + phone[-4:] + \" 분 당첨\")"
      ],
      "metadata": {
        "colab": {
          "base_uri": "https://localhost:8080/"
        },
        "id": "zifMKr2lrACy",
        "outputId": "637c1748-da8f-46cd-f50f-3a5351821b75"
      },
      "execution_count": null,
      "outputs": [
        {
          "output_type": "stream",
          "name": "stdout",
          "text": [
            "2579\n",
            "끝 번호 2579 분 당첨\n"
          ]
        }
      ]
    },
    {
      "cell_type": "markdown",
      "source": [
        "###**for 응용**"
      ],
      "metadata": {
        "id": "DPZ2gqARva2R"
      }
    },
    {
      "cell_type": "code",
      "source": [
        "# 은행\n",
        "# 은행 번호표 뽑기\n",
        "# 변수명 : waiting_num\n",
        "\n",
        "# waiting_num = waiting_num + 1\n",
        "\n",
        "waiting_nums = [1,2,3,4,5]\n",
        "\n",
        "for waiting_num in waiting_nums:\n",
        "  print(str(waiting_num) + \"번 고객님 창구로 오세요\")"
      ],
      "metadata": {
        "colab": {
          "base_uri": "https://localhost:8080/"
        },
        "id": "zPSwEIAbvgJ2",
        "outputId": "c7293ae1-93cb-4725-9934-478e61f03d1a"
      },
      "execution_count": null,
      "outputs": [
        {
          "output_type": "stream",
          "name": "stdout",
          "text": [
            "1번 고객님 창구로 오세요\n",
            "2번 고객님 창구로 오세요\n",
            "3번 고객님 창구로 오세요\n",
            "4번 고객님 창구로 오세요\n",
            "5번 고객님 창구로 오세요\n"
          ]
        }
      ]
    },
    {
      "cell_type": "code",
      "source": [
        "# 은행\n",
        "# 은행 번호표 뽑기\n",
        "# 변수명 : waiting_num\n",
        "\n",
        "waiting_num = 1\n",
        "cus_count = int(input(\"하루의 몇 명의 고객을 응대할까요?\"))\n",
        "\n",
        "while waiting_num <= cus_count:\n",
        "  print(str(waiting_num) + \"번 고객님 창구로 오세요\")\n",
        "  waiting_num = waiting_num + 1"
      ],
      "metadata": {
        "id": "I1V0zA8JwAYu"
      },
      "execution_count": null,
      "outputs": []
    },
    {
      "cell_type": "code",
      "source": [
        "# 음식 판매\n",
        "\n",
        "cos_count_init = 1\n",
        "food_limit = int(input(\"하루의 몇 그릇 순대국을 판매할 수 있나요?\"))\n",
        "\n",
        "while cos_count_init <= food_limit:\n",
        "  print(\"순대국 \" + str(cos_count_init) + \"그릇째 판매중입니다.\", end=' ')\n",
        "  print(\"현재 \" + str(food_limit - cos_count_init) + \"판매 가능합니다.\")\n",
        "  cos_count_init = cos_count_init + 1"
      ],
      "metadata": {
        "id": "DoHAKea5wjx0"
      },
      "execution_count": null,
      "outputs": []
    },
    {
      "cell_type": "code",
      "source": [
        "### 스타벅스\n",
        "starbucks_cus = [\"아이언맨\", \"토르\", \"그루트\"]\n",
        "\n",
        "for cus in starbucks_cus:\n",
        "  print(f\"{cus} 님 커피가 준비되어 있습니다.\")\n",
        "  print()"
      ],
      "metadata": {
        "colab": {
          "base_uri": "https://localhost:8080/"
        },
        "id": "yESg40zwx0WN",
        "outputId": "2c96cbe6-0931-4bf2-a77c-9a8d1d69e8f5"
      },
      "execution_count": null,
      "outputs": [
        {
          "output_type": "stream",
          "name": "stdout",
          "text": [
            "아이언맨 님 커피가 준비되어 있습니다.\n",
            "\n",
            "토르 님 커피가 준비되어 있습니다.\n",
            "\n",
            "그루트 님 커피가 준비되어 있습니다.\n",
            "\n"
          ]
        }
      ]
    },
    {
      "cell_type": "code",
      "source": [
        "### 스타벅스\n",
        "starbucks_cus = [\"아이언맨\", \"토르\", \"그루트\"]\n",
        "starbucks_menu = [\"아아\", \"라떼\", \"라임차\"]\n",
        "\n",
        "for i in range(len(starbucks_cus)):\n",
        "  # print(i)\n",
        "  print(starbucks_cus[i] + \"고객님 \" + starbucks_menu[i] + \" 가 준비되어 있습니다\")"
      ],
      "metadata": {
        "colab": {
          "base_uri": "https://localhost:8080/"
        },
        "id": "gHcDxtLryfvE",
        "outputId": "3e0f4aab-1f23-417a-922a-242d69c00617"
      },
      "execution_count": null,
      "outputs": [
        {
          "output_type": "stream",
          "name": "stdout",
          "text": [
            "아이언맨고객님 아아 가 준비되어 있습니다\n",
            "토르고객님 라떼 가 준비되어 있습니다\n",
            "그루트고객님 라임차 가 준비되어 있습니다\n"
          ]
        }
      ]
    },
    {
      "cell_type": "code",
      "source": [
        "# 쇼핑몰\n",
        "\n",
        "# 신동욱 고객님\n",
        "# 배달의 민족\n",
        "# 생수, 치약, 칫솔\n",
        "\n",
        "bemin_cus = [\"신동욱\"]\n",
        "menus = [\"생수\", \"치약\", \"칫솔\"]\n",
        "\n",
        "for cus in bemin_cus:\n",
        "  for menu in menus:\n",
        "    print(cus + \" 고객님 \" + menu + \"를 샀습니다.\" )"
      ],
      "metadata": {
        "colab": {
          "base_uri": "https://localhost:8080/"
        },
        "id": "zjPGxoL5y8n8",
        "outputId": "c9d0e7f0-8b6e-4853-b578-bd702cd66aae"
      },
      "execution_count": null,
      "outputs": [
        {
          "output_type": "stream",
          "name": "stdout",
          "text": [
            "신동욱 고객님 생수를 샀습니다.\n",
            "신동욱 고객님 치약를 샀습니다.\n",
            "신동욱 고객님 칫솔를 샀습니다.\n"
          ]
        }
      ]
    },
    {
      "cell_type": "markdown",
      "source": [
        "###**PDF 171, 예제 4-13. break문으로 반복 루프 빠져나가기**"
      ],
      "metadata": {
        "id": "dg4D2dZs2TWy"
      }
    },
    {
      "cell_type": "code",
      "source": [
        "for i in range(1,1001):\n",
        "  print(i)\n",
        "\n",
        "  if i == 10:\n",
        "    break"
      ],
      "metadata": {
        "colab": {
          "base_uri": "https://localhost:8080/"
        },
        "id": "2M_IjydM1h7m",
        "outputId": "440782b1-6445-4ffa-c684-3648fb10896e"
      },
      "execution_count": null,
      "outputs": [
        {
          "output_type": "stream",
          "name": "stdout",
          "text": [
            "1\n",
            "2\n",
            "3\n",
            "4\n",
            "5\n",
            "6\n",
            "7\n",
            "8\n",
            "9\n",
            "10\n"
          ]
        }
      ]
    },
    {
      "cell_type": "code",
      "source": [
        ""
      ],
      "metadata": {
        "id": "2HNXb0d-2h87"
      },
      "execution_count": null,
      "outputs": []
    }
  ]
}