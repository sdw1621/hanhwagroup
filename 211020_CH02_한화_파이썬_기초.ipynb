{
  "nbformat": 4,
  "nbformat_minor": 0,
  "metadata": {
    "colab": {
      "name": "211020_CH02_한화 파이썬 기초.ipynb",
      "provenance": [],
      "collapsed_sections": [
        "m-bDXAw8If7y",
        "RNnF5IFKJDmG",
        "jkwYgrYaPDAm",
        "Pe6f0abMQEJ0",
        "HZ1XMxjtQV5e",
        "dgWfuaQYRmnO",
        "5yFH-vBiSGn6",
        "PgxW5sKFXDv1",
        "DiyNf7bJXT_q",
        "DBtv_mLRXmux",
        "ldRfNAufYO2y",
        "oWkIaV-NYlFh",
        "6Pmg9IunY4sa",
        "0uqV80BVZOAY",
        "WxCT7977ZiEi",
        "joONEcGvZ7ia",
        "otYwNPh0aQMJ",
        "XS4SqTg1an0A",
        "99U5drkta247",
        "7nZubP9Hbgfq",
        "YTFzFZRMb5qq",
        "vYeKQ6idcsFB",
        "aZp8m13odAQa",
        "hkRi4yU6eaKS",
        "YUP_XodSfCOY",
        "mquK7ACzfXkg",
        "yroMT5E2gECA",
        "8wzppuJ8ga_C",
        "sX_n8qudg3QZ",
        "CYiLbUbUhZF2",
        "MwKVkeD2hzPM",
        "K1kN-ieZij5X",
        "liyyd1eLjovq",
        "ANSwzLkylgRK"
      ],
      "authorship_tag": "ABX9TyMywu6GUFom3ND9ASaSwJZt",
      "include_colab_link": true
    },
    "kernelspec": {
      "name": "python3",
      "display_name": "Python 3"
    },
    "language_info": {
      "name": "python"
    }
  },
  "cells": [
    {
      "cell_type": "markdown",
      "metadata": {
        "id": "view-in-github",
        "colab_type": "text"
      },
      "source": [
        "<a href=\"https://colab.research.google.com/github/sdw1621/hanhwagroup/blob/main/211020_CH02_%ED%95%9C%ED%99%94_%ED%8C%8C%EC%9D%B4%EC%8D%AC_%EA%B8%B0%EC%B4%88.ipynb\" target=\"_parent\"><img src=\"https://colab.research.google.com/assets/colab-badge.svg\" alt=\"Open In Colab\"/></a>"
      ]
    },
    {
      "cell_type": "markdown",
      "metadata": {
        "id": "m-bDXAw8If7y"
      },
      "source": [
        "### **예제 2-1. 두 수 더하기**"
      ]
    },
    {
      "cell_type": "code",
      "metadata": {
        "colab": {
          "base_uri": "https://localhost:8080/"
        },
        "id": "JIxMXZVkH1go",
        "outputId": "545cbf63-b082-42c0-b879-4b1f77f60d93"
      },
      "source": [
        "a = 20\n",
        "b = 30\n",
        "c = a + b\n",
        "print(c)"
      ],
      "execution_count": 1,
      "outputs": [
        {
          "output_type": "stream",
          "name": "stdout",
          "text": [
            "50\n"
          ]
        }
      ]
    },
    {
      "cell_type": "markdown",
      "metadata": {
        "id": "RNnF5IFKJDmG"
      },
      "source": [
        "###**예제 2-2 올바른 변수명**"
      ]
    },
    {
      "cell_type": "code",
      "metadata": {
        "colab": {
          "base_uri": "https://localhost:8080/"
        },
        "id": "cisZGgLBImpn",
        "outputId": "09d8ce15-5a24-409f-ae2f-5b642c09ec18"
      },
      "source": [
        "x = 20\n",
        "Computer = 'Mac'\n",
        "Age = 30\n",
        "my_score = 70\n",
        "_name = '홍길동'\n",
        "myBirthYear = 1997\n",
        "data2 = 20.3\n",
        "\n",
        "print(x, Computer, Age, my_score, _name, myBirthYear, data2)"
      ],
      "execution_count": 1,
      "outputs": [
        {
          "output_type": "stream",
          "name": "stdout",
          "text": [
            "20 Mac 30 70 홍길동 1997 20.3\n"
          ]
        }
      ]
    },
    {
      "cell_type": "markdown",
      "metadata": {
        "id": "jkwYgrYaPDAm"
      },
      "source": [
        "###**예제 2-3 잘못된 변수명**"
      ]
    },
    {
      "cell_type": "code",
      "metadata": {
        "colab": {
          "base_uri": "https://localhost:8080/",
          "height": 0
        },
        "id": "YP46jxXbNg-s",
        "outputId": "e2ef1735-f2ee-426c-ee9b-b9d5488e5feb"
      },
      "source": [
        "eng score = 90\n",
        "7font = '굴림'\n",
        "my-age = 20\n",
        "percent% = 100\n",
        "animal# = '사슴'"
      ],
      "execution_count": 3,
      "outputs": [
        {
          "output_type": "error",
          "ename": "SyntaxError",
          "evalue": "ignored",
          "traceback": [
            "\u001b[0;36m  File \u001b[0;32m\"<ipython-input-3-ebf715fab605>\"\u001b[0;36m, line \u001b[0;32m1\u001b[0m\n\u001b[0;31m    eng score = 90\u001b[0m\n\u001b[0m            ^\u001b[0m\n\u001b[0;31mSyntaxError\u001b[0m\u001b[0;31m:\u001b[0m invalid syntax\n"
          ]
        }
      ]
    },
    {
      "cell_type": "markdown",
      "metadata": {
        "id": "Pe6f0abMQEJ0"
      },
      "source": [
        "###**예제 2-4 정수형의 데이터형**"
      ]
    },
    {
      "cell_type": "code",
      "metadata": {
        "colab": {
          "base_uri": "https://localhost:8080/"
        },
        "id": "IJd6o4KRPdfC",
        "outputId": "abfca030-bed3-4294-da57-f30e298026f9"
      },
      "source": [
        "x = 30\n",
        "print(x)\n",
        "print(type(x))"
      ],
      "execution_count": 4,
      "outputs": [
        {
          "output_type": "stream",
          "name": "stdout",
          "text": [
            "30\n",
            "<class 'int'>\n"
          ]
        }
      ]
    },
    {
      "cell_type": "markdown",
      "metadata": {
        "id": "HZ1XMxjtQV5e"
      },
      "source": [
        "###**예제 2-5 실수형의 데이터형**"
      ]
    },
    {
      "cell_type": "code",
      "metadata": {
        "colab": {
          "base_uri": "https://localhost:8080/"
        },
        "id": "Hi2-aRzGQIiJ",
        "outputId": "480b9c7d-aa5e-4183-d5be-dc49a1246f09"
      },
      "source": [
        "x = 3.3764\n",
        "y = 6/2\n",
        "print(x, y)\n",
        "print(type(x), type(y))"
      ],
      "execution_count": 5,
      "outputs": [
        {
          "output_type": "stream",
          "name": "stdout",
          "text": [
            "3.3764 3.0\n",
            "<class 'float'> <class 'float'>\n"
          ]
        }
      ]
    },
    {
      "cell_type": "code",
      "metadata": {
        "id": "kxt_qgDSQfyJ"
      },
      "source": [
        ""
      ],
      "execution_count": null,
      "outputs": []
    },
    {
      "cell_type": "markdown",
      "metadata": {
        "id": "dgWfuaQYRmnO"
      },
      "source": [
        "###**예제 2-6 문자열의 데이터형**"
      ]
    },
    {
      "cell_type": "code",
      "metadata": {
        "colab": {
          "base_uri": "https://localhost:8080/"
        },
        "id": "0P03kie5RmnP",
        "outputId": "8c08c966-ef51-4dd7-d07c-29df342de121"
      },
      "source": [
        "a = 'x'\n",
        "b = 'I am ok.'\n",
        "c = \"안녕하세요.\"\n",
        "\n",
        "print(a)\n",
        "print(b)\n",
        "print(c)\n",
        "print(type(c))"
      ],
      "execution_count": 7,
      "outputs": [
        {
          "output_type": "stream",
          "name": "stdout",
          "text": [
            "x\n",
            "I am ok.\n",
            "안녕하세요.\n",
            "<class 'str'>\n"
          ]
        }
      ]
    },
    {
      "cell_type": "code",
      "metadata": {
        "id": "kForlbzhRmnP"
      },
      "source": [
        ""
      ],
      "execution_count": null,
      "outputs": []
    },
    {
      "cell_type": "markdown",
      "metadata": {
        "id": "5yFH-vBiSGn6"
      },
      "source": [
        "###**예제 2-7 30과 '30'의 차이**"
      ]
    },
    {
      "cell_type": "code",
      "metadata": {
        "colab": {
          "base_uri": "https://localhost:8080/"
        },
        "id": "SB6QfQqhSGn7",
        "outputId": "2ebfdb32-c8de-42fc-99cd-2d3de32ab9e0"
      },
      "source": [
        "a = 30\n",
        "print(a)\n",
        "print(type(a))\n",
        "\n",
        "b = '30'\n",
        "print(b)\n",
        "print(type(b))"
      ],
      "execution_count": 8,
      "outputs": [
        {
          "output_type": "stream",
          "name": "stdout",
          "text": [
            "30\n",
            "<class 'int'>\n",
            "30\n",
            "<class 'str'>\n"
          ]
        }
      ]
    },
    {
      "cell_type": "code",
      "metadata": {
        "id": "ySw4ziHCSGn7"
      },
      "source": [
        ""
      ],
      "execution_count": null,
      "outputs": []
    },
    {
      "cell_type": "markdown",
      "metadata": {
        "id": "7tXPSYIMTw3a"
      },
      "source": [
        "###**예제 2-8 문자열의 요소 추출**"
      ]
    },
    {
      "cell_type": "code",
      "metadata": {
        "colab": {
          "base_uri": "https://localhost:8080/"
        },
        "id": "7UCQ_d7xTw3a",
        "outputId": "d00368d5-f6d5-4e46-d9f8-b3daf3f79c24"
      },
      "source": [
        "x = 'I am happy!'\n",
        "\n",
        "print(x)\n",
        "print(x[0])\n",
        "print(x[0:3])\n",
        "print(x[5:])\n",
        "print(x[-1])\n",
        "print(x[-3:])\n",
        "print(x[-4:-2])"
      ],
      "execution_count": 9,
      "outputs": [
        {
          "output_type": "stream",
          "name": "stdout",
          "text": [
            "I am happy!\n",
            "I\n",
            "I a\n",
            "happy!\n",
            "!\n",
            "py!\n",
            "pp\n"
          ]
        }
      ]
    },
    {
      "cell_type": "markdown",
      "metadata": {
        "id": "mWAF6bV7UQma"
      },
      "source": [
        "###**예제 2-9 불(bool) 데이터 형**"
      ]
    },
    {
      "cell_type": "code",
      "metadata": {
        "colab": {
          "base_uri": "https://localhost:8080/"
        },
        "id": "70i5tc0IUQmb",
        "outputId": "271c1022-9ede-445f-cea0-1957f3627904"
      },
      "source": [
        "a = True\n",
        "b = False\n",
        "print(a)\n",
        "print(b)\n",
        "\n",
        "c = 10 > 20\n",
        "print(c)\n",
        "\n",
        "print(type(a))"
      ],
      "execution_count": 10,
      "outputs": [
        {
          "output_type": "stream",
          "name": "stdout",
          "text": [
            "True\n",
            "False\n",
            "False\n",
            "<class 'bool'>\n"
          ]
        }
      ]
    },
    {
      "cell_type": "markdown",
      "metadata": {
        "id": "PgxW5sKFXDv1"
      },
      "source": [
        "###**예제 2-10 사칙 연산자**"
      ]
    },
    {
      "cell_type": "code",
      "metadata": {
        "colab": {
          "base_uri": "https://localhost:8080/"
        },
        "id": "WxRa62XoUQmb",
        "outputId": "a5b02d84-4d31-41e9-b18a-f3845608f051"
      },
      "source": [
        "a = 10\n",
        "b = 20\n",
        "\n",
        "c = a + b * 10 - 5 / 5\n",
        "print(c)"
      ],
      "execution_count": 11,
      "outputs": [
        {
          "output_type": "stream",
          "name": "stdout",
          "text": [
            "209.0\n"
          ]
        }
      ]
    },
    {
      "cell_type": "markdown",
      "metadata": {
        "id": "DiyNf7bJXT_q"
      },
      "source": [
        "###**예제 2-11 나머지 연산자와 소수점 절삭 연산자**"
      ]
    },
    {
      "cell_type": "code",
      "metadata": {
        "colab": {
          "base_uri": "https://localhost:8080/"
        },
        "id": "I_XcaHQlXT_q",
        "outputId": "2f7a1418-2b9a-406c-a2b7-788e49565a5f"
      },
      "source": [
        "x = 10 % 3\n",
        "print(x)\n",
        "\n",
        "y = 7 // 3\n",
        "print(y)"
      ],
      "execution_count": 13,
      "outputs": [
        {
          "output_type": "stream",
          "name": "stdout",
          "text": [
            "1\n",
            "2\n"
          ]
        }
      ]
    },
    {
      "cell_type": "markdown",
      "metadata": {
        "id": "DBtv_mLRXmux"
      },
      "source": [
        "###**예제 2-12 거듭제곱 연산자**"
      ]
    },
    {
      "cell_type": "code",
      "metadata": {
        "colab": {
          "base_uri": "https://localhost:8080/"
        },
        "id": "aNIAnKTGXmuy",
        "outputId": "2b4eaae0-02cc-44e0-eed4-4979f292a0ac"
      },
      "source": [
        "x = 2 ** 3\n",
        "print(x)\n",
        "\n",
        "y = 10 ** 4\n",
        "print(y)"
      ],
      "execution_count": 14,
      "outputs": [
        {
          "output_type": "stream",
          "name": "stdout",
          "text": [
            "8\n",
            "10000\n"
          ]
        }
      ]
    },
    {
      "cell_type": "markdown",
      "metadata": {
        "id": "yVgYVQIrX-di"
      },
      "source": [
        "###**예제 2-13 할당 연산자 +=**"
      ]
    },
    {
      "cell_type": "code",
      "metadata": {
        "colab": {
          "base_uri": "https://localhost:8080/"
        },
        "id": "RYabGSjxX-di",
        "outputId": "2399101e-526d-4f3c-95b5-f6c3e46c1bc4"
      },
      "source": [
        "x = 10\n",
        "x += 20\n",
        "print(x)"
      ],
      "execution_count": 15,
      "outputs": [
        {
          "output_type": "stream",
          "name": "stdout",
          "text": [
            "30\n"
          ]
        }
      ]
    },
    {
      "cell_type": "markdown",
      "metadata": {
        "id": "ldRfNAufYO2y"
      },
      "source": [
        "###**예제 2-14 할당 연산자 *=**"
      ]
    },
    {
      "cell_type": "code",
      "metadata": {
        "colab": {
          "base_uri": "https://localhost:8080/"
        },
        "id": "HxIFG_VyYO2y",
        "outputId": "9e6bdca1-8f39-4c61-c9f1-3d92d0d3a944"
      },
      "source": [
        "x = 3\n",
        "y = 5\n",
        "x *= x + y\n",
        "print(x)"
      ],
      "execution_count": 17,
      "outputs": [
        {
          "output_type": "stream",
          "name": "stdout",
          "text": [
            "24\n"
          ]
        }
      ]
    },
    {
      "cell_type": "markdown",
      "metadata": {
        "id": "oWkIaV-NYlFh"
      },
      "source": [
        "###**예제 2-15 문자열 반복**"
      ]
    },
    {
      "cell_type": "code",
      "metadata": {
        "colab": {
          "base_uri": "https://localhost:8080/"
        },
        "id": "BZgdOnsiYlFi",
        "outputId": "44aaba11-6b24-44aa-d42b-0aa4f7cadd9e"
      },
      "source": [
        "hello = '안녕' * 5\n",
        "\n",
        "print(hello)"
      ],
      "execution_count": 18,
      "outputs": [
        {
          "output_type": "stream",
          "name": "stdout",
          "text": [
            "안녕안녕안녕안녕안녕\n"
          ]
        }
      ]
    },
    {
      "cell_type": "markdown",
      "metadata": {
        "id": "6Pmg9IunY4sa"
      },
      "source": [
        "###**예제 2-16 문자열 길이 구하기**"
      ]
    },
    {
      "cell_type": "code",
      "metadata": {
        "colab": {
          "base_uri": "https://localhost:8080/"
        },
        "id": "v4UjfXLIY4sa",
        "outputId": "2455c20b-2b72-47bc-d824-1a820d92e578"
      },
      "source": [
        "a = '쥐 구멍에 볕 들 날 있다.'\n",
        "\n",
        "b = len(a)\n",
        "\n",
        "print(b)"
      ],
      "execution_count": 19,
      "outputs": [
        {
          "output_type": "stream",
          "name": "stdout",
          "text": [
            "15\n"
          ]
        }
      ]
    },
    {
      "cell_type": "markdown",
      "metadata": {
        "id": "0uqV80BVZOAY"
      },
      "source": [
        "###**예제 2-17 문자열 연결 연산자 : +**"
      ]
    },
    {
      "cell_type": "code",
      "metadata": {
        "colab": {
          "base_uri": "https://localhost:8080/"
        },
        "id": "rrUfW8ycZOAZ",
        "outputId": "0ea4ab35-034f-4969-cde1-e712d4d86b66"
      },
      "source": [
        "name = '홍지수'\n",
        "greet = name + \"님 안녕하세요!\"\n",
        "print(greet)"
      ],
      "execution_count": 20,
      "outputs": [
        {
          "output_type": "stream",
          "name": "stdout",
          "text": [
            "홍지수님 안녕하세요!\n"
          ]
        }
      ]
    },
    {
      "cell_type": "markdown",
      "metadata": {
        "id": "WxCT7977ZiEi"
      },
      "source": [
        "###**예제 2-18 문자열 연결 시 오류 발생**"
      ]
    },
    {
      "cell_type": "code",
      "metadata": {
        "colab": {
          "base_uri": "https://localhost:8080/",
          "height": 208
        },
        "id": "2nJ0_XehZiEi",
        "outputId": "ec55290d-7d5c-433f-be00-d367ac48e8b4"
      },
      "source": [
        "eng = 80\n",
        "result = '영어 점수 : ' + eng + '점'\n",
        "print(result)"
      ],
      "execution_count": 21,
      "outputs": [
        {
          "output_type": "error",
          "ename": "TypeError",
          "evalue": "ignored",
          "traceback": [
            "\u001b[0;31m---------------------------------------------------------------------------\u001b[0m",
            "\u001b[0;31mTypeError\u001b[0m                                 Traceback (most recent call last)",
            "\u001b[0;32m<ipython-input-21-a2a7db16fefb>\u001b[0m in \u001b[0;36m<module>\u001b[0;34m()\u001b[0m\n\u001b[1;32m      1\u001b[0m \u001b[0meng\u001b[0m \u001b[0;34m=\u001b[0m \u001b[0;36m80\u001b[0m\u001b[0;34m\u001b[0m\u001b[0;34m\u001b[0m\u001b[0m\n\u001b[0;32m----> 2\u001b[0;31m \u001b[0mresult\u001b[0m \u001b[0;34m=\u001b[0m \u001b[0;34m'영어 점수 : '\u001b[0m \u001b[0;34m+\u001b[0m \u001b[0meng\u001b[0m \u001b[0;34m+\u001b[0m \u001b[0;34m'점'\u001b[0m\u001b[0;34m\u001b[0m\u001b[0;34m\u001b[0m\u001b[0m\n\u001b[0m\u001b[1;32m      3\u001b[0m \u001b[0mprint\u001b[0m\u001b[0;34m(\u001b[0m\u001b[0mresult\u001b[0m\u001b[0;34m)\u001b[0m\u001b[0;34m\u001b[0m\u001b[0;34m\u001b[0m\u001b[0m\n",
            "\u001b[0;31mTypeError\u001b[0m: can only concatenate str (not \"int\") to str"
          ]
        }
      ]
    },
    {
      "cell_type": "markdown",
      "metadata": {
        "id": "joONEcGvZ7ia"
      },
      "source": [
        "###**예제 2-19 예제 2-18의 오류 수정**"
      ]
    },
    {
      "cell_type": "code",
      "metadata": {
        "colab": {
          "base_uri": "https://localhost:8080/"
        },
        "id": "JAF6-mBDZ7ia",
        "outputId": "2be92475-63d9-45cb-da8c-e8aeb3267f3e"
      },
      "source": [
        "eng = 80\n",
        "result = '영어 점수 : ' + str(eng) + '점'\n",
        "print(result)"
      ],
      "execution_count": 22,
      "outputs": [
        {
          "output_type": "stream",
          "name": "stdout",
          "text": [
            "영어 점수 : 80점\n"
          ]
        }
      ]
    },
    {
      "cell_type": "markdown",
      "metadata": {
        "id": "otYwNPh0aQMJ"
      },
      "source": [
        "###**예제 2-20 문자열 포맷팅 : %s**"
      ]
    },
    {
      "cell_type": "code",
      "metadata": {
        "colab": {
          "base_uri": "https://localhost:8080/"
        },
        "id": "vJgD6g4BaQMK",
        "outputId": "614dbae0-4c27-4047-8515-9c78d3966dfd"
      },
      "source": [
        "name = '김수영'\n",
        "a = '나는 %s입니다.' %name\n",
        "print(a)"
      ],
      "execution_count": 23,
      "outputs": [
        {
          "output_type": "stream",
          "name": "stdout",
          "text": [
            "나는 김수영입니다.\n"
          ]
        }
      ]
    },
    {
      "cell_type": "markdown",
      "metadata": {
        "id": "XS4SqTg1an0A"
      },
      "source": [
        "###**예제 2-21 문자열 포맷팅 : %d**"
      ]
    },
    {
      "cell_type": "code",
      "metadata": {
        "colab": {
          "base_uri": "https://localhost:8080/"
        },
        "id": "bzODM8pZan0B",
        "outputId": "f79bec79-e7d3-4f35-ffe6-6621cb857f0c"
      },
      "source": [
        "age = 20\n",
        "a = '나이는 %d살 입니다.' %age\n",
        "print(a)"
      ],
      "execution_count": 24,
      "outputs": [
        {
          "output_type": "stream",
          "name": "stdout",
          "text": [
            "나이는 20살 입니다.\n"
          ]
        }
      ]
    },
    {
      "cell_type": "markdown",
      "metadata": {
        "id": "99U5drkta247"
      },
      "source": [
        "###**예제 2-22 정수형 숫자 0으로 채우기 : %2d**"
      ]
    },
    {
      "cell_type": "code",
      "metadata": {
        "colab": {
          "base_uri": "https://localhost:8080/"
        },
        "id": "-VcVtQWDa247",
        "outputId": "c3b9360d-f9c1-4eaf-92a8-11771dddc6da"
      },
      "source": [
        "year = 2020\n",
        "month = 3\n",
        "day = 5\n",
        "\n",
        "a = '%d-%02d-%02d' %(year, month, day)\n",
        "print(a)"
      ],
      "execution_count": 25,
      "outputs": [
        {
          "output_type": "stream",
          "name": "stdout",
          "text": [
            "2020-03-05\n"
          ]
        }
      ]
    },
    {
      "cell_type": "markdown",
      "metadata": {
        "id": "7nZubP9Hbgfq"
      },
      "source": [
        "###**예제 2-23 문자열 포맷팅 : %.2f**"
      ]
    },
    {
      "cell_type": "code",
      "metadata": {
        "colab": {
          "base_uri": "https://localhost:8080/"
        },
        "id": "5CJlO6Y8bgfq",
        "outputId": "fd021a7d-1a2e-4d1b-8eb7-316bca2d3c16"
      },
      "source": [
        "height = 172.5\n",
        "a = '키는 %.2f입니다.' %height\n",
        "print(a)"
      ],
      "execution_count": 26,
      "outputs": [
        {
          "output_type": "stream",
          "name": "stdout",
          "text": [
            "키는 172.50입니다.\n"
          ]
        }
      ]
    },
    {
      "cell_type": "markdown",
      "metadata": {
        "id": "YTFzFZRMb5qq"
      },
      "source": [
        "###**예제 2-24 str.format() 문자열 포맷팅**"
      ]
    },
    {
      "cell_type": "code",
      "metadata": {
        "colab": {
          "base_uri": "https://localhost:8080/"
        },
        "id": "T4sPig-Mb5qr",
        "outputId": "c9c792ae-e347-45d7-93b9-d5e72908795f"
      },
      "source": [
        "name = '황예린'\n",
        "age = 18\n",
        "eyesight = 1.2\n",
        "\n",
        "a = '이름 : {}'.format(name)\n",
        "b = '나이 : {}'.format(age)\n",
        "c = '시력 : {}'.format(eyesight)\n",
        "\n",
        "print(a)\n",
        "print(b)\n",
        "print(c)"
      ],
      "execution_count": 29,
      "outputs": [
        {
          "output_type": "stream",
          "name": "stdout",
          "text": [
            "이름 : 황예린\n",
            "나이 : 18\n",
            "시력 : 1.2\n"
          ]
        }
      ]
    },
    {
      "cell_type": "markdown",
      "metadata": {
        "id": "vYeKQ6idcsFB"
      },
      "source": [
        "###**예제 2-25 콤마(,)를 이용한 출력**"
      ]
    },
    {
      "cell_type": "code",
      "metadata": {
        "colab": {
          "base_uri": "https://localhost:8080/"
        },
        "id": "QqhCugiJcsFC",
        "outputId": "d90650b4-c156-42da-b77f-fa6aebf0ac00"
      },
      "source": [
        "name = '홍길동'\n",
        "age = 30\n",
        "height = 173.7\n",
        "\n",
        "print(name, age, height)"
      ],
      "execution_count": 30,
      "outputs": [
        {
          "output_type": "stream",
          "name": "stdout",
          "text": [
            "홍길동 30 173.7\n"
          ]
        }
      ]
    },
    {
      "cell_type": "markdown",
      "metadata": {
        "id": "aZp8m13odAQa"
      },
      "source": [
        "###**예제 2-26 문자열 연결 기호(+)를 이용한 출력**"
      ]
    },
    {
      "cell_type": "code",
      "metadata": {
        "colab": {
          "base_uri": "https://localhost:8080/"
        },
        "id": "omDDIGcTdAQa",
        "outputId": "0a0ca372-80e9-49a1-89b9-8be883f7990b"
      },
      "source": [
        "x = 10\n",
        "y = 20\n",
        "\n",
        "print('x = ' + str(x) + ', y = '+ str(y))"
      ],
      "execution_count": 31,
      "outputs": [
        {
          "output_type": "stream",
          "name": "stdout",
          "text": [
            "x = 10, y = 20\n"
          ]
        }
      ]
    },
    {
      "cell_type": "markdown",
      "metadata": {
        "id": "WlXTf_UpdY_B"
      },
      "source": [
        "###**예제 2-27 문자열 포맷팅(%)를 이용한 출력**"
      ]
    },
    {
      "cell_type": "code",
      "metadata": {
        "colab": {
          "base_uri": "https://localhost:8080/"
        },
        "id": "O_QB57Y9dY_B",
        "outputId": "ceca1347-ec0c-48e0-a220-98e107d66612"
      },
      "source": [
        "score1 = 80\n",
        "score2 = 87\n",
        "\n",
        "sum = score1 + score2\n",
        "avg = sum / 2\n",
        "\n",
        "print('두 과목 점수 : %d, %d'  %(score1, score2))\n",
        "print('합계 : %d, 평균 : %.2f' %(sum, avg))"
      ],
      "execution_count": 38,
      "outputs": [
        {
          "output_type": "stream",
          "name": "stdout",
          "text": [
            "두 과목 점수 : 80, 87\n",
            "합계 : 167, 평균 : 83.50\n"
          ]
        }
      ]
    },
    {
      "cell_type": "markdown",
      "metadata": {
        "id": "hkRi4yU6eaKS"
      },
      "source": [
        "###**예제 2-28 format()을 이용한 출력**"
      ]
    },
    {
      "cell_type": "code",
      "metadata": {
        "colab": {
          "base_uri": "https://localhost:8080/"
        },
        "id": "Dys6Gzg-eaKS",
        "outputId": "300bc3ec-d326-4018-a826-c3cc0cdac807"
      },
      "source": [
        "name = '김소원'\n",
        "id = 'kim'\n",
        "point = 18000\n",
        "\n",
        "print('이름 : {}'.format(name))\n",
        "print('아이디 : {}, 마일리지 : {}'.format(id, point))"
      ],
      "execution_count": 39,
      "outputs": [
        {
          "output_type": "stream",
          "name": "stdout",
          "text": [
            "이름 : 김소원\n",
            "아이디 : kim, 마일리지 : 18000\n"
          ]
        }
      ]
    },
    {
      "cell_type": "markdown",
      "metadata": {
        "id": "YUP_XodSfCOY"
      },
      "source": [
        "###**예제 2-29 키워드 sep 이용한 출력**"
      ]
    },
    {
      "cell_type": "code",
      "metadata": {
        "colab": {
          "base_uri": "https://localhost:8080/"
        },
        "id": "0-0JnEu7fCOY",
        "outputId": "7ecdc6fe-beee-4093-d047-33336007acc9"
      },
      "source": [
        "year = 2020\n",
        "month = 3\n",
        "day = 5\n",
        "\n",
        "print(year, month, day, sep='/')"
      ],
      "execution_count": 40,
      "outputs": [
        {
          "output_type": "stream",
          "name": "stdout",
          "text": [
            "2020/3/5\n"
          ]
        }
      ]
    },
    {
      "cell_type": "markdown",
      "metadata": {
        "id": "mquK7ACzfXkg"
      },
      "source": [
        "###**예제 2-30 키워드 end 이용한 출력**"
      ]
    },
    {
      "cell_type": "code",
      "metadata": {
        "colab": {
          "base_uri": "https://localhost:8080/"
        },
        "id": "aOZ0qNZxfXkg",
        "outputId": "79fbe5e0-5857-4a75-cc52-02fb5c98d5e1"
      },
      "source": [
        "a = '안녕하세요.'\n",
        "b = '반갑습니다.'\n",
        "\n",
        "print(a)\n",
        "print(b)\n",
        "\n",
        "print('\\n\\n')\n",
        "\n",
        "print(a, end='')\n",
        "print(b)"
      ],
      "execution_count": 42,
      "outputs": [
        {
          "output_type": "stream",
          "name": "stdout",
          "text": [
            "안녕하세요.\n",
            "반갑습니다.\n",
            "\n",
            "\n",
            "\n",
            "안녕하세요.반갑습니다.\n"
          ]
        }
      ]
    },
    {
      "cell_type": "markdown",
      "metadata": {
        "id": "yroMT5E2gECA"
      },
      "source": [
        "###**예제 2-31 input()을 이용한 키보드 입력**"
      ]
    },
    {
      "cell_type": "code",
      "metadata": {
        "colab": {
          "base_uri": "https://localhost:8080/"
        },
        "id": "n8tTlXj7gECA",
        "outputId": "74875c33-3ee5-46ee-d289-ec226530c104"
      },
      "source": [
        "name = input(\"이름을 입력하세요 : \")\n",
        "\n",
        "print('%s님 반갑습니다.' % name)"
      ],
      "execution_count": 43,
      "outputs": [
        {
          "output_type": "stream",
          "name": "stdout",
          "text": [
            "이름을 입력하세요 : 홍길동\n",
            "홍길동님 반갑습니다.\n"
          ]
        }
      ]
    },
    {
      "cell_type": "markdown",
      "metadata": {
        "id": "8wzppuJ8ga_C"
      },
      "source": [
        "###**예제 2-32 입력받은 두 수의 합 구하기 : 잘못된 결과**"
      ]
    },
    {
      "cell_type": "code",
      "metadata": {
        "colab": {
          "base_uri": "https://localhost:8080/"
        },
        "id": "n07ygRbMga_D",
        "outputId": "fa1c5d36-ae0b-4950-cd6c-fabc30314d79"
      },
      "source": [
        "a = input('첫 번째 숫자를 입력하세요 : ')\n",
        "b = input('두 번째 숫자를 입력하세요 : ')\n",
        "\n",
        "c = a + b\n",
        "\n",
        "print(c)\n",
        "\n",
        "print(type(a),type(b),type(c))"
      ],
      "execution_count": 44,
      "outputs": [
        {
          "output_type": "stream",
          "name": "stdout",
          "text": [
            "첫 번째 숫자를 입력하세요 : 10\n",
            "두 번째 숫자를 입력하세요 : 20\n",
            "1020\n",
            "<class 'str'> <class 'str'> <class 'str'>\n"
          ]
        }
      ]
    },
    {
      "cell_type": "markdown",
      "metadata": {
        "id": "sX_n8qudg3QZ"
      },
      "source": [
        "###**예제 2-33 예제 2-32의 프로그램 수정하기**"
      ]
    },
    {
      "cell_type": "code",
      "metadata": {
        "colab": {
          "base_uri": "https://localhost:8080/"
        },
        "id": "GFFxRDpgg3Qa",
        "outputId": "4d607d84-3633-4afc-f6da-0bd3f73af685"
      },
      "source": [
        "a = input('첫 번째 숫자를 입력하세요 : ')\n",
        "b = input('두 번째 숫자를 입력하세요 : ')\n",
        "\n",
        "c = int(a) + int(b)\n",
        "\n",
        "print(c)"
      ],
      "execution_count": 45,
      "outputs": [
        {
          "output_type": "stream",
          "name": "stdout",
          "text": [
            "첫 번째 숫자를 입력하세요 : 10\n",
            "두 번째 숫자를 입력하세요 : 20\n",
            "30\n"
          ]
        }
      ]
    },
    {
      "cell_type": "code",
      "metadata": {
        "colab": {
          "base_uri": "https://localhost:8080/"
        },
        "id": "geqjOcq6hDTS",
        "outputId": "823e9182-9703-4fa3-9e7c-9cddc8809c43"
      },
      "source": [
        "a = int(input('첫 번째 숫자를 입력하세요 : '))\n",
        "b = int(input('두 번째 숫자를 입력하세요 : '))\n",
        "\n",
        "c = a + b\n",
        "\n",
        "print(c)"
      ],
      "execution_count": 46,
      "outputs": [
        {
          "output_type": "stream",
          "name": "stdout",
          "text": [
            "첫 번째 숫자를 입력하세요 : 10\n",
            "두 번째 숫자를 입력하세요 : 20\n",
            "30\n"
          ]
        }
      ]
    },
    {
      "cell_type": "markdown",
      "metadata": {
        "id": "CYiLbUbUhZF2"
      },
      "source": [
        "###**예제 2-34 키보드 입력된 인치를 센티미터로 변환**"
      ]
    },
    {
      "cell_type": "code",
      "metadata": {
        "colab": {
          "base_uri": "https://localhost:8080/"
        },
        "id": "impdQZUXhZF2",
        "outputId": "cea89173-a16c-4d66-a471-39f5774f3166"
      },
      "source": [
        "inch = float(input('인치(inch)를 입력하세요 : '))\n",
        "\n",
        "cm = inch * 2.54\n",
        "\n",
        "print(\"센티미터 : %.2f\" %cm)"
      ],
      "execution_count": 47,
      "outputs": [
        {
          "output_type": "stream",
          "name": "stdout",
          "text": [
            "인치(inch)를 입력하세요 : 32.8\n",
            "센티미터 : 83.31\n"
          ]
        }
      ]
    },
    {
      "cell_type": "markdown",
      "metadata": {
        "id": "MwKVkeD2hzPM"
      },
      "source": [
        "###**PDF 93, Q2-1 코딩 연습 : 삼각형의 면적 구하기**"
      ]
    },
    {
      "cell_type": "markdown",
      "metadata": {
        "id": "M-Hoa-SFiB2f"
      },
      "source": [
        "**실행 결과**\n",
        "\n",
        "* 삼각형의 밑변 길이 : 10\n",
        "* 삼각형의 높이 : 3\n",
        "* 삼각형의 면적 : 15.0"
      ]
    },
    {
      "cell_type": "code",
      "metadata": {
        "colab": {
          "base_uri": "https://localhost:8080/"
        },
        "id": "yS9tIGsIhzPN",
        "outputId": "64c6407e-d136-4aeb-9c68-0971ccda55ad"
      },
      "source": [
        "width = 10\n",
        "height = 3\n",
        "\n",
        "area = width * height / 2\n",
        "\n",
        "print(\"삼각형의 밑변 길이:\", width)\n",
        "print(\"삼각형의 높이:\", height)\n",
        "print(\"삼각형의 면적:\", area)"
      ],
      "execution_count": 48,
      "outputs": [
        {
          "output_type": "stream",
          "name": "stdout",
          "text": [
            "삼각형의 밑변 길이: 10\n",
            "삼각형의 높이: 3\n",
            "삼각형의 면적: 15.0\n"
          ]
        }
      ]
    },
    {
      "cell_type": "code",
      "metadata": {
        "id": "RieUbQQkihNv"
      },
      "source": [
        ""
      ],
      "execution_count": null,
      "outputs": []
    },
    {
      "cell_type": "markdown",
      "metadata": {
        "id": "K1kN-ieZij5X"
      },
      "source": [
        "###**PDF 94, Q2-2 코딩 연습 : 거스름돈 계산하기**"
      ]
    },
    {
      "cell_type": "markdown",
      "metadata": {
        "id": "MwgvgdkKij5Y"
      },
      "source": [
        "**실행 결과**\n",
        "\n",
        "* 물건가격 : 800원\n",
        "* 구매개수 : 3개\n",
        "* 지불금액 : 5000원\n",
        "* 거스름돈 : 2600원"
      ]
    },
    {
      "cell_type": "code",
      "metadata": {
        "colab": {
          "base_uri": "https://localhost:8080/"
        },
        "id": "hiONfEE6ij5Y",
        "outputId": "8919ac0d-7d09-4c3b-98f1-42e8334f7578"
      },
      "source": [
        "price = 800\n",
        "buy = 3\n",
        "pay = 5000\n",
        "\n",
        "charge = pay - price * buy\n",
        "\n",
        "print('물건가격:', price, '원')\n",
        "print('구매개수:', buy, '개')\n",
        "print('지불금액:', pay, '원')\n",
        "print('거스름돈:', charge, '원')"
      ],
      "execution_count": 49,
      "outputs": [
        {
          "output_type": "stream",
          "name": "stdout",
          "text": [
            "물건가격: 800 원\n",
            "구매개수: 3 개\n",
            "지불금액: 5000 원\n",
            "거스름돈: 2600 원\n"
          ]
        }
      ]
    },
    {
      "cell_type": "markdown",
      "metadata": {
        "id": "liyyd1eLjovq"
      },
      "source": [
        "###**PDF 95, Q2-3 코딩 연습 : 숫자 연산자**"
      ]
    },
    {
      "cell_type": "code",
      "metadata": {
        "colab": {
          "base_uri": "https://localhost:8080/"
        },
        "id": "KTEnEv7wjovv",
        "outputId": "2304d332-9d6b-4565-83ec-68477647bdf9"
      },
      "source": [
        "x = 20\n",
        "y = 4\n",
        "\n",
        "x =  y % x\n",
        "print(x)\n",
        "\n",
        "y -= x * 2\n",
        "print(x, y)"
      ],
      "execution_count": 50,
      "outputs": [
        {
          "output_type": "stream",
          "name": "stdout",
          "text": [
            "4\n",
            "4 -4\n"
          ]
        }
      ]
    },
    {
      "cell_type": "markdown",
      "metadata": {
        "id": "tF5T3R29kdCc"
      },
      "source": [
        "###**PDF 96, Q2-4 코딩 연습 : 문자열 추출과 문자열 포맷팅**"
      ]
    },
    {
      "cell_type": "markdown",
      "metadata": {
        "id": "pzBdCGdvkl2R"
      },
      "source": [
        "**실행 결과**\n",
        "\n",
        "* 성 : 홍\n",
        "* 이름 : 길동\n",
        "* 홍길동의 나이 : 30세, 키 : 171.50cm"
      ]
    },
    {
      "cell_type": "code",
      "metadata": {
        "colab": {
          "base_uri": "https://localhost:8080/"
        },
        "id": "fytWo9rwkdCc",
        "outputId": "6e393a30-9792-466a-fb60-70ddbd8a360c"
      },
      "source": [
        "name = \"홍길동\"\n",
        "age = 30\n",
        "height = 171.5\n",
        "\n",
        "print('성 :', name[0])\n",
        "print('이름 :', name[1:])\n",
        "print(\"%s의 나이 : %d세, 키 : %.2fcm\" %(name, age, height))\n"
      ],
      "execution_count": 53,
      "outputs": [
        {
          "output_type": "stream",
          "name": "stdout",
          "text": [
            "성 : 홍\n",
            "이름 : 길동\n",
            "홍길동의 나이 : 30세, 키 : 171.50cm\n"
          ]
        }
      ]
    },
    {
      "cell_type": "markdown",
      "metadata": {
        "id": "ANSwzLkylgRK"
      },
      "source": [
        "###**PDF 97, Q2-5 코딩 연습 : 키보드로 성적 입력받아 평균 구하기**"
      ]
    },
    {
      "cell_type": "markdown",
      "metadata": {
        "id": "Psqi9M6YlgRL"
      },
      "source": [
        "**실행 결과**\n",
        "\n",
        "* 학생 이름을 입려하세요 : 황예린\n",
        "* 국어 성적을 입력하세요 : 83\n",
        "* 영어 성적을 입력하세요 : 85\n",
        "* 수학 성적을 입력하세요 : 91\n",
        "* 이름:황예린, 국어:83, 영어:85, 수학:91, 평균:86.3점"
      ]
    },
    {
      "cell_type": "code",
      "metadata": {
        "colab": {
          "base_uri": "https://localhost:8080/"
        },
        "id": "G_Dq9YTolgRL",
        "outputId": "d1226ac8-51d9-4f24-a0a7-ba7296f467ad"
      },
      "source": [
        "name = input(\"학생 이름을 입력하세요 : \")\n",
        "kor = int(input('국어 성적을 입력하세요 : '))\n",
        "eng = int(input('영어 성적을 입력하세요 : '))\n",
        "math = int(input('수학 성적을 입력하세요 : '))\n",
        "\n",
        "total = kor + eng + math\n",
        "avg = total / 3\n",
        "\n",
        "print(\"이름:%s, 국어:%d, 영어:%d, 수학:%d, 평균:%.1f점\" %(name, kor, eng, math, avg))"
      ],
      "execution_count": 56,
      "outputs": [
        {
          "output_type": "stream",
          "name": "stdout",
          "text": [
            "학생 이름을 입력하세요 : 황예린\n",
            "국어 성적을 입력하세요 : 83\n",
            "영어 성적을 입력하세요 : 85\n",
            "수학 성적을 입력하세요 : 91\n",
            "이름:황예린, 국어:83, 영어:85, 수학:91, 평균:86.3점\n"
          ]
        }
      ]
    },
    {
      "cell_type": "markdown",
      "metadata": {
        "id": "82rKRsI6nQ4O"
      },
      "source": [
        "###**예제 2-35 주석문**"
      ]
    },
    {
      "cell_type": "code",
      "metadata": {
        "colab": {
          "base_uri": "https://localhost:8080/"
        },
        "id": "dQ0iwVmDnQ4U",
        "outputId": "76562cdd-5561-42e3-8f03-3ef3f087195c"
      },
      "source": [
        "\"\"\"\n",
        "프로그램명 : 두 수 더하기\n",
        "작성자 : 홍길동\n",
        "작성일 : 2021.9.20\n",
        "\"\"\"\n",
        "\n",
        "a = 10\n",
        "b = 20\n",
        "\n",
        "c = a + b\n",
        "\n",
        "print(c)"
      ],
      "execution_count": 57,
      "outputs": [
        {
          "output_type": "stream",
          "name": "stdout",
          "text": [
            "30\n"
          ]
        }
      ]
    },
    {
      "cell_type": "markdown",
      "metadata": {
        "id": "I31NcF_Dnsxm"
      },
      "source": [
        "###**PDF 101, 1일차 과제 : 4번 ~ 6번 문제**"
      ]
    },
    {
      "cell_type": "markdown",
      "metadata": {
        "id": "Ucehl1-6n9mP"
      },
      "source": [
        "**문제 4.** <br>\n",
        "온라인 서점에서 결제할 금액을 계산하는 프로그램을 작성하시오. <br>단, 실행결과는 아래와 정확하게 일치하도록 하고,<br> <b>책 값, 할인율, 배송료는 키보드로 입력 받아 처리</b>한다.\n",
        "\n",
        "* 힌트 : 결제 금액 = 책 값 - (책 값 * 할인율 / 100) + 배송료"
      ]
    },
    {
      "cell_type": "markdown",
      "metadata": {
        "id": "8AcKcS1voeim"
      },
      "source": [
        "**실행 결과**\n",
        "\n",
        "* 책 값을 입력하세요 : 15000\n",
        "* 할인율을 입력하세요(%) : 15\n",
        "* 배송료를 입력하세요 : 3000\n",
        "* 결제 금액 : 15750원"
      ]
    },
    {
      "cell_type": "markdown",
      "metadata": {
        "id": "mHbAv9xzn8_o"
      },
      "source": [
        "**문제 5.** <br>\n",
        "이름, 현재년, 출생년을 입력받아 나이를 계산하는 프로그램을 작성하시오.\n",
        "\n",
        "* 힌트 : 나이 = 현재년 - 출생년 + 1"
      ]
    },
    {
      "cell_type": "markdown",
      "metadata": {
        "id": "tR2zjEWWo6xW"
      },
      "source": [
        "**실행 결과**\n",
        "\n",
        "* 이름을 입력하세요 : 안지영\n",
        "* 현재년을 입력하세요 : 2020\n",
        "* 탄생년을 입력하세요 : 1997\n",
        "* 안지영님의 나이는 24세 입니다!"
      ]
    },
    {
      "cell_type": "markdown",
      "metadata": {
        "id": "DFUhVxGwpHbY"
      },
      "source": [
        "**문제 6.** <br>\n",
        "연, 월, 일을 입력받아 ####-##-##의 형태로 출력하는 프로그램을 작성하시오.<br> 단, 실행 결과에서와 같이 **월과 일에 1~9의 숫자가 입력되면 그 숫자 앞에 0을 채운다.**"
      ]
    },
    {
      "cell_type": "markdown",
      "metadata": {
        "id": "HdtvZ6gRpklR"
      },
      "source": [
        "**실행 결과**\n",
        "\n",
        "* 연을 입력하세요 : 2020\n",
        "* 월을 입력하세요 : 1\n",
        "* 일을 입력하세요 : 5<br>\n",
        "출력 결과 : 2020-01-05"
      ]
    },
    {
      "cell_type": "code",
      "metadata": {
        "id": "86w0L2BSnfdm"
      },
      "source": [
        ""
      ],
      "execution_count": null,
      "outputs": []
    }
  ]
}