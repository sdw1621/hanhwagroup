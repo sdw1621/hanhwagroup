{
  "nbformat": 4,
  "nbformat_minor": 0,
  "metadata": {
    "colab": {
      "name": "한화_1일차.ipynb",
      "provenance": [],
      "authorship_tag": "ABX9TyPv7k8sbbbsMAlA0sxxAgAl",
      "include_colab_link": true
    },
    "kernelspec": {
      "name": "python3",
      "display_name": "Python 3"
    },
    "language_info": {
      "name": "python"
    }
  },
  "cells": [
    {
      "cell_type": "markdown",
      "metadata": {
        "id": "view-in-github",
        "colab_type": "text"
      },
      "source": [
        "<a href=\"https://colab.research.google.com/github/sdw1621/hanhwagroup/blob/main/211220_%ED%95%9C%ED%99%94_1%EC%9D%BC%EC%B0%A8.ipynb\" target=\"_parent\"><img src=\"https://colab.research.google.com/assets/colab-badge.svg\" alt=\"Open In Colab\"/></a>"
      ]
    },
    {
      "cell_type": "markdown",
      "source": [
        "#코랩 사용법을 익히고 있어요"
      ],
      "metadata": {
        "id": "tQoo5endLRDl"
      }
    },
    {
      "cell_type": "markdown",
      "source": [
        "##두 번째 레벨"
      ],
      "metadata": {
        "id": "OH6BsohNL4pp"
      }
    },
    {
      "cell_type": "code",
      "execution_count": 9,
      "metadata": {
        "colab": {
          "base_uri": "https://localhost:8080/"
        },
        "id": "hPNwCVKiH4vd",
        "outputId": "04ed4675-7e96-43fd-affe-dfa19e1eeba3"
      },
      "outputs": [
        {
          "output_type": "stream",
          "name": "stdout",
          "text": [
            "안녕하세요 신동욱 강사입니다.\n"
          ]
        }
      ],
      "source": [
        "print(\"안녕하세요 신동욱 강사입니다.\")"
      ]
    },
    {
      "cell_type": "code",
      "source": [
        "print(\"신동욱\") \n",
        "\n",
        "\n",
        "\n"
      ],
      "metadata": {
        "colab": {
          "base_uri": "https://localhost:8080/"
        },
        "id": "7lhv5VEHJIRw",
        "outputId": "474f06d2-c38a-4724-d45a-152fa0706741"
      },
      "execution_count": 5,
      "outputs": [
        {
          "output_type": "stream",
          "name": "stdout",
          "text": [
            "신동욱\n"
          ]
        }
      ]
    },
    {
      "cell_type": "code",
      "source": [
        ""
      ],
      "metadata": {
        "id": "Q33lbbd8KMtn"
      },
      "execution_count": null,
      "outputs": []
    }
  ]
}