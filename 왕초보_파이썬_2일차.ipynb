{
  "nbformat": 4,
  "nbformat_minor": 0,
  "metadata": {
    "colab": {
      "name": "왕초보_파이썬_2일차.ipynb",
      "provenance": [],
      "collapsed_sections": [
        "Sv4q5m21YmoN",
        "wwaUcqfFa4_9",
        "ODNln-pmd6jU",
        "b3BQB9k7h-zb",
        "8b9VMILvjpri",
        "h66RuupUoYci",
        "TuOktAOUwiMM",
        "3HsLHt8mnPEn"
      ],
      "mount_file_id": "1qDFQzjYRF3CsdNRPKWyq4LDB6B8I3oLo",
      "authorship_tag": "ABX9TyMLx+9/e2mhgvZ2ft7Mc3Z9",
      "include_colab_link": true
    },
    "kernelspec": {
      "name": "python3",
      "display_name": "Python 3"
    },
    "language_info": {
      "name": "python"
    }
  },
  "cells": [
    {
      "cell_type": "markdown",
      "metadata": {
        "id": "view-in-github",
        "colab_type": "text"
      },
      "source": [
        "<a href=\"https://colab.research.google.com/github/sdw1621/hanhwagroup/blob/main/%EC%99%95%EC%B4%88%EB%B3%B4_%ED%8C%8C%EC%9D%B4%EC%8D%AC_2%EC%9D%BC%EC%B0%A8.ipynb\" target=\"_parent\"><img src=\"https://colab.research.google.com/assets/colab-badge.svg\" alt=\"Open In Colab\"/></a>"
      ]
    },
    {
      "cell_type": "markdown",
      "metadata": {
        "id": "Sv4q5m21YmoN"
      },
      "source": [
        "### 점프 투 파이썬 02장 \n",
        "\n",
        "파이썬 프로그래밍 기초, 자료형, 연습 문제\n",
        "\n",
        "**Q2**"
      ]
    },
    {
      "cell_type": "code",
      "metadata": {
        "colab": {
          "base_uri": "https://localhost:8080/"
        },
        "id": "AearbrBLUCk-",
        "outputId": "158210b1-ce79-4f38-c11a-b13b1a55f791"
      },
      "source": [
        "# 13 입력\n",
        "num = int(input(\"숫자를 입력해주세요 : \"))\n",
        "\n",
        "if num % 2 == 0:\n",
        "  print(\"짝수입니다.\")\n",
        "else:\n",
        "  print(\"홀수입니다.\")"
      ],
      "execution_count": null,
      "outputs": [
        {
          "output_type": "stream",
          "text": [
            "숫자를 입력해주세요 : 13\n",
            "홀수입니다.\n"
          ],
          "name": "stdout"
        }
      ]
    },
    {
      "cell_type": "markdown",
      "metadata": {
        "id": "wwaUcqfFa4_9"
      },
      "source": [
        "### 점프 투 파이썬 02장 \n",
        "\n",
        "파이썬 프로그래밍 기초, 자료형, 연습 문제\n",
        "\n",
        "**Q3**"
      ]
    },
    {
      "cell_type": "code",
      "metadata": {
        "colab": {
          "base_uri": "https://localhost:8080/"
        },
        "id": "6AOQnjViZEkM",
        "outputId": "cee54768-1e09-42e5-9a38-0b714a19f813"
      },
      "source": [
        "# 881120-1068234 입력\n",
        "jumin_num = input(\"주민등록번호를 입력하세요 : \")\n",
        "\n",
        "first_position = jumin_num[:6]\n",
        "print(first_position)        # 881120 출력\n",
        "\n",
        "second_position = jumin_num[7:]\n",
        "print(second_position)       # 1068234 출력"
      ],
      "execution_count": null,
      "outputs": [
        {
          "output_type": "stream",
          "text": [
            "주민등록번호를 입력하세요 : 881120-1068234\n",
            "881120\n",
            "1068234\n"
          ],
          "name": "stdout"
        }
      ]
    },
    {
      "cell_type": "markdown",
      "metadata": {
        "id": "ODNln-pmd6jU"
      },
      "source": [
        "### 점프 투 파이썬 02장 \n",
        "\n",
        "파이썬 프로그래밍 기초, 자료형, 연습 문제\n",
        "\n",
        "**Q4**"
      ]
    },
    {
      "cell_type": "code",
      "metadata": {
        "colab": {
          "base_uri": "https://localhost:8080/"
        },
        "id": "J1Y5cQFZcYsr",
        "outputId": "50070006-9f47-4285-94e9-c58c35cab803"
      },
      "source": [
        "pin = \"881120-1068234\"\n",
        "\n",
        "print(pin[7])\n",
        "print(type(pin[7]))\n",
        "second_position_0 = int(pin[7])\n",
        "print(type(second_position_0))\n",
        "\n",
        "if second_position_0 % 2 == 0:\n",
        "  print(\"여자\")\n",
        "else:\n",
        "  print(\"남자\")"
      ],
      "execution_count": null,
      "outputs": [
        {
          "output_type": "stream",
          "text": [
            "1\n",
            "<class 'str'>\n",
            "<class 'int'>\n",
            "남자\n"
          ],
          "name": "stdout"
        }
      ]
    },
    {
      "cell_type": "markdown",
      "metadata": {
        "id": "b3BQB9k7h-zb"
      },
      "source": [
        "### 점프 투 파이썬 03장 \n",
        "\n",
        " 프로그램의 구조를 쌓는다! 제어문, 연습 문제\n",
        "\n",
        "**Q1**"
      ]
    },
    {
      "cell_type": "code",
      "metadata": {
        "colab": {
          "base_uri": "https://localhost:8080/"
        },
        "id": "9VXGHf2Qed7R",
        "outputId": "286128a0-328b-4ede-e8f8-c9dbd46fc046"
      },
      "source": [
        "a = \"Life is too short, you need python\"\n",
        "\n",
        "if \"wife\" in a:\n",
        "  print(\"wife\")\n",
        "elif \"python\" in a and \"you\" not in a:\n",
        "  print(\"python\")\n",
        "elif \"shirt\" not in a:\n",
        "  print(\"shirt\")\n",
        "elif \"need\" in a:\n",
        "  print(\"need\")\n",
        "else:\n",
        "  print(\"none\")\n"
      ],
      "execution_count": null,
      "outputs": [
        {
          "output_type": "stream",
          "text": [
            "shirt\n"
          ],
          "name": "stdout"
        }
      ]
    },
    {
      "cell_type": "markdown",
      "metadata": {
        "id": "8b9VMILvjpri"
      },
      "source": [
        "### 점프 투 파이썬 03장 \n",
        "\n",
        " 프로그램의 구조를 쌓는다! 제어문, 연습 문제\n",
        "\n",
        "**Q5**"
      ]
    },
    {
      "cell_type": "code",
      "metadata": {
        "colab": {
          "base_uri": "https://localhost:8080/"
        },
        "id": "YV6EFf-niTNJ",
        "outputId": "fea89359-c604-42a1-9770-ffd85e22fee0"
      },
      "source": [
        "# for문\n",
        "\n",
        "# for 값1개 in 값 여러개:\n",
        "#   실행구문\n",
        "\n",
        "# 리스트 : 값을 여러 개를 가지는 데이터형\n",
        "mid_jumsus = [70, 60, 55, 75, 95, 90, 80, 80, 85, 100]\n",
        "# print(mid_jumsus)\n",
        "\n",
        "total = 0\n",
        "# total = \"\"\n",
        "# total = []\n",
        "\n",
        "for mid_jumsu in mid_jumsus:\n",
        "  # print(mid_jumsu)\n",
        "  total = total + mid_jumsu\n",
        "  print(total)\n",
        "  # total += mid_jumsu\n",
        "  # 1회 70 = 0+70\n",
        "  # 2회 130 = 70+60\n",
        "  # 3회 185 = 130+55\n",
        "  # ...\n",
        "  # 10회 790\n",
        "\n",
        " # A 학급의 평균 점수\n",
        "#  평균 = 전체 점수 덧셈 / 학생수\n",
        "\n",
        "#  전체 점수 덧셈 = 70 + 60 + 55 +... + 100 = 790\n",
        "#  학생수 = 10명\n",
        "\n",
        "# 79 =  790 / 10\n",
        "\n",
        "print(len(mid_jumsus))"
      ],
      "execution_count": null,
      "outputs": [
        {
          "output_type": "stream",
          "text": [
            "70\n",
            "130\n",
            "185\n",
            "260\n",
            "355\n",
            "445\n",
            "525\n",
            "605\n",
            "690\n",
            "790\n",
            "10\n"
          ],
          "name": "stdout"
        }
      ]
    },
    {
      "cell_type": "code",
      "metadata": {
        "colab": {
          "base_uri": "https://localhost:8080/"
        },
        "id": "mjzVZ21anJ1j",
        "outputId": "0ea7a2dd-8b9e-4ad9-c6ba-1cc045c7cfc1"
      },
      "source": [
        "mid_jumsus = [70, 60, 55, 75, 95, 90, 80, 80, 85, 100]\n",
        "\n",
        "total = 0\n",
        "\n",
        "for mid_jumsu in mid_jumsus:\n",
        "  total = total + mid_jumsu\n",
        "\n",
        "# print(total)\n",
        "# print(len(mid_jumsus))\n",
        "\n",
        "average = total / len(mid_jumsus)\n",
        "print(average)"
      ],
      "execution_count": null,
      "outputs": [
        {
          "output_type": "stream",
          "text": [
            "79.0\n"
          ],
          "name": "stdout"
        }
      ]
    },
    {
      "cell_type": "code",
      "metadata": {
        "id": "4gg6P_kFkG6z"
      },
      "source": [
        ""
      ],
      "execution_count": null,
      "outputs": []
    },
    {
      "cell_type": "markdown",
      "metadata": {
        "id": "h66RuupUoYci"
      },
      "source": [
        "### Page 5. 리스트 생성"
      ]
    },
    {
      "cell_type": "code",
      "metadata": {
        "id": "IFkP7uqdoYcq"
      },
      "source": [
        "names = [\"신동욱\", \"이동건\", \"신동욱\"]\n",
        "\n",
        "names[0]\n",
        "names[2]"
      ],
      "execution_count": null,
      "outputs": []
    },
    {
      "cell_type": "code",
      "metadata": {
        "colab": {
          "base_uri": "https://localhost:8080/"
        },
        "id": "GSdVQ0Hrpq46",
        "outputId": "dfe58cd8-8723-435f-e3b5-a6801c9ce9b6"
      },
      "source": [
        "names = [\"신동욱\", 1, True]\n",
        "\n",
        "print(names)\n",
        "\n",
        "# C, Java\n",
        "# int a = [1, 2, 3, 4, 5]"
      ],
      "execution_count": null,
      "outputs": [
        {
          "output_type": "stream",
          "text": [
            "['신동욱', 1, True]\n"
          ],
          "name": "stdout"
        }
      ]
    },
    {
      "cell_type": "code",
      "metadata": {
        "colab": {
          "base_uri": "https://localhost:8080/"
        },
        "id": "fNrj-uabpxPy",
        "outputId": "8c01f8ad-4097-42d3-c65e-30f52d367bb8"
      },
      "source": [
        "my_list = []\n",
        "\n",
        "my_list = ['I love you', 2, 34.244, ['a','b','c', 1123], 2, '갈비탕']\n",
        "\n",
        "print(my_list)"
      ],
      "execution_count": null,
      "outputs": [
        {
          "output_type": "stream",
          "text": [
            "['I love you', 2, 34.244, ['a', 'b', 'c', 1123], 2, '갈비탕']\n"
          ],
          "name": "stdout"
        }
      ]
    },
    {
      "cell_type": "code",
      "metadata": {
        "colab": {
          "base_uri": "https://localhost:8080/"
        },
        "id": "4kU5lGhPrGab",
        "outputId": "b0f3ad21-10bd-4849-a3e5-ae397169776b"
      },
      "source": [
        "print(my_list[0])"
      ],
      "execution_count": null,
      "outputs": [
        {
          "output_type": "stream",
          "text": [
            "I love you\n"
          ],
          "name": "stdout"
        }
      ]
    },
    {
      "cell_type": "code",
      "metadata": {
        "colab": {
          "base_uri": "https://localhost:8080/"
        },
        "id": "rMXMSygWrRUS",
        "outputId": "b1bc9823-dfb1-42a5-c141-daf30f49dd96"
      },
      "source": [
        "print(my_list[3])"
      ],
      "execution_count": null,
      "outputs": [
        {
          "output_type": "stream",
          "text": [
            "['a', 'b', 'c', 1123]\n"
          ],
          "name": "stdout"
        }
      ]
    },
    {
      "cell_type": "code",
      "metadata": {
        "colab": {
          "base_uri": "https://localhost:8080/"
        },
        "id": "TinRw6Kjrp4h",
        "outputId": "a1fb610c-5445-48cd-952f-68dda55db96f"
      },
      "source": [
        "print(my_list[3][3])"
      ],
      "execution_count": null,
      "outputs": [
        {
          "output_type": "stream",
          "text": [
            "1123\n"
          ],
          "name": "stdout"
        }
      ]
    },
    {
      "cell_type": "code",
      "metadata": {
        "colab": {
          "base_uri": "https://localhost:8080/"
        },
        "id": "aFZRzR88rus5",
        "outputId": "39f24b22-a863-45cb-c69c-ec1af4f1a623"
      },
      "source": [
        "print(my_list[3][1])"
      ],
      "execution_count": null,
      "outputs": [
        {
          "output_type": "stream",
          "text": [
            "b\n"
          ],
          "name": "stdout"
        }
      ]
    },
    {
      "cell_type": "markdown",
      "metadata": {
        "id": "TuOktAOUwiMM"
      },
      "source": [
        "### Page 7. 요소 추가 생성"
      ]
    },
    {
      "cell_type": "code",
      "metadata": {
        "colab": {
          "base_uri": "https://localhost:8080/"
        },
        "id": "Xhsz_b7or-3B",
        "outputId": "11e68587-64b8-448d-b62b-4c81052fdcb5"
      },
      "source": [
        "# append\n",
        "# ap = after(뒤)\n",
        "# pend = 붙이다.\n",
        "# 뒤에 붙이다.\n",
        "\n",
        "my_list = ['I love you', 2, 34.244, ['a','b','c', 1123], 2, '갈비탕']\n",
        "\n",
        "my_list.append(123)\n",
        "\n",
        "print(my_list)"
      ],
      "execution_count": null,
      "outputs": [
        {
          "output_type": "stream",
          "text": [
            "['I love you', 2, 34.244, ['a', 'b', 'c', 1123], 2, '갈비탕', 123]\n"
          ],
          "name": "stdout"
        }
      ]
    },
    {
      "cell_type": "code",
      "metadata": {
        "colab": {
          "base_uri": "https://localhost:8080/"
        },
        "id": "oBuTUJyoxr_C",
        "outputId": "f5996b37-e06b-46e3-ae71-ff5e7095ea00"
      },
      "source": [
        "customer_names =[\"신동욱\", \"이동건\", \"이동욱\"]\n",
        "\n",
        "customer_names.append(\"고소영\")\n",
        "\n",
        "print(customer_names)"
      ],
      "execution_count": null,
      "outputs": [
        {
          "output_type": "stream",
          "text": [
            "['신동욱', '이동건', '이동욱', '고소영']\n"
          ],
          "name": "stdout"
        }
      ]
    },
    {
      "cell_type": "code",
      "metadata": {
        "id": "eRWUH6FHx7FC"
      },
      "source": [
        ""
      ],
      "execution_count": null,
      "outputs": []
    },
    {
      "cell_type": "markdown",
      "metadata": {
        "id": "JwP3cJFb0D36"
      },
      "source": [
        "### Page 9. 리스트의 덧셈과 반복"
      ]
    },
    {
      "cell_type": "code",
      "metadata": {
        "colab": {
          "base_uri": "https://localhost:8080/"
        },
        "id": "O3qGL6en0Jxh",
        "outputId": "b78b4341-e7e6-4b1e-ef12-ee713527e7f2"
      },
      "source": [
        "# 리스트와 리스트 더하기\n",
        "\n",
        "my_list1 = [1,2,3,4,5]\n",
        "my_list2 = [6,7,8,9,10]\n",
        "\n",
        "my_list3 = my_list1 + my_list2\n",
        "print(my_list3)"
      ],
      "execution_count": null,
      "outputs": [
        {
          "output_type": "stream",
          "text": [
            "[1, 2, 3, 4, 5, 6, 7, 8, 9, 10]\n"
          ],
          "name": "stdout"
        }
      ]
    },
    {
      "cell_type": "code",
      "metadata": {
        "colab": {
          "base_uri": "https://localhost:8080/"
        },
        "id": "25_QPQls0h5R",
        "outputId": "e5798223-6178-4097-ca7f-2fed2e83b9e3"
      },
      "source": [
        "# 리스트에 정수를 곱하기 (리스트 반복)\n",
        "my_list4 = my_list1 * 3\n",
        "print(my_list4)\n",
        "\n",
        "# \"신동욱\" * 2\n",
        "# \"=\" * 30"
      ],
      "execution_count": null,
      "outputs": [
        {
          "output_type": "stream",
          "text": [
            "[1, 2, 3, 4, 5, 1, 2, 3, 4, 5, 1, 2, 3, 4, 5]\n"
          ],
          "name": "stdout"
        }
      ]
    },
    {
      "cell_type": "code",
      "metadata": {
        "colab": {
          "base_uri": "https://localhost:8080/"
        },
        "id": "svxPfTtv024B",
        "outputId": "ce8c48df-fa70-4a9e-fded-637bddd25085"
      },
      "source": [
        "my_list1 = [1,2,3,4,5]\n",
        "len_of_list1 = len(my_list1)\n",
        "print(len_of_list1)"
      ],
      "execution_count": null,
      "outputs": [
        {
          "output_type": "stream",
          "text": [
            "5\n"
          ],
          "name": "stdout"
        }
      ]
    },
    {
      "cell_type": "code",
      "metadata": {
        "id": "7_b4Yss91bIT"
      },
      "source": [
        "# 리스트 정렬\n",
        "# https://vision-ai.tistory.com/entry/%ED%8C%8C%EC%9D%B4%EC%8D%AC-%EB%A6%AC%EC%8A%A4%ED%8A%B8-%ED%95%AD%EB%AA%A9-%EC%A0%95%EB%A0%AC%ED%95%98%EA%B8%B0-sorted-sort-reverse"
      ],
      "execution_count": null,
      "outputs": []
    },
    {
      "cell_type": "markdown",
      "metadata": {
        "id": "Z3zbUJ4w2Pb6"
      },
      "source": [
        "### Page 13. 메뉴 리스트 동적으로 생성하기"
      ]
    },
    {
      "cell_type": "code",
      "metadata": {
        "colab": {
          "base_uri": "https://localhost:8080/"
        },
        "id": "IaD9rq6n2PcC",
        "outputId": "9c241171-9fae-481f-b2ce-6056873ee3a5"
      },
      "source": [
        "menus = list()\n",
        "# menus = []\n",
        "print(menus)"
      ],
      "execution_count": null,
      "outputs": [
        {
          "output_type": "stream",
          "text": [
            "[]\n"
          ],
          "name": "stdout"
        }
      ]
    },
    {
      "cell_type": "code",
      "metadata": {
        "colab": {
          "base_uri": "https://localhost:8080/"
        },
        "id": "_OooW3UT2gVC",
        "outputId": "a33566ba-8f9e-4b2e-8f07-c90eff432acd"
      },
      "source": [
        "menus.append(\"갈비탕\")\n",
        "print(menus)"
      ],
      "execution_count": null,
      "outputs": [
        {
          "output_type": "stream",
          "text": [
            "['갈비탕']\n"
          ],
          "name": "stdout"
        }
      ]
    },
    {
      "cell_type": "code",
      "metadata": {
        "colab": {
          "base_uri": "https://localhost:8080/"
        },
        "id": "tlfRT68f2qcp",
        "outputId": "398c9713-0f65-4cc3-fabc-1ed2a8da2345"
      },
      "source": [
        "# 동적(menus 변수 처음 만들 때는 없다가 코드짜면서 추가)\n",
        "menus.append(\"떡볶이\")\n",
        "menus.append(\"오뎅\")\n",
        "menus.append(\"감자탕\")\n",
        "menus.append(\"김치찌게\")\n",
        "menus.append(\"제육볶음\")\n",
        "menus.append(\"김치볶음밥\")\n",
        "\n",
        "print(menus)"
      ],
      "execution_count": null,
      "outputs": [
        {
          "output_type": "stream",
          "text": [
            "['갈비탕', '떡볶이', '오뎅', '감자탕', '김치찌게', '제육볶음', '김치볶음밥']\n"
          ],
          "name": "stdout"
        }
      ]
    },
    {
      "cell_type": "code",
      "metadata": {
        "colab": {
          "base_uri": "https://localhost:8080/"
        },
        "id": "IhvKN81Y26ES",
        "outputId": "a7faa663-8478-40a3-fcf5-1728afe0ec8e"
      },
      "source": [
        "# 정적(prices 변수 선언하자마자 값을 넣어둠)\n",
        "prices = [10000, 7000, 5000, 8000, 8000, 7000, 5000]\n",
        "print(prices)"
      ],
      "execution_count": null,
      "outputs": [
        {
          "output_type": "stream",
          "text": [
            "[10000, 7000, 5000, 8000, 8000, 7000, 5000]\n"
          ],
          "name": "stdout"
        }
      ]
    },
    {
      "cell_type": "code",
      "metadata": {
        "id": "6Ig-nawu3g4B"
      },
      "source": [
        ""
      ],
      "execution_count": null,
      "outputs": []
    },
    {
      "cell_type": "markdown",
      "metadata": {
        "id": "G-HVKsEw3xnS"
      },
      "source": [
        "### Page 13. 메뉴 리스트 동적으로 생성하기"
      ]
    },
    {
      "cell_type": "code",
      "metadata": {
        "colab": {
          "base_uri": "https://localhost:8080/"
        },
        "id": "n6mMtI-63xnS",
        "outputId": "3c7f0db6-1a34-4c52-af33-06a165bf8e51"
      },
      "source": [
        "menus = list()\n",
        "# menus = []\n",
        "print(menus)"
      ],
      "execution_count": 2,
      "outputs": [
        {
          "output_type": "stream",
          "name": "stdout",
          "text": [
            "[]\n"
          ]
        }
      ]
    },
    {
      "cell_type": "code",
      "metadata": {
        "colab": {
          "base_uri": "https://localhost:8080/"
        },
        "id": "Y_-uZ9rb3xnT",
        "outputId": "94bd8064-666e-4d88-9cbd-31ce698b0d3c"
      },
      "source": [
        "menus.append(\"갈비탕\")\n",
        "print(menus)"
      ],
      "execution_count": 3,
      "outputs": [
        {
          "output_type": "stream",
          "name": "stdout",
          "text": [
            "['갈비탕']\n"
          ]
        }
      ]
    },
    {
      "cell_type": "code",
      "metadata": {
        "colab": {
          "base_uri": "https://localhost:8080/"
        },
        "id": "8Nz0bAHL3xnU",
        "outputId": "7b76348b-70c0-4000-8085-ea7af5f7d160"
      },
      "source": [
        "# 동적(menus 변수 처음 만들 때는 없다가 코드짜면서 추가)\n",
        "menus.append(\"떡볶이\")\n",
        "menus.append(\"오뎅\")\n",
        "menus.append(\"감자탕\")\n",
        "menus.append(\"김치찌게\")\n",
        "menus.append(\"제육볶음\")\n",
        "menus.append(\"김치볶음밥\")\n",
        "\n",
        "print(menus)"
      ],
      "execution_count": 4,
      "outputs": [
        {
          "output_type": "stream",
          "name": "stdout",
          "text": [
            "['갈비탕', '떡볶이', '오뎅', '감자탕', '김치찌게', '제육볶음', '김치볶음밥']\n"
          ]
        }
      ]
    },
    {
      "cell_type": "code",
      "metadata": {
        "colab": {
          "base_uri": "https://localhost:8080/"
        },
        "id": "qDCYi5ll3xnU",
        "outputId": "608a8081-d660-410b-ee49-4fa42de6cab5"
      },
      "source": [
        "# 정적(prices 변수 선언하자마자 값을 넣어둠)\n",
        "prices = [10000, 7000, 5000, 8000, 8000, 7000, 5000]\n",
        "print(prices)"
      ],
      "execution_count": 5,
      "outputs": [
        {
          "output_type": "stream",
          "name": "stdout",
          "text": [
            "[10000, 7000, 5000, 8000, 8000, 7000, 5000]\n"
          ]
        }
      ]
    },
    {
      "cell_type": "code",
      "metadata": {
        "colab": {
          "base_uri": "https://localhost:8080/"
        },
        "id": "fzicIxsJ3xnU",
        "outputId": "c15032fe-70af-4b04-90d7-c6d56b6da756"
      },
      "source": [
        "print(\"\"\"\n",
        "메뉴판\n",
        "==============================\n",
        "{0:<10}{1:>10}{won}\n",
        "{2:<10}{3:>10}{won}\n",
        "{4:<10}{5:>10}{won}\n",
        "{6:<10}{7:>10}{won}\n",
        "{8:<10}{9:>10}{won}\n",
        "{10:<10}{11:>10}{won}\n",
        "{12:<10}{13:>10}{won}\n",
        "==============================\n",
        "\"\"\".format(menus[0], prices[0],\n",
        "           menus[1], prices[1],\n",
        "           menus[2], prices[2],\n",
        "           menus[3], prices[3],\n",
        "           menus[4], prices[4],\n",
        "           menus[5], prices[5],\n",
        "           menus[6], prices[6],won=\"원\"))"
      ],
      "execution_count": 6,
      "outputs": [
        {
          "output_type": "stream",
          "name": "stdout",
          "text": [
            "\n",
            "메뉴판\n",
            "==============================\n",
            "갈비탕            10000원\n",
            "떡볶이             7000원\n",
            "오뎅              5000원\n",
            "감자탕             8000원\n",
            "김치찌게            8000원\n",
            "제육볶음            7000원\n",
            "김치볶음밥           5000원\n",
            "==============================\n",
            "\n"
          ]
        }
      ]
    },
    {
      "cell_type": "code",
      "metadata": {
        "colab": {
          "base_uri": "https://localhost:8080/"
        },
        "id": "6QZqnr2p4JHi",
        "outputId": "3bc24c8b-70f7-46c0-fddf-7dc14a0c5087"
      },
      "source": [
        "equal_many = \"=\"*30\n",
        "# print(equal_many)\n",
        "won=\"원\"\n",
        "\n",
        "print(f\"\"\" \n",
        "메뉴판\n",
        "{equal_many}\n",
        "{menus[0]:<10}{prices[0]:>15}{won}\n",
        "{menus[1]:<10}{prices[1]:>15}{won}\n",
        "{menus[2]:<10}{prices[2]:>16}{won}\n",
        "{menus[3]:<10}{prices[3]:>15}{won}\n",
        "{menus[4]:<10}{prices[4]:>14}{won}\n",
        "{menus[5]:<10}{prices[5]:>14}{won}\n",
        "{menus[6]:<10}{prices[6]:>13}{won}\n",
        "{equal_many}\n",
        "\"\"\")"
      ],
      "execution_count": 9,
      "outputs": [
        {
          "output_type": "stream",
          "name": "stdout",
          "text": [
            " \n",
            "메뉴판\n",
            "==============================\n",
            "갈비탕                 10000원\n",
            "떡볶이                  7000원\n",
            "오뎅                    5000원\n",
            "감자탕                  8000원\n",
            "김치찌게                8000원\n",
            "제육볶음                7000원\n",
            "김치볶음밥              5000원\n",
            "==============================\n",
            "\n"
          ]
        }
      ]
    },
    {
      "cell_type": "code",
      "metadata": {
        "colab": {
          "base_uri": "https://localhost:8080/"
        },
        "id": "W4_eAedM5qDa",
        "outputId": "ee7c5d49-314a-497a-ce50-cda643822f5e"
      },
      "source": [
        "print(\"\"\"\n",
        "메뉴판\n",
        "==============================\n",
        "{0:<10}{1:>10}{won}\n",
        "{2:<10}{3:>10}{won}\n",
        "{4:<10}{5:>10}{won}\n",
        "{6:<10}{7:>10}{won}\n",
        "{8:<10}{9:>10}{won}\n",
        "{10:<10}{11:>10}{won}\n",
        "{12:<10}{13:>10}{won}\n",
        "==============================\n",
        "\"\"\".format(menus[0], prices[0],\n",
        "           menus[1], prices[1],\n",
        "           menus[2], prices[2],\n",
        "           menus[3], prices[3],\n",
        "           menus[4], prices[4],\n",
        "           menus[5], prices[5],\n",
        "           menus[6], prices[6],won=\"원\"))\n",
        "\n",
        "import random # random 패키지 가지고 오다. 코랩으로 (외부 패키지)\n",
        "\n",
        "choice = random.randrange(0, len(menus)) # 0~6, 7개\n",
        "print(f\"오늘의 메뉴 선택 : {menus[choice]}\")\n",
        "print(f\"메뉴의 가격 : {prices[choice]}\")"
      ],
      "execution_count": null,
      "outputs": [
        {
          "output_type": "stream",
          "text": [
            "\n",
            "메뉴판\n",
            "==============================\n",
            "갈비탕            10000원\n",
            "떡볶이             7000원\n",
            "오뎅              5000원\n",
            "감자탕             8000원\n",
            "김치찌게            8000원\n",
            "제육볶음            7000원\n",
            "김치볶음밥           5000원\n",
            "==============================\n",
            "\n",
            "오늘의 메뉴 선택 : 김치찌게\n",
            "메뉴의 가격 : 8000\n"
          ],
          "name": "stdout"
        }
      ]
    },
    {
      "cell_type": "code",
      "metadata": {
        "colab": {
          "base_uri": "https://localhost:8080/"
        },
        "id": "HKq7dQLI-ho3",
        "outputId": "1518b113-3a22-408e-e53e-26423d3f6156"
      },
      "source": [
        "len(menus)"
      ],
      "execution_count": null,
      "outputs": [
        {
          "output_type": "execute_result",
          "data": {
            "text/plain": [
              "7"
            ]
          },
          "metadata": {
            "tags": []
          },
          "execution_count": 37
        }
      ]
    },
    {
      "cell_type": "code",
      "metadata": {
        "colab": {
          "base_uri": "https://localhost:8080/"
        },
        "id": "1ZX894zS-iIJ",
        "outputId": "0218baf0-476a-4850-f581-41f33c21dac1"
      },
      "source": [
        "print(menus[0])"
      ],
      "execution_count": null,
      "outputs": [
        {
          "output_type": "stream",
          "text": [
            "갈비탕\n"
          ],
          "name": "stdout"
        }
      ]
    },
    {
      "cell_type": "code",
      "metadata": {
        "id": "MHhduvYp-3W1"
      },
      "source": [
        "!pip install 패키지명\n",
        "\n",
        "!pip install pandas\n",
        "\n",
        "! : 셀에서 pip 명령어를 실행하기 위한 편의 코드\n",
        "\n",
        "pip : python install package\n",
        "\n",
        "install : 설치\n",
        "\n",
        "pandas : 패키지명\n",
        "\n",
        "!pip install random\n",
        "\n",
        "import random\n",
        "\n",
        "random.randrange(0, len(menus))"
      ],
      "execution_count": null,
      "outputs": []
    },
    {
      "cell_type": "code",
      "metadata": {
        "colab": {
          "base_uri": "https://localhost:8080/"
        },
        "id": "8OF4uAckCGcR",
        "outputId": "580fb5e4-c4c3-42bf-b3d7-7c6b6543d274"
      },
      "source": [
        "import random\n",
        "\n",
        "num = random.randrange(1,10)\n",
        "\n",
        "print(num)"
      ],
      "execution_count": null,
      "outputs": [
        {
          "output_type": "stream",
          "text": [
            "9\n"
          ],
          "name": "stdout"
        }
      ]
    },
    {
      "cell_type": "code",
      "metadata": {
        "id": "mB7yv511COLB"
      },
      "source": [
        ""
      ],
      "execution_count": null,
      "outputs": []
    },
    {
      "cell_type": "markdown",
      "metadata": {
        "id": "jSRERnpgYqTh"
      },
      "source": [
        "### Page 22. randint(a,b)"
      ]
    },
    {
      "cell_type": "code",
      "metadata": {
        "colab": {
          "base_uri": "https://localhost:8080/"
        },
        "id": "GD85pw4CYxCr",
        "outputId": "0e45df7a-5527-48c6-fbbe-bc4401d66002"
      },
      "source": [
        "import random\n",
        "\n",
        "num = random.randint(1,10)\n",
        "print(num)"
      ],
      "execution_count": null,
      "outputs": [
        {
          "output_type": "stream",
          "text": [
            "5\n"
          ],
          "name": "stdout"
        }
      ]
    },
    {
      "cell_type": "code",
      "metadata": {
        "colab": {
          "base_uri": "https://localhost:8080/"
        },
        "id": "jWuHvsAfY8xg",
        "outputId": "6fdbc009-72ef-4de0-ae8f-d752038f5cd6"
      },
      "source": [
        "import random\n",
        "\n",
        "my_list = [1,2,3,4,5]\n",
        "\n",
        "random.shuffle(my_list)\n",
        "\n",
        "print(my_list)"
      ],
      "execution_count": null,
      "outputs": [
        {
          "output_type": "stream",
          "text": [
            "[2, 5, 1, 3, 4]\n"
          ],
          "name": "stdout"
        }
      ]
    },
    {
      "cell_type": "code",
      "metadata": {
        "colab": {
          "base_uri": "https://localhost:8080/"
        },
        "id": "OYKieLokZVbn",
        "outputId": "ed77b7ba-eb76-4a04-9977-95bd24addd7a"
      },
      "source": [
        "import random\n",
        "\n",
        "my_list = [1,2,3,4,5]\n",
        "\n",
        "result = random.choice(my_list)\n",
        "\n",
        "print(result)"
      ],
      "execution_count": null,
      "outputs": [
        {
          "output_type": "stream",
          "text": [
            "4\n"
          ],
          "name": "stdout"
        }
      ]
    },
    {
      "cell_type": "code",
      "metadata": {
        "id": "eTp7omWWaG1v"
      },
      "source": [
        ""
      ],
      "execution_count": null,
      "outputs": []
    },
    {
      "cell_type": "markdown",
      "metadata": {
        "id": "Cpw33nK0a6WA"
      },
      "source": [
        "### Page 27. txt파일 다루기"
      ]
    },
    {
      "cell_type": "code",
      "metadata": {
        "id": "tHX4r53_a_E5"
      },
      "source": [
        "f = open('test.txt','w')"
      ],
      "execution_count": null,
      "outputs": []
    },
    {
      "cell_type": "code",
      "metadata": {
        "id": "rsxctHe9dhpH"
      },
      "source": [
        "f = open('test.txt','w')\n",
        "\n",
        "f.write(\"신동욱\")\n",
        "\n",
        "f.close()"
      ],
      "execution_count": null,
      "outputs": []
    },
    {
      "cell_type": "code",
      "metadata": {
        "id": "Y3P7r9GPeuyo"
      },
      "source": [
        "f = open('test_append.txt','a')\n",
        "\n",
        "f.write(\"hello world!\")\n",
        "\n",
        "f.close()"
      ],
      "execution_count": null,
      "outputs": []
    },
    {
      "cell_type": "code",
      "metadata": {
        "colab": {
          "base_uri": "https://localhost:8080/"
        },
        "id": "6cxpgcgogCBY",
        "outputId": "44fba761-a8c2-487a-9de2-87704fbd6d8c"
      },
      "source": [
        "f = open('test.txt','r')\n",
        "\n",
        "lines = f.readlines()\n",
        "\n",
        "for line in lines:\n",
        "  print(line)\n",
        "\n",
        "f.close()"
      ],
      "execution_count": null,
      "outputs": [
        {
          "output_type": "stream",
          "text": [
            "신동욱\n",
            "\n",
            "강사님\n"
          ],
          "name": "stdout"
        }
      ]
    },
    {
      "cell_type": "code",
      "metadata": {
        "colab": {
          "base_uri": "https://localhost:8080/"
        },
        "id": "3b3fpyFohufv",
        "outputId": "e8704a26-914e-46bc-f8dd-625c3e156b86"
      },
      "source": [
        "f = open('test.txt','r')\n",
        "\n",
        "line = f.readline()\n",
        "\n",
        "print(line)\n",
        "\n",
        "f.close()"
      ],
      "execution_count": null,
      "outputs": [
        {
          "output_type": "stream",
          "text": [
            "신동욱\n",
            "\n"
          ],
          "name": "stdout"
        }
      ]
    },
    {
      "cell_type": "code",
      "metadata": {
        "colab": {
          "base_uri": "https://localhost:8080/"
        },
        "id": "5kKR5idDiPfA",
        "outputId": "b93441e2-371c-4b24-eb1c-3e7309f33b2d"
      },
      "source": [
        "f = open('test.txt','r')\n",
        "\n",
        "lines = f.readlines()\n",
        "\n",
        "print(lines[0])\n",
        "\n",
        "f.close()"
      ],
      "execution_count": null,
      "outputs": [
        {
          "output_type": "stream",
          "text": [
            "신동욱\n",
            "\n"
          ],
          "name": "stdout"
        }
      ]
    },
    {
      "cell_type": "code",
      "metadata": {
        "id": "d1Ag7SFiib4v"
      },
      "source": [
        ""
      ],
      "execution_count": null,
      "outputs": []
    },
    {
      "cell_type": "markdown",
      "metadata": {
        "id": "3HsLHt8mnPEn"
      },
      "source": [
        "### Page 42 csv 파일 읽기1"
      ]
    },
    {
      "cell_type": "code",
      "metadata": {
        "colab": {
          "base_uri": "https://localhost:8080/"
        },
        "id": "sBfg0OvAnSi5",
        "outputId": "525aa2c2-07ff-4ecd-cf2f-bea8c607e710"
      },
      "source": [
        "import csv\n",
        "\n",
        "f = open('csv_sample.csv','r')\n",
        "rdr = csv.reader(f)\n",
        "\n",
        "# print(rdr[0]) # error\n",
        "\n",
        "for line in rdr:\n",
        "  print(line)\n"
      ],
      "execution_count": null,
      "outputs": [
        {
          "output_type": "stream",
          "text": [
            "['1', ' 신동욱', ' 40']\n",
            "['2', ' 한화', ' 70']\n"
          ],
          "name": "stdout"
        }
      ]
    },
    {
      "cell_type": "code",
      "metadata": {
        "colab": {
          "base_uri": "https://localhost:8080/"
        },
        "id": "cjZlGEwepjtt",
        "outputId": "0bf5207e-9a66-4205-aec8-86025c6a3eb2"
      },
      "source": [
        "import csv\n",
        "\n",
        "f = open('csv_sample.csv','r')\n",
        "rdr = csv.reader(f)\n",
        "\n",
        "for line in rdr:\n",
        "  print(line[1])\n"
      ],
      "execution_count": null,
      "outputs": [
        {
          "output_type": "stream",
          "text": [
            " 신동욱\n",
            " 한화\n"
          ],
          "name": "stdout"
        }
      ]
    },
    {
      "cell_type": "markdown",
      "metadata": {
        "id": "A3ENL488quD0"
      },
      "source": [
        "### Page 44 csv 파일 쓰기"
      ]
    },
    {
      "cell_type": "code",
      "metadata": {
        "id": "yGxe-oW-qv_5"
      },
      "source": [
        "import csv\n",
        "\n",
        "f = open('write.csv','w')\n",
        "\n",
        "wr = csv.writer(f)\n",
        "\n",
        "wr.writerow([1,'한한화','서울'])\n",
        "\n",
        "wr.writerow([2,'신동욱','경기'])\n",
        "\n",
        "f.close()\n"
      ],
      "execution_count": null,
      "outputs": []
    },
    {
      "cell_type": "code",
      "metadata": {
        "id": "Sjrj7bp5rdfR"
      },
      "source": [
        "f = open('write.csv','a', newline='')\n",
        "\n",
        "wr = csv.writer(f)\n",
        "\n",
        "wr.writerow([3,'한생명','서울'])\n",
        "\n",
        "f.close()\n"
      ],
      "execution_count": null,
      "outputs": []
    },
    {
      "cell_type": "code",
      "metadata": {
        "colab": {
          "base_uri": "https://localhost:8080/"
        },
        "id": "wlfoVl38sMDY",
        "outputId": "868d2e4b-c7d8-494e-b91b-0608a4c94ae6"
      },
      "source": [
        "f = open('write.csv','r')\n",
        "\n",
        "rdr = csv.reader(f)\n",
        "\n",
        "for line in rdr:\n",
        "  print(line)"
      ],
      "execution_count": null,
      "outputs": [
        {
          "output_type": "stream",
          "text": [
            "['1', '한한화', '서울']\n",
            "['2', '신동욱', '경기']\n",
            "['3', '한생명', '서울']\n"
          ],
          "name": "stdout"
        }
      ]
    },
    {
      "cell_type": "markdown",
      "metadata": {
        "id": "xQ9xC_1LtyG8"
      },
      "source": [
        "### Page 48. 엑셀 파일 다루기"
      ]
    },
    {
      "cell_type": "code",
      "metadata": {
        "id": "aIrKwa8RskUg"
      },
      "source": [
        "import openpyxl\n",
        "\n",
        "wb = openpyxl.Workbook()\n",
        "\n",
        "wb.save('test.xlsx')"
      ],
      "execution_count": null,
      "outputs": []
    },
    {
      "cell_type": "markdown",
      "metadata": {
        "id": "Vz7emaQFuqox"
      },
      "source": [
        "### Page 49. 엑셀 파일 다루기 - 시트 조작"
      ]
    },
    {
      "cell_type": "code",
      "metadata": {
        "id": "o_mgdWoouJL3"
      },
      "source": [
        "import openpyxl\n",
        "\n",
        "wb = openpyxl.Workbook()\n",
        "\n",
        "sheet = wb.active"
      ],
      "execution_count": null,
      "outputs": []
    },
    {
      "cell_type": "markdown",
      "metadata": {
        "id": "PHQ3_ludviSt"
      },
      "source": [
        "### Page 50. 새 시트 만들기"
      ]
    },
    {
      "cell_type": "code",
      "metadata": {
        "id": "90s5U9UwvkXR"
      },
      "source": [
        "import openpyxl\n",
        "\n",
        "wb = openpyxl.Workbook()\n",
        "\n",
        "sheet2 = wb.create_sheet('두번째 시트')\n",
        "\n",
        "wb.save('test.xlsx')"
      ],
      "execution_count": null,
      "outputs": []
    },
    {
      "cell_type": "markdown",
      "metadata": {
        "id": "qylNzTszz2Cs"
      },
      "source": [
        "### Page 51. 시트 불러오기"
      ]
    },
    {
      "cell_type": "code",
      "metadata": {
        "id": "9ddqf65jv4nH"
      },
      "source": [
        "sheet2 = wb['두번째 시트']\n",
        "\n",
        "sheet2.title = '수집 데이터'\n",
        "\n",
        "wb.save('test.xlsx')"
      ],
      "execution_count": null,
      "outputs": []
    },
    {
      "cell_type": "markdown",
      "metadata": {
        "id": "WTzAvF_h1mY1"
      },
      "source": [
        "### Page 53. 셀 조작"
      ]
    },
    {
      "cell_type": "code",
      "metadata": {
        "id": "Seib3Uo_0kDu"
      },
      "source": [
        "import openpyxl\n",
        "\n",
        "wb = openpyxl.Workbook()\n",
        "\n",
        "sheet = wb.active\n",
        "\n",
        "sheet['B2'] = 'b2'\n",
        "\n",
        "sheet.cell(row=3, column=3).value = '3, 3'\n",
        "\n",
        "sheet.append([1,2,3,4,5])\n",
        "\n",
        "wb.save('test2.xlsx')"
      ],
      "execution_count": null,
      "outputs": []
    },
    {
      "cell_type": "code",
      "metadata": {
        "id": "xl0JrgOc2Gpm"
      },
      "source": [
        "import openpyxl\n",
        "\n",
        "wb = openpyxl.Workbook()\n",
        "\n",
        "sheet = wb.active\n",
        "\n",
        "sheet['A1'] = 'hello world!'\n",
        "sheet['B1'] = 'hello world!'\n",
        "sheet['C1'] = 'hello world!'\n",
        "sheet['D1'] = 'hello world!'\n",
        "sheet['E1'] = 'hello world!'\n",
        "\n",
        "wb.save('test3.xlsx')"
      ],
      "execution_count": null,
      "outputs": []
    },
    {
      "cell_type": "code",
      "metadata": {
        "id": "98W_StW14MSu"
      },
      "source": [
        "import openpyxl\n",
        "\n",
        "wb = openpyxl.Workbook()\n",
        "sheet = wb.active\n",
        "\n",
        "for a in range(0, 5):\n",
        "  sheet.cell(row=1, column=a+1).value= 'hello world!'\n",
        "\n",
        "wb.save('test4.xlsx')"
      ],
      "execution_count": null,
      "outputs": []
    },
    {
      "cell_type": "code",
      "metadata": {
        "id": "ytkZNSUq5eCn"
      },
      "source": [
        "import openpyxl\n",
        "\n",
        "wb = openpyxl.Workbook()\n",
        "sheet = wb.active\n",
        "\n",
        "for a in range(0, 5):\n",
        "  sheet.cell(row=a+1, column=1).value= 'hello world!'\n",
        "\n",
        "wb.save('test4_1.xlsx')"
      ],
      "execution_count": null,
      "outputs": []
    },
    {
      "cell_type": "markdown",
      "metadata": {
        "id": "UWWKkgCn75Iy"
      },
      "source": [
        "### Page 60. 전체적인 사용 예시"
      ]
    },
    {
      "cell_type": "code",
      "metadata": {
        "id": "yzQifNYl5uhu"
      },
      "source": [
        "import openpyxl\n",
        "\n",
        "wb = openpyxl.Workbook()\n",
        "sheet1 = wb['Sheet1']\n",
        "sheet1.title = '수집 데이터'\n",
        "\n",
        "sheet2 = wb.create_sheet('정리 결과')\n",
        "sheet2.cell(row=1, column=1).value = '두번째 시트'\n",
        "\n",
        "sheet1.append(['아이디','이름', '나이', '사는곳'])\n",
        "sheet1.append(['sdw1904','신동욱', 40, '경기도'])\n",
        "\n",
        "wb.save('test5.xlsx')"
      ],
      "execution_count": null,
      "outputs": []
    },
    {
      "cell_type": "code",
      "metadata": {
        "id": "nnEqt0ro8lcn"
      },
      "source": [
        "import openpyxl\n",
        "\n",
        "wb = openpyxl.load_workbook('test2.xlsx')\n",
        "\n",
        "sheet1 = wb.active\n",
        "\n",
        "sheet1.title = \"이름 변경\"\n",
        "sheet1.append(range(10))\n",
        "\n",
        "wb.save('test2.xlsx')"
      ],
      "execution_count": null,
      "outputs": []
    },
    {
      "cell_type": "markdown",
      "metadata": {
        "id": "UwcSgz5FHq7e"
      },
      "source": [
        "### 구글 코랩 - 구글 드라이브 연동"
      ]
    },
    {
      "cell_type": "code",
      "metadata": {
        "colab": {
          "base_uri": "https://localhost:8080/"
        },
        "id": "10uLPHcZ-woP",
        "outputId": "16210372-4c5f-4809-acda-d6a02c59c116"
      },
      "source": [
        "from google.colab import drive\n",
        "drive.mount('/content/drive')"
      ],
      "execution_count": null,
      "outputs": [
        {
          "output_type": "stream",
          "text": [
            "Mounted at /content/drive\n"
          ],
          "name": "stdout"
        }
      ]
    },
    {
      "cell_type": "code",
      "metadata": {
        "colab": {
          "base_uri": "https://localhost:8080/"
        },
        "id": "8iinHWH7Ie_s",
        "outputId": "e275250e-1d56-4939-8337-5ca52da8af24"
      },
      "source": [
        "import pandas as pd\n",
        "\n",
        "# read_csv() 함수로 df 생성\n",
        "df = pd.read_csv('/content/drive/MyDrive/0_한화/part3/auto-mpg.csv',header=None)\n",
        "print(df)"
      ],
      "execution_count": null,
      "outputs": [
        {
          "output_type": "stream",
          "text": [
            "        0  1      2      3       4     5   6  7                          8\n",
            "0    18.0  8  307.0  130.0  3504.0  12.0  70  1  chevrolet chevelle malibu\n",
            "1    15.0  8  350.0  165.0  3693.0  11.5  70  1          buick skylark 320\n",
            "2    18.0  8  318.0  150.0  3436.0  11.0  70  1         plymouth satellite\n",
            "3    16.0  8  304.0  150.0  3433.0  12.0  70  1              amc rebel sst\n",
            "4    17.0  8  302.0  140.0  3449.0  10.5  70  1                ford torino\n",
            "..    ... ..    ...    ...     ...   ...  .. ..                        ...\n",
            "393  27.0  4  140.0  86.00  2790.0  15.6  82  1            ford mustang gl\n",
            "394  44.0  4   97.0  52.00  2130.0  24.6  82  2                  vw pickup\n",
            "395  32.0  4  135.0  84.00  2295.0  11.6  82  1              dodge rampage\n",
            "396  28.0  4  120.0  79.00  2625.0  18.6  82  1                ford ranger\n",
            "397  31.0  4  119.0  82.00  2720.0  19.4  82  1                 chevy s-10\n",
            "\n",
            "[398 rows x 9 columns]\n"
          ],
          "name": "stdout"
        }
      ]
    },
    {
      "cell_type": "code",
      "metadata": {
        "colab": {
          "base_uri": "https://localhost:8080/"
        },
        "id": "dUKLILYhJIPG",
        "outputId": "07bc6c71-3128-4077-cd8d-e73bcfa15447"
      },
      "source": [
        "import pandas as pd\n",
        "\n",
        "# read_csv() 함수로 df 생성\n",
        "df = pd.read_excel('/content/drive/MyDrive/0_한화/part4/남북한발전전력량.xlsx')\n",
        "print(df)"
      ],
      "execution_count": null,
      "outputs": [
        {
          "output_type": "stream",
          "text": [
            "  전력량 (억㎾h) 발전 전력별  1990  1991  1992  1993  ...  2011  2012  2013  2014  2015  2016\n",
            "0        남한     합계  1077  1186  1310  1444  ...  4969  5096  5171  5220  5281  5404\n",
            "1       NaN     수력    64    51    49    60  ...    78    77    84    78    58    66\n",
            "2       NaN     화력   484   573   696   803  ...  3343  3430  3581  3427  3402  3523\n",
            "3       NaN    원자력   529   563   565   581  ...  1547  1503  1388  1564  1648  1620\n",
            "4       NaN    신재생     -     -     -     -  ...     -    86   118   151   173   195\n",
            "5        북한     합계   277   263   247   221  ...   211   215   221   216   190   239\n",
            "6       NaN     수력   156   150   142   133  ...   132   135   139   130   100   128\n",
            "7       NaN     화력   121   113   105    88  ...    79    80    82    86    90   111\n",
            "8       NaN    원자력     -     -     -     -  ...     -     -     -     -     -     -\n",
            "\n",
            "[9 rows x 29 columns]\n"
          ],
          "name": "stdout"
        }
      ]
    },
    {
      "cell_type": "code",
      "metadata": {
        "id": "o1ZRfZsuR76R"
      },
      "source": [
        ""
      ],
      "execution_count": null,
      "outputs": []
    },
    {
      "cell_type": "code",
      "metadata": {
        "id": "GtZbt71YKEHW"
      },
      "source": [
        ""
      ],
      "execution_count": null,
      "outputs": []
    }
  ]
}