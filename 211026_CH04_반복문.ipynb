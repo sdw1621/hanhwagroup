{
  "nbformat": 4,
  "nbformat_minor": 0,
  "metadata": {
    "colab": {
      "name": "211026_CH04_반복문.ipynb",
      "provenance": [],
      "collapsed_sections": [
        "vJ-mz2F8O48X"
      ],
      "authorship_tag": "ABX9TyP2rE58VBaWlVrhIjQ/vSFQ",
      "include_colab_link": true
    },
    "kernelspec": {
      "name": "python3",
      "display_name": "Python 3"
    },
    "language_info": {
      "name": "python"
    }
  },
  "cells": [
    {
      "cell_type": "markdown",
      "metadata": {
        "id": "view-in-github",
        "colab_type": "text"
      },
      "source": [
        "<a href=\"https://colab.research.google.com/github/sdw1621/hanhwagroup/blob/main/211026_CH04_%EB%B0%98%EB%B3%B5%EB%AC%B8.ipynb\" target=\"_parent\"><img src=\"https://colab.research.google.com/assets/colab-badge.svg\" alt=\"Open In Colab\"/></a>"
      ]
    },
    {
      "cell_type": "markdown",
      "metadata": {
        "id": "5MmrUfWkLjZ8"
      },
      "source": [
        "###**예제 4-1. for 구문으로 반복 출력하기**"
      ]
    },
    {
      "cell_type": "code",
      "metadata": {
        "colab": {
          "base_uri": "https://localhost:8080/"
        },
        "id": "6BfGTz3mL12q",
        "outputId": "ca88526b-d737-453b-d590-311017c91f81"
      },
      "source": [
        "for x in range(0, 5): # range(0, 5)\n",
        "  print(\"안녕하세요\")"
      ],
      "execution_count": 1,
      "outputs": [
        {
          "output_type": "stream",
          "name": "stdout",
          "text": [
            "안녕하세요\n",
            "안녕하세요\n",
            "안녕하세요\n",
            "안녕하세요\n",
            "안녕하세요\n"
          ]
        }
      ]
    },
    {
      "cell_type": "code",
      "metadata": {
        "colab": {
          "base_uri": "https://localhost:8080/"
        },
        "id": "sDcnQ3sR5gpl",
        "outputId": "7d585757-4092-4271-f7dd-166749520ce1"
      },
      "source": [
        "print(range(5))"
      ],
      "execution_count": 2,
      "outputs": [
        {
          "output_type": "stream",
          "name": "stdout",
          "text": [
            "range(0, 5)\n"
          ]
        }
      ]
    },
    {
      "cell_type": "code",
      "metadata": {
        "colab": {
          "base_uri": "https://localhost:8080/"
        },
        "id": "-WY8xBw45mid",
        "outputId": "c553a07d-e4b2-449b-84a2-091e0d5b288c"
      },
      "source": [
        "print(list(range(5)))"
      ],
      "execution_count": 3,
      "outputs": [
        {
          "output_type": "stream",
          "name": "stdout",
          "text": [
            "[0, 1, 2, 3, 4]\n"
          ]
        }
      ]
    },
    {
      "cell_type": "code",
      "metadata": {
        "colab": {
          "base_uri": "https://localhost:8080/"
        },
        "id": "2FZbdCgz5rVY",
        "outputId": "5c067d68-13d4-49cf-93ec-81f07a0a8365"
      },
      "source": [
        "for x in [0, 1, 2, 3, 4]:\n",
        "  print(x)\n",
        "  print(\"안녕하세요\")"
      ],
      "execution_count": 4,
      "outputs": [
        {
          "output_type": "stream",
          "name": "stdout",
          "text": [
            "0\n",
            "안녕하세요\n",
            "1\n",
            "안녕하세요\n",
            "2\n",
            "안녕하세요\n",
            "3\n",
            "안녕하세요\n",
            "4\n",
            "안녕하세요\n"
          ]
        }
      ]
    },
    {
      "cell_type": "code",
      "metadata": {
        "colab": {
          "base_uri": "https://localhost:8080/"
        },
        "id": "Zaam5JPw59xP",
        "outputId": "8fc0d067-88f2-49e6-8019-c053944d42ff"
      },
      "source": [
        "for x in range(0,5):\n",
        "  print(x)\n",
        "  print(\"안녕하세요\")"
      ],
      "execution_count": 5,
      "outputs": [
        {
          "output_type": "stream",
          "name": "stdout",
          "text": [
            "0\n",
            "안녕하세요\n",
            "1\n",
            "안녕하세요\n",
            "2\n",
            "안녕하세요\n",
            "3\n",
            "안녕하세요\n",
            "4\n",
            "안녕하세요\n"
          ]
        }
      ]
    },
    {
      "cell_type": "code",
      "metadata": {
        "colab": {
          "base_uri": "https://localhost:8080/"
        },
        "id": "4M2xcXFL6OlY",
        "outputId": "408dfa59-8c8f-4fbc-999b-348f80c239f8"
      },
      "source": [
        "for x in list(range(5)):\n",
        "  print(x)\n",
        "  print(\"안녕하세요\")"
      ],
      "execution_count": 7,
      "outputs": [
        {
          "output_type": "stream",
          "name": "stdout",
          "text": [
            "0\n",
            "안녕하세요\n",
            "1\n",
            "안녕하세요\n",
            "2\n",
            "안녕하세요\n",
            "3\n",
            "안녕하세요\n",
            "4\n",
            "안녕하세요\n"
          ]
        }
      ]
    },
    {
      "cell_type": "markdown",
      "metadata": {
        "id": "Mm21Si0364JY"
      },
      "source": [
        "###**예제 4-2. while 구문으로 반복 출력하기**"
      ]
    },
    {
      "cell_type": "code",
      "metadata": {
        "colab": {
          "base_uri": "https://localhost:8080/"
        },
        "id": "cL5vHImr6WOx",
        "outputId": "15b41e3d-7163-4c3b-ced7-4ba0fc1bcb67"
      },
      "source": [
        "x = 0\n",
        "while x < 5: # 5 < 5 False while구문 종료\n",
        "  print(x)\n",
        "  print(\"안녕하세요\")\n",
        "  x = x + 1"
      ],
      "execution_count": 9,
      "outputs": [
        {
          "output_type": "stream",
          "name": "stdout",
          "text": [
            "0\n",
            "안녕하세요\n",
            "1\n",
            "안녕하세요\n",
            "2\n",
            "안녕하세요\n",
            "3\n",
            "안녕하세요\n",
            "4\n",
            "안녕하세요\n"
          ]
        }
      ]
    },
    {
      "cell_type": "markdown",
      "metadata": {
        "id": "R48aeCYw7hqa"
      },
      "source": [
        "###**예제 4-3. 1-10의 합계(for문)**"
      ]
    },
    {
      "cell_type": "code",
      "metadata": {
        "colab": {
          "base_uri": "https://localhost:8080/"
        },
        "id": "6XkSFA6R7UpS",
        "outputId": "690bba95-2178-40a1-962d-a6861d5e7bb2"
      },
      "source": [
        "sum = 0\n",
        "\n",
        "# for 값1개(변수) in 값 여러개(리스트):\n",
        "for i in range(1,11):\n",
        "  sum = sum + i\n",
        "  print(\"i의 값 : %d, 합계 : %d\" %(i, sum))"
      ],
      "execution_count": 12,
      "outputs": [
        {
          "output_type": "stream",
          "name": "stdout",
          "text": [
            "i의 값 : 1, 합계 : 1\n",
            "i의 값 : 2, 합계 : 3\n",
            "i의 값 : 3, 합계 : 6\n",
            "i의 값 : 4, 합계 : 10\n",
            "i의 값 : 5, 합계 : 15\n",
            "i의 값 : 6, 합계 : 21\n",
            "i의 값 : 7, 합계 : 28\n",
            "i의 값 : 8, 합계 : 36\n",
            "i의 값 : 9, 합계 : 45\n",
            "i의 값 : 10, 합계 : 55\n"
          ]
        }
      ]
    },
    {
      "cell_type": "markdown",
      "metadata": {
        "id": "dOjvLvlu8iw1"
      },
      "source": [
        "###**예제 4-4. range 함수 활용**"
      ]
    },
    {
      "cell_type": "code",
      "metadata": {
        "colab": {
          "base_uri": "https://localhost:8080/"
        },
        "id": "bdDrqrmk8Igy",
        "outputId": "65419297-4cb6-493f-d03a-0ed811279426"
      },
      "source": [
        "for i in range(1, 10, 2): # range(start, end-1, step) # 1,3,5,7,9\n",
        "  print(i)"
      ],
      "execution_count": 13,
      "outputs": [
        {
          "output_type": "stream",
          "name": "stdout",
          "text": [
            "1\n",
            "3\n",
            "5\n",
            "7\n",
            "9\n"
          ]
        }
      ]
    },
    {
      "cell_type": "code",
      "metadata": {
        "colab": {
          "base_uri": "https://localhost:8080/"
        },
        "id": "fCamWl3587Gt",
        "outputId": "7a798eb4-1676-426d-8e67-81349b83aeec"
      },
      "source": [
        "for i in range(20, 0, -2): # 20,18,16,..,2\n",
        "  print(i, end=' ') # \\n"
      ],
      "execution_count": 16,
      "outputs": [
        {
          "output_type": "stream",
          "name": "stdout",
          "text": [
            "20 18 16 14 12 10 8 6 4 2 "
          ]
        }
      ]
    },
    {
      "cell_type": "code",
      "metadata": {
        "colab": {
          "base_uri": "https://localhost:8080/"
        },
        "id": "g4O9PYg-9LKU",
        "outputId": "319a88bc-3b9d-4a52-8835-2422e8202129"
      },
      "source": [
        "branch = input(\"계열사를 입력하세요 : \")\n",
        "bangsan = ['우행언','김태완','김길복']\n",
        "\n",
        "print(f\"계열사 {branch}에 소속된 직원 :\", end = ' ')\n",
        "\n",
        "for b in bangsan:\n",
        "    print(b, end = ', ')"
      ],
      "execution_count": 49,
      "outputs": [
        {
          "output_type": "stream",
          "name": "stdout",
          "text": [
            "계열사를 입력하세요 : 방산\n",
            "계열사 방산에 소속된 직원 : 우행언, 김태완, 김길복, "
          ]
        }
      ]
    },
    {
      "cell_type": "code",
      "metadata": {
        "colab": {
          "base_uri": "https://localhost:8080/"
        },
        "id": "Y63VKbEE9rBx",
        "outputId": "12352e7f-11ba-4967-9f05-ce36b6d94f76"
      },
      "source": [
        "branch = input(\"계열사를 입력하세요 : \")\n",
        "bangsan = ['우행언','김태완','김길복']\n",
        "\n",
        "print(f\"계열사 {branch}에 소속된 직원 :\", end = ' ')\n",
        "\n",
        "b_result = []\n",
        "\n",
        "for b in bangsan:\n",
        "    b_result.append(b)\n",
        "\n",
        "print(b_result)"
      ],
      "execution_count": 50,
      "outputs": [
        {
          "output_type": "stream",
          "name": "stdout",
          "text": [
            "계열사를 입력하세요 : 방산\n",
            "계열사 방산에 소속된 직원 : ['우행언', '김태완', '김길복']\n"
          ]
        }
      ]
    },
    {
      "cell_type": "markdown",
      "metadata": {
        "id": "JC7jT4iMEubZ"
      },
      "source": [
        "###**예제 4-6. 문자열 세로 출력**"
      ]
    },
    {
      "cell_type": "code",
      "metadata": {
        "colab": {
          "base_uri": "https://localhost:8080/"
        },
        "id": "kQEyieNUBYX7",
        "outputId": "65032954-e5f5-43b2-fd5e-267780b9dc72"
      },
      "source": [
        "word = input('영어 문장을 입력하세요 :')\n",
        "\n",
        "for x in word:\n",
        "  print(x)"
      ],
      "execution_count": 51,
      "outputs": [
        {
          "output_type": "stream",
          "name": "stdout",
          "text": [
            "영어 문장을 입력하세요 :I see!\n",
            "I\n",
            " \n",
            "s\n",
            "e\n",
            "e\n",
            "!\n"
          ]
        }
      ]
    },
    {
      "cell_type": "markdown",
      "metadata": {
        "id": "WPxvoF9qFWjJ"
      },
      "source": [
        "###**예제 4-7. 섭씨 온도를 화씨로 환산**"
      ]
    },
    {
      "cell_type": "code",
      "metadata": {
        "colab": {
          "base_uri": "https://localhost:8080/"
        },
        "id": "C3Tc16v1B8Vt",
        "outputId": "75d85c12-e081-42a2-9754-2f9497115d06"
      },
      "source": [
        "print('-'*20)\n",
        "print('    섭씨    화씨')\n",
        "print('-'*20)\n",
        "\n",
        "for c in range(-20, 41, 5):\n",
        "  # print(\"{:>5} 도\".format(c))\n",
        "  f = c * 9.0 / 5.0 + 32.0\n",
        "  print(\"{:>5} 도 {:>5.1f} 도\".format(c, f))\n",
        "\n",
        "print('-'*20)"
      ],
      "execution_count": 81,
      "outputs": [
        {
          "output_type": "stream",
          "name": "stdout",
          "text": [
            "--------------------\n",
            "    섭씨    화씨\n",
            "--------------------\n",
            "  -20 도  -4.0 도\n",
            "  -15 도   5.0 도\n",
            "  -10 도  14.0 도\n",
            "   -5 도  23.0 도\n",
            "    0 도  32.0 도\n",
            "    5 도  41.0 도\n",
            "   10 도  50.0 도\n",
            "   15 도  59.0 도\n",
            "   20 도  68.0 도\n",
            "   25 도  77.0 도\n",
            "   30 도  86.0 도\n",
            "   35 도  95.0 도\n",
            "   40 도 104.0 도\n",
            "--------------------\n"
          ]
        }
      ]
    },
    {
      "cell_type": "code",
      "metadata": {
        "id": "XnLoIwBhB8Yf"
      },
      "source": [
        "# 이찬구 사원님 질문\n",
        "# 마이너스 부호만 왼쪽으로 떼어서 정렬한다거나 하려면 따로 분리해서 코딩해야하나요?\n",
        "\n",
        "# https://wikidocs.net/20403\n",
        "# Ex09_print9.py\n",
        "\n",
        "print('[{0:=5d}] [{1:=5d}]'.format(1,-2))"
      ],
      "execution_count": null,
      "outputs": []
    },
    {
      "cell_type": "markdown",
      "metadata": {
        "id": "nkSJZwNrI8r0"
      },
      "source": [
        "###**PDF 152. Q4-2. 코딩 연습 : 전화번호에서 하이픈 삭제하기**"
      ]
    },
    {
      "cell_type": "code",
      "metadata": {
        "colab": {
          "base_uri": "https://localhost:8080/"
        },
        "id": "DOuZNQg4B8bN",
        "outputId": "834d4daf-4694-4c10-b0ca-7daa7d478e1a"
      },
      "source": [
        "number = input(\"하이픈(-)를 포함한 휴대폰 번호를 입력하세요: \")\n",
        "\n",
        "for x in number:\n",
        "  print(x)"
      ],
      "execution_count": 82,
      "outputs": [
        {
          "output_type": "stream",
          "name": "stdout",
          "text": [
            "하이픈(-)를 포함한 휴대폰 번호를 입력하세요: 010-1234-5678\n",
            "0\n",
            "1\n",
            "0\n",
            "-\n",
            "1\n",
            "2\n",
            "3\n",
            "4\n",
            "-\n",
            "5\n",
            "6\n",
            "7\n",
            "8\n"
          ]
        }
      ]
    },
    {
      "cell_type": "code",
      "metadata": {
        "colab": {
          "base_uri": "https://localhost:8080/"
        },
        "id": "_TjWjBwOB8eF",
        "outputId": "531be76b-0c51-4c38-c15b-7945b6cf3d22"
      },
      "source": [
        "for x in number:\n",
        "  # print(x)\n",
        "  if x == '-':\n",
        "    # print(\"-냐?\")\n",
        "    print('%s' %x)\n",
        "    # print('%s' %x, ____ = '')"
      ],
      "execution_count": 84,
      "outputs": [
        {
          "output_type": "stream",
          "name": "stdout",
          "text": [
            "-\n",
            "-\n"
          ]
        }
      ]
    },
    {
      "cell_type": "code",
      "metadata": {
        "colab": {
          "base_uri": "https://localhost:8080/"
        },
        "id": "8jo4uQYvJ6YX",
        "outputId": "7e5ed6cd-9e2a-40c7-80fc-b5dae4c9c532"
      },
      "source": [
        "for x in number:\n",
        "  # print(x)\n",
        "  if x != '-':\n",
        "    # print('%s' %x)\n",
        "    print('%s' %x, end = '')"
      ],
      "execution_count": 87,
      "outputs": [
        {
          "output_type": "stream",
          "name": "stdout",
          "text": [
            "01012345678"
          ]
        }
      ]
    },
    {
      "cell_type": "markdown",
      "metadata": {
        "id": "JuA0O5fdK28g"
      },
      "source": [
        "###**PDF 153. Q4-3. 코딩 연습 : 전화번호에서 하이픈(-) 추가하기**"
      ]
    },
    {
      "cell_type": "code",
      "metadata": {
        "colab": {
          "base_uri": "https://localhost:8080/"
        },
        "id": "i5A8dtJWKLZi",
        "outputId": "e2b07e5c-15f8-4f0a-d799-87694d348496"
      },
      "source": [
        "phone = input(\"하이픈(-)을 뺀 11자리의 휴대폰 번호를 입력하세요: \")\n",
        "\n",
        "print(phone[0])\n",
        "print(phone[1])\n",
        "print(phone[2])"
      ],
      "execution_count": 88,
      "outputs": [
        {
          "output_type": "stream",
          "name": "stdout",
          "text": [
            "하이픈(-)을 뺀 11자리의 휴대폰 번호를 입력하세요: 01033334444\n",
            "0\n",
            "1\n",
            "0\n"
          ]
        }
      ]
    },
    {
      "cell_type": "code",
      "metadata": {
        "colab": {
          "base_uri": "https://localhost:8080/"
        },
        "id": "BNBNJswmMWDZ",
        "outputId": "853b5f7c-cf2e-41dc-bb0f-15d0fc554ab9"
      },
      "source": [
        "print(phone[2])\n",
        "print(phone[6])"
      ],
      "execution_count": 89,
      "outputs": [
        {
          "output_type": "stream",
          "name": "stdout",
          "text": [
            "0\n",
            "3\n"
          ]
        }
      ]
    },
    {
      "cell_type": "code",
      "metadata": {
        "colab": {
          "base_uri": "https://localhost:8080/"
        },
        "id": "T_Ua_80XMcBW",
        "outputId": "efdcd1f5-a0b6-47fd-e824-d2c7c61b5756"
      },
      "source": [
        "print(phone[2] + '-')\n",
        "print(phone[6] + '-')"
      ],
      "execution_count": 90,
      "outputs": [
        {
          "output_type": "stream",
          "name": "stdout",
          "text": [
            "0-\n",
            "3-\n"
          ]
        }
      ]
    },
    {
      "cell_type": "code",
      "metadata": {
        "colab": {
          "base_uri": "https://localhost:8080/"
        },
        "id": "E0RG-lqFMk07",
        "outputId": "2083760e-cab7-494f-8b76-90698056a669"
      },
      "source": [
        "print('01'+phone[2] + '-')\n",
        "print('010-333'+ phone[6] + '-')"
      ],
      "execution_count": 91,
      "outputs": [
        {
          "output_type": "stream",
          "name": "stdout",
          "text": [
            "010-\n",
            "010-3333-\n"
          ]
        }
      ]
    },
    {
      "cell_type": "code",
      "metadata": {
        "colab": {
          "base_uri": "https://localhost:8080/"
        },
        "id": "pQwqR9-ZMwRd",
        "outputId": "f4cf0625-fa61-4bdf-9b1d-7555c4a08c47"
      },
      "source": [
        "for i in range(0, len(phone)): # 3-3-4 : 12자리, 3-4-4 : 13자리\n",
        "  print(i) # 리스트 방 번호"
      ],
      "execution_count": 92,
      "outputs": [
        {
          "output_type": "stream",
          "name": "stdout",
          "text": [
            "0\n",
            "1\n",
            "2\n",
            "3\n",
            "4\n",
            "5\n",
            "6\n",
            "7\n",
            "8\n",
            "9\n",
            "10\n"
          ]
        }
      ]
    },
    {
      "cell_type": "code",
      "metadata": {
        "colab": {
          "base_uri": "https://localhost:8080/"
        },
        "id": "L2r66FjYNNzS",
        "outputId": "ed28773b-e933-4707-b822-c0fbee659b7d"
      },
      "source": [
        "number = ''\n",
        "\n",
        "for i in range(0, len(phone)): # 3-3-4 : 12자리, 3-4-4 : 13자리\n",
        "  # print(i) # 리스트 방 번호\n",
        "  if i == 2:\n",
        "    number = number + (phone[2]+'-')\n",
        "  else:\n",
        "    number = number + (phone[i])\n",
        "    \n",
        "print(number)"
      ],
      "execution_count": 94,
      "outputs": [
        {
          "output_type": "stream",
          "name": "stdout",
          "text": [
            "010-33334444\n"
          ]
        }
      ]
    },
    {
      "cell_type": "code",
      "metadata": {
        "colab": {
          "base_uri": "https://localhost:8080/"
        },
        "id": "s0FVWtY0NtK2",
        "outputId": "2b9c9d1f-e8de-48b8-b160-bfc3c0b6bc11"
      },
      "source": [
        "number = ''\n",
        "\n",
        "for i in range(0, len(phone)): # 3-3-4 : 12자리, 3-4-4 : 13자리\n",
        "  # print(i) # 리스트 방 번호\n",
        "  if i == 2:\n",
        "    number = number + (phone[2]+'-')\n",
        "  elif i == 6:\n",
        "    number = number + (phone[6]+'-')\n",
        "  else:\n",
        "    number = number + (phone[i])\n",
        "    \n",
        "print(number)"
      ],
      "execution_count": 95,
      "outputs": [
        {
          "output_type": "stream",
          "name": "stdout",
          "text": [
            "010-3333-4444\n"
          ]
        }
      ]
    },
    {
      "cell_type": "markdown",
      "metadata": {
        "id": "vJ-mz2F8O48X"
      },
      "source": [
        "###**예제 4-8. 2단 구구단표 만들기**"
      ]
    },
    {
      "cell_type": "code",
      "metadata": {
        "colab": {
          "base_uri": "https://localhost:8080/"
        },
        "id": "5bdbVBOtO8St",
        "outputId": "f9fe4420-6340-4f64-ff86-e412bfbfe69f"
      },
      "source": [
        "a = 2 # 구구단의 단수\n",
        "\n",
        "for b in range(1, 10): # 곱하는 값\n",
        "  # print(b)\n",
        "  c = a * b # c : 결과\n",
        "  # print(c)\n",
        "\n",
        "  print('%d x %d = %d' %(a, b, c))"
      ],
      "execution_count": 99,
      "outputs": [
        {
          "output_type": "stream",
          "name": "stdout",
          "text": [
            "2 x 1 = 2\n",
            "2 x 2 = 4\n",
            "2 x 3 = 6\n",
            "2 x 4 = 8\n",
            "2 x 5 = 10\n",
            "2 x 6 = 12\n",
            "2 x 7 = 14\n",
            "2 x 8 = 16\n",
            "2 x 9 = 18\n"
          ]
        }
      ]
    },
    {
      "cell_type": "markdown",
      "metadata": {
        "id": "L0yeH8K6PzZ9"
      },
      "source": [
        "###**예제 4-9. 전체 구구단표 만들기**"
      ]
    },
    {
      "cell_type": "code",
      "metadata": {
        "id": "XCT2Vwg1PzZ9"
      },
      "source": [
        "print('-'*50)\n",
        "\n",
        "for a in range(2, 10):\n",
        "  for b in range(1, 10): # 곱하는 값\n",
        "    # print(b)\n",
        "    c = a * b # c : 결과\n",
        "    # print(c)\n",
        "\n",
        "    print('%d x %d = %d' %(a, b, c))\n",
        "\n",
        "  print('-'*50) # 단의 끝 시점에 ---- 찍자!"
      ],
      "execution_count": null,
      "outputs": []
    },
    {
      "cell_type": "markdown",
      "metadata": {
        "id": "l1CWLK1gUbm9"
      },
      "source": [
        "###**예제 4-10. 1~10의 합계(while문)**"
      ]
    },
    {
      "cell_type": "code",
      "metadata": {
        "colab": {
          "base_uri": "https://localhost:8080/"
        },
        "id": "24dHhQWSQM3W",
        "outputId": "592c2ac0-07f2-485d-e598-8b8c4dea89ea"
      },
      "source": [
        "sum = 0\n",
        "i = 1\n",
        "\n",
        "while i <= 10:\n",
        "  sum = sum + i # sum = 3, i = 3\n",
        "  print('i의 값 : %d, 합계 : %d'%(i, sum))\n",
        "  i = i + 1"
      ],
      "execution_count": 102,
      "outputs": [
        {
          "output_type": "stream",
          "name": "stdout",
          "text": [
            "i의 값 : 1, 합계 : 1\n",
            "i의 값 : 2, 합계 : 3\n",
            "i의 값 : 3, 합계 : 6\n",
            "i의 값 : 4, 합계 : 10\n",
            "i의 값 : 5, 합계 : 15\n",
            "i의 값 : 6, 합계 : 21\n",
            "i의 값 : 7, 합계 : 28\n",
            "i의 값 : 8, 합계 : 36\n",
            "i의 값 : 9, 합계 : 45\n",
            "i의 값 : 10, 합계 : 55\n"
          ]
        }
      ]
    },
    {
      "cell_type": "markdown",
      "metadata": {
        "id": "ajIXHd7EVf4Z"
      },
      "source": [
        "###**예제 4-13. break문으로 반복 루프빠져나가기**"
      ]
    },
    {
      "cell_type": "code",
      "metadata": {
        "colab": {
          "base_uri": "https://localhost:8080/"
        },
        "id": "oOtJp2C0VGkx",
        "outputId": "5810ad13-25b5-454e-9edf-836bd6621feb"
      },
      "source": [
        "for i in range(1,1001):\n",
        "  print(i)\n",
        "\n",
        "  if i == 10:\n",
        "    break"
      ],
      "execution_count": 104,
      "outputs": [
        {
          "output_type": "stream",
          "name": "stdout",
          "text": [
            "1\n",
            "2\n",
            "3\n",
            "4\n",
            "5\n",
            "6\n",
            "7\n",
            "8\n",
            "9\n",
            "10\n"
          ]
        }
      ]
    },
    {
      "cell_type": "code",
      "metadata": {
        "id": "bB2VIBrcVrI5"
      },
      "source": [
        "# 응용\n",
        "# 게임에 어떤 키가 들어오면 종료 팝업 뜨게\n",
        "# Ctrl + Q : 종료 팝업\n",
        "if Crtl == True and Q == True:\n",
        "  print(\"종료\")"
      ],
      "execution_count": null,
      "outputs": []
    },
    {
      "cell_type": "code",
      "metadata": {
        "colab": {
          "base_uri": "https://localhost:8080/"
        },
        "id": "t_FFBhOJYBnn",
        "outputId": "f1901077-cd2c-456d-876c-98db7b5a2cd9"
      },
      "source": [
        "!pip install keyboard"
      ],
      "execution_count": 107,
      "outputs": [
        {
          "output_type": "stream",
          "name": "stdout",
          "text": [
            "Collecting keyboard\n",
            "  Downloading keyboard-0.13.5-py3-none-any.whl (58 kB)\n",
            "\u001b[?25l\r\u001b[K     |█████▋                          | 10 kB 24.2 MB/s eta 0:00:01\r\u001b[K     |███████████▎                    | 20 kB 29.1 MB/s eta 0:00:01\r\u001b[K     |█████████████████               | 30 kB 12.9 MB/s eta 0:00:01\r\u001b[K     |██████████████████████▋         | 40 kB 9.9 MB/s eta 0:00:01\r\u001b[K     |████████████████████████████▏   | 51 kB 5.2 MB/s eta 0:00:01\r\u001b[K     |████████████████████████████████| 58 kB 3.0 MB/s \n",
            "\u001b[?25hInstalling collected packages: keyboard\n",
            "Successfully installed keyboard-0.13.5\n"
          ]
        }
      ]
    },
    {
      "cell_type": "code",
      "metadata": {
        "colab": {
          "base_uri": "https://localhost:8080/",
          "height": 452
        },
        "id": "n8j_iyD4WpnE",
        "outputId": "f5a516a6-6614-40f5-9dd9-e947f45387ce"
      },
      "source": [
        "# https://www.delftstack.com/ko/howto/python/python-detect-keypress/\n",
        "\n",
        "# 파이썬 키보드 감지 프로그램\n",
        "# 파이썬 엑셀 + SQL : 판다스 => 외부 패키지, 라이브러리(따로 까는 패키지, 라이브러리)\n",
        "# !pip install pandas\n",
        "\n",
        "import keyboard # 패키지 로딩(코랩, 파이썬 자체적으로 가지고 있음, 삼성 핸드폰사면 바로 깔려 나오는 어플 : 내장 패키지)\n",
        "\n",
        "while True:\n",
        "  if keyboard.read_key() == \"p\":\n",
        "    print(\"You pressed p\")\n",
        "    break\n",
        "\n",
        "while True:\n",
        "  if keyboard.is_pressed(\"q\"):\n",
        "    print(\"You pressed q\")\n",
        "    break\n",
        "        \n",
        "keyboard.on_press_key(\"r\", lambda _:print(\"You pressed r\"))"
      ],
      "execution_count": 108,
      "outputs": [
        {
          "output_type": "stream",
          "name": "stderr",
          "text": [
            "/usr/local/lib/python3.7/dist-packages/keyboard/_nixkeyboard.py:110: UserWarning: Failed to create a device file using `uinput` module. Sending of events may be limited or unavailable depending on plugged-in devices.\n",
            "  device = aggregate_devices('kbd')\n"
          ]
        },
        {
          "output_type": "error",
          "ename": "AssertionError",
          "evalue": "ignored",
          "traceback": [
            "\u001b[0;31m---------------------------------------------------------------------------\u001b[0m",
            "\u001b[0;31mAssertionError\u001b[0m                            Traceback (most recent call last)",
            "\u001b[0;32m<ipython-input-108-155cef4c8679>\u001b[0m in \u001b[0;36m<module>\u001b[0;34m()\u001b[0m\n\u001b[1;32m      8\u001b[0m \u001b[0;34m\u001b[0m\u001b[0m\n\u001b[1;32m      9\u001b[0m \u001b[0;32mwhile\u001b[0m \u001b[0;32mTrue\u001b[0m\u001b[0;34m:\u001b[0m\u001b[0;34m\u001b[0m\u001b[0;34m\u001b[0m\u001b[0m\n\u001b[0;32m---> 10\u001b[0;31m   \u001b[0;32mif\u001b[0m \u001b[0mkeyboard\u001b[0m\u001b[0;34m.\u001b[0m\u001b[0mread_key\u001b[0m\u001b[0;34m(\u001b[0m\u001b[0;34m)\u001b[0m \u001b[0;34m==\u001b[0m \u001b[0;34m\"p\"\u001b[0m\u001b[0;34m:\u001b[0m\u001b[0;34m\u001b[0m\u001b[0;34m\u001b[0m\u001b[0m\n\u001b[0m\u001b[1;32m     11\u001b[0m     \u001b[0mprint\u001b[0m\u001b[0;34m(\u001b[0m\u001b[0;34m\"You pressed p\"\u001b[0m\u001b[0;34m)\u001b[0m\u001b[0;34m\u001b[0m\u001b[0;34m\u001b[0m\u001b[0m\n\u001b[1;32m     12\u001b[0m     \u001b[0;32mbreak\u001b[0m\u001b[0;34m\u001b[0m\u001b[0;34m\u001b[0m\u001b[0m\n",
            "\u001b[0;32m/usr/local/lib/python3.7/dist-packages/keyboard/__init__.py\u001b[0m in \u001b[0;36mread_key\u001b[0;34m(suppress)\u001b[0m\n\u001b[1;32m    933\u001b[0m     \u001b[0;32mif\u001b[0m \u001b[0mmissing\u001b[0m\u001b[0;34m,\u001b[0m \u001b[0mits\u001b[0m \u001b[0mscan\u001b[0m \u001b[0mcode\u001b[0m\u001b[0;34m.\u001b[0m\u001b[0;34m\u001b[0m\u001b[0;34m\u001b[0m\u001b[0m\n\u001b[1;32m    934\u001b[0m     \"\"\"\n\u001b[0;32m--> 935\u001b[0;31m     \u001b[0mevent\u001b[0m \u001b[0;34m=\u001b[0m \u001b[0mread_event\u001b[0m\u001b[0;34m(\u001b[0m\u001b[0msuppress\u001b[0m\u001b[0;34m)\u001b[0m\u001b[0;34m\u001b[0m\u001b[0;34m\u001b[0m\u001b[0m\n\u001b[0m\u001b[1;32m    936\u001b[0m     \u001b[0;32mreturn\u001b[0m \u001b[0mevent\u001b[0m\u001b[0;34m.\u001b[0m\u001b[0mname\u001b[0m \u001b[0;32mor\u001b[0m \u001b[0mevent\u001b[0m\u001b[0;34m.\u001b[0m\u001b[0mscan_code\u001b[0m\u001b[0;34m\u001b[0m\u001b[0;34m\u001b[0m\u001b[0m\n\u001b[1;32m    937\u001b[0m \u001b[0;34m\u001b[0m\u001b[0m\n",
            "\u001b[0;32m/usr/local/lib/python3.7/dist-packages/keyboard/__init__.py\u001b[0m in \u001b[0;36mread_event\u001b[0;34m(suppress)\u001b[0m\n\u001b[1;32m    922\u001b[0m     \"\"\"\n\u001b[1;32m    923\u001b[0m     \u001b[0mqueue\u001b[0m \u001b[0;34m=\u001b[0m \u001b[0m_queue\u001b[0m\u001b[0;34m.\u001b[0m\u001b[0mQueue\u001b[0m\u001b[0;34m(\u001b[0m\u001b[0mmaxsize\u001b[0m\u001b[0;34m=\u001b[0m\u001b[0;36m1\u001b[0m\u001b[0;34m)\u001b[0m\u001b[0;34m\u001b[0m\u001b[0;34m\u001b[0m\u001b[0m\n\u001b[0;32m--> 924\u001b[0;31m     \u001b[0mhooked\u001b[0m \u001b[0;34m=\u001b[0m \u001b[0mhook\u001b[0m\u001b[0;34m(\u001b[0m\u001b[0mqueue\u001b[0m\u001b[0;34m.\u001b[0m\u001b[0mput\u001b[0m\u001b[0;34m,\u001b[0m \u001b[0msuppress\u001b[0m\u001b[0;34m=\u001b[0m\u001b[0msuppress\u001b[0m\u001b[0;34m)\u001b[0m\u001b[0;34m\u001b[0m\u001b[0;34m\u001b[0m\u001b[0m\n\u001b[0m\u001b[1;32m    925\u001b[0m     \u001b[0;32mwhile\u001b[0m \u001b[0;32mTrue\u001b[0m\u001b[0;34m:\u001b[0m\u001b[0;34m\u001b[0m\u001b[0;34m\u001b[0m\u001b[0m\n\u001b[1;32m    926\u001b[0m         \u001b[0mevent\u001b[0m \u001b[0;34m=\u001b[0m \u001b[0mqueue\u001b[0m\u001b[0;34m.\u001b[0m\u001b[0mget\u001b[0m\u001b[0;34m(\u001b[0m\u001b[0;34m)\u001b[0m\u001b[0;34m\u001b[0m\u001b[0;34m\u001b[0m\u001b[0m\n",
            "\u001b[0;32m/usr/local/lib/python3.7/dist-packages/keyboard/__init__.py\u001b[0m in \u001b[0;36mhook\u001b[0;34m(callback, suppress, on_remove)\u001b[0m\n\u001b[1;32m    459\u001b[0m         \u001b[0mappend\u001b[0m\u001b[0;34m,\u001b[0m \u001b[0mremove\u001b[0m \u001b[0;34m=\u001b[0m \u001b[0m_listener\u001b[0m\u001b[0;34m.\u001b[0m\u001b[0madd_handler\u001b[0m\u001b[0;34m,\u001b[0m \u001b[0m_listener\u001b[0m\u001b[0;34m.\u001b[0m\u001b[0mremove_handler\u001b[0m\u001b[0;34m\u001b[0m\u001b[0;34m\u001b[0m\u001b[0m\n\u001b[1;32m    460\u001b[0m \u001b[0;34m\u001b[0m\u001b[0m\n\u001b[0;32m--> 461\u001b[0;31m     \u001b[0mappend\u001b[0m\u001b[0;34m(\u001b[0m\u001b[0mcallback\u001b[0m\u001b[0;34m)\u001b[0m\u001b[0;34m\u001b[0m\u001b[0;34m\u001b[0m\u001b[0m\n\u001b[0m\u001b[1;32m    462\u001b[0m     \u001b[0;32mdef\u001b[0m \u001b[0mremove_\u001b[0m\u001b[0;34m(\u001b[0m\u001b[0;34m)\u001b[0m\u001b[0;34m:\u001b[0m\u001b[0;34m\u001b[0m\u001b[0;34m\u001b[0m\u001b[0m\n\u001b[1;32m    463\u001b[0m         \u001b[0;32mdel\u001b[0m \u001b[0m_hooks\u001b[0m\u001b[0;34m[\u001b[0m\u001b[0mcallback\u001b[0m\u001b[0;34m]\u001b[0m\u001b[0;34m\u001b[0m\u001b[0;34m\u001b[0m\u001b[0m\n",
            "\u001b[0;32m/usr/local/lib/python3.7/dist-packages/keyboard/_generic.py\u001b[0m in \u001b[0;36madd_handler\u001b[0;34m(self, handler)\u001b[0m\n\u001b[1;32m     65\u001b[0m         \u001b[0mprocess\u001b[0m \u001b[0;32mif\u001b[0m \u001b[0mnecessary\u001b[0m\u001b[0;34m.\u001b[0m\u001b[0;34m\u001b[0m\u001b[0;34m\u001b[0m\u001b[0m\n\u001b[1;32m     66\u001b[0m         \"\"\"\n\u001b[0;32m---> 67\u001b[0;31m         \u001b[0mself\u001b[0m\u001b[0;34m.\u001b[0m\u001b[0mstart_if_necessary\u001b[0m\u001b[0;34m(\u001b[0m\u001b[0;34m)\u001b[0m\u001b[0;34m\u001b[0m\u001b[0;34m\u001b[0m\u001b[0m\n\u001b[0m\u001b[1;32m     68\u001b[0m         \u001b[0mself\u001b[0m\u001b[0;34m.\u001b[0m\u001b[0mhandlers\u001b[0m\u001b[0;34m.\u001b[0m\u001b[0mappend\u001b[0m\u001b[0;34m(\u001b[0m\u001b[0mhandler\u001b[0m\u001b[0;34m)\u001b[0m\u001b[0;34m\u001b[0m\u001b[0;34m\u001b[0m\u001b[0m\n\u001b[1;32m     69\u001b[0m \u001b[0;34m\u001b[0m\u001b[0m\n",
            "\u001b[0;32m/usr/local/lib/python3.7/dist-packages/keyboard/_generic.py\u001b[0m in \u001b[0;36mstart_if_necessary\u001b[0;34m(self)\u001b[0m\n\u001b[1;32m     33\u001b[0m         \u001b[0;32mtry\u001b[0m\u001b[0;34m:\u001b[0m\u001b[0;34m\u001b[0m\u001b[0;34m\u001b[0m\u001b[0m\n\u001b[1;32m     34\u001b[0m             \u001b[0;32mif\u001b[0m \u001b[0;32mnot\u001b[0m \u001b[0mself\u001b[0m\u001b[0;34m.\u001b[0m\u001b[0mlistening\u001b[0m\u001b[0;34m:\u001b[0m\u001b[0;34m\u001b[0m\u001b[0;34m\u001b[0m\u001b[0m\n\u001b[0;32m---> 35\u001b[0;31m                 \u001b[0mself\u001b[0m\u001b[0;34m.\u001b[0m\u001b[0minit\u001b[0m\u001b[0;34m(\u001b[0m\u001b[0;34m)\u001b[0m\u001b[0;34m\u001b[0m\u001b[0;34m\u001b[0m\u001b[0m\n\u001b[0m\u001b[1;32m     36\u001b[0m \u001b[0;34m\u001b[0m\u001b[0m\n\u001b[1;32m     37\u001b[0m                 \u001b[0mself\u001b[0m\u001b[0;34m.\u001b[0m\u001b[0mlistening\u001b[0m \u001b[0;34m=\u001b[0m \u001b[0;32mTrue\u001b[0m\u001b[0;34m\u001b[0m\u001b[0;34m\u001b[0m\u001b[0m\n",
            "\u001b[0;32m/usr/local/lib/python3.7/dist-packages/keyboard/__init__.py\u001b[0m in \u001b[0;36minit\u001b[0;34m(self)\u001b[0m\n\u001b[1;32m    194\u001b[0m \u001b[0;34m\u001b[0m\u001b[0m\n\u001b[1;32m    195\u001b[0m     \u001b[0;32mdef\u001b[0m \u001b[0minit\u001b[0m\u001b[0;34m(\u001b[0m\u001b[0mself\u001b[0m\u001b[0;34m)\u001b[0m\u001b[0;34m:\u001b[0m\u001b[0;34m\u001b[0m\u001b[0;34m\u001b[0m\u001b[0m\n\u001b[0;32m--> 196\u001b[0;31m         \u001b[0m_os_keyboard\u001b[0m\u001b[0;34m.\u001b[0m\u001b[0minit\u001b[0m\u001b[0;34m(\u001b[0m\u001b[0;34m)\u001b[0m\u001b[0;34m\u001b[0m\u001b[0;34m\u001b[0m\u001b[0m\n\u001b[0m\u001b[1;32m    197\u001b[0m \u001b[0;34m\u001b[0m\u001b[0m\n\u001b[1;32m    198\u001b[0m         \u001b[0mself\u001b[0m\u001b[0;34m.\u001b[0m\u001b[0mactive_modifiers\u001b[0m \u001b[0;34m=\u001b[0m \u001b[0mset\u001b[0m\u001b[0;34m(\u001b[0m\u001b[0;34m)\u001b[0m\u001b[0;34m\u001b[0m\u001b[0;34m\u001b[0m\u001b[0m\n",
            "\u001b[0;32m/usr/local/lib/python3.7/dist-packages/keyboard/_nixkeyboard.py\u001b[0m in \u001b[0;36minit\u001b[0;34m()\u001b[0m\n\u001b[1;32m    111\u001b[0m \u001b[0;34m\u001b[0m\u001b[0m\n\u001b[1;32m    112\u001b[0m \u001b[0;32mdef\u001b[0m \u001b[0minit\u001b[0m\u001b[0;34m(\u001b[0m\u001b[0;34m)\u001b[0m\u001b[0;34m:\u001b[0m\u001b[0;34m\u001b[0m\u001b[0;34m\u001b[0m\u001b[0m\n\u001b[0;32m--> 113\u001b[0;31m     \u001b[0mbuild_device\u001b[0m\u001b[0;34m(\u001b[0m\u001b[0;34m)\u001b[0m\u001b[0;34m\u001b[0m\u001b[0;34m\u001b[0m\u001b[0m\n\u001b[0m\u001b[1;32m    114\u001b[0m     \u001b[0mbuild_tables\u001b[0m\u001b[0;34m(\u001b[0m\u001b[0;34m)\u001b[0m\u001b[0;34m\u001b[0m\u001b[0;34m\u001b[0m\u001b[0m\n\u001b[1;32m    115\u001b[0m \u001b[0;34m\u001b[0m\u001b[0m\n",
            "\u001b[0;32m/usr/local/lib/python3.7/dist-packages/keyboard/_nixkeyboard.py\u001b[0m in \u001b[0;36mbuild_device\u001b[0;34m()\u001b[0m\n\u001b[1;32m    108\u001b[0m     \u001b[0;32mif\u001b[0m \u001b[0mdevice\u001b[0m\u001b[0;34m:\u001b[0m \u001b[0;32mreturn\u001b[0m\u001b[0;34m\u001b[0m\u001b[0;34m\u001b[0m\u001b[0m\n\u001b[1;32m    109\u001b[0m     \u001b[0mensure_root\u001b[0m\u001b[0;34m(\u001b[0m\u001b[0;34m)\u001b[0m\u001b[0;34m\u001b[0m\u001b[0;34m\u001b[0m\u001b[0m\n\u001b[0;32m--> 110\u001b[0;31m     \u001b[0mdevice\u001b[0m \u001b[0;34m=\u001b[0m \u001b[0maggregate_devices\u001b[0m\u001b[0;34m(\u001b[0m\u001b[0;34m'kbd'\u001b[0m\u001b[0;34m)\u001b[0m\u001b[0;34m\u001b[0m\u001b[0;34m\u001b[0m\u001b[0m\n\u001b[0m\u001b[1;32m    111\u001b[0m \u001b[0;34m\u001b[0m\u001b[0m\n\u001b[1;32m    112\u001b[0m \u001b[0;32mdef\u001b[0m \u001b[0minit\u001b[0m\u001b[0;34m(\u001b[0m\u001b[0;34m)\u001b[0m\u001b[0;34m:\u001b[0m\u001b[0;34m\u001b[0m\u001b[0;34m\u001b[0m\u001b[0m\n",
            "\u001b[0;32m/usr/local/lib/python3.7/dist-packages/keyboard/_nixcommon.py\u001b[0m in \u001b[0;36maggregate_devices\u001b[0;34m(type_name)\u001b[0m\n\u001b[1;32m    166\u001b[0m \u001b[0;34m\u001b[0m\u001b[0m\n\u001b[1;32m    167\u001b[0m     \u001b[0;31m# If no keyboards were found we can only use the fake device to send keys.\u001b[0m\u001b[0;34m\u001b[0m\u001b[0;34m\u001b[0m\u001b[0;34m\u001b[0m\u001b[0m\n\u001b[0;32m--> 168\u001b[0;31m     \u001b[0;32massert\u001b[0m \u001b[0mfake_device\u001b[0m\u001b[0;34m\u001b[0m\u001b[0;34m\u001b[0m\u001b[0m\n\u001b[0m\u001b[1;32m    169\u001b[0m     \u001b[0;32mreturn\u001b[0m \u001b[0mfake_device\u001b[0m\u001b[0;34m\u001b[0m\u001b[0;34m\u001b[0m\u001b[0m\n\u001b[1;32m    170\u001b[0m \u001b[0;34m\u001b[0m\u001b[0m\n",
            "\u001b[0;31mAssertionError\u001b[0m: "
          ]
        }
      ]
    },
    {
      "cell_type": "code",
      "metadata": {
        "colab": {
          "base_uri": "https://localhost:8080/"
        },
        "id": "GeiqYQurY94o",
        "outputId": "5e47110d-09f4-4821-e4e8-1fe1d21fea15"
      },
      "source": [
        "!pip install pynput"
      ],
      "execution_count": 116,
      "outputs": [
        {
          "output_type": "stream",
          "name": "stdout",
          "text": [
            "Requirement already satisfied: pynput in /usr/local/lib/python3.7/dist-packages (1.7.4)\n",
            "Requirement already satisfied: six in /usr/local/lib/python3.7/dist-packages (from pynput) (1.15.0)\n",
            "Requirement already satisfied: evdev>=1.3 in /usr/local/lib/python3.7/dist-packages (from pynput) (1.4.0)\n",
            "Requirement already satisfied: python-xlib>=0.17 in /usr/local/lib/python3.7/dist-packages (from pynput) (0.31)\n"
          ]
        }
      ]
    },
    {
      "cell_type": "code",
      "metadata": {
        "colab": {
          "base_uri": "https://localhost:8080/",
          "height": 613
        },
        "id": "rPQA3J3GXwBM",
        "outputId": "5c71bdbd-36c1-48f4-ad3c-a2de99c6dd26"
      },
      "source": [
        "from pynput import keyboard\n",
        "\n",
        "def on_press(key):\n",
        "    try:\n",
        "        print('Alphanumeric key pressed: {0} '.format(key.char))\n",
        "    except AttributeError:\n",
        "        print('special key pressed: {0}'.format(key))\n",
        "\n",
        "def on_release(key):\n",
        "    print('Key released: {0}'.format(key))\n",
        "    if key == keyboard.Key.esc:\n",
        "        return False\n",
        "\n",
        "# Collect events until released\n",
        "with keyboard.Listener(on_press=on_press,on_release=on_release) as listener:\n",
        "    listener.join()"
      ],
      "execution_count": 117,
      "outputs": [
        {
          "output_type": "error",
          "ename": "ImportError",
          "evalue": "ignored",
          "traceback": [
            "\u001b[0;31m---------------------------------------------------------------------------\u001b[0m",
            "\u001b[0;31mImportError\u001b[0m                               Traceback (most recent call last)",
            "\u001b[0;32m<ipython-input-117-70523c9a048c>\u001b[0m in \u001b[0;36m<module>\u001b[0;34m()\u001b[0m\n\u001b[0;32m----> 1\u001b[0;31m \u001b[0;32mfrom\u001b[0m \u001b[0mpynput\u001b[0m \u001b[0;32mimport\u001b[0m \u001b[0mkeyboard\u001b[0m\u001b[0;34m\u001b[0m\u001b[0;34m\u001b[0m\u001b[0m\n\u001b[0m\u001b[1;32m      2\u001b[0m \u001b[0;34m\u001b[0m\u001b[0m\n\u001b[1;32m      3\u001b[0m \u001b[0;32mdef\u001b[0m \u001b[0mon_press\u001b[0m\u001b[0;34m(\u001b[0m\u001b[0mkey\u001b[0m\u001b[0;34m)\u001b[0m\u001b[0;34m:\u001b[0m\u001b[0;34m\u001b[0m\u001b[0;34m\u001b[0m\u001b[0m\n\u001b[1;32m      4\u001b[0m     \u001b[0;32mtry\u001b[0m\u001b[0;34m:\u001b[0m\u001b[0;34m\u001b[0m\u001b[0;34m\u001b[0m\u001b[0m\n\u001b[1;32m      5\u001b[0m         \u001b[0mprint\u001b[0m\u001b[0;34m(\u001b[0m\u001b[0;34m'Alphanumeric key pressed: {0} '\u001b[0m\u001b[0;34m.\u001b[0m\u001b[0mformat\u001b[0m\u001b[0;34m(\u001b[0m\u001b[0mkey\u001b[0m\u001b[0;34m.\u001b[0m\u001b[0mchar\u001b[0m\u001b[0;34m)\u001b[0m\u001b[0;34m)\u001b[0m\u001b[0;34m\u001b[0m\u001b[0;34m\u001b[0m\u001b[0m\n",
            "\u001b[0;32m/usr/local/lib/python3.7/dist-packages/pynput/__init__.py\u001b[0m in \u001b[0;36m<module>\u001b[0;34m()\u001b[0m\n\u001b[1;32m     38\u001b[0m \u001b[0;34m\u001b[0m\u001b[0m\n\u001b[1;32m     39\u001b[0m \u001b[0;34m\u001b[0m\u001b[0m\n\u001b[0;32m---> 40\u001b[0;31m \u001b[0;32mfrom\u001b[0m \u001b[0;34m.\u001b[0m \u001b[0;32mimport\u001b[0m \u001b[0mkeyboard\u001b[0m\u001b[0;34m\u001b[0m\u001b[0;34m\u001b[0m\u001b[0m\n\u001b[0m\u001b[1;32m     41\u001b[0m \u001b[0;32mfrom\u001b[0m \u001b[0;34m.\u001b[0m \u001b[0;32mimport\u001b[0m \u001b[0mmouse\u001b[0m\u001b[0;34m\u001b[0m\u001b[0;34m\u001b[0m\u001b[0m\n",
            "\u001b[0;32m/usr/local/lib/python3.7/dist-packages/pynput/keyboard/__init__.py\u001b[0m in \u001b[0;36m<module>\u001b[0;34m()\u001b[0m\n\u001b[1;32m     29\u001b[0m \u001b[0;34m\u001b[0m\u001b[0m\n\u001b[1;32m     30\u001b[0m \u001b[0;34m\u001b[0m\u001b[0m\n\u001b[0;32m---> 31\u001b[0;31m \u001b[0mbackend\u001b[0m \u001b[0;34m=\u001b[0m \u001b[0mbackend\u001b[0m\u001b[0;34m(\u001b[0m\u001b[0m__name__\u001b[0m\u001b[0;34m)\u001b[0m\u001b[0;34m\u001b[0m\u001b[0;34m\u001b[0m\u001b[0m\n\u001b[0m\u001b[1;32m     32\u001b[0m \u001b[0mKeyCode\u001b[0m \u001b[0;34m=\u001b[0m \u001b[0mbackend\u001b[0m\u001b[0;34m.\u001b[0m\u001b[0mKeyCode\u001b[0m\u001b[0;34m\u001b[0m\u001b[0;34m\u001b[0m\u001b[0m\n\u001b[1;32m     33\u001b[0m \u001b[0mKey\u001b[0m \u001b[0;34m=\u001b[0m \u001b[0mbackend\u001b[0m\u001b[0;34m.\u001b[0m\u001b[0mKey\u001b[0m\u001b[0;34m\u001b[0m\u001b[0;34m\u001b[0m\u001b[0m\n",
            "\u001b[0;32m/usr/local/lib/python3.7/dist-packages/pynput/_util/__init__.py\u001b[0m in \u001b[0;36mbackend\u001b[0;34m(package)\u001b[0m\n\u001b[1;32m     80\u001b[0m                 \u001b[0;34m' * {}'\u001b[0m\u001b[0;34m.\u001b[0m\u001b[0mformat\u001b[0m\u001b[0;34m(\u001b[0m\u001b[0ms\u001b[0m\u001b[0;34m)\u001b[0m\u001b[0;34m\u001b[0m\u001b[0;34m\u001b[0m\u001b[0m\n\u001b[1;32m     81\u001b[0m                 for s in resolutions))\n\u001b[0;32m---> 82\u001b[0;31m             if resolutions else '')\n\u001b[0m\u001b[1;32m     83\u001b[0m \u001b[0;34m\u001b[0m\u001b[0m\n\u001b[1;32m     84\u001b[0m \u001b[0;34m\u001b[0m\u001b[0m\n",
            "\u001b[0;31mImportError\u001b[0m: this platform is not supported: ('failed to acquire X connection: Bad display name \"\"', DisplayNameError(''))\n\nTry one of the following resolutions:\n\n * Please make sure that you have an X server running, and that the DISPLAY environment variable is set correctly",
            "",
            "\u001b[0;31m---------------------------------------------------------------------------\u001b[0;32m\nNOTE: If your import is failing due to a missing package, you can\nmanually install dependencies using either !pip or !apt.\n\nTo view examples of installing some common dependencies, click the\n\"Open Examples\" button below.\n\u001b[0;31m---------------------------------------------------------------------------\u001b[0m\n"
          ],
          "errorDetails": {
            "actions": [
              {
                "action": "open_url",
                "actionText": "Open Examples",
                "url": "/notebooks/snippets/importing_libraries.ipynb"
              }
            ]
          }
        }
      ]
    },
    {
      "cell_type": "code",
      "metadata": {
        "colab": {
          "base_uri": "https://localhost:8080/"
        },
        "id": "a96OpEiBatol",
        "outputId": "ec5e80a9-f63e-43f5-c77b-d274e527466c"
      },
      "source": [
        "!pip install pygame"
      ],
      "execution_count": 119,
      "outputs": [
        {
          "output_type": "stream",
          "name": "stdout",
          "text": [
            "Collecting pygame\n",
            "  Downloading pygame-2.0.2-cp37-cp37m-manylinux_2_5_x86_64.manylinux1_x86_64.whl (13.8 MB)\n",
            "\u001b[K     |████████████████████████████████| 13.8 MB 220 kB/s \n",
            "\u001b[?25hInstalling collected packages: pygame\n",
            "Successfully installed pygame-2.0.2\n"
          ]
        }
      ]
    },
    {
      "cell_type": "code",
      "metadata": {
        "colab": {
          "base_uri": "https://localhost:8080/",
          "height": 245
        },
        "id": "PrRVAD_kY7nH",
        "outputId": "ab3a1f28-fc9b-4d9a-c4f4-65ed1b26bd4f"
      },
      "source": [
        "import pygame\n",
        "\n",
        "# 전체 스크린의 가로, 세로 크기 설정\n",
        "SCREEN_WIDTH = 400\n",
        "SCREEN_HEIGHT = 500\n",
        "\n",
        "# 초기화\n",
        "pygame.init()\n",
        "\n",
        "# 스크린 생성\n",
        "SCREEN = pygame.display.set_mode( (SCREEN_WIDTH, SCREEN_HEIGHT) )\n",
        "\n",
        "# window의 타이틀 설정\n",
        "pygame.display.set_caption(\"pygame test\")\n",
        "\n",
        "# Clock 객체 생성\n",
        "clock = pygame.time.Clock()\n",
        "\n",
        "playing = True\n",
        "\n",
        "while playing:\n",
        "    for event in pygame.event.get():\n",
        "        if event.type == pygame.QUIT:\n",
        "            playing = False\n",
        "            pygame.quit()\n",
        "\n",
        "        # 키가 눌렸을 때\n",
        "\n",
        "        if event.type == pygame.KEYDOWN:\n",
        "            if event.key == pygame.K_LEFT:\n",
        "                print(\"왼쪽 키 눌림\")\n",
        "            if event.key == pygame.K_RIGHT:\n",
        "                print(\"오른쪽 키 눌림\")\n",
        "\n",
        "            if event.key == pygame.K_UP:\n",
        "                print(\"위로 키 눌림\")\n",
        "            if event.key == pygame.K_DOWN:\n",
        "                print(\"아래로 키 눌림\")\n",
        "\n",
        "        # 키가 떼졌을 때\n",
        "        if event.type == pygame.KEYUP:\n",
        "            if event.key == pygame.K_LEFT:\n",
        "                print(\"왼쪽 키 떼짐\")\n",
        "            if event.key == pygame.K_RIGHT:\n",
        "                print(\"오른쪽 키 떼짐\")\n",
        "\n",
        "            if event.key == pygame.K_UP:\n",
        "                print(\"위로 키 떼짐\")\n",
        "            if event.key == pygame.K_DOWN:\n",
        "                print(\"아래로 키 떼짐\")\n",
        "\n",
        "    # fps 설정, while 구문안에 넣는다.\n",
        "    clock.tick(60)"
      ],
      "execution_count": 121,
      "outputs": [
        {
          "output_type": "error",
          "ename": "error",
          "evalue": "ignored",
          "traceback": [
            "\u001b[0;31m---------------------------------------------------------------------------\u001b[0m",
            "\u001b[0;31merror\u001b[0m                                     Traceback (most recent call last)",
            "\u001b[0;32m<ipython-input-121-0ea898fb7be7>\u001b[0m in \u001b[0;36m<module>\u001b[0;34m()\u001b[0m\n\u001b[1;32m      9\u001b[0m \u001b[0;34m\u001b[0m\u001b[0m\n\u001b[1;32m     10\u001b[0m \u001b[0;31m# 스크린 생성\u001b[0m\u001b[0;34m\u001b[0m\u001b[0;34m\u001b[0m\u001b[0;34m\u001b[0m\u001b[0m\n\u001b[0;32m---> 11\u001b[0;31m \u001b[0mSCREEN\u001b[0m \u001b[0;34m=\u001b[0m \u001b[0mpygame\u001b[0m\u001b[0;34m.\u001b[0m\u001b[0mdisplay\u001b[0m\u001b[0;34m.\u001b[0m\u001b[0mset_mode\u001b[0m\u001b[0;34m(\u001b[0m \u001b[0;34m(\u001b[0m\u001b[0mSCREEN_WIDTH\u001b[0m\u001b[0;34m,\u001b[0m \u001b[0mSCREEN_HEIGHT\u001b[0m\u001b[0;34m)\u001b[0m \u001b[0;34m)\u001b[0m\u001b[0;34m\u001b[0m\u001b[0;34m\u001b[0m\u001b[0m\n\u001b[0m\u001b[1;32m     12\u001b[0m \u001b[0;34m\u001b[0m\u001b[0m\n\u001b[1;32m     13\u001b[0m \u001b[0;31m# window의 타이틀 설정\u001b[0m\u001b[0;34m\u001b[0m\u001b[0;34m\u001b[0m\u001b[0;34m\u001b[0m\u001b[0m\n",
            "\u001b[0;31merror\u001b[0m: No available video device"
          ]
        }
      ]
    },
    {
      "cell_type": "code",
      "metadata": {
        "colab": {
          "base_uri": "https://localhost:8080/"
        },
        "id": "eWDh_cc0ci8J",
        "outputId": "b3c11f2a-93a5-4969-d33a-cfdb517408c0"
      },
      "source": [
        ""
      ],
      "execution_count": 136,
      "outputs": [
        {
          "output_type": "stream",
          "name": "stdout",
          "text": [
            "[    1] [-   2]\n"
          ]
        }
      ]
    }
  ]
}