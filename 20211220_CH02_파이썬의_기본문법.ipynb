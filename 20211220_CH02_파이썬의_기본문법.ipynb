{
  "nbformat": 4,
  "nbformat_minor": 0,
  "metadata": {
    "colab": {
      "name": "20211220_CH02_파이썬의 기본문법.ipynb",
      "provenance": [],
      "collapsed_sections": [],
      "authorship_tag": "ABX9TyP4S9mduL6dpYIwNqSl90SO",
      "include_colab_link": true
    },
    "kernelspec": {
      "name": "python3",
      "display_name": "Python 3"
    },
    "language_info": {
      "name": "python"
    }
  },
  "cells": [
    {
      "cell_type": "markdown",
      "metadata": {
        "id": "view-in-github",
        "colab_type": "text"
      },
      "source": [
        "<a href=\"https://colab.research.google.com/github/sdw1621/hanhwagroup/blob/main/20211220_CH02_%ED%8C%8C%EC%9D%B4%EC%8D%AC%EC%9D%98_%EA%B8%B0%EB%B3%B8%EB%AC%B8%EB%B2%95.ipynb\" target=\"_parent\"><img src=\"https://colab.research.google.com/assets/colab-badge.svg\" alt=\"Open In Colab\"/></a>"
      ]
    },
    {
      "cell_type": "code",
      "execution_count": 1,
      "metadata": {
        "colab": {
          "base_uri": "https://localhost:8080/"
        },
        "id": "9f30a8KGUNFE",
        "outputId": "e0c0a515-cb1a-494f-8ddc-6475488f7352"
      },
      "outputs": [
        {
          "output_type": "stream",
          "name": "stdout",
          "text": [
            "==============================\n"
          ]
        }
      ],
      "source": [
        "print(\"=\"*30)"
      ]
    },
    {
      "cell_type": "code",
      "source": [
        "print(\"I'm youngmin\")"
      ],
      "metadata": {
        "colab": {
          "base_uri": "https://localhost:8080/"
        },
        "id": "MJ1LjZeIYGy7",
        "outputId": "1272da0e-02be-4d43-c3c6-0f63d3c1b42e"
      },
      "execution_count": 2,
      "outputs": [
        {
          "output_type": "stream",
          "name": "stdout",
          "text": [
            "I'm youngmin\n"
          ]
        }
      ]
    },
    {
      "cell_type": "code",
      "source": [
        "print('I say \"ho\"')"
      ],
      "metadata": {
        "colab": {
          "base_uri": "https://localhost:8080/"
        },
        "id": "islLWXKOY9sy",
        "outputId": "1eac2266-9fd2-4a9c-da29-11d7fd7a5e1e"
      },
      "execution_count": 3,
      "outputs": [
        {
          "output_type": "stream",
          "name": "stdout",
          "text": [
            "I say \"ho\"\n"
          ]
        }
      ]
    },
    {
      "cell_type": "code",
      "source": [
        "print(\"내용\")\n",
        "print('내용')\n",
        "# print() : 한 줄 띄어 쓰기, #에 해당하는 주석으로 막아주면 프로그램 실행은 하지 않음"
      ],
      "metadata": {
        "colab": {
          "base_uri": "https://localhost:8080/"
        },
        "id": "lqnHSHbFZGtn",
        "outputId": "81e37933-99e5-4887-b8e7-b00dede543c9"
      },
      "execution_count": 4,
      "outputs": [
        {
          "output_type": "stream",
          "name": "stdout",
          "text": [
            "내용\n",
            "내용\n"
          ]
        }
      ]
    },
    {
      "cell_type": "markdown",
      "source": [
        "print(\"내용\") <br>\n",
        "print('내용') <br>\n",
        "print() : 한 줄 띄어 쓰기"
      ],
      "metadata": {
        "id": "8xnbwsKqZc05"
      }
    },
    {
      "cell_type": "markdown",
      "source": [
        "###**예제 2-1. 두 수 더하기**"
      ],
      "metadata": {
        "id": "mZllZTNwbAW7"
      }
    },
    {
      "cell_type": "code",
      "source": [
        "a = 20\n",
        "# print(a)\n",
        "b = 30\n",
        "# print(b)\n",
        "c = a + b # a = 20, b = 30\n",
        "print(c)"
      ],
      "metadata": {
        "colab": {
          "base_uri": "https://localhost:8080/"
        },
        "id": "B1a1b88sZgou",
        "outputId": "0af1211c-685a-4524-c838-20ec7971f720"
      },
      "execution_count": 8,
      "outputs": [
        {
          "output_type": "stream",
          "name": "stdout",
          "text": [
            "50\n"
          ]
        }
      ]
    },
    {
      "cell_type": "markdown",
      "source": [
        "###**응용**"
      ],
      "metadata": {
        "id": "UunKR_wxf8js"
      }
    },
    {
      "cell_type": "code",
      "source": [
        "print(\"신동욱\",\"강사님\")"
      ],
      "metadata": {
        "colab": {
          "base_uri": "https://localhost:8080/"
        },
        "id": "ClOq-5Bfbm23",
        "outputId": "7172ceb2-faf5-4174-ca8c-20222f36312e"
      },
      "execution_count": 11,
      "outputs": [
        {
          "output_type": "stream",
          "name": "stdout",
          "text": [
            "신동욱 강사님\n",
            "신동욱 1\n"
          ]
        }
      ]
    },
    {
      "cell_type": "code",
      "source": [
        "name = \"신동욱\"\n",
        "position = \"강사님\"\n",
        "\n",
        "print(name + position)"
      ],
      "metadata": {
        "colab": {
          "base_uri": "https://localhost:8080/"
        },
        "id": "cTSB72t_gM74",
        "outputId": "1c41586d-6df0-4049-f9d8-58cd9339d434"
      },
      "execution_count": 10,
      "outputs": [
        {
          "output_type": "stream",
          "name": "stdout",
          "text": [
            "신동욱강사님\n"
          ]
        }
      ]
    },
    {
      "cell_type": "code",
      "source": [
        "print(\"신동욱\",1)"
      ],
      "metadata": {
        "colab": {
          "base_uri": "https://localhost:8080/"
        },
        "id": "RUn7DV5Zgu3u",
        "outputId": "52c9b7e6-82f0-47d7-e241-f039fa349ad9"
      },
      "execution_count": 12,
      "outputs": [
        {
          "output_type": "stream",
          "name": "stdout",
          "text": [
            "신동욱 1\n"
          ]
        }
      ]
    },
    {
      "cell_type": "code",
      "source": [
        "name = \"신동욱\"\n",
        "position = 1\n",
        "\n",
        "print(name + position)"
      ],
      "metadata": {
        "colab": {
          "base_uri": "https://localhost:8080/",
          "height": 210
        },
        "id": "NH9Nn6KfgawO",
        "outputId": "4d407344-3e36-4514-bed6-c15143f6d2ad"
      },
      "execution_count": 13,
      "outputs": [
        {
          "output_type": "error",
          "ename": "TypeError",
          "evalue": "ignored",
          "traceback": [
            "\u001b[0;31m---------------------------------------------------------------------------\u001b[0m",
            "\u001b[0;31mTypeError\u001b[0m                                 Traceback (most recent call last)",
            "\u001b[0;32m<ipython-input-13-c9196212989e>\u001b[0m in \u001b[0;36m<module>\u001b[0;34m()\u001b[0m\n\u001b[1;32m      2\u001b[0m \u001b[0mposition\u001b[0m \u001b[0;34m=\u001b[0m \u001b[0;36m1\u001b[0m\u001b[0;34m\u001b[0m\u001b[0;34m\u001b[0m\u001b[0m\n\u001b[1;32m      3\u001b[0m \u001b[0;34m\u001b[0m\u001b[0m\n\u001b[0;32m----> 4\u001b[0;31m \u001b[0mprint\u001b[0m\u001b[0;34m(\u001b[0m\u001b[0mname\u001b[0m \u001b[0;34m+\u001b[0m \u001b[0mposition\u001b[0m\u001b[0;34m)\u001b[0m\u001b[0;34m\u001b[0m\u001b[0;34m\u001b[0m\u001b[0m\n\u001b[0m",
            "\u001b[0;31mTypeError\u001b[0m: can only concatenate str (not \"int\") to str"
          ]
        }
      ]
    },
    {
      "cell_type": "code",
      "source": [
        "print(\"안녕하세요. 신동욱 강사입니다.\")"
      ],
      "metadata": {
        "colab": {
          "base_uri": "https://localhost:8080/"
        },
        "id": "Fww6M4X2gxvW",
        "outputId": "f86b9c26-0dc7-4154-b6da-37c152c274f3"
      },
      "execution_count": 14,
      "outputs": [
        {
          "output_type": "stream",
          "name": "stdout",
          "text": [
            "안녕하세요. 신동욱 강사입니다.\n"
          ]
        }
      ]
    },
    {
      "cell_type": "code",
      "source": [
        "print(\"안녕하세요.\")\n",
        "print(\"신동욱 강사입니다.\")"
      ],
      "metadata": {
        "colab": {
          "base_uri": "https://localhost:8080/"
        },
        "id": "881dSRUYhLiY",
        "outputId": "fd5ff965-fe4b-47be-da18-57ef119ca90c"
      },
      "execution_count": 15,
      "outputs": [
        {
          "output_type": "stream",
          "name": "stdout",
          "text": [
            "안녕하세요.\n",
            "신동욱 강사입니다.\n"
          ]
        }
      ]
    },
    {
      "cell_type": "code",
      "source": [
        "print(\"안녕하세요. \\n신동욱 강사입니다.\") # \\n : new line\n",
        "print(\"안녕하세요. \\t신동욱 강사입니다.\") # \\n : tab"
      ],
      "metadata": {
        "colab": {
          "base_uri": "https://localhost:8080/"
        },
        "id": "jfRVFSQ9hSfw",
        "outputId": "1a1ea427-9eb3-48f0-fe09-757af6d6bddd"
      },
      "execution_count": 17,
      "outputs": [
        {
          "output_type": "stream",
          "name": "stdout",
          "text": [
            "안녕하세요. \n",
            "신동욱 강사입니다.\n",
            "안녕하세요. \t신동욱 강사입니다.\n"
          ]
        }
      ]
    },
    {
      "cell_type": "code",
      "source": [
        "print(\"네이버\",\"한화\",\"삼성\",sep=\",\")"
      ],
      "metadata": {
        "colab": {
          "base_uri": "https://localhost:8080/"
        },
        "id": "5OKhV7HRhZgv",
        "outputId": "10fdfd34-12aa-4644-b315-0260381cde80"
      },
      "execution_count": 19,
      "outputs": [
        {
          "output_type": "stream",
          "name": "stdout",
          "text": [
            "네이버,한화,삼성\n"
          ]
        }
      ]
    },
    {
      "cell_type": "code",
      "source": [
        "print(\"네이버\",\"한화\",\"삼성\",sep=\"/\")"
      ],
      "metadata": {
        "colab": {
          "base_uri": "https://localhost:8080/"
        },
        "id": "1NPsnoxshs94",
        "outputId": "224d8efa-ba49-4891-e7dd-e1f8f3595944"
      },
      "execution_count": 20,
      "outputs": [
        {
          "output_type": "stream",
          "name": "stdout",
          "text": [
            "네이버/한화/삼성\n"
          ]
        }
      ]
    },
    {
      "cell_type": "code",
      "source": [
        "print(\"네이버\", end=\" \")\n",
        "print(\"한화\", end=\",\")\n",
        "print(\"삼성\")"
      ],
      "metadata": {
        "colab": {
          "base_uri": "https://localhost:8080/"
        },
        "id": "8Sd4YY58h-ev",
        "outputId": "4b11171e-49a1-459a-e113-85403a4bc8b6"
      },
      "execution_count": 24,
      "outputs": [
        {
          "output_type": "stream",
          "name": "stdout",
          "text": [
            "네이버 한화,삼성\n"
          ]
        }
      ]
    },
    {
      "cell_type": "code",
      "source": [
        "print(5/3) # / 연산자는 무조건 float 데이터 형이 된다."
      ],
      "metadata": {
        "colab": {
          "base_uri": "https://localhost:8080/"
        },
        "id": "4ZShkjjUiGQf",
        "outputId": "6cdb1759-1f0c-4ae6-b3eb-066b35ae1442"
      },
      "execution_count": 25,
      "outputs": [
        {
          "output_type": "stream",
          "name": "stdout",
          "text": [
            "1.6666666666666667\n"
          ]
        }
      ]
    },
    {
      "cell_type": "code",
      "source": [
        "type(5/3) # 파이썬에서는 중간 중간에 print 쓰는 것 처럼(중간 결과값을 보자) 자주 씁니다.\n",
        "\n",
        "int a = 2\n",
        "a = \"신동욱\""
      ],
      "metadata": {
        "colab": {
          "base_uri": "https://localhost:8080/"
        },
        "id": "6g0BhGV_iemv",
        "outputId": "2a17145f-2bf7-4585-c955-cfe5a64eec34"
      },
      "execution_count": 26,
      "outputs": [
        {
          "output_type": "execute_result",
          "data": {
            "text/plain": [
              "float"
            ]
          },
          "metadata": {},
          "execution_count": 26
        }
      ]
    },
    {
      "cell_type": "code",
      "source": [
        "a = \"신동욱\"\n",
        "type(a) # input() 함수와 많이 씀, 에러를 해결하기 위해서 각각 변수의 데이터 타입을 확인해야 할 경우가 많음"
      ],
      "metadata": {
        "colab": {
          "base_uri": "https://localhost:8080/"
        },
        "id": "mnwmvofpipDm",
        "outputId": "ec4115a8-980b-4f30-ec52-47a7b07a938b"
      },
      "execution_count": 27,
      "outputs": [
        {
          "output_type": "execute_result",
          "data": {
            "text/plain": [
              "str"
            ]
          },
          "metadata": {},
          "execution_count": 27
        }
      ]
    },
    {
      "cell_type": "code",
      "source": [
        "a = 1\n",
        "# print(type(a)) # int\n",
        "b = 1.5\n",
        "# print(type(b)) # float\n",
        "\n",
        "c = a + b # a(int) -> a(float) : 자동 형변환, b(float) => a(float) + b(float)\n",
        "print(type(c)) # float"
      ],
      "metadata": {
        "colab": {
          "base_uri": "https://localhost:8080/"
        },
        "id": "VgemGhV5i9E2",
        "outputId": "3025fcd5-5679-47e8-80da-79c5afeda1a5"
      },
      "execution_count": 34,
      "outputs": [
        {
          "output_type": "stream",
          "name": "stdout",
          "text": [
            "<class 'float'>\n"
          ]
        }
      ]
    },
    {
      "cell_type": "code",
      "source": [
        "a = 1\n",
        "a = str(a) # 강제 형변환\n",
        "print(\"신동욱\" + a) # \"신동욱\" + a(str)"
      ],
      "metadata": {
        "colab": {
          "base_uri": "https://localhost:8080/"
        },
        "id": "IoJDC8AqjUUA",
        "outputId": "62e7095d-4aae-48ad-c60e-066edad2ab9d"
      },
      "execution_count": 37,
      "outputs": [
        {
          "output_type": "stream",
          "name": "stdout",
          "text": [
            "신동욱1\n"
          ]
        }
      ]
    },
    {
      "cell_type": "code",
      "source": [
        "# 한화 시스템 주식 1주 5만원\n",
        "hanwha_system = 50000\n",
        "\n",
        "# 10주를 가지고 있다.\n",
        "hanwha_system_won = hanwha_system * 10\n",
        "\n",
        "# 나는 총 한화 시스템 50만원을 가지고 있어요\n",
        "print(hanwha_system_won)"
      ],
      "metadata": {
        "colab": {
          "base_uri": "https://localhost:8080/"
        },
        "id": "zNp0DJ8gkSon",
        "outputId": "7b02584a-c81a-4ef1-82a2-a48dac43b472"
      },
      "execution_count": 38,
      "outputs": [
        {
          "output_type": "stream",
          "name": "stdout",
          "text": [
            "500000\n"
          ]
        }
      ]
    },
    {
      "cell_type": "code",
      "source": [
        "시가총액 = 29800 # 2만 9천 8백원\n",
        "현재가 = 5000 # 5천원\n",
        "PER = 15.79\n",
        "\n",
        "print(시가총액, type(시가총액))\n",
        "print(현재가, type(현재가))\n",
        "print(PER, type(PER))\n",
        "\n",
        "# 한국어 변수는 잘 안쓰는데, 할 수 있다 요 정도만 알고 계시면 좋을꺼 같아요"
      ],
      "metadata": {
        "colab": {
          "base_uri": "https://localhost:8080/"
        },
        "id": "3wjggILylXu2",
        "outputId": "2be9108d-f7a3-4142-a28f-77902ef551cb"
      },
      "execution_count": 39,
      "outputs": [
        {
          "output_type": "stream",
          "name": "stdout",
          "text": [
            "29800 <class 'int'>\n",
            "5000 <class 'int'>\n",
            "15.79 <class 'float'>\n"
          ]
        }
      ]
    },
    {
      "cell_type": "code",
      "source": [
        "print(\"신동욱\" + \"강사님\")"
      ],
      "metadata": {
        "colab": {
          "base_uri": "https://localhost:8080/"
        },
        "id": "HUC0SmFWmCMO",
        "outputId": "2354b56d-1a1d-4f03-95c4-7a44c35b8b77"
      },
      "execution_count": 40,
      "outputs": [
        {
          "output_type": "stream",
          "name": "stdout",
          "text": [
            "신동욱강사님\n"
          ]
        }
      ]
    },
    {
      "cell_type": "code",
      "source": [
        "print(\"신동욱 \" + \"강사님\")"
      ],
      "metadata": {
        "colab": {
          "base_uri": "https://localhost:8080/"
        },
        "id": "lEBwRCSomWCo",
        "outputId": "70c8f2f8-36ca-436f-df46-4a1b7780a5e3"
      },
      "execution_count": 41,
      "outputs": [
        {
          "output_type": "stream",
          "name": "stdout",
          "text": [
            "신동욱 강사님\n"
          ]
        }
      ]
    },
    {
      "cell_type": "code",
      "source": [
        "print(\"신동욱\" + \" 강사님\")"
      ],
      "metadata": {
        "colab": {
          "base_uri": "https://localhost:8080/"
        },
        "id": "X_v1qZCzmZMe",
        "outputId": "94d5e456-eb4e-4742-e793-7905c2d0e1c3"
      },
      "execution_count": 42,
      "outputs": [
        {
          "output_type": "stream",
          "name": "stdout",
          "text": [
            "신동욱 강사님\n"
          ]
        }
      ]
    },
    {
      "cell_type": "code",
      "source": [
        "print(\"신동욱\" + \" \" + \"강사님\")"
      ],
      "metadata": {
        "colab": {
          "base_uri": "https://localhost:8080/"
        },
        "id": "nIp-UTGQmbJ-",
        "outputId": "8d8a1019-a164-498d-886a-c7522bc656ae"
      },
      "execution_count": 43,
      "outputs": [
        {
          "output_type": "stream",
          "name": "stdout",
          "text": [
            "신동욱 강사님\n"
          ]
        }
      ]
    },
    {
      "cell_type": "code",
      "source": [
        "name = \"신동욱\"\n",
        "position = \"대표\"\n",
        "\n",
        "print(name + \" \" + position)"
      ],
      "metadata": {
        "colab": {
          "base_uri": "https://localhost:8080/"
        },
        "id": "6WmOug6umeMN",
        "outputId": "8181e807-09fb-462a-ff09-1750cb24d98e"
      },
      "execution_count": 45,
      "outputs": [
        {
          "output_type": "stream",
          "name": "stdout",
          "text": [
            "신동욱 대표\n"
          ]
        }
      ]
    },
    {
      "cell_type": "code",
      "source": [
        "year = \"2021\"\n",
        "birth_year = \"1980\"\n",
        "\n",
        "year = int(year) # 2021\n",
        "birth_year = int(birth_year) # 1980\n",
        "\n",
        "print(year - birth_year - 1)"
      ],
      "metadata": {
        "colab": {
          "base_uri": "https://localhost:8080/"
        },
        "id": "ZGMIUi-empfd",
        "outputId": "eba5ac61-322e-4fcb-b7c2-817070f6929d"
      },
      "execution_count": 50,
      "outputs": [
        {
          "output_type": "stream",
          "name": "stdout",
          "text": [
            "40\n"
          ]
        }
      ]
    },
    {
      "cell_type": "code",
      "source": [
        "num1 = -30\n",
        "num2 = 30\n",
        "\n",
        "print(num1 + num2)"
      ],
      "metadata": {
        "colab": {
          "base_uri": "https://localhost:8080/"
        },
        "id": "wFiP2L5ynAim",
        "outputId": "d210d4d2-5e68-4f21-bb93-89bc67bb786c"
      },
      "execution_count": 51,
      "outputs": [
        {
          "output_type": "stream",
          "name": "stdout",
          "text": [
            "0\n"
          ]
        }
      ]
    },
    {
      "cell_type": "code",
      "source": [
        "print(True)"
      ],
      "metadata": {
        "colab": {
          "base_uri": "https://localhost:8080/"
        },
        "id": "yPv8X4zuopj-",
        "outputId": "ba37ee3b-90e5-4a0e-8b90-8046c8ce6278"
      },
      "execution_count": 52,
      "outputs": [
        {
          "output_type": "stream",
          "name": "stdout",
          "text": [
            "True\n"
          ]
        }
      ]
    },
    {
      "cell_type": "code",
      "source": [
        "age = 40\n",
        "\n",
        "print(age >= 40)"
      ],
      "metadata": {
        "colab": {
          "base_uri": "https://localhost:8080/"
        },
        "id": "Dxv75mCQotee",
        "outputId": "760cdcc6-8006-44f4-9214-e2a2c281c939"
      },
      "execution_count": 54,
      "outputs": [
        {
          "output_type": "stream",
          "name": "stdout",
          "text": [
            "True\n"
          ]
        }
      ]
    },
    {
      "cell_type": "code",
      "source": [
        "# if~else(조건) : 조건에 따라 다르게 동작\n",
        "\n",
        "if age > 40: # age > 40(비교) : True / False(불)\n",
        "  print(\"40세 이상입니다.\") # True 일 때만 실행됨\n",
        "else:\n",
        "  print(\"40세 미만입니다.\") # False 일 때만 실행됨"
      ],
      "metadata": {
        "colab": {
          "base_uri": "https://localhost:8080/"
        },
        "id": "K_irF4Hso7hv",
        "outputId": "c2c7d593-acc4-4677-ddc2-18e9a0b3fb80"
      },
      "execution_count": 56,
      "outputs": [
        {
          "output_type": "stream",
          "name": "stdout",
          "text": [
            "40세 미만입니다.\n"
          ]
        }
      ]
    },
    {
      "cell_type": "code",
      "source": [
        "hanwha_defense = [\"주영민\", \"전원석\", \"이동언\"]\n",
        "\n",
        "print(hanwha_defense[0])"
      ],
      "metadata": {
        "colab": {
          "base_uri": "https://localhost:8080/"
        },
        "id": "Hf-SLeakpIiF",
        "outputId": "99ab14bd-947a-4c75-a550-11c778d27766"
      },
      "execution_count": 57,
      "outputs": [
        {
          "output_type": "stream",
          "name": "stdout",
          "text": [
            "주영민\n"
          ]
        }
      ]
    },
    {
      "cell_type": "code",
      "source": [
        "hanwha_defense = [\"주영민\", \"전원석\", \"이동언\"]\n",
        "position = [\"연구원\", \"주임\", \"주임\"]\n",
        "\n",
        "print(hanwha_defense[0], position[0])"
      ],
      "metadata": {
        "colab": {
          "base_uri": "https://localhost:8080/"
        },
        "id": "xZLouTVQp5Jp",
        "outputId": "63dde51f-7d07-433c-8a07-d1375ab6d65e"
      },
      "execution_count": 59,
      "outputs": [
        {
          "output_type": "stream",
          "name": "stdout",
          "text": [
            "주영민 연구원\n"
          ]
        }
      ]
    },
    {
      "cell_type": "code",
      "source": [
        "print(hanwha_defense[2], position[2])"
      ],
      "metadata": {
        "colab": {
          "base_uri": "https://localhost:8080/"
        },
        "id": "KIrPk3kzqMUc",
        "outputId": "ae919398-f6b9-42de-9e5c-7eb2bb99ba6d"
      },
      "execution_count": 60,
      "outputs": [
        {
          "output_type": "stream",
          "name": "stdout",
          "text": [
            "이동언 주임\n"
          ]
        }
      ]
    },
    {
      "cell_type": "code",
      "source": [
        "lunch = [\"짜장면\", \"짬뽕\", \"탕수육\", \"우동\"]\n",
        "lunch[2] = \"팔보채\"\n",
        "print(lunch)"
      ],
      "metadata": {
        "colab": {
          "base_uri": "https://localhost:8080/"
        },
        "id": "e_EofCelqWIV",
        "outputId": "555f713f-45bc-4165-e369-7317fc13a63e"
      },
      "execution_count": 61,
      "outputs": [
        {
          "output_type": "stream",
          "name": "stdout",
          "text": [
            "['짜장면', '짬뽕', '팔보채', '우동']\n"
          ]
        }
      ]
    },
    {
      "cell_type": "code",
      "source": [
        "lunch = (\"짜장면\", \"짬뽕\", \"탕수육\", \"우동\")\n",
        "lunch[2] = \"팔보채\"\n",
        "print(lunch)"
      ],
      "metadata": {
        "colab": {
          "base_uri": "https://localhost:8080/",
          "height": 210
        },
        "id": "SlwrBtwaq7l2",
        "outputId": "2e36b9b0-8e7c-41c0-e5c6-c0a52a6445a8"
      },
      "execution_count": 62,
      "outputs": [
        {
          "output_type": "error",
          "ename": "TypeError",
          "evalue": "ignored",
          "traceback": [
            "\u001b[0;31m---------------------------------------------------------------------------\u001b[0m",
            "\u001b[0;31mTypeError\u001b[0m                                 Traceback (most recent call last)",
            "\u001b[0;32m<ipython-input-62-886fb03cd608>\u001b[0m in \u001b[0;36m<module>\u001b[0;34m()\u001b[0m\n\u001b[1;32m      1\u001b[0m \u001b[0mlunch\u001b[0m \u001b[0;34m=\u001b[0m \u001b[0;34m(\u001b[0m\u001b[0;34m\"짜장면\"\u001b[0m\u001b[0;34m,\u001b[0m \u001b[0;34m\"짬뽕\"\u001b[0m\u001b[0;34m,\u001b[0m \u001b[0;34m\"탕수육\"\u001b[0m\u001b[0;34m,\u001b[0m \u001b[0;34m\"우동\"\u001b[0m\u001b[0;34m)\u001b[0m\u001b[0;34m\u001b[0m\u001b[0;34m\u001b[0m\u001b[0m\n\u001b[0;32m----> 2\u001b[0;31m \u001b[0mlunch\u001b[0m\u001b[0;34m[\u001b[0m\u001b[0;36m2\u001b[0m\u001b[0;34m]\u001b[0m \u001b[0;34m=\u001b[0m \u001b[0;34m\"팔보채\"\u001b[0m\u001b[0;34m\u001b[0m\u001b[0;34m\u001b[0m\u001b[0m\n\u001b[0m\u001b[1;32m      3\u001b[0m \u001b[0mprint\u001b[0m\u001b[0;34m(\u001b[0m\u001b[0mlunch\u001b[0m\u001b[0;34m)\u001b[0m\u001b[0;34m\u001b[0m\u001b[0;34m\u001b[0m\u001b[0m\n",
            "\u001b[0;31mTypeError\u001b[0m: 'tuple' object does not support item assignment"
          ]
        }
      ]
    },
    {
      "cell_type": "code",
      "source": [
        "# dict_color = {\"키1\":\"값1\", \"키2\":\"값2\", ...}\n",
        "\n",
        "dict_color = {\"red\":\"빨간색\", \"yellow\":\"노란색\"}\n",
        "\n",
        "print(dict_color[\"red\"])"
      ],
      "metadata": {
        "colab": {
          "base_uri": "https://localhost:8080/"
        },
        "id": "LD_9nwHdrDpl",
        "outputId": "4d8fccce-3cf6-4f94-c3dd-3884526d99c4"
      },
      "execution_count": 63,
      "outputs": [
        {
          "output_type": "stream",
          "name": "stdout",
          "text": [
            "빨간색\n"
          ]
        }
      ]
    },
    {
      "cell_type": "code",
      "source": [
        "print(dict_color[\"yellow\"])"
      ],
      "metadata": {
        "colab": {
          "base_uri": "https://localhost:8080/"
        },
        "id": "d8FIGPEcrvGm",
        "outputId": "0afd5f98-e185-4fae-eb63-7efcfee643dd"
      },
      "execution_count": 64,
      "outputs": [
        {
          "output_type": "stream",
          "name": "stdout",
          "text": [
            "노란색\n"
          ]
        }
      ]
    },
    {
      "cell_type": "markdown",
      "source": [
        "###**PDF 61 2. 문자열의 인덱스와 요소 추출**"
      ],
      "metadata": {
        "id": "Zcz3TIlrsfRV"
      }
    },
    {
      "cell_type": "code",
      "source": [
        "x = 'apple'\n",
        "print(x[4]) # 알파벳 'e' 출력 # 양수 인덱스"
      ],
      "metadata": {
        "colab": {
          "base_uri": "https://localhost:8080/"
        },
        "id": "U5qmmLI2r1zu",
        "outputId": "cf133e35-c11f-4f4d-af92-9b2f54ec691f"
      },
      "execution_count": 65,
      "outputs": [
        {
          "output_type": "stream",
          "name": "stdout",
          "text": [
            "e\n"
          ]
        }
      ]
    },
    {
      "cell_type": "code",
      "source": [
        "x = 'apple'\n",
        "print(x[-1]) # 알파벳 'e' 출력 # 음수 인덱스"
      ],
      "metadata": {
        "colab": {
          "base_uri": "https://localhost:8080/"
        },
        "id": "KauxozPSsvs2",
        "outputId": "1254fc29-2ffb-4201-e419-46eedd972240"
      },
      "execution_count": 66,
      "outputs": [
        {
          "output_type": "stream",
          "name": "stdout",
          "text": [
            "e\n"
          ]
        }
      ]
    },
    {
      "cell_type": "code",
      "source": [
        "# 음수 인덱싱으로 ple 출력\n",
        "\n",
        "x = 'apple'\n",
        "print(x[-3])\n",
        "# print(x[-4])\n",
        "print(x[-3:-1])\n",
        "print(x[-3:]) # 맨 끝까지 추출하고 싶을 떼 필수!"
      ],
      "metadata": {
        "colab": {
          "base_uri": "https://localhost:8080/"
        },
        "id": "kdcuaU2Bs2dN",
        "outputId": "41c21646-193d-451c-8cc7-3f4a7fd2c421"
      },
      "execution_count": 70,
      "outputs": [
        {
          "output_type": "stream",
          "name": "stdout",
          "text": [
            "p\n",
            "pl\n",
            "ple\n"
          ]
        }
      ]
    },
    {
      "cell_type": "markdown",
      "source": [
        "###**응용**"
      ],
      "metadata": {
        "id": "gLloxRYSt6Xs"
      }
    },
    {
      "cell_type": "code",
      "source": [
        "# my_car = \"53하 0192\"\n",
        "# 맨 뒤 4자리 추출\n",
        "# 음식점에서 주차 인증할 때 주로 사용\n",
        "\n",
        "my_car = \"53하 0192\"\n",
        "print(my_car[-4:])"
      ],
      "metadata": {
        "colab": {
          "base_uri": "https://localhost:8080/"
        },
        "id": "w94WoulYtbOW",
        "outputId": "7a2e7b2a-0cbb-40e5-ee64-a88e0f91370e"
      },
      "execution_count": 72,
      "outputs": [
        {
          "output_type": "stream",
          "name": "stdout",
          "text": [
            "0192\n"
          ]
        }
      ]
    },
    {
      "cell_type": "code",
      "source": [
        "# holjak = \"홀짝홀짝홀짝\"\n",
        "# 이 중에서 \"홀\"이라는 문자만 뽑기\n",
        "\n",
        "holjak = \"홀짝홀짝홀짝\"\n",
        "print(holjak[::2])\n",
        "print(holjak[::3])"
      ],
      "metadata": {
        "colab": {
          "base_uri": "https://localhost:8080/"
        },
        "id": "dQfFXKJXuaG-",
        "outputId": "faa227a5-c99e-4177-b11c-5cd44732bfad"
      },
      "execution_count": 74,
      "outputs": [
        {
          "output_type": "stream",
          "name": "stdout",
          "text": [
            "홀홀홀\n",
            "홀짝\n"
          ]
        }
      ]
    },
    {
      "cell_type": "code",
      "source": [
        "# holjak = \"홀짝홀짝홀짝\"\n",
        "# 이 중에서 \"짝홀짝홀짝홀\"이라는 반대로 문자 찍기\n",
        "\n",
        "holjak = \"홀짝홀짝홀짝\"\n",
        "print(holjak[::-1])"
      ],
      "metadata": {
        "colab": {
          "base_uri": "https://localhost:8080/"
        },
        "id": "PptI7hn6u3bV",
        "outputId": "e57d683e-5f16-4dfc-ec6c-c23df963874f"
      },
      "execution_count": 75,
      "outputs": [
        {
          "output_type": "stream",
          "name": "stdout",
          "text": [
            "짝홀짝홀짝홀\n"
          ]
        }
      ]
    },
    {
      "cell_type": "markdown",
      "source": [
        "###**PDF 66, 예제 2-11. 나머지 연산자와 소수점 절삭 연산자**"
      ],
      "metadata": {
        "id": "16Mpe2B5viWF"
      }
    },
    {
      "cell_type": "code",
      "source": [
        "x = 10 / 3\n",
        "print(x)"
      ],
      "metadata": {
        "colab": {
          "base_uri": "https://localhost:8080/"
        },
        "id": "Vgpbwib3vMc1",
        "outputId": "b28f8912-03fc-4c23-aeb2-95df2e2c32df"
      },
      "execution_count": 76,
      "outputs": [
        {
          "output_type": "stream",
          "name": "stdout",
          "text": [
            "3.3333333333333335\n"
          ]
        }
      ]
    },
    {
      "cell_type": "code",
      "source": [
        "y = 7 // 3 # 몫 연산자\n",
        "print(y)"
      ],
      "metadata": {
        "colab": {
          "base_uri": "https://localhost:8080/"
        },
        "id": "zBX3jRJXvyHF",
        "outputId": "ac06e6d2-bb7f-423b-8ec1-d69926f32356"
      },
      "execution_count": 77,
      "outputs": [
        {
          "output_type": "stream",
          "name": "stdout",
          "text": [
            "2\n"
          ]
        }
      ]
    },
    {
      "cell_type": "code",
      "source": [
        "y = 7 % 3 # 나머지 연산자\n",
        "print(y)"
      ],
      "metadata": {
        "colab": {
          "base_uri": "https://localhost:8080/"
        },
        "id": "78_jt3Ehv2SO",
        "outputId": "0d024653-f7e1-4735-d0fa-224737b4c376"
      },
      "execution_count": 78,
      "outputs": [
        {
          "output_type": "stream",
          "name": "stdout",
          "text": [
            "1\n"
          ]
        }
      ]
    },
    {
      "cell_type": "code",
      "source": [
        "# % 연산자로 대한민국 주민번호 - 남/여 구분 예제"
      ],
      "metadata": {
        "id": "ZND3pKnDwChO"
      },
      "execution_count": null,
      "outputs": []
    }
  ]
}