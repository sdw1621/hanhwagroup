{
  "nbformat": 4,
  "nbformat_minor": 0,
  "metadata": {
    "colab": {
      "name": "20211220_CH02_파이썬의 기본문법.ipynb",
      "provenance": [],
      "collapsed_sections": [
        "1qz_-Dq8YKkr",
        "ous9l8FxYiHH",
        "5G3ms9SrcVuD",
        "UIfguNmboNPK",
        "7Cdtvjrpq9-M"
      ],
      "authorship_tag": "ABX9TyNF+aObLnjACLICDD7XeJCx",
      "include_colab_link": true
    },
    "kernelspec": {
      "name": "python3",
      "display_name": "Python 3"
    },
    "language_info": {
      "name": "python"
    }
  },
  "cells": [
    {
      "cell_type": "markdown",
      "metadata": {
        "id": "view-in-github",
        "colab_type": "text"
      },
      "source": [
        "<a href=\"https://colab.research.google.com/github/sdw1621/hanhwagroup/blob/main/20211220_CH02_%ED%8C%8C%EC%9D%B4%EC%8D%AC%EC%9D%98_%EA%B8%B0%EB%B3%B8%EB%AC%B8%EB%B2%95.ipynb\" target=\"_parent\"><img src=\"https://colab.research.google.com/assets/colab-badge.svg\" alt=\"Open In Colab\"/></a>"
      ]
    },
    {
      "cell_type": "code",
      "execution_count": 1,
      "metadata": {
        "colab": {
          "base_uri": "https://localhost:8080/"
        },
        "id": "9f30a8KGUNFE",
        "outputId": "e0c0a515-cb1a-494f-8ddc-6475488f7352"
      },
      "outputs": [
        {
          "output_type": "stream",
          "name": "stdout",
          "text": [
            "==============================\n"
          ]
        }
      ],
      "source": [
        "print(\"=\"*30)"
      ]
    },
    {
      "cell_type": "code",
      "source": [
        "print(\"I'm youngmin\")"
      ],
      "metadata": {
        "colab": {
          "base_uri": "https://localhost:8080/"
        },
        "id": "MJ1LjZeIYGy7",
        "outputId": "1272da0e-02be-4d43-c3c6-0f63d3c1b42e"
      },
      "execution_count": 2,
      "outputs": [
        {
          "output_type": "stream",
          "name": "stdout",
          "text": [
            "I'm youngmin\n"
          ]
        }
      ]
    },
    {
      "cell_type": "code",
      "source": [
        "print('I say \"ho\"')"
      ],
      "metadata": {
        "colab": {
          "base_uri": "https://localhost:8080/"
        },
        "id": "islLWXKOY9sy",
        "outputId": "1eac2266-9fd2-4a9c-da29-11d7fd7a5e1e"
      },
      "execution_count": 3,
      "outputs": [
        {
          "output_type": "stream",
          "name": "stdout",
          "text": [
            "I say \"ho\"\n"
          ]
        }
      ]
    },
    {
      "cell_type": "code",
      "source": [
        "print(\"내용\")\n",
        "print('내용')\n",
        "# print() : 한 줄 띄어 쓰기, #에 해당하는 주석으로 막아주면 프로그램 실행은 하지 않음"
      ],
      "metadata": {
        "colab": {
          "base_uri": "https://localhost:8080/"
        },
        "id": "lqnHSHbFZGtn",
        "outputId": "81e37933-99e5-4887-b8e7-b00dede543c9"
      },
      "execution_count": 4,
      "outputs": [
        {
          "output_type": "stream",
          "name": "stdout",
          "text": [
            "내용\n",
            "내용\n"
          ]
        }
      ]
    },
    {
      "cell_type": "markdown",
      "source": [
        "print(\"내용\") <br>\n",
        "print('내용') <br>\n",
        "print() : 한 줄 띄어 쓰기"
      ],
      "metadata": {
        "id": "8xnbwsKqZc05"
      }
    },
    {
      "cell_type": "markdown",
      "source": [
        "###**예제 2-1. 두 수 더하기**"
      ],
      "metadata": {
        "id": "mZllZTNwbAW7"
      }
    },
    {
      "cell_type": "code",
      "source": [
        "a = 20\n",
        "# print(a)\n",
        "b = 30\n",
        "# print(b)\n",
        "c = a + b # a = 20, b = 30\n",
        "print(c)"
      ],
      "metadata": {
        "colab": {
          "base_uri": "https://localhost:8080/"
        },
        "id": "B1a1b88sZgou",
        "outputId": "0af1211c-685a-4524-c838-20ec7971f720"
      },
      "execution_count": 8,
      "outputs": [
        {
          "output_type": "stream",
          "name": "stdout",
          "text": [
            "50\n"
          ]
        }
      ]
    },
    {
      "cell_type": "markdown",
      "source": [
        "###**응용**"
      ],
      "metadata": {
        "id": "UunKR_wxf8js"
      }
    },
    {
      "cell_type": "code",
      "source": [
        "print(\"신동욱\",\"강사님\")"
      ],
      "metadata": {
        "colab": {
          "base_uri": "https://localhost:8080/"
        },
        "id": "ClOq-5Bfbm23",
        "outputId": "7172ceb2-faf5-4174-ca8c-20222f36312e"
      },
      "execution_count": 11,
      "outputs": [
        {
          "output_type": "stream",
          "name": "stdout",
          "text": [
            "신동욱 강사님\n",
            "신동욱 1\n"
          ]
        }
      ]
    },
    {
      "cell_type": "code",
      "source": [
        "name = \"신동욱\"\n",
        "position = \"강사님\"\n",
        "\n",
        "print(name + position)"
      ],
      "metadata": {
        "colab": {
          "base_uri": "https://localhost:8080/"
        },
        "id": "cTSB72t_gM74",
        "outputId": "1c41586d-6df0-4049-f9d8-58cd9339d434"
      },
      "execution_count": 10,
      "outputs": [
        {
          "output_type": "stream",
          "name": "stdout",
          "text": [
            "신동욱강사님\n"
          ]
        }
      ]
    },
    {
      "cell_type": "code",
      "source": [
        "print(\"신동욱\",1)"
      ],
      "metadata": {
        "colab": {
          "base_uri": "https://localhost:8080/"
        },
        "id": "RUn7DV5Zgu3u",
        "outputId": "52c9b7e6-82f0-47d7-e241-f039fa349ad9"
      },
      "execution_count": 12,
      "outputs": [
        {
          "output_type": "stream",
          "name": "stdout",
          "text": [
            "신동욱 1\n"
          ]
        }
      ]
    },
    {
      "cell_type": "code",
      "source": [
        "name = \"신동욱\"\n",
        "position = 1\n",
        "\n",
        "print(name + position)"
      ],
      "metadata": {
        "colab": {
          "base_uri": "https://localhost:8080/",
          "height": 210
        },
        "id": "NH9Nn6KfgawO",
        "outputId": "4d407344-3e36-4514-bed6-c15143f6d2ad"
      },
      "execution_count": 13,
      "outputs": [
        {
          "output_type": "error",
          "ename": "TypeError",
          "evalue": "ignored",
          "traceback": [
            "\u001b[0;31m---------------------------------------------------------------------------\u001b[0m",
            "\u001b[0;31mTypeError\u001b[0m                                 Traceback (most recent call last)",
            "\u001b[0;32m<ipython-input-13-c9196212989e>\u001b[0m in \u001b[0;36m<module>\u001b[0;34m()\u001b[0m\n\u001b[1;32m      2\u001b[0m \u001b[0mposition\u001b[0m \u001b[0;34m=\u001b[0m \u001b[0;36m1\u001b[0m\u001b[0;34m\u001b[0m\u001b[0;34m\u001b[0m\u001b[0m\n\u001b[1;32m      3\u001b[0m \u001b[0;34m\u001b[0m\u001b[0m\n\u001b[0;32m----> 4\u001b[0;31m \u001b[0mprint\u001b[0m\u001b[0;34m(\u001b[0m\u001b[0mname\u001b[0m \u001b[0;34m+\u001b[0m \u001b[0mposition\u001b[0m\u001b[0;34m)\u001b[0m\u001b[0;34m\u001b[0m\u001b[0;34m\u001b[0m\u001b[0m\n\u001b[0m",
            "\u001b[0;31mTypeError\u001b[0m: can only concatenate str (not \"int\") to str"
          ]
        }
      ]
    },
    {
      "cell_type": "code",
      "source": [
        "print(\"안녕하세요. 신동욱 강사입니다.\")"
      ],
      "metadata": {
        "colab": {
          "base_uri": "https://localhost:8080/"
        },
        "id": "Fww6M4X2gxvW",
        "outputId": "f86b9c26-0dc7-4154-b6da-37c152c274f3"
      },
      "execution_count": 14,
      "outputs": [
        {
          "output_type": "stream",
          "name": "stdout",
          "text": [
            "안녕하세요. 신동욱 강사입니다.\n"
          ]
        }
      ]
    },
    {
      "cell_type": "code",
      "source": [
        "print(\"안녕하세요.\")\n",
        "print(\"신동욱 강사입니다.\")"
      ],
      "metadata": {
        "colab": {
          "base_uri": "https://localhost:8080/"
        },
        "id": "881dSRUYhLiY",
        "outputId": "fd5ff965-fe4b-47be-da18-57ef119ca90c"
      },
      "execution_count": 15,
      "outputs": [
        {
          "output_type": "stream",
          "name": "stdout",
          "text": [
            "안녕하세요.\n",
            "신동욱 강사입니다.\n"
          ]
        }
      ]
    },
    {
      "cell_type": "code",
      "source": [
        "print(\"안녕하세요. \\n신동욱 강사입니다.\") # \\n : new line\n",
        "print(\"안녕하세요. \\t신동욱 강사입니다.\") # \\n : tab"
      ],
      "metadata": {
        "colab": {
          "base_uri": "https://localhost:8080/"
        },
        "id": "jfRVFSQ9hSfw",
        "outputId": "1a1ea427-9eb3-48f0-fe09-757af6d6bddd"
      },
      "execution_count": 17,
      "outputs": [
        {
          "output_type": "stream",
          "name": "stdout",
          "text": [
            "안녕하세요. \n",
            "신동욱 강사입니다.\n",
            "안녕하세요. \t신동욱 강사입니다.\n"
          ]
        }
      ]
    },
    {
      "cell_type": "code",
      "source": [
        "print(\"네이버\",\"한화\",\"삼성\",sep=\",\")"
      ],
      "metadata": {
        "colab": {
          "base_uri": "https://localhost:8080/"
        },
        "id": "5OKhV7HRhZgv",
        "outputId": "10fdfd34-12aa-4644-b315-0260381cde80"
      },
      "execution_count": 19,
      "outputs": [
        {
          "output_type": "stream",
          "name": "stdout",
          "text": [
            "네이버,한화,삼성\n"
          ]
        }
      ]
    },
    {
      "cell_type": "code",
      "source": [
        "print(\"네이버\",\"한화\",\"삼성\",sep=\"/\")"
      ],
      "metadata": {
        "colab": {
          "base_uri": "https://localhost:8080/"
        },
        "id": "1NPsnoxshs94",
        "outputId": "224d8efa-ba49-4891-e7dd-e1f8f3595944"
      },
      "execution_count": 20,
      "outputs": [
        {
          "output_type": "stream",
          "name": "stdout",
          "text": [
            "네이버/한화/삼성\n"
          ]
        }
      ]
    },
    {
      "cell_type": "code",
      "source": [
        "print(\"네이버\", end=\" \")\n",
        "print(\"한화\", end=\",\")\n",
        "print(\"삼성\")"
      ],
      "metadata": {
        "colab": {
          "base_uri": "https://localhost:8080/"
        },
        "id": "8Sd4YY58h-ev",
        "outputId": "4b11171e-49a1-459a-e113-85403a4bc8b6"
      },
      "execution_count": 24,
      "outputs": [
        {
          "output_type": "stream",
          "name": "stdout",
          "text": [
            "네이버 한화,삼성\n"
          ]
        }
      ]
    },
    {
      "cell_type": "code",
      "source": [
        "print(5/3) # / 연산자는 무조건 float 데이터 형이 된다."
      ],
      "metadata": {
        "colab": {
          "base_uri": "https://localhost:8080/"
        },
        "id": "4ZShkjjUiGQf",
        "outputId": "6cdb1759-1f0c-4ae6-b3eb-066b35ae1442"
      },
      "execution_count": 25,
      "outputs": [
        {
          "output_type": "stream",
          "name": "stdout",
          "text": [
            "1.6666666666666667\n"
          ]
        }
      ]
    },
    {
      "cell_type": "code",
      "source": [
        "type(5/3) # 파이썬에서는 중간 중간에 print 쓰는 것 처럼(중간 결과값을 보자) 자주 씁니다.\n",
        "\n",
        "int a = 2\n",
        "a = \"신동욱\""
      ],
      "metadata": {
        "colab": {
          "base_uri": "https://localhost:8080/"
        },
        "id": "6g0BhGV_iemv",
        "outputId": "2a17145f-2bf7-4585-c955-cfe5a64eec34"
      },
      "execution_count": 26,
      "outputs": [
        {
          "output_type": "execute_result",
          "data": {
            "text/plain": [
              "float"
            ]
          },
          "metadata": {},
          "execution_count": 26
        }
      ]
    },
    {
      "cell_type": "code",
      "source": [
        "a = \"신동욱\"\n",
        "type(a) # input() 함수와 많이 씀, 에러를 해결하기 위해서 각각 변수의 데이터 타입을 확인해야 할 경우가 많음"
      ],
      "metadata": {
        "colab": {
          "base_uri": "https://localhost:8080/"
        },
        "id": "mnwmvofpipDm",
        "outputId": "ec4115a8-980b-4f30-ec52-47a7b07a938b"
      },
      "execution_count": 27,
      "outputs": [
        {
          "output_type": "execute_result",
          "data": {
            "text/plain": [
              "str"
            ]
          },
          "metadata": {},
          "execution_count": 27
        }
      ]
    },
    {
      "cell_type": "code",
      "source": [
        "a = 1\n",
        "# print(type(a)) # int\n",
        "b = 1.5\n",
        "# print(type(b)) # float\n",
        "\n",
        "c = a + b # a(int) -> a(float) : 자동 형변환, b(float) => a(float) + b(float)\n",
        "print(type(c)) # float"
      ],
      "metadata": {
        "colab": {
          "base_uri": "https://localhost:8080/"
        },
        "id": "VgemGhV5i9E2",
        "outputId": "3025fcd5-5679-47e8-80da-79c5afeda1a5"
      },
      "execution_count": 34,
      "outputs": [
        {
          "output_type": "stream",
          "name": "stdout",
          "text": [
            "<class 'float'>\n"
          ]
        }
      ]
    },
    {
      "cell_type": "code",
      "source": [
        "a = 1\n",
        "a = str(a) # 강제 형변환\n",
        "print(\"신동욱\" + a) # \"신동욱\" + a(str)"
      ],
      "metadata": {
        "colab": {
          "base_uri": "https://localhost:8080/"
        },
        "id": "IoJDC8AqjUUA",
        "outputId": "62e7095d-4aae-48ad-c60e-066edad2ab9d"
      },
      "execution_count": 37,
      "outputs": [
        {
          "output_type": "stream",
          "name": "stdout",
          "text": [
            "신동욱1\n"
          ]
        }
      ]
    },
    {
      "cell_type": "code",
      "source": [
        "# 한화 시스템 주식 1주 5만원\n",
        "hanwha_system = 50000\n",
        "\n",
        "# 10주를 가지고 있다.\n",
        "hanwha_system_won = hanwha_system * 10\n",
        "\n",
        "# 나는 총 한화 시스템 50만원을 가지고 있어요\n",
        "print(hanwha_system_won)"
      ],
      "metadata": {
        "colab": {
          "base_uri": "https://localhost:8080/"
        },
        "id": "zNp0DJ8gkSon",
        "outputId": "7b02584a-c81a-4ef1-82a2-a48dac43b472"
      },
      "execution_count": 38,
      "outputs": [
        {
          "output_type": "stream",
          "name": "stdout",
          "text": [
            "500000\n"
          ]
        }
      ]
    },
    {
      "cell_type": "code",
      "source": [
        "시가총액 = 29800 # 2만 9천 8백원\n",
        "현재가 = 5000 # 5천원\n",
        "PER = 15.79\n",
        "\n",
        "print(시가총액, type(시가총액))\n",
        "print(현재가, type(현재가))\n",
        "print(PER, type(PER))\n",
        "\n",
        "# 한국어 변수는 잘 안쓰는데, 할 수 있다 요 정도만 알고 계시면 좋을꺼 같아요"
      ],
      "metadata": {
        "colab": {
          "base_uri": "https://localhost:8080/"
        },
        "id": "3wjggILylXu2",
        "outputId": "2be9108d-f7a3-4142-a28f-77902ef551cb"
      },
      "execution_count": 39,
      "outputs": [
        {
          "output_type": "stream",
          "name": "stdout",
          "text": [
            "29800 <class 'int'>\n",
            "5000 <class 'int'>\n",
            "15.79 <class 'float'>\n"
          ]
        }
      ]
    },
    {
      "cell_type": "code",
      "source": [
        "print(\"신동욱\" + \"강사님\")"
      ],
      "metadata": {
        "colab": {
          "base_uri": "https://localhost:8080/"
        },
        "id": "HUC0SmFWmCMO",
        "outputId": "2354b56d-1a1d-4f03-95c4-7a44c35b8b77"
      },
      "execution_count": 40,
      "outputs": [
        {
          "output_type": "stream",
          "name": "stdout",
          "text": [
            "신동욱강사님\n"
          ]
        }
      ]
    },
    {
      "cell_type": "code",
      "source": [
        "print(\"신동욱 \" + \"강사님\")"
      ],
      "metadata": {
        "colab": {
          "base_uri": "https://localhost:8080/"
        },
        "id": "lEBwRCSomWCo",
        "outputId": "70c8f2f8-36ca-436f-df46-4a1b7780a5e3"
      },
      "execution_count": 41,
      "outputs": [
        {
          "output_type": "stream",
          "name": "stdout",
          "text": [
            "신동욱 강사님\n"
          ]
        }
      ]
    },
    {
      "cell_type": "code",
      "source": [
        "print(\"신동욱\" + \" 강사님\")"
      ],
      "metadata": {
        "colab": {
          "base_uri": "https://localhost:8080/"
        },
        "id": "X_v1qZCzmZMe",
        "outputId": "94d5e456-eb4e-4742-e793-7905c2d0e1c3"
      },
      "execution_count": 42,
      "outputs": [
        {
          "output_type": "stream",
          "name": "stdout",
          "text": [
            "신동욱 강사님\n"
          ]
        }
      ]
    },
    {
      "cell_type": "code",
      "source": [
        "print(\"신동욱\" + \" \" + \"강사님\")"
      ],
      "metadata": {
        "colab": {
          "base_uri": "https://localhost:8080/"
        },
        "id": "nIp-UTGQmbJ-",
        "outputId": "8d8a1019-a164-498d-886a-c7522bc656ae"
      },
      "execution_count": 43,
      "outputs": [
        {
          "output_type": "stream",
          "name": "stdout",
          "text": [
            "신동욱 강사님\n"
          ]
        }
      ]
    },
    {
      "cell_type": "code",
      "source": [
        "name = \"신동욱\"\n",
        "position = \"대표\"\n",
        "\n",
        "print(name + \" \" + position)"
      ],
      "metadata": {
        "colab": {
          "base_uri": "https://localhost:8080/"
        },
        "id": "6WmOug6umeMN",
        "outputId": "8181e807-09fb-462a-ff09-1750cb24d98e"
      },
      "execution_count": 45,
      "outputs": [
        {
          "output_type": "stream",
          "name": "stdout",
          "text": [
            "신동욱 대표\n"
          ]
        }
      ]
    },
    {
      "cell_type": "code",
      "source": [
        "year = \"2021\"\n",
        "birth_year = \"1980\"\n",
        "\n",
        "year = int(year) # 2021\n",
        "birth_year = int(birth_year) # 1980\n",
        "\n",
        "print(year - birth_year - 1)"
      ],
      "metadata": {
        "colab": {
          "base_uri": "https://localhost:8080/"
        },
        "id": "ZGMIUi-empfd",
        "outputId": "eba5ac61-322e-4fcb-b7c2-817070f6929d"
      },
      "execution_count": 50,
      "outputs": [
        {
          "output_type": "stream",
          "name": "stdout",
          "text": [
            "40\n"
          ]
        }
      ]
    },
    {
      "cell_type": "code",
      "source": [
        "num1 = -30\n",
        "num2 = 30\n",
        "\n",
        "print(num1 + num2)"
      ],
      "metadata": {
        "colab": {
          "base_uri": "https://localhost:8080/"
        },
        "id": "wFiP2L5ynAim",
        "outputId": "d210d4d2-5e68-4f21-bb93-89bc67bb786c"
      },
      "execution_count": 51,
      "outputs": [
        {
          "output_type": "stream",
          "name": "stdout",
          "text": [
            "0\n"
          ]
        }
      ]
    },
    {
      "cell_type": "code",
      "source": [
        "print(True)"
      ],
      "metadata": {
        "colab": {
          "base_uri": "https://localhost:8080/"
        },
        "id": "yPv8X4zuopj-",
        "outputId": "ba37ee3b-90e5-4a0e-8b90-8046c8ce6278"
      },
      "execution_count": 52,
      "outputs": [
        {
          "output_type": "stream",
          "name": "stdout",
          "text": [
            "True\n"
          ]
        }
      ]
    },
    {
      "cell_type": "code",
      "source": [
        "age = 40\n",
        "\n",
        "print(age >= 40)"
      ],
      "metadata": {
        "colab": {
          "base_uri": "https://localhost:8080/"
        },
        "id": "Dxv75mCQotee",
        "outputId": "760cdcc6-8006-44f4-9214-e2a2c281c939"
      },
      "execution_count": 54,
      "outputs": [
        {
          "output_type": "stream",
          "name": "stdout",
          "text": [
            "True\n"
          ]
        }
      ]
    },
    {
      "cell_type": "code",
      "source": [
        "# if~else(조건) : 조건에 따라 다르게 동작\n",
        "\n",
        "if age > 40: # age > 40(비교) : True / False(불)\n",
        "  print(\"40세 이상입니다.\") # True 일 때만 실행됨\n",
        "else:\n",
        "  print(\"40세 미만입니다.\") # False 일 때만 실행됨"
      ],
      "metadata": {
        "colab": {
          "base_uri": "https://localhost:8080/"
        },
        "id": "K_irF4Hso7hv",
        "outputId": "c2c7d593-acc4-4677-ddc2-18e9a0b3fb80"
      },
      "execution_count": 56,
      "outputs": [
        {
          "output_type": "stream",
          "name": "stdout",
          "text": [
            "40세 미만입니다.\n"
          ]
        }
      ]
    },
    {
      "cell_type": "code",
      "source": [
        "hanwha_defense = [\"주영민\", \"전원석\", \"이동언\"]\n",
        "\n",
        "print(hanwha_defense[0])"
      ],
      "metadata": {
        "colab": {
          "base_uri": "https://localhost:8080/"
        },
        "id": "Hf-SLeakpIiF",
        "outputId": "99ab14bd-947a-4c75-a550-11c778d27766"
      },
      "execution_count": 57,
      "outputs": [
        {
          "output_type": "stream",
          "name": "stdout",
          "text": [
            "주영민\n"
          ]
        }
      ]
    },
    {
      "cell_type": "code",
      "source": [
        "hanwha_defense = [\"주영민\", \"전원석\", \"이동언\"]\n",
        "position = [\"연구원\", \"주임\", \"주임\"]\n",
        "\n",
        "print(hanwha_defense[0], position[0])"
      ],
      "metadata": {
        "colab": {
          "base_uri": "https://localhost:8080/"
        },
        "id": "xZLouTVQp5Jp",
        "outputId": "63dde51f-7d07-433c-8a07-d1375ab6d65e"
      },
      "execution_count": 59,
      "outputs": [
        {
          "output_type": "stream",
          "name": "stdout",
          "text": [
            "주영민 연구원\n"
          ]
        }
      ]
    },
    {
      "cell_type": "code",
      "source": [
        "print(hanwha_defense[2], position[2])"
      ],
      "metadata": {
        "colab": {
          "base_uri": "https://localhost:8080/"
        },
        "id": "KIrPk3kzqMUc",
        "outputId": "ae919398-f6b9-42de-9e5c-7eb2bb99ba6d"
      },
      "execution_count": 60,
      "outputs": [
        {
          "output_type": "stream",
          "name": "stdout",
          "text": [
            "이동언 주임\n"
          ]
        }
      ]
    },
    {
      "cell_type": "code",
      "source": [
        "lunch = [\"짜장면\", \"짬뽕\", \"탕수육\", \"우동\"]\n",
        "lunch[2] = \"팔보채\"\n",
        "print(lunch)"
      ],
      "metadata": {
        "colab": {
          "base_uri": "https://localhost:8080/"
        },
        "id": "e_EofCelqWIV",
        "outputId": "555f713f-45bc-4165-e369-7317fc13a63e"
      },
      "execution_count": 61,
      "outputs": [
        {
          "output_type": "stream",
          "name": "stdout",
          "text": [
            "['짜장면', '짬뽕', '팔보채', '우동']\n"
          ]
        }
      ]
    },
    {
      "cell_type": "code",
      "source": [
        "lunch = (\"짜장면\", \"짬뽕\", \"탕수육\", \"우동\")\n",
        "lunch[2] = \"팔보채\"\n",
        "print(lunch)"
      ],
      "metadata": {
        "colab": {
          "base_uri": "https://localhost:8080/",
          "height": 210
        },
        "id": "SlwrBtwaq7l2",
        "outputId": "2e36b9b0-8e7c-41c0-e5c6-c0a52a6445a8"
      },
      "execution_count": 62,
      "outputs": [
        {
          "output_type": "error",
          "ename": "TypeError",
          "evalue": "ignored",
          "traceback": [
            "\u001b[0;31m---------------------------------------------------------------------------\u001b[0m",
            "\u001b[0;31mTypeError\u001b[0m                                 Traceback (most recent call last)",
            "\u001b[0;32m<ipython-input-62-886fb03cd608>\u001b[0m in \u001b[0;36m<module>\u001b[0;34m()\u001b[0m\n\u001b[1;32m      1\u001b[0m \u001b[0mlunch\u001b[0m \u001b[0;34m=\u001b[0m \u001b[0;34m(\u001b[0m\u001b[0;34m\"짜장면\"\u001b[0m\u001b[0;34m,\u001b[0m \u001b[0;34m\"짬뽕\"\u001b[0m\u001b[0;34m,\u001b[0m \u001b[0;34m\"탕수육\"\u001b[0m\u001b[0;34m,\u001b[0m \u001b[0;34m\"우동\"\u001b[0m\u001b[0;34m)\u001b[0m\u001b[0;34m\u001b[0m\u001b[0;34m\u001b[0m\u001b[0m\n\u001b[0;32m----> 2\u001b[0;31m \u001b[0mlunch\u001b[0m\u001b[0;34m[\u001b[0m\u001b[0;36m2\u001b[0m\u001b[0;34m]\u001b[0m \u001b[0;34m=\u001b[0m \u001b[0;34m\"팔보채\"\u001b[0m\u001b[0;34m\u001b[0m\u001b[0;34m\u001b[0m\u001b[0m\n\u001b[0m\u001b[1;32m      3\u001b[0m \u001b[0mprint\u001b[0m\u001b[0;34m(\u001b[0m\u001b[0mlunch\u001b[0m\u001b[0;34m)\u001b[0m\u001b[0;34m\u001b[0m\u001b[0;34m\u001b[0m\u001b[0m\n",
            "\u001b[0;31mTypeError\u001b[0m: 'tuple' object does not support item assignment"
          ]
        }
      ]
    },
    {
      "cell_type": "code",
      "source": [
        "# dict_color = {\"키1\":\"값1\", \"키2\":\"값2\", ...}\n",
        "\n",
        "dict_color = {\"red\":\"빨간색\", \"yellow\":\"노란색\"}\n",
        "\n",
        "print(dict_color[\"red\"])"
      ],
      "metadata": {
        "colab": {
          "base_uri": "https://localhost:8080/"
        },
        "id": "LD_9nwHdrDpl",
        "outputId": "4d8fccce-3cf6-4f94-c3dd-3884526d99c4"
      },
      "execution_count": 63,
      "outputs": [
        {
          "output_type": "stream",
          "name": "stdout",
          "text": [
            "빨간색\n"
          ]
        }
      ]
    },
    {
      "cell_type": "code",
      "source": [
        "print(dict_color[\"yellow\"])"
      ],
      "metadata": {
        "colab": {
          "base_uri": "https://localhost:8080/"
        },
        "id": "d8FIGPEcrvGm",
        "outputId": "0afd5f98-e185-4fae-eb63-7efcfee643dd"
      },
      "execution_count": 64,
      "outputs": [
        {
          "output_type": "stream",
          "name": "stdout",
          "text": [
            "노란색\n"
          ]
        }
      ]
    },
    {
      "cell_type": "markdown",
      "source": [
        "###**PDF 61 2. 문자열의 인덱스와 요소 추출**"
      ],
      "metadata": {
        "id": "Zcz3TIlrsfRV"
      }
    },
    {
      "cell_type": "code",
      "source": [
        "x = 'apple'\n",
        "print(x[4]) # 알파벳 'e' 출력 # 양수 인덱스"
      ],
      "metadata": {
        "colab": {
          "base_uri": "https://localhost:8080/"
        },
        "id": "U5qmmLI2r1zu",
        "outputId": "cf133e35-c11f-4f4d-af92-9b2f54ec691f"
      },
      "execution_count": 65,
      "outputs": [
        {
          "output_type": "stream",
          "name": "stdout",
          "text": [
            "e\n"
          ]
        }
      ]
    },
    {
      "cell_type": "code",
      "source": [
        "x = 'apple'\n",
        "print(x[-1]) # 알파벳 'e' 출력 # 음수 인덱스"
      ],
      "metadata": {
        "colab": {
          "base_uri": "https://localhost:8080/"
        },
        "id": "KauxozPSsvs2",
        "outputId": "1254fc29-2ffb-4201-e419-46eedd972240"
      },
      "execution_count": 66,
      "outputs": [
        {
          "output_type": "stream",
          "name": "stdout",
          "text": [
            "e\n"
          ]
        }
      ]
    },
    {
      "cell_type": "code",
      "source": [
        "# 음수 인덱싱으로 ple 출력\n",
        "\n",
        "x = 'apple'\n",
        "print(x[-3])\n",
        "# print(x[-4])\n",
        "print(x[-3:-1])\n",
        "print(x[-3:]) # 맨 끝까지 추출하고 싶을 떼 필수!"
      ],
      "metadata": {
        "colab": {
          "base_uri": "https://localhost:8080/"
        },
        "id": "kdcuaU2Bs2dN",
        "outputId": "41c21646-193d-451c-8cc7-3f4a7fd2c421"
      },
      "execution_count": 70,
      "outputs": [
        {
          "output_type": "stream",
          "name": "stdout",
          "text": [
            "p\n",
            "pl\n",
            "ple\n"
          ]
        }
      ]
    },
    {
      "cell_type": "markdown",
      "source": [
        "###**응용**"
      ],
      "metadata": {
        "id": "gLloxRYSt6Xs"
      }
    },
    {
      "cell_type": "code",
      "source": [
        "# my_car = \"53하 0192\"\n",
        "# 맨 뒤 4자리 추출\n",
        "# 음식점에서 주차 인증할 때 주로 사용\n",
        "\n",
        "my_car = \"53하 0192\"\n",
        "print(my_car[-4:])"
      ],
      "metadata": {
        "colab": {
          "base_uri": "https://localhost:8080/"
        },
        "id": "w94WoulYtbOW",
        "outputId": "7a2e7b2a-0cbb-40e5-ee64-a88e0f91370e"
      },
      "execution_count": 72,
      "outputs": [
        {
          "output_type": "stream",
          "name": "stdout",
          "text": [
            "0192\n"
          ]
        }
      ]
    },
    {
      "cell_type": "code",
      "source": [
        "# holjak = \"홀짝홀짝홀짝\"\n",
        "# 이 중에서 \"홀\"이라는 문자만 뽑기\n",
        "\n",
        "holjak = \"홀짝홀짝홀짝\"\n",
        "print(holjak[::2])\n",
        "print(holjak[::3])"
      ],
      "metadata": {
        "colab": {
          "base_uri": "https://localhost:8080/"
        },
        "id": "dQfFXKJXuaG-",
        "outputId": "faa227a5-c99e-4177-b11c-5cd44732bfad"
      },
      "execution_count": 74,
      "outputs": [
        {
          "output_type": "stream",
          "name": "stdout",
          "text": [
            "홀홀홀\n",
            "홀짝\n"
          ]
        }
      ]
    },
    {
      "cell_type": "code",
      "source": [
        "# holjak = \"홀짝홀짝홀짝\"\n",
        "# 이 중에서 \"짝홀짝홀짝홀\"이라는 반대로 문자 찍기\n",
        "\n",
        "holjak = \"홀짝홀짝홀짝\"\n",
        "print(holjak[::-1])"
      ],
      "metadata": {
        "colab": {
          "base_uri": "https://localhost:8080/"
        },
        "id": "PptI7hn6u3bV",
        "outputId": "e57d683e-5f16-4dfc-ec6c-c23df963874f"
      },
      "execution_count": 75,
      "outputs": [
        {
          "output_type": "stream",
          "name": "stdout",
          "text": [
            "짝홀짝홀짝홀\n"
          ]
        }
      ]
    },
    {
      "cell_type": "markdown",
      "source": [
        "###**PDF 66, 예제 2-11. 나머지 연산자와 소수점 절삭 연산자**"
      ],
      "metadata": {
        "id": "16Mpe2B5viWF"
      }
    },
    {
      "cell_type": "code",
      "source": [
        "x = 10 / 3\n",
        "print(x)"
      ],
      "metadata": {
        "colab": {
          "base_uri": "https://localhost:8080/"
        },
        "id": "Vgpbwib3vMc1",
        "outputId": "b28f8912-03fc-4c23-aeb2-95df2e2c32df"
      },
      "execution_count": 76,
      "outputs": [
        {
          "output_type": "stream",
          "name": "stdout",
          "text": [
            "3.3333333333333335\n"
          ]
        }
      ]
    },
    {
      "cell_type": "code",
      "source": [
        "y = 7 // 3 # 몫 연산자\n",
        "print(y)"
      ],
      "metadata": {
        "colab": {
          "base_uri": "https://localhost:8080/"
        },
        "id": "zBX3jRJXvyHF",
        "outputId": "ac06e6d2-bb7f-423b-8ec1-d69926f32356"
      },
      "execution_count": 77,
      "outputs": [
        {
          "output_type": "stream",
          "name": "stdout",
          "text": [
            "2\n"
          ]
        }
      ]
    },
    {
      "cell_type": "code",
      "source": [
        "y = 7 % 3 # 나머지 연산자\n",
        "print(y)"
      ],
      "metadata": {
        "colab": {
          "base_uri": "https://localhost:8080/"
        },
        "id": "78_jt3Ehv2SO",
        "outputId": "0d024653-f7e1-4735-d0fa-224737b4c376"
      },
      "execution_count": 78,
      "outputs": [
        {
          "output_type": "stream",
          "name": "stdout",
          "text": [
            "1\n"
          ]
        }
      ]
    },
    {
      "cell_type": "code",
      "source": [
        "# % 연산자로 대한민국 주민번호 - 남/여 구분 예제\n",
        "\n",
        "jumin = \"800101-1234567\" # 앞6-뒷7\n",
        "\n",
        "# 남/여 구분\n",
        "# 뒤에서 첫번째 숫자\n",
        "# 대한민국 주민번호 체계\n",
        "# 1990년대\n",
        "# 2000년대\n",
        "\n",
        "# 내국인 (주민등록번호 뒤 첫째자리 숫자 가져오기 - 슬라이싱)\n",
        "#      < 2000      >=2000\n",
        "# 남      1           3\n",
        "# 여      2           4\n",
        "\n",
        "# 귀화외국인\n",
        "#      < 2000      >=2000\n",
        "# 남      5           7\n",
        "# 여      6           8\n",
        "\n",
        "# 패턴 (가져온 주민등록번호 뒤 첫째자리 숫자 % 2 == 0 : 여자 / 1 : 남자)\n",
        "# 남 : 홀수 / 여 : 짝수"
      ],
      "metadata": {
        "id": "ZND3pKnDwChO"
      },
      "execution_count": null,
      "outputs": []
    },
    {
      "cell_type": "code",
      "source": [
        "jumin = \"010101-3456789\" # 앞6-뒷7\n",
        "print(jumin)"
      ],
      "metadata": {
        "colab": {
          "base_uri": "https://localhost:8080/"
        },
        "id": "A4sK8OovIU-y",
        "outputId": "f129dbfb-b8b2-4813-9751-841864c066b7"
      },
      "execution_count": 80,
      "outputs": [
        {
          "output_type": "stream",
          "name": "stdout",
          "text": [
            "010101-3456789\n"
          ]
        }
      ]
    },
    {
      "cell_type": "code",
      "source": [
        "print(jumin[7])"
      ],
      "metadata": {
        "colab": {
          "base_uri": "https://localhost:8080/"
        },
        "id": "zj3jsMpqIYHq",
        "outputId": "d1811b22-d9ed-4b4b-a565-a93300886405"
      },
      "execution_count": 81,
      "outputs": [
        {
          "output_type": "stream",
          "name": "stdout",
          "text": [
            "3\n"
          ]
        }
      ]
    },
    {
      "cell_type": "code",
      "source": [
        "type(jumin[7])"
      ],
      "metadata": {
        "colab": {
          "base_uri": "https://localhost:8080/"
        },
        "id": "bYZO-ruiJIaj",
        "outputId": "c3858075-6492-4856-9543-c29a1116cefe"
      },
      "execution_count": 85,
      "outputs": [
        {
          "output_type": "execute_result",
          "data": {
            "text/plain": [
              "str"
            ]
          },
          "metadata": {},
          "execution_count": 85
        }
      ]
    },
    {
      "cell_type": "code",
      "source": [
        "int(jumin[7])"
      ],
      "metadata": {
        "colab": {
          "base_uri": "https://localhost:8080/"
        },
        "id": "OtLUlNNGIwO7",
        "outputId": "f8f9427b-b3b6-473c-bd1c-c5cb56c9c801"
      },
      "execution_count": 86,
      "outputs": [
        {
          "output_type": "execute_result",
          "data": {
            "text/plain": [
              "3"
            ]
          },
          "metadata": {},
          "execution_count": 86
        }
      ]
    },
    {
      "cell_type": "code",
      "source": [
        "jumin_last_num1 = int(jumin[7])\n",
        "print(jumin_last_num1)"
      ],
      "metadata": {
        "colab": {
          "base_uri": "https://localhost:8080/"
        },
        "id": "BuwzXZ-wI6Ei",
        "outputId": "343f2f71-64ee-4c87-dad8-738e50f9e3d3"
      },
      "execution_count": 87,
      "outputs": [
        {
          "output_type": "stream",
          "name": "stdout",
          "text": [
            "3\n"
          ]
        }
      ]
    },
    {
      "cell_type": "code",
      "source": [
        "type(jumin_last_num1)"
      ],
      "metadata": {
        "colab": {
          "base_uri": "https://localhost:8080/"
        },
        "id": "GuLQ2IzdJYti",
        "outputId": "dbdc5f66-f2e2-4e92-c601-5f3bcd49c905"
      },
      "execution_count": 88,
      "outputs": [
        {
          "output_type": "execute_result",
          "data": {
            "text/plain": [
              "int"
            ]
          },
          "metadata": {},
          "execution_count": 88
        }
      ]
    },
    {
      "cell_type": "code",
      "source": [
        "jumin_last_num1 % 2"
      ],
      "metadata": {
        "colab": {
          "base_uri": "https://localhost:8080/"
        },
        "id": "d7z3S5k5JdYK",
        "outputId": "1b506bb5-27c7-4381-e62b-7ddbe5061c16"
      },
      "execution_count": 89,
      "outputs": [
        {
          "output_type": "execute_result",
          "data": {
            "text/plain": [
              "1"
            ]
          },
          "metadata": {},
          "execution_count": 89
        }
      ]
    },
    {
      "cell_type": "code",
      "source": [
        "jumin_last_num1 % 2 == 0"
      ],
      "metadata": {
        "colab": {
          "base_uri": "https://localhost:8080/"
        },
        "id": "bvyE1ubhJf7q",
        "outputId": "6eb1ba45-fc28-478d-ab0f-a86b214f54a8"
      },
      "execution_count": 90,
      "outputs": [
        {
          "output_type": "execute_result",
          "data": {
            "text/plain": [
              "False"
            ]
          },
          "metadata": {},
          "execution_count": 90
        }
      ]
    },
    {
      "cell_type": "code",
      "source": [
        "if jumin_last_num1 % 2 == 0:\n",
        "  print(\"여자\")\n",
        "else:\n",
        "  print(\"남자\")"
      ],
      "metadata": {
        "colab": {
          "base_uri": "https://localhost:8080/"
        },
        "id": "WruDUMS-Jplq",
        "outputId": "4fa7cc9c-9c9b-4ab3-855d-917c2a7a0ecb"
      },
      "execution_count": 91,
      "outputs": [
        {
          "output_type": "stream",
          "name": "stdout",
          "text": [
            "남자\n"
          ]
        }
      ]
    },
    {
      "cell_type": "code",
      "source": [
        "# 주민등록번호에서 나이를 구하기\n",
        "jumin = \"010101-3456789\"\n",
        "\n",
        "print(jumin[0:2])"
      ],
      "metadata": {
        "colab": {
          "base_uri": "https://localhost:8080/"
        },
        "id": "08EpG4DTJ2cq",
        "outputId": "e420eb3c-a738-4f92-c526-9cfdc2cb7376"
      },
      "execution_count": 93,
      "outputs": [
        {
          "output_type": "stream",
          "name": "stdout",
          "text": [
            "01\n"
          ]
        }
      ]
    },
    {
      "cell_type": "code",
      "source": [
        "year = 2021\n",
        "\n",
        "type(jumin[0:2])"
      ],
      "metadata": {
        "colab": {
          "base_uri": "https://localhost:8080/"
        },
        "id": "KIAk0YtEKXu6",
        "outputId": "17bed590-9770-4ea0-fd2d-87e0f4c5ae3d"
      },
      "execution_count": 94,
      "outputs": [
        {
          "output_type": "execute_result",
          "data": {
            "text/plain": [
              "str"
            ]
          },
          "metadata": {},
          "execution_count": 94
        }
      ]
    },
    {
      "cell_type": "code",
      "source": [
        "jumin = \"800101-1234567\"\n",
        "\n",
        "if 0 <= int(jumin[0:2]) <= 29:\n",
        "  # print(\"20\"+jumin[0:2])\n",
        "  birth_year = \"20\"+jumin[0:2]\n",
        "else:\n",
        "  # print(\"19\"+jumin[0:2])\n",
        "  birth_year = \"19\"+jumin[0:2]\n",
        "\n",
        "print(birth_year)"
      ],
      "metadata": {
        "colab": {
          "base_uri": "https://localhost:8080/"
        },
        "id": "o25-b5fvKnjT",
        "outputId": "6b4fb4e0-3a9a-4079-c1d9-92cda496163b"
      },
      "execution_count": 98,
      "outputs": [
        {
          "output_type": "stream",
          "name": "stdout",
          "text": [
            "1980\n"
          ]
        }
      ]
    },
    {
      "cell_type": "code",
      "source": [
        "year = 2021\n",
        "\n",
        "age = year - int(birth_year) - 1\n",
        "print(age)"
      ],
      "metadata": {
        "colab": {
          "base_uri": "https://localhost:8080/"
        },
        "id": "AIGKAhfgLgtb",
        "outputId": "718c1b14-ecde-4561-8719-f3946c59692d"
      },
      "execution_count": 101,
      "outputs": [
        {
          "output_type": "stream",
          "name": "stdout",
          "text": [
            "40\n"
          ]
        }
      ]
    },
    {
      "cell_type": "code",
      "source": [
        "name = \"ShinDongWook\"\n",
        "\n",
        "# 여권의 이름은 모두 대문자\n",
        "upper_name = name.upper() # 영문 전용 함수, up (위로), 대소문자, 소문자 -> 대문자로 만드는 함수\n",
        "print(upper_name)"
      ],
      "metadata": {
        "colab": {
          "base_uri": "https://localhost:8080/"
        },
        "id": "IOfom1VTMfsJ",
        "outputId": "f6424a56-246d-48f3-e82b-a852f851d84b"
      },
      "execution_count": 102,
      "outputs": [
        {
          "output_type": "stream",
          "name": "stdout",
          "text": [
            "SHINDONGWOOK\n"
          ]
        }
      ]
    },
    {
      "cell_type": "code",
      "source": [
        "naver_id = \"SDW1904@NAVER.COM\" # 아이디는 대부분 소문자로 쓰게 추천함\n",
        "\n",
        "# 모두 소문자로 변경하기\n",
        "lower_id = naver_id.lower() # 영문 전용 함수, 대문자를 모두 소문자로 변경해주는 함수\n",
        "print(lower_id)"
      ],
      "metadata": {
        "colab": {
          "base_uri": "https://localhost:8080/"
        },
        "id": "wimGJpOjNUhL",
        "outputId": "f09c38f1-88f3-4640-a0ed-fa7eb2bc097d"
      },
      "execution_count": 103,
      "outputs": [
        {
          "output_type": "stream",
          "name": "stdout",
          "text": [
            "sdw1904@naver.com\n"
          ]
        }
      ]
    },
    {
      "cell_type": "code",
      "source": [
        "name = \"ShinDongWook\"\n",
        "\n",
        "print(name[0].islower()) # is ~냐?"
      ],
      "metadata": {
        "colab": {
          "base_uri": "https://localhost:8080/"
        },
        "id": "doNidU-GNtIK",
        "outputId": "e8ed5ee3-77a3-4f2c-81de-e9a84178fa40"
      },
      "execution_count": 107,
      "outputs": [
        {
          "output_type": "stream",
          "name": "stdout",
          "text": [
            "False\n"
          ]
        }
      ]
    },
    {
      "cell_type": "code",
      "source": [
        "name = \"ShinDongWook\"\n",
        "\n",
        "replace_name = name.replace(\"Shin\", \"Lee\")\n",
        "\n",
        "print(replace_name)"
      ],
      "metadata": {
        "colab": {
          "base_uri": "https://localhost:8080/"
        },
        "id": "R_plKMQuORfi",
        "outputId": "4ba4f159-d434-45db-9ba4-829bb650e540"
      },
      "execution_count": 109,
      "outputs": [
        {
          "output_type": "stream",
          "name": "stdout",
          "text": [
            "LeeDongWook\n"
          ]
        }
      ]
    },
    {
      "cell_type": "code",
      "source": [
        "name = \"ShinDongWook\"\n",
        "\n",
        "print(len(name))"
      ],
      "metadata": {
        "colab": {
          "base_uri": "https://localhost:8080/"
        },
        "id": "bx9fmmsdOsas",
        "outputId": "099638b9-70f0-40a5-b545-338b47b973bf"
      },
      "execution_count": 110,
      "outputs": [
        {
          "output_type": "stream",
          "name": "stdout",
          "text": [
            "12\n"
          ]
        }
      ]
    },
    {
      "cell_type": "code",
      "source": [
        "name = \"신욱\"\n",
        "\n",
        "# print(len(name))\n",
        "\n",
        "if len(name) == 3:\n",
        "  print(\"3자리의 이름을 가지고 있어요\")\n",
        "  print(name)\n",
        "else:\n",
        "  print(\"2자리 이름을 가지고 있어요\")\n",
        "  name_new = name[0] + \" \" + name[1]\n",
        "  print(name_new)"
      ],
      "metadata": {
        "colab": {
          "base_uri": "https://localhost:8080/"
        },
        "id": "_LUPO31JPDuq",
        "outputId": "aec80ed3-e94d-4023-e567-2a894edabd6f"
      },
      "execution_count": 115,
      "outputs": [
        {
          "output_type": "stream",
          "name": "stdout",
          "text": [
            "2자리 이름을 가지고 있어요\n",
            "신 욱\n"
          ]
        }
      ]
    },
    {
      "cell_type": "code",
      "source": [
        "name = \"신빛나욱\"\n",
        "\n",
        "if len(name) == 3:\n",
        "  print(\"3자리의 이름을 가지고 있어요\")\n",
        "  print(name)\n",
        "elif len(name) > 3: # 4글자 이상 이름을 가진 사람\n",
        "  print(name[0] + name[-2:])\n",
        "else:\n",
        "  print(\"2자리 이름을 가지고 있어요\")\n",
        "  name_new = name[0] + \" \" + name[1]\n",
        "  print(name_new)"
      ],
      "metadata": {
        "colab": {
          "base_uri": "https://localhost:8080/"
        },
        "id": "wTbxlQCTPODl",
        "outputId": "f8c80e61-be02-4c18-bfe6-952687d931b6"
      },
      "execution_count": 116,
      "outputs": [
        {
          "output_type": "stream",
          "name": "stdout",
          "text": [
            "신나욱\n"
          ]
        }
      ]
    },
    {
      "cell_type": "code",
      "source": [
        "# 실무\n",
        "# 보안이 있기 때문에 중간은 * 처리를 많이함\n",
        "\n",
        "name = \"신욱\"\n",
        "\n",
        "if len(name) == 3:\n",
        "  print(\"3자리의 이름을 가지고 있어요\")\n",
        "  print(name[0] + \"*\" + name[-1])\n",
        "elif len(name) > 3: # 4글자 이상 이름을 가진 사람\n",
        "  print(name[0] + \"*\" + name[-1:])\n",
        "else:\n",
        "  print(\"2자리 이름을 가지고 있어요\")\n",
        "  name_new = name[0] + \"*\"\n",
        "  print(name_new)"
      ],
      "metadata": {
        "colab": {
          "base_uri": "https://localhost:8080/"
        },
        "id": "3H30iXLyQRw6",
        "outputId": "3aaaf136-5e97-438f-965e-e56f04165af9"
      },
      "execution_count": 119,
      "outputs": [
        {
          "output_type": "stream",
          "name": "stdout",
          "text": [
            "2자리 이름을 가지고 있어요\n",
            "신*\n"
          ]
        }
      ]
    },
    {
      "cell_type": "code",
      "source": [
        "subject = \"Java programming\"\n",
        "\n",
        "print(subject.find(\"Java\")) # Java 의 시작 인덱스를 출력"
      ],
      "metadata": {
        "colab": {
          "base_uri": "https://localhost:8080/"
        },
        "id": "7eCojoI8Qkj7",
        "outputId": "dce3a842-b67f-48b2-a887-e4269dabb4ff"
      },
      "execution_count": 120,
      "outputs": [
        {
          "output_type": "stream",
          "name": "stdout",
          "text": [
            "0\n"
          ]
        }
      ]
    },
    {
      "cell_type": "code",
      "source": [
        "subject = \"Python programming\"\n",
        "\n",
        "print(subject.find(\"Java\")) # 없으면 -1을 출력해 줌"
      ],
      "metadata": {
        "colab": {
          "base_uri": "https://localhost:8080/"
        },
        "id": "LdizxSJVRD06",
        "outputId": "ba96c885-7ed4-4492-8354-87ebd023761b"
      },
      "execution_count": 121,
      "outputs": [
        {
          "output_type": "stream",
          "name": "stdout",
          "text": [
            "-1\n"
          ]
        }
      ]
    },
    {
      "cell_type": "code",
      "source": [
        "IOT = \"211220있\" # 날짜커피여부(0:없음,1:있음)\n",
        "\n",
        "print(IOT.find(\"없\")) # 없으면 -1을 출력해 줌"
      ],
      "metadata": {
        "colab": {
          "base_uri": "https://localhost:8080/"
        },
        "id": "Eqqx3NTHRGu6",
        "outputId": "051a8ab1-d1a7-4649-f46f-a75d6e98f5b5"
      },
      "execution_count": 123,
      "outputs": [
        {
          "output_type": "stream",
          "name": "stdout",
          "text": [
            "-1\n"
          ]
        }
      ]
    },
    {
      "cell_type": "code",
      "source": [
        "IOT = \"211220있\"\n",
        "\n",
        "if IOT in \"있\": # is\n",
        "  print(\"있이 있습니다.\")\n",
        "else:\n",
        "  print(\"있이 없습니다.\")"
      ],
      "metadata": {
        "colab": {
          "base_uri": "https://localhost:8080/"
        },
        "id": "bvJVHv-DRpmB",
        "outputId": "52477725-fb7c-4535-a065-bd946bb03940"
      },
      "execution_count": 125,
      "outputs": [
        {
          "output_type": "stream",
          "name": "stdout",
          "text": [
            "있이 없습니다.\n"
          ]
        }
      ]
    },
    {
      "cell_type": "code",
      "source": [
        "IOT = \"211220있\"\n",
        "\n",
        "if \"있\" in IOT: # is\n",
        "  print(\"있이 있습니다.\")\n",
        "else:\n",
        "  print(\"있이 없습니다.\")"
      ],
      "metadata": {
        "colab": {
          "base_uri": "https://localhost:8080/"
        },
        "id": "nMLH3T-RR9z6",
        "outputId": "2873f93c-3265-417b-d9ee-d6592b262211"
      },
      "execution_count": 126,
      "outputs": [
        {
          "output_type": "stream",
          "name": "stdout",
          "text": [
            "있이 있습니다.\n"
          ]
        }
      ]
    },
    {
      "cell_type": "code",
      "source": [
        "hanwhaMachineTechnology = [\"이현준\", \"정봉진\",\"전나영\",\"최유정\"] # 리스트 : 값을 여러개 가질 수 있는 데이터 형\n",
        "\n",
        "# \"정성원\", \"전나영\"\n",
        "member = input(\"검색하고 싶은 구성원의 이름을 작성하세요 : \") # 항상 문자열로 받음\n",
        "\n",
        "print(member)\n",
        "\n",
        "if member in hanwhaMachineTechnology: # is\n",
        "  print(member+\"님이 계십니다.\")\n",
        "else:\n",
        "  print(member+\"님이 부재중이십니다.\")"
      ],
      "metadata": {
        "colab": {
          "base_uri": "https://localhost:8080/"
        },
        "id": "F5Wj8C1nUhDR",
        "outputId": "508cac3b-4562-4c49-e230-9632bd15a29b"
      },
      "execution_count": 131,
      "outputs": [
        {
          "output_type": "stream",
          "name": "stdout",
          "text": [
            "검색하고 싶은 구성원의 이름을 작성하세요 : 전나영\n",
            "전나영\n",
            "전나영님이 계십니다.\n"
          ]
        }
      ]
    },
    {
      "cell_type": "markdown",
      "source": [
        "###**PDF 69, 예제 2-13 할당연산자 +=**"
      ],
      "metadata": {
        "id": "RlKAzeTJXrQP"
      }
    },
    {
      "cell_type": "code",
      "source": [
        "x = 10\n",
        "x += 20\n",
        "print(x)"
      ],
      "metadata": {
        "colab": {
          "base_uri": "https://localhost:8080/"
        },
        "id": "uopuppAQVsvw",
        "outputId": "3ad709a8-77d8-493a-ebda-304685aee1c8"
      },
      "execution_count": 132,
      "outputs": [
        {
          "output_type": "stream",
          "name": "stdout",
          "text": [
            "30\n"
          ]
        }
      ]
    },
    {
      "cell_type": "code",
      "source": [
        "x = 10\n",
        "x = x + 20\n",
        "print(x)"
      ],
      "metadata": {
        "colab": {
          "base_uri": "https://localhost:8080/"
        },
        "id": "__D4FswpX1xh",
        "outputId": "7b105964-7b9f-4bee-f4da-452b9802d9aa"
      },
      "execution_count": 133,
      "outputs": [
        {
          "output_type": "stream",
          "name": "stdout",
          "text": [
            "30\n"
          ]
        }
      ]
    },
    {
      "cell_type": "markdown",
      "source": [
        "###**PDF 71, 예제 2-15 문자열 반복**"
      ],
      "metadata": {
        "id": "1qz_-Dq8YKkr"
      }
    },
    {
      "cell_type": "code",
      "source": [
        "hello = '안녕' * 5 # 파이썬 *의 의미는 반복\n",
        "\n",
        "print(hello)"
      ],
      "metadata": {
        "colab": {
          "base_uri": "https://localhost:8080/"
        },
        "id": "3z4P28mGX4a5",
        "outputId": "ade62476-0204-4fbd-af68-77d35f58a649"
      },
      "execution_count": 134,
      "outputs": [
        {
          "output_type": "stream",
          "name": "stdout",
          "text": [
            "안녕안녕안녕안녕안녕\n"
          ]
        }
      ]
    },
    {
      "cell_type": "code",
      "source": [
        ""
      ],
      "metadata": {
        "id": "uJ-ZA530YXiJ"
      },
      "execution_count": null,
      "outputs": []
    },
    {
      "cell_type": "markdown",
      "source": [
        "###**PDF 72, 예제 2-16 문자열 길이 구하기**"
      ],
      "metadata": {
        "id": "ous9l8FxYiHH"
      }
    },
    {
      "cell_type": "code",
      "source": [
        "a = '쥐 구멍에 볕 들 날 있다.'\n",
        "\n",
        "b = len(a)\n",
        "\n",
        "print(b)"
      ],
      "metadata": {
        "colab": {
          "base_uri": "https://localhost:8080/"
        },
        "outputId": "bf7d939a-c93e-4100-e2c7-5762c9bfd966",
        "id": "j2NQsDEMYiHI"
      },
      "execution_count": 135,
      "outputs": [
        {
          "output_type": "stream",
          "name": "stdout",
          "text": [
            "15\n"
          ]
        }
      ]
    },
    {
      "cell_type": "code",
      "source": [
        ""
      ],
      "metadata": {
        "id": "deujm3thYiHI"
      },
      "execution_count": null,
      "outputs": []
    },
    {
      "cell_type": "markdown",
      "source": [
        "###**PDF 73, 예제 2-17 문자열 연결 연산자 +**"
      ],
      "metadata": {
        "id": "cmiKEpbWY-wE"
      }
    },
    {
      "cell_type": "code",
      "source": [
        "name = '홍지수'\n",
        "greet = name + \"님 안녕하세요!\"\n",
        "print(greet)"
      ],
      "metadata": {
        "colab": {
          "base_uri": "https://localhost:8080/"
        },
        "outputId": "a84af0fa-8cdb-4ef6-e347-3ab18802cfed",
        "id": "jSd-duadY-wE"
      },
      "execution_count": 136,
      "outputs": [
        {
          "output_type": "stream",
          "name": "stdout",
          "text": [
            "홍지수님 안녕하세요!\n"
          ]
        }
      ]
    },
    {
      "cell_type": "markdown",
      "source": [
        "####**응용**"
      ],
      "metadata": {
        "id": "H5J9hYCQZQ8j"
      }
    },
    {
      "cell_type": "code",
      "source": [
        "names = [\"김대중\",\"김기덕\",\"신동욱\"]\n",
        "\n",
        "for name in names: # 첫 시도 : \"김대중\", 두번째 시도 : \"김기덕\" 문자열을  name = \"김대중\", name = \"김기덕\"\n",
        "  print(name + \"님 안녕하세요\")"
      ],
      "metadata": {
        "colab": {
          "base_uri": "https://localhost:8080/"
        },
        "id": "pGsDCrYYY-wF",
        "outputId": "58de06e4-3854-4ff2-b333-058b4c22040c"
      },
      "execution_count": 139,
      "outputs": [
        {
          "output_type": "stream",
          "name": "stdout",
          "text": [
            "김대중님 안녕하세요\n",
            "김기덕님 안녕하세요\n",
            "신동욱님 안녕하세요\n"
          ]
        }
      ]
    },
    {
      "cell_type": "markdown",
      "source": [
        "###**PDF 74, 예제 2-18 문자열 연결시 오류 발생**"
      ],
      "metadata": {
        "id": "X8s_kFCuaZrf"
      }
    },
    {
      "cell_type": "code",
      "source": [
        "eng = 80\n",
        "result = '영어 점수 :' + str(eng) + '점'\n",
        "\n",
        "print(result)"
      ],
      "metadata": {
        "colab": {
          "base_uri": "https://localhost:8080/"
        },
        "id": "aSwIvbucZd_6",
        "outputId": "ba3fde5e-6702-4ed9-ae55-b27cee9d0fb8"
      },
      "execution_count": 141,
      "outputs": [
        {
          "output_type": "stream",
          "name": "stdout",
          "text": [
            "영어 점수 :80점\n"
          ]
        }
      ]
    },
    {
      "cell_type": "markdown",
      "source": [
        "###**PDF 76, 예제 2-20 문자열 포멧팅**"
      ],
      "metadata": {
        "id": "Qkc7hL0VbD4Y"
      }
    },
    {
      "cell_type": "code",
      "source": [
        "name = '김수영'\n",
        "# f-string 문법을 적용\n",
        "a = f'나는 {name}입니다.'\n",
        "print(a)"
      ],
      "metadata": {
        "colab": {
          "base_uri": "https://localhost:8080/"
        },
        "id": "JG_Y7cUIarBf",
        "outputId": "4c4eeba8-b4d9-4618-ed69-4e787cfbf09d"
      },
      "execution_count": 143,
      "outputs": [
        {
          "output_type": "stream",
          "name": "stdout",
          "text": [
            "나는 김수영입니다.\n"
          ]
        }
      ]
    },
    {
      "cell_type": "code",
      "source": [
        "name = '신동욱'\n",
        "pos = \"대표이사\"\n",
        "\n",
        "# f-string 문법을 적용\n",
        "a = f'나는 {name}입니다. 나는 직급이 {pos}니다.'\n",
        "print(a)"
      ],
      "metadata": {
        "colab": {
          "base_uri": "https://localhost:8080/"
        },
        "id": "tPJv611qbSSB",
        "outputId": "9d7c9147-24b0-4cbc-fb95-e14af2f1cfd0"
      },
      "execution_count": 147,
      "outputs": [
        {
          "output_type": "stream",
          "name": "stdout",
          "text": [
            "나는 신동욱입니다. 나는 직급이 대표이사니다.\n"
          ]
        }
      ]
    },
    {
      "cell_type": "code",
      "source": [
        "age = 20\n",
        "\n",
        "a = f'나이는 {age} 살 입니다.'\n",
        "print(a)"
      ],
      "metadata": {
        "colab": {
          "base_uri": "https://localhost:8080/"
        },
        "id": "NAl_qD5TbrO4",
        "outputId": "8e6084a7-39d4-49c7-80e2-03d9345dd5fd"
      },
      "execution_count": 148,
      "outputs": [
        {
          "output_type": "stream",
          "name": "stdout",
          "text": [
            "나이는 20 살 입니다.\n"
          ]
        }
      ]
    },
    {
      "cell_type": "markdown",
      "source": [
        "###**PDF 78, 예제 2-22 정수형 숫자 0으로 채우기 : %2d**"
      ],
      "metadata": {
        "id": "5G3ms9SrcVuD"
      }
    },
    {
      "cell_type": "code",
      "source": [
        "year = 2021\n",
        "month = 1\n",
        "day = 20\n",
        "\n",
        "a = '%d-%02d-%02d' %(year, month, day)\n",
        "print(a)"
      ],
      "metadata": {
        "colab": {
          "base_uri": "https://localhost:8080/"
        },
        "id": "JeXKBgsScI5w",
        "outputId": "54c52199-49a7-46d6-c387-8e99e1f43a91"
      },
      "execution_count": 150,
      "outputs": [
        {
          "output_type": "stream",
          "name": "stdout",
          "text": [
            "2021-01-20\n"
          ]
        }
      ]
    },
    {
      "cell_type": "code",
      "source": [
        ""
      ],
      "metadata": {
        "id": "jgbXqjSLcrZo"
      },
      "execution_count": null,
      "outputs": []
    },
    {
      "cell_type": "markdown",
      "source": [
        "###**PDF 79, 예제 2-23 문자열 포멧팅 : %.2f**"
      ],
      "metadata": {
        "id": "5jOBiw6EdNOl"
      }
    },
    {
      "cell_type": "code",
      "source": [
        "height = 172.5\n",
        "a = '키는 %.2f입니다.' %height\n",
        "print(a)"
      ],
      "metadata": {
        "colab": {
          "base_uri": "https://localhost:8080/"
        },
        "outputId": "d4a94cfc-1c27-46d1-f84e-5ed7dc6b3c41",
        "id": "S1CFAInadNOm"
      },
      "execution_count": 151,
      "outputs": [
        {
          "output_type": "stream",
          "name": "stdout",
          "text": [
            "키는 172.50입니다.\n"
          ]
        }
      ]
    },
    {
      "cell_type": "code",
      "source": [
        "height = 172.5\n",
        "a = '키는 %.f입니다.' %height\n",
        "print(a)"
      ],
      "metadata": {
        "colab": {
          "base_uri": "https://localhost:8080/"
        },
        "id": "YhyICUQVdNOm",
        "outputId": "f35b0cbd-7e5f-4c4a-f225-3f1617fbb2e9"
      },
      "execution_count": 152,
      "outputs": [
        {
          "output_type": "stream",
          "name": "stdout",
          "text": [
            "키는 172입니다.\n"
          ]
        }
      ]
    },
    {
      "cell_type": "code",
      "source": [
        "# count 함수 사용법\n",
        "# https://ooyoung.tistory.com/76\n",
        "\n",
        "print('ooyyy'.count('y'))"
      ],
      "metadata": {
        "colab": {
          "base_uri": "https://localhost:8080/"
        },
        "id": "S1ZK-NjRdnNp",
        "outputId": "3bb062d6-b021-4da8-c9ae-5bbee2a3bb0f"
      },
      "execution_count": 154,
      "outputs": [
        {
          "output_type": "stream",
          "name": "stdout",
          "text": [
            "3\n"
          ]
        }
      ]
    },
    {
      "cell_type": "code",
      "source": [
        "a = [1, 1, 1, 2, 3]\n",
        "a.count(1)"
      ],
      "metadata": {
        "colab": {
          "base_uri": "https://localhost:8080/"
        },
        "id": "fB-l5vlLegeY",
        "outputId": "842e5d14-4482-4484-95be-5215c524d96a"
      },
      "execution_count": 155,
      "outputs": [
        {
          "output_type": "execute_result",
          "data": {
            "text/plain": [
              "3"
            ]
          },
          "metadata": {},
          "execution_count": 155
        }
      ]
    },
    {
      "cell_type": "code",
      "source": [
        "starbucks = [\"송성권\", \"주영민\", \"송우진\", \"이동언\", \"정봉진\", \"전원석\", \"김대웅\", \"계영진\", \"유근영\", \"이민수\",\"계영진\"]\n",
        "\n",
        "starbucks.count(\"계영진\")"
      ],
      "metadata": {
        "colab": {
          "base_uri": "https://localhost:8080/"
        },
        "id": "cdLrRVE4etcI",
        "outputId": "4067641d-2103-489b-9b11-1c97ab91435b"
      },
      "execution_count": 156,
      "outputs": [
        {
          "output_type": "execute_result",
          "data": {
            "text/plain": [
              "2"
            ]
          },
          "metadata": {},
          "execution_count": 156
        }
      ]
    },
    {
      "cell_type": "code",
      "source": [
        "resume = \"\"\"저는 신동욱입니다. \n",
        "저는 부천시 살아요\n",
        "저는 40세에요\n",
        "\"\"\"\n",
        "\n",
        "resume.count(\"저는\")"
      ],
      "metadata": {
        "colab": {
          "base_uri": "https://localhost:8080/"
        },
        "id": "XtSPw7FJfV7n",
        "outputId": "9001d0a1-c732-4f09-c640-75463f983b7a"
      },
      "execution_count": 157,
      "outputs": [
        {
          "output_type": "execute_result",
          "data": {
            "text/plain": [
              "3"
            ]
          },
          "metadata": {},
          "execution_count": 157
        }
      ]
    },
    {
      "cell_type": "code",
      "source": [
        "mydata = \"신동욱/40/부천시\" # 개인정보\n",
        "\n",
        "# split 함수 사용\n",
        "mydata_split = mydata.split(\"/\")\n",
        "print(mydata_split)"
      ],
      "metadata": {
        "colab": {
          "base_uri": "https://localhost:8080/"
        },
        "id": "a7GAPOM2fkOx",
        "outputId": "612efa0d-df13-4ebd-dce1-b9b846ce11a2"
      },
      "execution_count": 159,
      "outputs": [
        {
          "output_type": "stream",
          "name": "stdout",
          "text": [
            "['신동욱', '40', '부천시']\n"
          ]
        }
      ]
    },
    {
      "cell_type": "code",
      "source": [
        "print(mydata_split[0])"
      ],
      "metadata": {
        "colab": {
          "base_uri": "https://localhost:8080/"
        },
        "id": "pRJW88jUjyUZ",
        "outputId": "84f42074-85fd-4915-f490-5e8aa82f7898"
      },
      "execution_count": 160,
      "outputs": [
        {
          "output_type": "stream",
          "name": "stdout",
          "text": [
            "신동욱\n"
          ]
        }
      ]
    },
    {
      "cell_type": "code",
      "source": [
        "print(mydata_split[0][0] + \"*\" + mydata_split[0][2])"
      ],
      "metadata": {
        "colab": {
          "base_uri": "https://localhost:8080/"
        },
        "id": "DIjaIOqHj5Ng",
        "outputId": "77219427-fda7-40fd-c6ef-66fb8e76e592"
      },
      "execution_count": 163,
      "outputs": [
        {
          "output_type": "stream",
          "name": "stdout",
          "text": [
            "신*욱\n"
          ]
        }
      ]
    },
    {
      "cell_type": "code",
      "source": [
        "year = \"2021-12-20\"\n",
        "\n",
        "year_split = year.split(\"-\")\n",
        "year_split[0]"
      ],
      "metadata": {
        "colab": {
          "base_uri": "https://localhost:8080/",
          "height": 35
        },
        "id": "EhiDso9YkGEA",
        "outputId": "5aa0b0dc-479c-4019-df07-d321f477d234"
      },
      "execution_count": 164,
      "outputs": [
        {
          "output_type": "execute_result",
          "data": {
            "application/vnd.google.colaboratory.intrinsic+json": {
              "type": "string"
            },
            "text/plain": [
              "'2021'"
            ]
          },
          "metadata": {},
          "execution_count": 164
        }
      ]
    },
    {
      "cell_type": "code",
      "source": [
        "# append 함수 ap(after) + pend(붙이다) : 맨 끝에 붙이다. 줄 서기\n",
        "\n",
        "subject = ['국어', '수학' ,'영어', '과학']\n",
        "\n",
        "subject.append('사회')\n",
        "print(subject)"
      ],
      "metadata": {
        "colab": {
          "base_uri": "https://localhost:8080/"
        },
        "id": "x4_Skt5mkgh_",
        "outputId": "eacb77e8-7e3a-43eb-dc10-7c32423caf46"
      },
      "execution_count": 165,
      "outputs": [
        {
          "output_type": "stream",
          "name": "stdout",
          "text": [
            "['국어', '수학', '영어', '과학', '사회']\n"
          ]
        }
      ]
    },
    {
      "cell_type": "code",
      "source": [
        "# insert 함수 (삽입하다) - 새치기 가능\n",
        "# insert(\"인덱스 번호\",\"삽입할 값\")\n",
        "\n",
        "# print(subject)\n",
        "subject.insert(2, \"코딩\")\n",
        "\n",
        "print(subject)"
      ],
      "metadata": {
        "colab": {
          "base_uri": "https://localhost:8080/"
        },
        "id": "mRY-j0kYlGu4",
        "outputId": "3ef98a71-d6fd-445e-b6c7-c1314358706e"
      },
      "execution_count": 167,
      "outputs": [
        {
          "output_type": "stream",
          "name": "stdout",
          "text": [
            "['국어', '수학', '코딩', '영어', '과학', '사회']\n"
          ]
        }
      ]
    },
    {
      "cell_type": "code",
      "source": [
        "# 키오스크\n",
        "cus_id = input(\"고객님의 이름을 입력하세요.\") # 무조건 문자열로 받음, 신동욱\n",
        "mac_menu = input(\"고객님이 드시고 싶은 메뉴를 입력하세요.\") # 맥모닝\n",
        "\n",
        "print(cus_id + \"님 안녕하세요 \" + mac_menu + \"를 선택했습니다.\")"
      ],
      "metadata": {
        "colab": {
          "base_uri": "https://localhost:8080/"
        },
        "id": "74INdbp3lSyq",
        "outputId": "3a115dd2-eb89-47a2-c542-3e13941016bf"
      },
      "execution_count": 168,
      "outputs": [
        {
          "output_type": "stream",
          "name": "stdout",
          "text": [
            "고객님의 이름을 입력하세요.신동욱\n",
            "고객님이 드시고 싶은 메뉴를 입력하세요.맥모닝\n",
            "신동욱님 안녕하세요맥모닝를 선택했습니다.\n"
          ]
        }
      ]
    },
    {
      "cell_type": "markdown",
      "source": [
        "###**PDF 96, Q2-4,  코딩 연습 : 문자열 추출과 문자열 포멧팅**"
      ],
      "metadata": {
        "id": "UIfguNmboNPK"
      }
    },
    {
      "cell_type": "code",
      "source": [
        "name = \"홍길동\"\n",
        "age = 30\n",
        "height = 171.5\n",
        "\n",
        "# print('성 :', name[0])\n",
        "# print('이름 :', name[1:])\n",
        "print(\"%s의 나이 : %d세, 키 : %.2fcm\" %(name, age, height))"
      ],
      "metadata": {
        "colab": {
          "base_uri": "https://localhost:8080/"
        },
        "id": "HDmoORy8nY9w",
        "outputId": "aa9c0233-785f-460f-b394-157870127ffe"
      },
      "execution_count": 175,
      "outputs": [
        {
          "output_type": "stream",
          "name": "stdout",
          "text": [
            "홍길동의 나이 : 30세, 키 : 171.50cm\n"
          ]
        }
      ]
    },
    {
      "cell_type": "code",
      "source": [
        ""
      ],
      "metadata": {
        "id": "mKPk2JDMopYl"
      },
      "execution_count": null,
      "outputs": []
    },
    {
      "cell_type": "markdown",
      "source": [
        "###**PDF 97, Q2-5,  코딩 연습 : 키보드로 성적 입력받아 평균 구하기**"
      ],
      "metadata": {
        "id": "7Cdtvjrpq9-M"
      }
    },
    {
      "cell_type": "code",
      "source": [
        "name = input(\"학생 이름을 입력하세요 :\") # 황예린 # 문자열\n",
        "kor = int(input(\"국어 성적을 입력하세요 :\")) # 83 # 문자열\n",
        "eng = int(input(\"영어 성적을 입력하세요 :\")) # 85 # 문자열\n",
        "math = int(input(\"수학 성적을 입력하세요 :\")) # 91 # 문자열\n",
        "\n",
        "# print(name, kor, eng, math) \n",
        "\n",
        "total = kor + eng + math # 3과목 합계 # 838591\n",
        "avg = total / 3 # 3과목 평균\n",
        "\n",
        "# print(\"%s %d %d %d %.1f\" %(name, kor, eng, math, avg))\n",
        "print(\"이름:%s, 국어:%d, 영어:%d, 수학:%d, 평균:%.1f점\" %(name, kor, eng, math, avg))"
      ],
      "metadata": {
        "colab": {
          "base_uri": "https://localhost:8080/"
        },
        "id": "NBYCgcscq9-W",
        "outputId": "0e5ab502-9ead-458a-aa73-f18aea5ec599"
      },
      "execution_count": 181,
      "outputs": [
        {
          "output_type": "stream",
          "name": "stdout",
          "text": [
            "학생 이름을 입력하세요 :황예린\n",
            "국어 성적을 입력하세요 :83\n",
            "영어 성적을 입력하세요 :85\n",
            "수학 성적을 입력하세요 :91\n",
            "이름:황예린, 국어:83, 영어:85, 수학:91, 평균:86.3\n"
          ]
        }
      ]
    },
    {
      "cell_type": "code",
      "source": [
        ""
      ],
      "metadata": {
        "id": "yDkt_BzKrWnI"
      },
      "execution_count": null,
      "outputs": []
    },
    {
      "cell_type": "markdown",
      "source": [
        "###**PDF 98, 예제 2-35 주석문**"
      ],
      "metadata": {
        "id": "Am9Pj7VCxGWf"
      }
    },
    {
      "cell_type": "code",
      "source": [
        "\"\"\"\n",
        "프로그램명 : 두 수 더하기\n",
        "작성자 : 신동욱\n",
        "작성일 : 2021.12.20\n",
        "\"\"\"\n",
        "\n",
        "''' \n",
        "프로그램명 : 두 수 더하기\n",
        "작성자 : 신동욱\n",
        "작성일 : 2021.12.20\n",
        "'''\n",
        "\n",
        "# 파이썬에서는 여러 줄 주석\n",
        "# 이력서 여러 줄 내용들, IOT 데이터들 여러 줄 주석으로 가져옴"
      ],
      "metadata": {
        "id": "TvT0vRacxGW2"
      },
      "execution_count": null,
      "outputs": []
    }
  ]
}