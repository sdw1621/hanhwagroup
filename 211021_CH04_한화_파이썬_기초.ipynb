{
  "nbformat": 4,
  "nbformat_minor": 0,
  "metadata": {
    "colab": {
      "name": "211021_CH04_한화 파이썬 기초.ipynb",
      "provenance": [],
      "collapsed_sections": [
        "3GFwcRKV82pm",
        "lNrLPtscZXY_",
        "mWAF6bV7UQma",
        "BVCsk6QTbEoT",
        "iS4Bs6gtb6sA",
        "PgxW5sKFXDv1",
        "I31NcF_Dnsxm",
        "FIR2tjIoeySI",
        "D8kk_ZfNhsF_",
        "N5aVuodYi2lQ"
      ],
      "authorship_tag": "ABX9TyN8x18yl1vzuSw/bA5mM2Il",
      "include_colab_link": true
    },
    "kernelspec": {
      "name": "python3",
      "display_name": "Python 3"
    },
    "language_info": {
      "name": "python"
    }
  },
  "cells": [
    {
      "cell_type": "markdown",
      "metadata": {
        "id": "view-in-github",
        "colab_type": "text"
      },
      "source": [
        "<a href=\"https://colab.research.google.com/github/sdw1621/hanhwagroup/blob/main/211021_CH04_%ED%95%9C%ED%99%94_%ED%8C%8C%EC%9D%B4%EC%8D%AC_%EA%B8%B0%EC%B4%88.ipynb\" target=\"_parent\"><img src=\"https://colab.research.google.com/assets/colab-badge.svg\" alt=\"Open In Colab\"/></a>"
      ]
    },
    {
      "cell_type": "markdown",
      "metadata": {
        "id": "m-bDXAw8If7y"
      },
      "source": [
        "### **예제 4-1. for문으로 출력하기**"
      ]
    },
    {
      "cell_type": "code",
      "metadata": {
        "colab": {
          "base_uri": "https://localhost:8080/"
        },
        "id": "JIxMXZVkH1go",
        "outputId": "1bc31c52-818e-4ffd-971e-a4315e2b0f92"
      },
      "source": [
        "for x in range(5):\n",
        "  print(\"안녕하세요.\")"
      ],
      "execution_count": null,
      "outputs": [
        {
          "output_type": "stream",
          "name": "stdout",
          "text": [
            "안녕하세요.\n",
            "안녕하세요.\n",
            "안녕하세요.\n",
            "안녕하세요.\n",
            "안녕하세요.\n"
          ]
        }
      ]
    },
    {
      "cell_type": "markdown",
      "metadata": {
        "id": "RNnF5IFKJDmG"
      },
      "source": [
        "###**예제 4-2 while문으로 반복 출력하기**"
      ]
    },
    {
      "cell_type": "code",
      "metadata": {
        "colab": {
          "base_uri": "https://localhost:8080/"
        },
        "id": "cisZGgLBImpn",
        "outputId": "2898eece-653f-4ee8-870c-03874d29e160"
      },
      "source": [
        "x = 0\n",
        "\n",
        "while x < 5:\n",
        "  print(\"안녕하세요\")\n",
        "  x = x + 1"
      ],
      "execution_count": null,
      "outputs": [
        {
          "output_type": "stream",
          "name": "stdout",
          "text": [
            "안녕하세요\n",
            "안녕하세요\n",
            "안녕하세요\n",
            "안녕하세요\n",
            "안녕하세요\n"
          ]
        }
      ]
    },
    {
      "cell_type": "markdown",
      "metadata": {
        "id": "jkwYgrYaPDAm"
      },
      "source": [
        "###**예제 4-3 1~10의 합계(for문)**"
      ]
    },
    {
      "cell_type": "code",
      "metadata": {
        "colab": {
          "base_uri": "https://localhost:8080/"
        },
        "id": "YP46jxXbNg-s",
        "outputId": "2baff724-ea76-4097-bf40-4a5ae12b7bb1"
      },
      "source": [
        "sum = 0\n",
        "\n",
        "for i in range(1, 11):\n",
        "  sum = sum + i\n",
        "  print('i의 값:%d, 합계:%d'%(i, sum))"
      ],
      "execution_count": 1,
      "outputs": [
        {
          "output_type": "stream",
          "name": "stdout",
          "text": [
            "i의 값:1, 합계:1\n",
            "i의 값:2, 합계:3\n",
            "i의 값:3, 합계:6\n",
            "i의 값:4, 합계:10\n",
            "i의 값:5, 합계:15\n",
            "i의 값:6, 합계:21\n",
            "i의 값:7, 합계:28\n",
            "i의 값:8, 합계:36\n",
            "i의 값:9, 합계:45\n",
            "i의 값:10, 합계:55\n"
          ]
        }
      ]
    },
    {
      "cell_type": "markdown",
      "metadata": {
        "id": "Pe6f0abMQEJ0"
      },
      "source": [
        "###**예제 4-4 range() 함수의 활용**"
      ]
    },
    {
      "cell_type": "code",
      "metadata": {
        "colab": {
          "base_uri": "https://localhost:8080/"
        },
        "id": "IJd6o4KRPdfC",
        "outputId": "cb3609b5-ff06-444b-d048-073b0fab7252"
      },
      "source": [
        "for i in range(10):\n",
        "  print(i, end = ' ')\n",
        "print()"
      ],
      "execution_count": 3,
      "outputs": [
        {
          "output_type": "stream",
          "name": "stdout",
          "text": [
            "0 1 2 3 4 5 6 7 8 9 \n"
          ]
        }
      ]
    },
    {
      "cell_type": "code",
      "metadata": {
        "colab": {
          "base_uri": "https://localhost:8080/"
        },
        "id": "DbG_mPEWEi9b",
        "outputId": "8b33a119-d843-41f0-c150-0c395d3e6e2d"
      },
      "source": [
        "for i in range(1, 11):\n",
        "  print(i, end = ' ')\n",
        "print()"
      ],
      "execution_count": 4,
      "outputs": [
        {
          "output_type": "stream",
          "name": "stdout",
          "text": [
            "1 2 3 4 5 6 7 8 9 10 \n"
          ]
        }
      ]
    },
    {
      "cell_type": "code",
      "metadata": {
        "colab": {
          "base_uri": "https://localhost:8080/"
        },
        "id": "Z_eaOXyQEqMK",
        "outputId": "e8e2d865-d896-4cde-bf21-d0bbfbcaff4c"
      },
      "source": [
        "for i in range(1, 10, 2):\n",
        "  print(i, end = ' ')\n",
        "print()"
      ],
      "execution_count": 5,
      "outputs": [
        {
          "output_type": "stream",
          "name": "stdout",
          "text": [
            "1 3 5 7 9 \n"
          ]
        }
      ]
    },
    {
      "cell_type": "code",
      "metadata": {
        "colab": {
          "base_uri": "https://localhost:8080/"
        },
        "id": "2ijwtqATEvML",
        "outputId": "96bba70e-4ca8-44fc-a91b-5361773b2b7e"
      },
      "source": [
        "for i in range(20, 0, -2):\n",
        "  print(i, end = ' ')"
      ],
      "execution_count": 6,
      "outputs": [
        {
          "output_type": "stream",
          "name": "stdout",
          "text": [
            "20 18 16 14 12 10 8 6 4 2 "
          ]
        }
      ]
    },
    {
      "cell_type": "markdown",
      "metadata": {
        "id": "HZ1XMxjtQV5e"
      },
      "source": [
        "###**예제 4-5, 3의 배수의 합계**"
      ]
    },
    {
      "cell_type": "code",
      "metadata": {
        "colab": {
          "base_uri": "https://localhost:8080/"
        },
        "id": "Hi2-aRzGQIiJ",
        "outputId": "6be46948-0de6-4fac-f292-dbd7e9a697ba"
      },
      "source": [
        "sum = 0\n",
        "\n",
        "for i in range(1, 101):\n",
        "  if i % 3 == 0:\n",
        "    print('%d' %i, end = ' ')\n",
        "    sum = sum + i\n",
        "\n",
        "print('\\n','-'*50)\n",
        "print('1~100에서 3의 배수의 합계 : %d'%sum)"
      ],
      "execution_count": 7,
      "outputs": [
        {
          "output_type": "stream",
          "name": "stdout",
          "text": [
            "3 6 9 12 15 18 21 24 27 30 33 36 39 42 45 48 51 54 57 60 63 66 69 72 75 78 81 84 87 90 93 96 99 \n",
            " --------------------------------------------------\n",
            "1~100에서 3의 배수의 합계 : 1683\n"
          ]
        }
      ]
    },
    {
      "cell_type": "markdown",
      "metadata": {
        "id": "dgWfuaQYRmnO"
      },
      "source": [
        "###**예제 4-6 문자열 세로 출력**"
      ]
    },
    {
      "cell_type": "code",
      "metadata": {
        "colab": {
          "base_uri": "https://localhost:8080/"
        },
        "id": "0P03kie5RmnP",
        "outputId": "a77544eb-17d8-44d5-f972-5f05bf3eb817"
      },
      "source": [
        "word = input('영어 문장을 입력하세요 : ')\n",
        "\n",
        "for x in word:\n",
        "  print(x)"
      ],
      "execution_count": 8,
      "outputs": [
        {
          "output_type": "stream",
          "name": "stdout",
          "text": [
            "영어 문장을 입력하세요 : i see!\n",
            "i\n",
            " \n",
            "s\n",
            "e\n",
            "e\n",
            "!\n"
          ]
        }
      ]
    },
    {
      "cell_type": "markdown",
      "metadata": {
        "id": "5yFH-vBiSGn6"
      },
      "source": [
        "###**예제 4-7 섭씨 온도를 화씨로 변환**"
      ]
    },
    {
      "cell_type": "code",
      "metadata": {
        "colab": {
          "base_uri": "https://localhost:8080/"
        },
        "id": "SB6QfQqhSGn7",
        "outputId": "eb4a599b-40cc-4836-fe3d-c03ac2f44b44"
      },
      "source": [
        "print('-' * 30)\n",
        "print('   섭씨   화씨')\n",
        "print('-' * 30)\n",
        "\n",
        "for c in range(-20, 31, 5):\n",
        "  f = c * 9.0/5.0+32.0\n",
        "  print('%8d %6.1f' %(c, f))\n",
        "\n",
        "print('-' * 30)"
      ],
      "execution_count": 9,
      "outputs": [
        {
          "output_type": "stream",
          "name": "stdout",
          "text": [
            "------------------------------\n",
            "   섭씨   화씨\n",
            "------------------------------\n",
            "     -20   -4.0\n",
            "     -15    5.0\n",
            "     -10   14.0\n",
            "      -5   23.0\n",
            "       0   32.0\n",
            "       5   41.0\n",
            "      10   50.0\n",
            "      15   59.0\n",
            "      20   68.0\n",
            "      25   77.0\n",
            "      30   86.0\n",
            "------------------------------\n"
          ]
        }
      ]
    },
    {
      "cell_type": "markdown",
      "metadata": {
        "id": "MwKVkeD2hzPM"
      },
      "source": [
        "###**PDF 151, Q4-1 코딩 연습 : 5의 배수가 아닌 수의 합계 구하기**"
      ]
    },
    {
      "cell_type": "code",
      "metadata": {
        "colab": {
          "base_uri": "https://localhost:8080/"
        },
        "id": "yS9tIGsIhzPN",
        "outputId": "46d339e2-d7ca-4da7-8ba2-0bc436356ff8"
      },
      "source": [
        "# 키보드의 정수 범위의 시작 수와 끝 수를 입력받아 : input() 함수\n",
        "n1 = int(input('시작 수를 입력하세요 :'))\n",
        "n2 = int(input('끝 수를 입력하세요 :'))\n",
        "\n",
        "sum = 0\n",
        "\n",
        "for i in range(n1, n2):\n",
        "  # 5의 배수가 아닌 수\n",
        "  if i % 5 != 0:\n",
        "    # 합계\n",
        "    sum = sum + i\n",
        "\n",
        "print('-'*50)\n",
        "print('%d에서 %d까지 5의 배수가 아닌 수의 합계 : %d' %(n1, n2, sum))"
      ],
      "execution_count": 11,
      "outputs": [
        {
          "output_type": "stream",
          "name": "stdout",
          "text": [
            "시작 수를 입력하세요 :100\n",
            "끝 수를 입력하세요 :200\n",
            "--------------------------------------------------\n",
            "100에서 200까지 5의 배수가 아닌 수의 합계 : 12000\n"
          ]
        }
      ]
    },
    {
      "cell_type": "markdown",
      "metadata": {
        "id": "K1kN-ieZij5X"
      },
      "source": [
        "###**PDF 152, Q4-2 코딩 연습 : 전화번호에서 하이픈(-) 삭제하기**"
      ]
    },
    {
      "cell_type": "code",
      "metadata": {
        "colab": {
          "base_uri": "https://localhost:8080/"
        },
        "id": "hiONfEE6ij5Y",
        "outputId": "ec8ecf79-9eb1-4957-8514-cb5e09bdb7da"
      },
      "source": [
        "# 하이픈이 포함된 휴대폰 번호 입력\n",
        "number = input('하이픈(-)를 포함한 휴대폰 번호를 입력하세요: ')\n",
        "\n",
        "for x in number:\n",
        "  if x != '-':\n",
        "    # print(x)\n",
        "    print('%s' %x, end='')"
      ],
      "execution_count": 17,
      "outputs": [
        {
          "output_type": "stream",
          "name": "stdout",
          "text": [
            "하이픈(-)를 포함한 휴대폰 번호를 입력하세요: 010-2731-2579\n",
            "01027312579"
          ]
        }
      ]
    },
    {
      "cell_type": "code",
      "metadata": {
        "colab": {
          "base_uri": "https://localhost:8080/"
        },
        "id": "gfa0DOVjV0CQ",
        "outputId": "4c58c6e4-151e-49b4-d023-d11e70c83d79"
      },
      "source": [
        "# 하이픈이 포함된 휴대폰 번호 입력\n",
        "number = input('휴대폰 번호를 입력하세요: ')\n",
        "\n",
        "for x in number:\n",
        "  remove_x = x.replace(\"-\",\"\") # 숫자 or '-' 한 개씩을 가져다 -가 있으면 없애기\n",
        "  print(remove_x, end='') # 따로 떨어진 숫자를 한 줄에 합치기"
      ],
      "execution_count": 20,
      "outputs": [
        {
          "output_type": "stream",
          "name": "stdout",
          "text": [
            "휴대폰 번호를 입력하세요: 010-2731-2579\n",
            "01027312579"
          ]
        }
      ]
    },
    {
      "cell_type": "markdown",
      "metadata": {
        "id": "tF5T3R29kdCc"
      },
      "source": [
        "###**PDF 153, Q4-3 코딩 연습 : 전화번호에 하이픈(-) 추가하기**"
      ]
    },
    {
      "cell_type": "code",
      "metadata": {
        "colab": {
          "base_uri": "https://localhost:8080/"
        },
        "id": "fytWo9rwkdCc",
        "outputId": "a0855943-5ba0-47fd-ff5c-7652cb50b3ff"
      },
      "source": [
        "phone = input('하이픈(-)을 뺀 11자리의 휴대폰 번호를 입력하세요:')\n",
        "\n",
        "number = ''\n",
        "\n",
        "for i in range(0, len(phone)):\n",
        "  if i == 2:\n",
        "    number = number + (phone[2] + '-')\n",
        "  elif i == 6:\n",
        "    number = number + (phone[6] + '-')\n",
        "  else:\n",
        "    number = number + phone[i]\n",
        "\n",
        "print(number)"
      ],
      "execution_count": 21,
      "outputs": [
        {
          "output_type": "stream",
          "name": "stdout",
          "text": [
            "하이픈(-)을 뺀 11자리의 휴대폰 번호를 입력하세요:01027312579\n",
            "010-2731-2579\n"
          ]
        }
      ]
    },
    {
      "cell_type": "markdown",
      "metadata": {
        "id": "ANSwzLkylgRK"
      },
      "source": [
        "###**PDF 154, Q4-4 코딩 연습 : 길이 단위 환산표 만들기**"
      ]
    },
    {
      "cell_type": "code",
      "metadata": {
        "colab": {
          "base_uri": "https://localhost:8080/"
        },
        "id": "G_Dq9YTolgRL",
        "outputId": "29fef611-a7c7-481c-b5a9-b0e06469b002"
      },
      "source": [
        "print('-'*50)\n",
        "print('센티미터(cm) 인치(inch)')\n",
        "print('-'*50)\n",
        "\n",
        "for cm in range(10,201,10):\n",
        "  inch = cm * 0.393701\n",
        "  print('%8d %10.1f'%(cm, inch))\n",
        "\n",
        "print('-'*50)"
      ],
      "execution_count": 22,
      "outputs": [
        {
          "output_type": "stream",
          "name": "stdout",
          "text": [
            "--------------------------------------------------\n",
            "센티미터(cm) 인치(inch)\n",
            "--------------------------------------------------\n",
            "      10        3.9\n",
            "      20        7.9\n",
            "      30       11.8\n",
            "      40       15.7\n",
            "      50       19.7\n",
            "      60       23.6\n",
            "      70       27.6\n",
            "      80       31.5\n",
            "      90       35.4\n",
            "     100       39.4\n",
            "     110       43.3\n",
            "     120       47.2\n",
            "     130       51.2\n",
            "     140       55.1\n",
            "     150       59.1\n",
            "     160       63.0\n",
            "     170       66.9\n",
            "     180       70.9\n",
            "     190       74.8\n",
            "     200       78.7\n",
            "--------------------------------------------------\n"
          ]
        }
      ]
    },
    {
      "cell_type": "markdown",
      "metadata": {
        "id": "3GFwcRKV82pm"
      },
      "source": [
        "###**PDF 155, Q4-5 코딩 연습 : 무게 단위 환산표 만들기**"
      ]
    },
    {
      "cell_type": "code",
      "metadata": {
        "colab": {
          "base_uri": "https://localhost:8080/"
        },
        "id": "Ikzc2hrB82ps",
        "outputId": "5cb4290e-bf30-49ac-e3a0-a1425c8b2d29"
      },
      "source": [
        "print('-'*40)\n",
        "print('킬로그램(kg) 파운드(lb)')\n",
        "print('-'*40)\n",
        "\n",
        "for kg in range(10,101,5):\n",
        "  lb = kg * 2.204623\n",
        "  print('%8d %10.1f'%(kg, lb))\n",
        "\n",
        "print('-'*40)"
      ],
      "execution_count": 23,
      "outputs": [
        {
          "output_type": "stream",
          "name": "stdout",
          "text": [
            "----------------------------------------\n",
            "킬로그램(kg) 파운드(lb)\n",
            "----------------------------------------\n",
            "      10       22.0\n",
            "      15       33.1\n",
            "      20       44.1\n",
            "      25       55.1\n",
            "      30       66.1\n",
            "      35       77.2\n",
            "      40       88.2\n",
            "      45       99.2\n",
            "      50      110.2\n",
            "      55      121.3\n",
            "      60      132.3\n",
            "      65      143.3\n",
            "      70      154.3\n",
            "      75      165.3\n",
            "      80      176.4\n",
            "      85      187.4\n",
            "      90      198.4\n",
            "      95      209.4\n",
            "     100      220.5\n",
            "----------------------------------------\n"
          ]
        }
      ]
    },
    {
      "cell_type": "markdown",
      "metadata": {
        "id": "lNrLPtscZXY_"
      },
      "source": [
        "###**PDF 156, Q4-6 코딩 연습 : 홀수 개수 세기**"
      ]
    },
    {
      "cell_type": "code",
      "metadata": {
        "colab": {
          "base_uri": "https://localhost:8080/"
        },
        "id": "z5X7ZudxZXZA",
        "outputId": "6bb251f4-542d-444a-e7e1-35020d735008"
      },
      "source": [
        "number = input('숫자를 입력하세요:')\n",
        "\n",
        "total = 0\n",
        "\n",
        "for a in number:\n",
        "  a = int(a)\n",
        "  if a % 2 == 1:\n",
        "    total = total + 1\n",
        "\n",
        "print('입력된 숫자 중 홀수의 개수 :  %d개' %total)"
      ],
      "execution_count": 25,
      "outputs": [
        {
          "output_type": "stream",
          "name": "stdout",
          "text": [
            "숫자를 입력하세요:3049894\n",
            "입력된 숫자 중 홀수의 개수 :  3개\n"
          ]
        }
      ]
    },
    {
      "cell_type": "markdown",
      "metadata": {
        "id": "7tXPSYIMTw3a"
      },
      "source": [
        "###**예제 4-8 구구단표 만들기**"
      ]
    },
    {
      "cell_type": "code",
      "metadata": {
        "colab": {
          "base_uri": "https://localhost:8080/"
        },
        "id": "7UCQ_d7xTw3a",
        "outputId": "beff8dcf-e142-4fdf-ef81-fa292fd95652"
      },
      "source": [
        "a = 2\n",
        "\n",
        "for b in range(1, 10):\n",
        "  c = a * b\n",
        "  print('%d x %d = %d' %(a,b,c))"
      ],
      "execution_count": 26,
      "outputs": [
        {
          "output_type": "stream",
          "name": "stdout",
          "text": [
            "2 x 1 = 2\n",
            "2 x 2 = 4\n",
            "2 x 3 = 6\n",
            "2 x 4 = 8\n",
            "2 x 5 = 10\n",
            "2 x 6 = 12\n",
            "2 x 7 = 14\n",
            "2 x 8 = 16\n",
            "2 x 9 = 18\n"
          ]
        }
      ]
    },
    {
      "cell_type": "markdown",
      "metadata": {
        "id": "mWAF6bV7UQma"
      },
      "source": [
        "###**예제 4-9 전체 구구단표 만들기**"
      ]
    },
    {
      "cell_type": "code",
      "metadata": {
        "colab": {
          "base_uri": "https://localhost:8080/"
        },
        "id": "70i5tc0IUQmb",
        "outputId": "d06c2e45-3580-4b6b-84e3-26f3e1741b3d"
      },
      "source": [
        "print('-' * 50)\n",
        "\n",
        "for a in range(2, 10):\n",
        "  for b in range(1, 10):\n",
        "    c = a * b\n",
        "    print('%d x %d = %d' %(a,b,c))\n",
        "  \n",
        "  print('-' * 50)"
      ],
      "execution_count": 27,
      "outputs": [
        {
          "output_type": "stream",
          "name": "stdout",
          "text": [
            "--------------------------------------------------\n",
            "2 x 1 = 2\n",
            "2 x 2 = 4\n",
            "2 x 3 = 6\n",
            "2 x 4 = 8\n",
            "2 x 5 = 10\n",
            "2 x 6 = 12\n",
            "2 x 7 = 14\n",
            "2 x 8 = 16\n",
            "2 x 9 = 18\n",
            "--------------------------------------------------\n",
            "3 x 1 = 3\n",
            "3 x 2 = 6\n",
            "3 x 3 = 9\n",
            "3 x 4 = 12\n",
            "3 x 5 = 15\n",
            "3 x 6 = 18\n",
            "3 x 7 = 21\n",
            "3 x 8 = 24\n",
            "3 x 9 = 27\n",
            "--------------------------------------------------\n",
            "4 x 1 = 4\n",
            "4 x 2 = 8\n",
            "4 x 3 = 12\n",
            "4 x 4 = 16\n",
            "4 x 5 = 20\n",
            "4 x 6 = 24\n",
            "4 x 7 = 28\n",
            "4 x 8 = 32\n",
            "4 x 9 = 36\n",
            "--------------------------------------------------\n",
            "5 x 1 = 5\n",
            "5 x 2 = 10\n",
            "5 x 3 = 15\n",
            "5 x 4 = 20\n",
            "5 x 5 = 25\n",
            "5 x 6 = 30\n",
            "5 x 7 = 35\n",
            "5 x 8 = 40\n",
            "5 x 9 = 45\n",
            "--------------------------------------------------\n",
            "6 x 1 = 6\n",
            "6 x 2 = 12\n",
            "6 x 3 = 18\n",
            "6 x 4 = 24\n",
            "6 x 5 = 30\n",
            "6 x 6 = 36\n",
            "6 x 7 = 42\n",
            "6 x 8 = 48\n",
            "6 x 9 = 54\n",
            "--------------------------------------------------\n",
            "7 x 1 = 7\n",
            "7 x 2 = 14\n",
            "7 x 3 = 21\n",
            "7 x 4 = 28\n",
            "7 x 5 = 35\n",
            "7 x 6 = 42\n",
            "7 x 7 = 49\n",
            "7 x 8 = 56\n",
            "7 x 9 = 63\n",
            "--------------------------------------------------\n",
            "8 x 1 = 8\n",
            "8 x 2 = 16\n",
            "8 x 3 = 24\n",
            "8 x 4 = 32\n",
            "8 x 5 = 40\n",
            "8 x 6 = 48\n",
            "8 x 7 = 56\n",
            "8 x 8 = 64\n",
            "8 x 9 = 72\n",
            "--------------------------------------------------\n",
            "9 x 1 = 9\n",
            "9 x 2 = 18\n",
            "9 x 3 = 27\n",
            "9 x 4 = 36\n",
            "9 x 5 = 45\n",
            "9 x 6 = 54\n",
            "9 x 7 = 63\n",
            "9 x 8 = 72\n",
            "9 x 9 = 81\n",
            "--------------------------------------------------\n"
          ]
        }
      ]
    },
    {
      "cell_type": "markdown",
      "metadata": {
        "id": "BVCsk6QTbEoT"
      },
      "source": [
        "###**PDF 160, Q4-7 코딩 연습 : 별표(*)로 특정 형태 만들기1**"
      ]
    },
    {
      "cell_type": "code",
      "metadata": {
        "colab": {
          "base_uri": "https://localhost:8080/"
        },
        "id": "nAZQHxoUbEoT",
        "outputId": "1e888f0e-6fb9-4b42-f4c5-73725dc04566"
      },
      "source": [
        "for i in range(1, 11):\n",
        "  for j in range(1, i):\n",
        "    print('*', end = '')\n",
        "  print()"
      ],
      "execution_count": 29,
      "outputs": [
        {
          "output_type": "stream",
          "name": "stdout",
          "text": [
            "\n",
            "*\n",
            "**\n",
            "***\n",
            "****\n",
            "*****\n",
            "******\n",
            "*******\n",
            "********\n",
            "*********\n"
          ]
        }
      ]
    },
    {
      "cell_type": "markdown",
      "metadata": {
        "id": "iS4Bs6gtb6sA"
      },
      "source": [
        "###**PDF 160, Q4-8 코딩 연습 : 별표(*)로 특정 형태 만들기2**"
      ]
    },
    {
      "cell_type": "code",
      "metadata": {
        "colab": {
          "base_uri": "https://localhost:8080/"
        },
        "id": "gXCymUDdb6sB",
        "outputId": "670e95c7-8232-4251-bac6-75c9e4f219b8"
      },
      "source": [
        "for i in range(1, 11):\n",
        "  for j in range(1, 10-i+1):\n",
        "    print(' ', end='')\n",
        "  for k in range(1, i+1):\n",
        "    print('*', end='')\n",
        "  print()"
      ],
      "execution_count": 31,
      "outputs": [
        {
          "output_type": "stream",
          "name": "stdout",
          "text": [
            "         *\n",
            "        **\n",
            "       ***\n",
            "      ****\n",
            "     *****\n",
            "    ******\n",
            "   *******\n",
            "  ********\n",
            " *********\n",
            "**********\n"
          ]
        }
      ]
    },
    {
      "cell_type": "markdown",
      "metadata": {
        "id": "PgxW5sKFXDv1"
      },
      "source": [
        "###**예제 4-10 1~10의 합계(while문)**"
      ]
    },
    {
      "cell_type": "code",
      "metadata": {
        "colab": {
          "base_uri": "https://localhost:8080/"
        },
        "id": "WxRa62XoUQmb",
        "outputId": "caa29ddc-c343-441a-c75b-82eb09c6787f"
      },
      "source": [
        "sum = 0\n",
        "i = 1\n",
        "\n",
        "while i <= 10:\n",
        "  sum = sum + i\n",
        "  print(\"i의 값 : %d => 합계 : %d\" %(i, sum))\n",
        "  i = i + 1"
      ],
      "execution_count": 33,
      "outputs": [
        {
          "output_type": "stream",
          "name": "stdout",
          "text": [
            "i의 값 : 1 => 합계 : 1\n",
            "i의 값 : 2 => 합계 : 3\n",
            "i의 값 : 3 => 합계 : 6\n",
            "i의 값 : 4 => 합계 : 10\n",
            "i의 값 : 5 => 합계 : 15\n",
            "i의 값 : 6 => 합계 : 21\n",
            "i의 값 : 7 => 합계 : 28\n",
            "i의 값 : 8 => 합계 : 36\n",
            "i의 값 : 9 => 합계 : 45\n",
            "i의 값 : 10 => 합계 : 55\n"
          ]
        }
      ]
    },
    {
      "cell_type": "markdown",
      "metadata": {
        "id": "I31NcF_Dnsxm"
      },
      "source": [
        "###**예제 4-11 배수의 합계 구하기(while문)**"
      ]
    },
    {
      "cell_type": "code",
      "metadata": {
        "id": "86w0L2BSnfdm",
        "colab": {
          "base_uri": "https://localhost:8080/"
        },
        "outputId": "8bcab9d7-0414-477c-9495-e12d77414793"
      },
      "source": [
        "n1 = int(input('첫 수를 입력하세요 :'))\n",
        "n2 = int(input('끝 수를 입력하세요 :'))\n",
        "n = int(input('합계를 구하고자 하는 배수를 입력하세요 :'))\n",
        "\n",
        "sum = 0\n",
        "i = n1\n",
        "while i < n2 + 1:\n",
        "  if i % n == 0:\n",
        "    sum = sum + i\n",
        "\n",
        "  i = i + 1\n",
        "\n",
        "print('%d~%d까지의 정수 중 %d의 배수의 합계 : %d' %(n1,n2,n,sum))"
      ],
      "execution_count": 34,
      "outputs": [
        {
          "output_type": "stream",
          "name": "stdout",
          "text": [
            "첫 수를 입력하세요 :100\n",
            "끝 수를 입력하세요 :300\n",
            "합계를 구하고자 하는 배수를 입력하세요 :5\n",
            "100~300까지의 정수 중 5의 배수의 합계 : 8200\n"
          ]
        }
      ]
    },
    {
      "cell_type": "markdown",
      "metadata": {
        "id": "FIR2tjIoeySI"
      },
      "source": [
        "###**PDF 166, Q4-9 코딩 연습 : 섭씨/화씨 환산표 만들기(while문)**"
      ]
    },
    {
      "cell_type": "code",
      "metadata": {
        "colab": {
          "base_uri": "https://localhost:8080/"
        },
        "id": "zZWSrILqeySO",
        "outputId": "07287588-3be1-4697-ee2c-b23b7d358c3e"
      },
      "source": [
        "print('-'*30)\n",
        "print('   섭씨   화씨')\n",
        "print('-'*30)\n",
        "\n",
        "c = -20\n",
        "while c < 41:\n",
        "  f = c * 9.0 / 5.0 + 32.0\n",
        "  print('%8d %8.1f' %(c, f))\n",
        "\n",
        "  c = c + 1\n",
        "  \n",
        "print('-'*30)"
      ],
      "execution_count": 35,
      "outputs": [
        {
          "output_type": "stream",
          "name": "stdout",
          "text": [
            "------------------------------\n",
            "   섭씨   화씨\n",
            "------------------------------\n",
            "     -20     -4.0\n",
            "     -19     -2.2\n",
            "     -18     -0.4\n",
            "     -17      1.4\n",
            "     -16      3.2\n",
            "     -15      5.0\n",
            "     -14      6.8\n",
            "     -13      8.6\n",
            "     -12     10.4\n",
            "     -11     12.2\n",
            "     -10     14.0\n",
            "      -9     15.8\n",
            "      -8     17.6\n",
            "      -7     19.4\n",
            "      -6     21.2\n",
            "      -5     23.0\n",
            "      -4     24.8\n",
            "      -3     26.6\n",
            "      -2     28.4\n",
            "      -1     30.2\n",
            "       0     32.0\n",
            "       1     33.8\n",
            "       2     35.6\n",
            "       3     37.4\n",
            "       4     39.2\n",
            "       5     41.0\n",
            "       6     42.8\n",
            "       7     44.6\n",
            "       8     46.4\n",
            "       9     48.2\n",
            "      10     50.0\n",
            "      11     51.8\n",
            "      12     53.6\n",
            "      13     55.4\n",
            "      14     57.2\n",
            "      15     59.0\n",
            "      16     60.8\n",
            "      17     62.6\n",
            "      18     64.4\n",
            "      19     66.2\n",
            "      20     68.0\n",
            "      21     69.8\n",
            "      22     71.6\n",
            "      23     73.4\n",
            "      24     75.2\n",
            "      25     77.0\n",
            "      26     78.8\n",
            "      27     80.6\n",
            "      28     82.4\n",
            "      29     84.2\n",
            "      30     86.0\n",
            "      31     87.8\n",
            "      32     89.6\n",
            "      33     91.4\n",
            "      34     93.2\n",
            "      35     95.0\n",
            "      36     96.8\n",
            "      37     98.6\n",
            "      38    100.4\n",
            "      39    102.2\n",
            "      40    104.0\n",
            "------------------------------\n"
          ]
        }
      ]
    },
    {
      "cell_type": "markdown",
      "metadata": {
        "id": "89vJiagZfkpq"
      },
      "source": [
        "###**PDF 167, Q4-10 코딩 연습 : 3의 배수가 아닌 수 출력하기(while문)**"
      ]
    },
    {
      "cell_type": "code",
      "metadata": {
        "colab": {
          "base_uri": "https://localhost:8080/"
        },
        "id": "iW15FnZ_fkpv",
        "outputId": "5de73355-f04f-4c66-88c3-b85e9fc51043"
      },
      "source": [
        "i = 200\n",
        "count = 0\n",
        "while i < 601:\n",
        "  if i % 3 != 0:\n",
        "    print('%d ' %i, end = '')\n",
        "    count = count + 1\n",
        "\n",
        "    if count % 8 == 0:\n",
        "      print()\n",
        "  i = i + 1"
      ],
      "execution_count": 43,
      "outputs": [
        {
          "output_type": "stream",
          "name": "stdout",
          "text": [
            "200 202 203 205 206 208 209 211 \n",
            "212 214 215 217 218 220 221 223 \n",
            "224 226 227 229 230 232 233 235 \n",
            "236 238 239 241 242 244 245 247 \n",
            "248 250 251 253 254 256 257 259 \n",
            "260 262 263 265 266 268 269 271 \n",
            "272 274 275 277 278 280 281 283 \n",
            "284 286 287 289 290 292 293 295 \n",
            "296 298 299 301 302 304 305 307 \n",
            "308 310 311 313 314 316 317 319 \n",
            "320 322 323 325 326 328 329 331 \n",
            "332 334 335 337 338 340 341 343 \n",
            "344 346 347 349 350 352 353 355 \n",
            "356 358 359 361 362 364 365 367 \n",
            "368 370 371 373 374 376 377 379 \n",
            "380 382 383 385 386 388 389 391 \n",
            "392 394 395 397 398 400 401 403 \n",
            "404 406 407 409 410 412 413 415 \n",
            "416 418 419 421 422 424 425 427 \n",
            "428 430 431 433 434 436 437 439 \n",
            "440 442 443 445 446 448 449 451 \n",
            "452 454 455 457 458 460 461 463 \n",
            "464 466 467 469 470 472 473 475 \n",
            "476 478 479 481 482 484 485 487 \n",
            "488 490 491 493 494 496 497 499 \n",
            "500 502 503 505 506 508 509 511 \n",
            "512 514 515 517 518 520 521 523 \n",
            "524 526 527 529 530 532 533 535 \n",
            "536 538 539 541 542 544 545 547 \n",
            "548 550 551 553 554 556 557 559 \n",
            "560 562 563 565 566 568 569 571 \n",
            "572 574 575 577 578 580 581 583 \n",
            "584 586 587 589 590 592 593 595 \n",
            "596 598 599 "
          ]
        }
      ]
    },
    {
      "cell_type": "markdown",
      "metadata": {
        "id": "weCe1tOriwjQ"
      },
      "source": [
        "###**PDF 167, Q4-10 코딩 연습 : 3의 배수가 아닌 수 출력하기(while문)**"
      ]
    },
    {
      "cell_type": "markdown",
      "metadata": {
        "id": "D8kk_ZfNhsF_"
      },
      "source": [
        "###**예제 4-12 영어 모음과 개수 구하기**"
      ]
    },
    {
      "cell_type": "code",
      "metadata": {
        "colab": {
          "base_uri": "https://localhost:8080/"
        },
        "id": "6ymaZ1TrhsGF",
        "outputId": "83edabe2-136a-435f-c9e6-b810a2fb0f8d"
      },
      "source": [
        "s = input('영어 문장을 입력하세요: ')\n",
        "\n",
        "i = 0\n",
        "count = 0\n",
        "\n",
        "print('모음: ', end = '')\n",
        "\n",
        "while i <= len(s)-1:\n",
        "  if (s[i] == 'a' or s[i] == 'A' or s[i] == 'e' or s[i] == 'E' \\\n",
        "      or s[i] == 'i' or s[i] == 'I' or s[i] == 'o' or s[i] == 'O' \\\n",
        "      or s[i] == 'u' or s[i] == 'U'):\n",
        "    count = count + 1\n",
        "    print(s[i], end = '')\n",
        "  i = i + 1\n",
        "\n",
        "print('\\n모음의 개수:%d'%count)"
      ],
      "execution_count": 45,
      "outputs": [
        {
          "output_type": "stream",
          "name": "stdout",
          "text": [
            "영어 문장을 입력하세요: We are the champion\n",
            "모음: eaeeaio\n",
            "모음의 개수:7\n"
          ]
        }
      ]
    },
    {
      "cell_type": "markdown",
      "metadata": {
        "id": "N5aVuodYi2lQ"
      },
      "source": [
        "###**PDF 170, Q4-11 코딩 연습 : 문장 역순으로 출력하기(while문)**"
      ]
    },
    {
      "cell_type": "code",
      "metadata": {
        "colab": {
          "base_uri": "https://localhost:8080/"
        },
        "id": "Q9pDyeA7i_TQ",
        "outputId": "bdfa90f5-8691-47f1-dcaf-4b0cb0127266"
      },
      "source": [
        "sentence = input('문장을 입력해 주세요:')\n",
        "\n",
        "i = len(sentence) - 1\n",
        "\n",
        "while i >= 0:\n",
        "  if sentence[i] == '':\n",
        "    print('-', end='')\n",
        "  else:\n",
        "    print('%s' %sentence[i], end='')\n",
        "\n",
        "  i = i - 1"
      ],
      "execution_count": 49,
      "outputs": [
        {
          "output_type": "stream",
          "name": "stdout",
          "text": [
            "문장을 입력해 주세요:쥐 구멍에도 볕 뜰 날 있다\n",
            "다있 날 뜰 볕 도에멍구 쥐"
          ]
        }
      ]
    },
    {
      "cell_type": "markdown",
      "metadata": {
        "id": "u5W3z2wTk8cB"
      },
      "source": [
        "###**예제 4-13 break 문으로 반복 루프 빠져나가기**"
      ]
    },
    {
      "cell_type": "code",
      "metadata": {
        "colab": {
          "base_uri": "https://localhost:8080/"
        },
        "id": "-pPIQe3ek8cB",
        "outputId": "2bc3a3f1-dcb8-47f8-a61a-aeca68a468e1"
      },
      "source": [
        "for i in range(1,1001):\n",
        "  print(i)\n",
        "\n",
        "  if i == 10:\n",
        "    break"
      ],
      "execution_count": 50,
      "outputs": [
        {
          "output_type": "stream",
          "name": "stdout",
          "text": [
            "1\n",
            "2\n",
            "3\n",
            "4\n",
            "5\n",
            "6\n",
            "7\n",
            "8\n",
            "9\n",
            "10\n"
          ]
        }
      ]
    },
    {
      "cell_type": "markdown",
      "metadata": {
        "id": "HJlZIu4MCY8z"
      },
      "source": [
        "###**PDF 174, 2일차 과제 : 6번, 9번, 12번 문제**"
      ]
    },
    {
      "cell_type": "markdown",
      "metadata": {
        "id": "iSFQeXYhlwX_"
      },
      "source": [
        "[연습문제 정답 링크]\n",
        "\n",
        "https://drive.google.com/drive/folders/1aCXuzgSV9HmF1ksjcRKZMugl6EWk61HP"
      ]
    },
    {
      "cell_type": "code",
      "metadata": {
        "id": "e9kxQUfPl5im"
      },
      "source": [
        ""
      ],
      "execution_count": null,
      "outputs": []
    }
  ]
}