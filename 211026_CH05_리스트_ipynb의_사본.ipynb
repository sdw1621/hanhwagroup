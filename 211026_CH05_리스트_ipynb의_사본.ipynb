{
  "nbformat": 4,
  "nbformat_minor": 0,
  "metadata": {
    "colab": {
      "name": "211026_CH05_리스트.ipynb의 사본",
      "provenance": [],
      "collapsed_sections": [
        "HKa48zWpmVeO",
        "3a0eEu-3m4f9"
      ],
      "authorship_tag": "ABX9TyOBOKH4HHPYzBGfqomLcyT6",
      "include_colab_link": true
    },
    "kernelspec": {
      "name": "python3",
      "display_name": "Python 3"
    },
    "language_info": {
      "name": "python"
    }
  },
  "cells": [
    {
      "cell_type": "markdown",
      "metadata": {
        "id": "view-in-github",
        "colab_type": "text"
      },
      "source": [
        "<a href=\"https://colab.research.google.com/github/sdw1621/hanhwagroup/blob/main/211026_CH05_%EB%A6%AC%EC%8A%A4%ED%8A%B8_ipynb%EC%9D%98_%EC%82%AC%EB%B3%B8.ipynb\" target=\"_parent\"><img src=\"https://colab.research.google.com/assets/colab-badge.svg\" alt=\"Open In Colab\"/></a>"
      ]
    },
    {
      "cell_type": "markdown",
      "metadata": {
        "id": "5MmrUfWkLjZ8"
      },
      "source": [
        "###**예제 5-1. 리스트 생성**"
      ]
    },
    {
      "cell_type": "code",
      "metadata": {
        "colab": {
          "base_uri": "https://localhost:8080/"
        },
        "id": "6BfGTz3mL12q",
        "outputId": "4c7dfca8-acc0-4854-e229-07d18f6b55cb"
      },
      "source": [
        "list1 = [5, 10.2, '탁구', True, [4,5,6]]\n",
        "\n",
        "print(list1[0])"
      ],
      "execution_count": null,
      "outputs": [
        {
          "output_type": "stream",
          "name": "stdout",
          "text": [
            "5\n"
          ]
        }
      ]
    },
    {
      "cell_type": "code",
      "metadata": {
        "colab": {
          "base_uri": "https://localhost:8080/"
        },
        "id": "6YsNky7Ngoww",
        "outputId": "f5e2fbad-f872-4702-8f24-f60a5b54a065"
      },
      "source": [
        "print(list1[2])"
      ],
      "execution_count": null,
      "outputs": [
        {
          "output_type": "stream",
          "name": "stdout",
          "text": [
            "탁구\n"
          ]
        }
      ]
    },
    {
      "cell_type": "code",
      "metadata": {
        "colab": {
          "base_uri": "https://localhost:8080/"
        },
        "id": "NY48TB0Qgsku",
        "outputId": "4bd28edd-3130-4cc5-90fc-06f6fcf4b687"
      },
      "source": [
        "print(list1[4])"
      ],
      "execution_count": null,
      "outputs": [
        {
          "output_type": "stream",
          "name": "stdout",
          "text": [
            "[4, 5, 6]\n"
          ]
        }
      ]
    },
    {
      "cell_type": "code",
      "metadata": {
        "colab": {
          "base_uri": "https://localhost:8080/"
        },
        "id": "O1dEdG_lgyDl",
        "outputId": "d6d36f7c-7c44-46cd-d9ff-f20a5d83c3e2"
      },
      "source": [
        "print(list1[4][1])"
      ],
      "execution_count": null,
      "outputs": [
        {
          "output_type": "stream",
          "name": "stdout",
          "text": [
            "5\n"
          ]
        }
      ]
    },
    {
      "cell_type": "code",
      "metadata": {
        "colab": {
          "base_uri": "https://localhost:8080/"
        },
        "id": "aAXjrPjlg00E",
        "outputId": "5704784d-788f-48d0-c543-7a0f4bcde079"
      },
      "source": [
        "numbers = range(1,10,2)\n",
        "print(list(numbers))"
      ],
      "execution_count": null,
      "outputs": [
        {
          "output_type": "stream",
          "name": "stdout",
          "text": [
            "[1, 3, 5, 7, 9]\n"
          ]
        }
      ]
    },
    {
      "cell_type": "markdown",
      "metadata": {
        "id": "NM7gyOzDhSIf"
      },
      "source": [
        "###**예제 5-2. 리스트 요소 추가**"
      ]
    },
    {
      "cell_type": "code",
      "metadata": {
        "colab": {
          "base_uri": "https://localhost:8080/"
        },
        "id": "v57-kNL3g_US",
        "outputId": "512f6602-7418-4a22-8c89-b04ee0bd5d00"
      },
      "source": [
        "a = ['red','green','blue']\n",
        "a.append('yellow')\n",
        "print(a)"
      ],
      "execution_count": null,
      "outputs": [
        {
          "output_type": "stream",
          "name": "stdout",
          "text": [
            "['red', 'green', 'blue', 'yellow']\n"
          ]
        }
      ]
    },
    {
      "cell_type": "code",
      "metadata": {
        "colab": {
          "base_uri": "https://localhost:8080/"
        },
        "id": "3_LAgzzPhZ53",
        "outputId": "506f9edc-7340-4798-ed89-fabb74542525"
      },
      "source": [
        "a.insert(1,'black')\n",
        "print(a)"
      ],
      "execution_count": null,
      "outputs": [
        {
          "output_type": "stream",
          "name": "stdout",
          "text": [
            "['red', 'black', 'green', 'blue', 'yellow']\n"
          ]
        }
      ]
    },
    {
      "cell_type": "code",
      "metadata": {
        "colab": {
          "base_uri": "https://localhost:8080/"
        },
        "id": "Jk1p-1H5hgU1",
        "outputId": "e7f62333-7128-4c65-8140-6cc0f9a73371"
      },
      "source": [
        "b = ['purple', 'white']\n",
        "a.extend(b)\n",
        "print(a)"
      ],
      "execution_count": null,
      "outputs": [
        {
          "output_type": "stream",
          "name": "stdout",
          "text": [
            "['red', 'black', 'green', 'blue', 'yellow', 'purple', 'white']\n"
          ]
        }
      ]
    },
    {
      "cell_type": "code",
      "metadata": {
        "colab": {
          "base_uri": "https://localhost:8080/"
        },
        "id": "zX_IXj8Eh9ve",
        "outputId": "be404885-83ec-4cd6-878d-dc5c04e1e562"
      },
      "source": [
        "c = a + b\n",
        "print(c)"
      ],
      "execution_count": null,
      "outputs": [
        {
          "output_type": "stream",
          "name": "stdout",
          "text": [
            "['red', 'black', 'green', 'blue', 'yellow', 'purple', 'white', 'purple', 'white']\n"
          ]
        }
      ]
    },
    {
      "cell_type": "markdown",
      "metadata": {
        "id": "UUnCGFKsiV5O"
      },
      "source": [
        "###**예제 5-3. 리스트 요소 삭제**"
      ]
    },
    {
      "cell_type": "code",
      "metadata": {
        "colab": {
          "base_uri": "https://localhost:8080/"
        },
        "id": "ORL9P8eYiJdX",
        "outputId": "9db90d48-fd9f-4a36-8e72-e2d7442f72fa"
      },
      "source": [
        "a = [10,20,30,40,50,60,70,80,90,100]\n",
        "x = a.index(30)\n",
        "print(x)"
      ],
      "execution_count": null,
      "outputs": [
        {
          "output_type": "stream",
          "name": "stdout",
          "text": [
            "2\n"
          ]
        }
      ]
    },
    {
      "cell_type": "code",
      "metadata": {
        "colab": {
          "base_uri": "https://localhost:8080/"
        },
        "id": "_s9lG1-bigVT",
        "outputId": "8588b2c6-5104-4fac-b615-7851f3f8875d"
      },
      "source": [
        "a.pop(x)\n",
        "print(a)"
      ],
      "execution_count": null,
      "outputs": [
        {
          "output_type": "stream",
          "name": "stdout",
          "text": [
            "[10, 20, 40, 50, 60, 70, 80, 90, 100]\n"
          ]
        }
      ]
    },
    {
      "cell_type": "code",
      "metadata": {
        "colab": {
          "base_uri": "https://localhost:8080/"
        },
        "id": "JGP_lqwzii4b",
        "outputId": "5f12b619-c3ee-4ba8-ef46-5c3fd17b3b33"
      },
      "source": [
        "a.remove(90)\n",
        "print(a)"
      ],
      "execution_count": null,
      "outputs": [
        {
          "output_type": "stream",
          "name": "stdout",
          "text": [
            "[10, 20, 40, 50, 60, 70, 80, 100]\n"
          ]
        }
      ]
    },
    {
      "cell_type": "code",
      "metadata": {
        "colab": {
          "base_uri": "https://localhost:8080/"
        },
        "id": "tYQYgKbwirzX",
        "outputId": "9dbf3bf4-2574-4987-e8d9-f9f8b124fec1"
      },
      "source": [
        "# a = []\n",
        "\n",
        "a.clear()\n",
        "print(a)"
      ],
      "execution_count": null,
      "outputs": [
        {
          "output_type": "stream",
          "name": "stdout",
          "text": [
            "[]\n"
          ]
        }
      ]
    },
    {
      "cell_type": "markdown",
      "metadata": {
        "id": "Fxro9yC6jPbv"
      },
      "source": [
        "###**예제 5-4. 리스트 요소 카운트**"
      ]
    },
    {
      "cell_type": "code",
      "metadata": {
        "colab": {
          "base_uri": "https://localhost:8080/"
        },
        "id": "vCW8UNH1i06R",
        "outputId": "d243d22b-e430-47d9-af81-7b0d0fc1c23c"
      },
      "source": [
        "list1 = ['a','bb','c','d','aaa','c','ddd','aaa','b','cc','d','aaa',]\n",
        "length = list1.count('aaa')\n",
        "print(length)"
      ],
      "execution_count": null,
      "outputs": [
        {
          "output_type": "stream",
          "name": "stdout",
          "text": [
            "3\n"
          ]
        }
      ]
    },
    {
      "cell_type": "markdown",
      "metadata": {
        "id": "qhfZ7-Ihj1R9"
      },
      "source": [
        "###**예제 5-5. 리스트 정렬**"
      ]
    },
    {
      "cell_type": "code",
      "metadata": {
        "colab": {
          "base_uri": "https://localhost:8080/"
        },
        "id": "XjgI5lHAjmqx",
        "outputId": "ffc0115e-e640-45ef-91e1-6198f311599e"
      },
      "source": [
        "list2 = [-7, 1,5,8,3,9,11,13]\n",
        "list2.sort() # 디폴트가 오름차순\n",
        "print(list2)"
      ],
      "execution_count": null,
      "outputs": [
        {
          "output_type": "stream",
          "name": "stdout",
          "text": [
            "[-7, 1, 3, 5, 8, 9, 11, 13]\n"
          ]
        }
      ]
    },
    {
      "cell_type": "code",
      "metadata": {
        "colab": {
          "base_uri": "https://localhost:8080/"
        },
        "id": "YZTF1bHCj-g5",
        "outputId": "29bbad1f-04d6-4574-b2b2-03cc602005aa"
      },
      "source": [
        "list2.sort(reverse=True)\n",
        "print(list2)"
      ],
      "execution_count": null,
      "outputs": [
        {
          "output_type": "stream",
          "name": "stdout",
          "text": [
            "[13, 11, 9, 8, 5, 3, 1, -7]\n"
          ]
        }
      ]
    },
    {
      "cell_type": "code",
      "metadata": {
        "colab": {
          "base_uri": "https://localhost:8080/"
        },
        "id": "hTTiicBrkJlA",
        "outputId": "eab7c239-da83-485f-ac08-b1b49b592067"
      },
      "source": [
        "list1 = [-7, 1,5,8,3,9,11,13]\n",
        "\n",
        "list1.sort(reverse=True)\n",
        "print(list1)"
      ],
      "execution_count": null,
      "outputs": [
        {
          "output_type": "stream",
          "name": "stdout",
          "text": [
            "[13, 11, 9, 8, 5, 3, 1, -7]\n"
          ]
        }
      ]
    },
    {
      "cell_type": "code",
      "metadata": {
        "colab": {
          "base_uri": "https://localhost:8080/"
        },
        "id": "33RYEQM0ldQD",
        "outputId": "d5442b53-ef56-49ed-b9b6-fd48054fd349"
      },
      "source": [
        "b=sorted(list1)\n",
        "c=sorted(list1, reverse=True)\n",
        "\n",
        "print(b)\n",
        "print(c)"
      ],
      "execution_count": null,
      "outputs": [
        {
          "output_type": "stream",
          "name": "stdout",
          "text": [
            "[-7, 1, 3, 5, 8, 9, 11, 13]\n",
            "[13, 11, 9, 8, 5, 3, 1, -7]\n"
          ]
        }
      ]
    },
    {
      "cell_type": "markdown",
      "metadata": {
        "id": "HKa48zWpmVeO"
      },
      "source": [
        "###**PDF 186. Q5-3. 코딩 연습 : 리스트 요소 추가하기**"
      ]
    },
    {
      "cell_type": "code",
      "metadata": {
        "colab": {
          "base_uri": "https://localhost:8080/"
        },
        "id": "gUeivp11lvBv",
        "outputId": "9427af34-7352-4fa2-c308-2e8a2f686c0e"
      },
      "source": [
        "mylist =['사과','바나나','파인애플','배']\n",
        "mylist.append('키위')\n",
        "print(mylist)"
      ],
      "execution_count": null,
      "outputs": [
        {
          "output_type": "stream",
          "name": "stdout",
          "text": [
            "['사과', '바나나', '파인애플', '배', '키위']\n"
          ]
        }
      ]
    },
    {
      "cell_type": "code",
      "metadata": {
        "colab": {
          "base_uri": "https://localhost:8080/"
        },
        "id": "CSc5cZAGmo_m",
        "outputId": "c1946fdd-48d3-4b17-cf17-8e8ce24ed43d"
      },
      "source": [
        "for a in mylist:\n",
        "  print(a)"
      ],
      "execution_count": null,
      "outputs": [
        {
          "output_type": "stream",
          "name": "stdout",
          "text": [
            "사과\n",
            "바나나\n",
            "파인애플\n",
            "배\n",
            "키위\n"
          ]
        }
      ]
    },
    {
      "cell_type": "markdown",
      "metadata": {
        "id": "Q-_oI3rvmh1H"
      },
      "source": [
        ""
      ]
    },
    {
      "cell_type": "markdown",
      "metadata": {
        "id": "3a0eEu-3m4f9"
      },
      "source": [
        "###**PDF 186. Q5-4. 코딩 연습 : 리스트 요소 삭제하기**"
      ]
    },
    {
      "cell_type": "code",
      "metadata": {
        "colab": {
          "base_uri": "https://localhost:8080/"
        },
        "id": "5h4WS1Ogm4f9",
        "outputId": "25cac41c-74f8-4e81-8872-5440a2f2b9d1"
      },
      "source": [
        "mylist =['사과','바나나','파인애플','포도','오렌지','배']\n",
        "\n",
        "mylist.remove('바나나')\n",
        "print(mylist)"
      ],
      "execution_count": null,
      "outputs": [
        {
          "output_type": "stream",
          "name": "stdout",
          "text": [
            "['사과', '파인애플', '포도', '오렌지', '배']\n"
          ]
        }
      ]
    },
    {
      "cell_type": "code",
      "metadata": {
        "id": "gtZddYl1nPsq"
      },
      "source": [
        ""
      ],
      "execution_count": null,
      "outputs": []
    },
    {
      "cell_type": "markdown",
      "metadata": {
        "id": "UGMA7KyanVqA"
      },
      "source": [
        "###**PDF 187. Q5-5. 코딩 연습 : 리스트 병합하기**"
      ]
    },
    {
      "cell_type": "code",
      "metadata": {
        "colab": {
          "base_uri": "https://localhost:8080/"
        },
        "id": "h7izm3LonVqA",
        "outputId": "9d4c986a-3e19-4099-f7e6-44c1e1889b74"
      },
      "source": [
        "person1 = ['kim', 24, 'kim@naver.com']\n",
        "person2 = ['lee', 35, 'lee@hanmail.net']\n",
        "\n",
        "person = person1 + person2\n",
        "\n",
        "print(person)"
      ],
      "execution_count": null,
      "outputs": [
        {
          "output_type": "stream",
          "name": "stdout",
          "text": [
            "['kim', 24, 'kim@naver.com', 'lee', 35, 'lee@hanmail.net']\n"
          ]
        }
      ]
    },
    {
      "cell_type": "markdown",
      "metadata": {
        "id": "C7BPq-nAoHhX"
      },
      "source": [
        "###**예제 5-8. while 구문의 리스트 활용**"
      ]
    },
    {
      "cell_type": "code",
      "metadata": {
        "colab": {
          "base_uri": "https://localhost:8080/"
        },
        "id": "j8iR4IyFnVqB",
        "outputId": "2cd1dd60-5725-4c7d-e0a2-18ece8f63657"
      },
      "source": [
        "animals = ['토끼', '거북이','사자', '호랑이']\n",
        "\n",
        "i = 0\n",
        "while i < len(animals):\n",
        "  print(animals[i])\n",
        "  i = i + 1"
      ],
      "execution_count": null,
      "outputs": [
        {
          "output_type": "stream",
          "name": "stdout",
          "text": [
            "토끼\n",
            "거북이\n",
            "사자\n",
            "호랑이\n"
          ]
        }
      ]
    },
    {
      "cell_type": "code",
      "metadata": {
        "id": "ECJM5jhwoqx8"
      },
      "source": [
        ""
      ],
      "execution_count": null,
      "outputs": []
    }
  ]
}