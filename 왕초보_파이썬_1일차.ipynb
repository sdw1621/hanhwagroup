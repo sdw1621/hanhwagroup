{
  "nbformat": 4,
  "nbformat_minor": 0,
  "metadata": {
    "colab": {
      "name": "왕초보_파이썬_1일차.ipynb",
      "provenance": [],
      "collapsed_sections": [
        "OiPwsYGTDa_w",
        "-47U9GdAGptA",
        "3iHdA-hNN34S"
      ],
      "authorship_tag": "ABX9TyMwFNYriLpTh/xg8B4K7leQ",
      "include_colab_link": true
    },
    "kernelspec": {
      "name": "python3",
      "display_name": "Python 3"
    },
    "language_info": {
      "name": "python"
    }
  },
  "cells": [
    {
      "cell_type": "markdown",
      "metadata": {
        "id": "view-in-github",
        "colab_type": "text"
      },
      "source": [
        "<a href=\"https://colab.research.google.com/github/sdw1621/hanhwagroup/blob/main/%EC%99%95%EC%B4%88%EB%B3%B4_%ED%8C%8C%EC%9D%B4%EC%8D%AC_1%EC%9D%BC%EC%B0%A8.ipynb\" target=\"_parent\"><img src=\"https://colab.research.google.com/assets/colab-badge.svg\" alt=\"Open In Colab\"/></a>"
      ]
    },
    {
      "cell_type": "code",
      "metadata": {
        "id": "c7BrU8tcQs13",
        "colab": {
          "base_uri": "https://localhost:8080/"
        },
        "outputId": "97895b91-4657-402d-ce6f-dfb150965b10"
      },
      "source": [
        "print(\"Hello World!\")"
      ],
      "execution_count": null,
      "outputs": [
        {
          "output_type": "stream",
          "text": [
            "Hello World!\n"
          ],
          "name": "stdout"
        }
      ]
    },
    {
      "cell_type": "code",
      "metadata": {
        "colab": {
          "base_uri": "https://localhost:8080/",
          "height": 139
        },
        "id": "GzSiWtAWSc7Z",
        "outputId": "fd2acdf9-b336-4940-f8e9-a4d548c27f3f"
      },
      "source": [
        "print(\"Hello World!)"
      ],
      "execution_count": null,
      "outputs": [
        {
          "output_type": "error",
          "ename": "SyntaxError",
          "evalue": "ignored",
          "traceback": [
            "\u001b[0;36m  File \u001b[0;32m\"<ipython-input-6-fcaaff42c9db>\"\u001b[0;36m, line \u001b[0;32m1\u001b[0m\n\u001b[0;31m    print(\"Hello World!)\u001b[0m\n\u001b[0m                        ^\u001b[0m\n\u001b[0;31mSyntaxError\u001b[0m\u001b[0;31m:\u001b[0m EOL while scanning string literal\n"
          ]
        }
      ]
    },
    {
      "cell_type": "code",
      "metadata": {
        "colab": {
          "base_uri": "https://localhost:8080/"
        },
        "id": "JwsIVmc-TkF1",
        "outputId": "ec9c5a76-b736-463a-f5a5-49e4671f4214"
      },
      "source": [
        "print(\"점심 추천기 프로그램입니다!\")"
      ],
      "execution_count": null,
      "outputs": [
        {
          "output_type": "stream",
          "text": [
            "점심 추천기 프로그램입니다!\n"
          ],
          "name": "stdout"
        }
      ]
    },
    {
      "cell_type": "code",
      "metadata": {
        "colab": {
          "base_uri": "https://localhost:8080/"
        },
        "id": "boY6q-FZUKvx",
        "outputId": "ab7dd4c8-6561-4344-991e-123e7c72eebe"
      },
      "source": [
        "# \\n : new line, \"문자열\"\n",
        "print(\"점심 추천기 프로그램입니다!\\n\")\n",
        "print(\"메뉴판\\n\")"
      ],
      "execution_count": null,
      "outputs": [
        {
          "output_type": "stream",
          "text": [
            "점심 추천기 프로그램입니다!\n",
            "\n",
            "메뉴판\n",
            "\n"
          ],
          "name": "stdout"
        }
      ]
    },
    {
      "cell_type": "code",
      "metadata": {
        "id": "JBEqwHqlUU1x",
        "colab": {
          "base_uri": "https://localhost:8080/"
        },
        "outputId": "a3b488eb-e39d-4f00-8422-5a42d8df0ae8"
      },
      "source": [
        "print(\"==============================\")"
      ],
      "execution_count": null,
      "outputs": [
        {
          "output_type": "stream",
          "text": [
            "==============================\n"
          ],
          "name": "stdout"
        }
      ]
    },
    {
      "cell_type": "code",
      "metadata": {
        "colab": {
          "base_uri": "https://localhost:8080/"
        },
        "id": "3HhjtGYyZ-e5",
        "outputId": "55919918-6785-4759-950d-2ccffbe0d843"
      },
      "source": [
        "# 파이썬 문자열*숫자 : 반복\n",
        "print(\"=\"*30)"
      ],
      "execution_count": null,
      "outputs": [
        {
          "output_type": "stream",
          "text": [
            "==============================\n"
          ],
          "name": "stdout"
        }
      ]
    },
    {
      "cell_type": "code",
      "metadata": {
        "colab": {
          "base_uri": "https://localhost:8080/"
        },
        "id": "Wp2uH4iRaVfG",
        "outputId": "1fc93519-5215-4342-eda9-7f811d053d14"
      },
      "source": [
        "# 본인의 이름을 2번 반복해보세요\n",
        "print(\"신동욱\"*2)"
      ],
      "execution_count": null,
      "outputs": [
        {
          "output_type": "stream",
          "text": [
            "신동욱신동욱\n"
          ],
          "name": "stdout"
        }
      ]
    },
    {
      "cell_type": "code",
      "metadata": {
        "colab": {
          "base_uri": "https://localhost:8080/"
        },
        "id": "OjwBHSDEawtm",
        "outputId": "ced03efb-c2a5-4cbb-8440-878eb5e73513"
      },
      "source": [
        "print(\"갈비탕          10000원\")"
      ],
      "execution_count": null,
      "outputs": [
        {
          "output_type": "stream",
          "text": [
            "갈비탕          10000원\n"
          ],
          "name": "stdout"
        }
      ]
    },
    {
      "cell_type": "code",
      "metadata": {
        "colab": {
          "base_uri": "https://localhost:8080/"
        },
        "id": "z4yH1HaIa9e3",
        "outputId": "6b7a443a-5a78-46ea-d8b3-94337fb63435"
      },
      "source": [
        "print(\"갈비탕\\t\\t\\t10000원\")\n",
        "print(\"떡볶이\\t\\t\\t7000원\")\n",
        "print(\"오뎅\\t\\t\\t5000원\")\n",
        "print(\"감자탕\\t\\t\\t8000원\")\n",
        "print(\"김치찌게\\t\\t8000원\")\n",
        "print(\"제육볶음\\t\\t7000원\")\n",
        "print(\"김치볶음밥\\t\\t5000원\")"
      ],
      "execution_count": null,
      "outputs": [
        {
          "output_type": "stream",
          "text": [
            "갈비탕\t\t\t10000원\n",
            "떡볶이\t\t\t7000원\n",
            "오뎅\t\t\t5000원\n",
            "감자탕\t\t\t8000원\n",
            "김치찌게\t\t8000원\n",
            "제육볶음\t\t7000원\n",
            "김치볶음밥\t\t5000원\n"
          ],
          "name": "stdout"
        }
      ]
    },
    {
      "cell_type": "markdown",
      "metadata": {
        "id": "SgJz5B9rcsdK"
      },
      "source": [
        "### 점심 메뉴 전체 프로그램"
      ]
    },
    {
      "cell_type": "code",
      "metadata": {
        "colab": {
          "base_uri": "https://localhost:8080/"
        },
        "id": "_5Ezo6CccyH3",
        "outputId": "359ea9a3-6538-4a1e-d40d-81dc840bc561"
      },
      "source": [
        "print(\"점심 추천 프로그램입니다!\\n\")\n",
        "print(\"메뉴판\")\n",
        "\n",
        "print(\"=\"*30)\n",
        "\n",
        "print(\"갈비탕\\t\\t\\t10000원\")\n",
        "print(\"떡볶이\\t\\t\\t7000원\")\n",
        "print(\"오뎅\\t\\t\\t5000원\")\n",
        "print(\"감자탕\\t\\t\\t8000원\")\n",
        "print(\"김치찌게\\t\\t8000원\")\n",
        "print(\"제육볶음\\t\\t7000원\")\n",
        "print(\"김치볶음밥\\t\\t5000원\")\n",
        "\n",
        "print(\"=\"*30)"
      ],
      "execution_count": null,
      "outputs": [
        {
          "output_type": "stream",
          "text": [
            "점심 추천 프로그램입니다!\n",
            "\n",
            "메뉴판\n",
            "==============================\n",
            "갈비탕\t\t\t10000원\n",
            "떡볶이\t\t\t7000원\n",
            "오뎅\t\t\t5000원\n",
            "감자탕\t\t\t8000원\n",
            "김치찌게\t\t8000원\n",
            "제육볶음\t\t7000원\n",
            "김치볶음밥\t\t5000원\n",
            "==============================\n"
          ],
          "name": "stdout"
        }
      ]
    },
    {
      "cell_type": "code",
      "metadata": {
        "colab": {
          "base_uri": "https://localhost:8080/"
        },
        "id": "qL_VuJPYeU09",
        "outputId": "0257cd02-8cac-4133-b94d-8f689b8cdcb4"
      },
      "source": [
        "print(\" \\'single quote\\' \")"
      ],
      "execution_count": null,
      "outputs": [
        {
          "output_type": "stream",
          "text": [
            " 'single quote' \n"
          ],
          "name": "stdout"
        }
      ]
    },
    {
      "cell_type": "code",
      "metadata": {
        "colab": {
          "base_uri": "https://localhost:8080/"
        },
        "id": "DlpTpoY2ehsl",
        "outputId": "b1966939-dd26-4dd7-8f74-d717729007eb"
      },
      "source": [
        "print(' \\\"double quote\\\" ')"
      ],
      "execution_count": null,
      "outputs": [
        {
          "output_type": "stream",
          "text": [
            " \"double quote\" \n"
          ],
          "name": "stdout"
        }
      ]
    },
    {
      "cell_type": "code",
      "metadata": {
        "colab": {
          "base_uri": "https://localhost:8080/"
        },
        "id": "2G-ED0Y2e72w",
        "outputId": "aa8727bb-db0e-4fc5-bba9-4b665f9414aa"
      },
      "source": [
        "print('''\n",
        "I love you\n",
        "      so so so much\n",
        "but miss you~ bye~!\n",
        "''')"
      ],
      "execution_count": null,
      "outputs": [
        {
          "output_type": "stream",
          "text": [
            "\n",
            "I love you\n",
            "      so so so much\n",
            "but miss you~ bye~!\n",
            "\n"
          ],
          "name": "stdout"
        }
      ]
    },
    {
      "cell_type": "code",
      "metadata": {
        "colab": {
          "base_uri": "https://localhost:8080/"
        },
        "id": "Pqpku5-NgDRg",
        "outputId": "69f9d951-fca8-474a-be79-72f22924fa5e"
      },
      "source": [
        "print(\"\"\" \n",
        "I love you\n",
        "      so so so much\n",
        "but miss you~ bye~!\n",
        "\"\"\")"
      ],
      "execution_count": null,
      "outputs": [
        {
          "output_type": "stream",
          "text": [
            " \n",
            "I love you\n",
            "      so so so much\n",
            "but miss you~ bye~!\n",
            "\n"
          ],
          "name": "stdout"
        }
      ]
    },
    {
      "cell_type": "code",
      "metadata": {
        "colab": {
          "base_uri": "https://localhost:8080/"
        },
        "id": "43lmxzOdfaeY",
        "outputId": "df97a545-35a5-4d6e-b42d-39dcbf34f8d9"
      },
      "source": [
        "print(\"신동욱 강사님\\n이런식으로 써볼께요\")"
      ],
      "execution_count": null,
      "outputs": [
        {
          "output_type": "stream",
          "text": [
            "신동욱 강사님\n",
            "이런식으로 써볼께요\n"
          ],
          "name": "stdout"
        }
      ]
    },
    {
      "cell_type": "code",
      "metadata": {
        "colab": {
          "base_uri": "https://localhost:8080/"
        },
        "id": "esrkiV-ffstA",
        "outputId": "a057a51d-628b-4f05-8e40-3c6c573191b3"
      },
      "source": [
        "print(\" I love {0}\".format(\"신동욱\"))"
      ],
      "execution_count": null,
      "outputs": [
        {
          "output_type": "stream",
          "text": [
            " I love 신동욱\n"
          ],
          "name": "stdout"
        }
      ]
    },
    {
      "cell_type": "code",
      "metadata": {
        "colab": {
          "base_uri": "https://localhost:8080/"
        },
        "id": "kDnXOWKkggHn",
        "outputId": "086767b5-d91b-4a3b-dcb7-b23edea2a826"
      },
      "source": [
        "print( \"I love {0}\".format(\"신동욱\"))"
      ],
      "execution_count": null,
      "outputs": [
        {
          "output_type": "stream",
          "text": [
            "I love 신동욱\n"
          ],
          "name": "stdout"
        }
      ]
    },
    {
      "cell_type": "code",
      "metadata": {
        "colab": {
          "base_uri": "https://localhost:8080/"
        },
        "id": "DhsqOCmlg4aY",
        "outputId": "bc2b91a9-c4ef-4adb-8f77-e2b8b7cd05c9"
      },
      "source": [
        "# 파이썬 자리가 0부터 시작함\n",
        "# 자리 {0}, {1} / 데이터 \"신동욱\", \"힌화\" : 갯수가 같아야 에러나지 않음\n",
        "# print( \"I love {0}, you love {1}\".format(\"신동욱\",\"한화\"))\n",
        "print( \"I love {}, you love {}\".format(\"신동욱\",\"한화\"))"
      ],
      "execution_count": null,
      "outputs": [
        {
          "output_type": "stream",
          "text": [
            "I love 신동욱, you love 한화\n"
          ],
          "name": "stdout"
        }
      ]
    },
    {
      "cell_type": "code",
      "metadata": {
        "colab": {
          "base_uri": "https://localhost:8080/"
        },
        "id": "gj2S3SvGhC3w",
        "outputId": "b3d25789-7247-474c-a76e-ecdf4fbe2405"
      },
      "source": [
        "# 파이썬 3.7 버전부터 format 함수를 f-string 으로 발전\n",
        "\n",
        "name = \"조민정\"\n",
        "company = \"한화\"\n",
        "\n",
        "print(f\"I love {name}, you love {company}\")"
      ],
      "execution_count": null,
      "outputs": [
        {
          "output_type": "stream",
          "text": [
            "I love 조민정, you love 한화\n"
          ],
          "name": "stdout"
        }
      ]
    },
    {
      "cell_type": "code",
      "metadata": {
        "colab": {
          "base_uri": "https://localhost:8080/"
        },
        "id": "bPEhKdPdiD5Z",
        "outputId": "c106b3cd-b18f-43a9-b65d-1520a8ebad33"
      },
      "source": [
        "print(\"you give me {gift}, he loves {gift}\".format(gift=\"shoes\"))"
      ],
      "execution_count": null,
      "outputs": [
        {
          "output_type": "stream",
          "text": [
            "you give me shoes, he loves shoes\n"
          ],
          "name": "stdout"
        }
      ]
    },
    {
      "cell_type": "code",
      "metadata": {
        "colab": {
          "base_uri": "https://localhost:8080/"
        },
        "id": "AMuCZPo7jDKZ",
        "outputId": "81292fbd-ec78-42e6-c7b2-3a33a984182e"
      },
      "source": [
        "print(\"{0:10}aaa\".format(\"hi\"))\n",
        "# print(\"{0}\".format(\"hi\"))"
      ],
      "execution_count": null,
      "outputs": [
        {
          "output_type": "stream",
          "text": [
            "hi        aaa\n"
          ],
          "name": "stdout"
        }
      ]
    },
    {
      "cell_type": "code",
      "metadata": {
        "colab": {
          "base_uri": "https://localhost:8080/"
        },
        "id": "D7Fm-PAjm3yS",
        "outputId": "e6ef51e3-9c6c-4918-9a2a-d7a1064e1640"
      },
      "source": [
        "print(\"{0:<10}aaa\".format(\"hi\"))"
      ],
      "execution_count": null,
      "outputs": [
        {
          "output_type": "stream",
          "text": [
            "hi        aaa\n"
          ],
          "name": "stdout"
        }
      ]
    },
    {
      "cell_type": "code",
      "metadata": {
        "colab": {
          "base_uri": "https://localhost:8080/"
        },
        "id": "YrhbPUNWnva5",
        "outputId": "442b1d3e-d077-499b-9aaa-3df8339934d9"
      },
      "source": [
        "print(\"{0:>10}aaa\".format(\"hi\"))"
      ],
      "execution_count": null,
      "outputs": [
        {
          "output_type": "stream",
          "text": [
            "        hiaaa\n"
          ],
          "name": "stdout"
        }
      ]
    },
    {
      "cell_type": "code",
      "metadata": {
        "colab": {
          "base_uri": "https://localhost:8080/"
        },
        "id": "oYib0nz9nQ76",
        "outputId": "6db3c49c-923a-4bee-83ac-64711e3fb3ae"
      },
      "source": [
        "print(\"{0:^10}aaa\".format(\"hi\"))"
      ],
      "execution_count": null,
      "outputs": [
        {
          "output_type": "stream",
          "text": [
            "    hi    aaa\n"
          ],
          "name": "stdout"
        }
      ]
    },
    {
      "cell_type": "code",
      "metadata": {
        "colab": {
          "base_uri": "https://localhost:8080/"
        },
        "id": "rWbLpaA4nYXB",
        "outputId": "f49e74a1-61a4-49c5-fbe8-bf99401483bc"
      },
      "source": [
        "print(\"{0:!<10}aaa\".format(\"hi\"))"
      ],
      "execution_count": null,
      "outputs": [
        {
          "output_type": "stream",
          "text": [
            "hi!!!!!!!!aaa\n"
          ],
          "name": "stdout"
        }
      ]
    },
    {
      "cell_type": "code",
      "metadata": {
        "colab": {
          "base_uri": "https://localhost:8080/"
        },
        "id": "7d-7C4neoT1r",
        "outputId": "ebd5964a-7142-47a8-cf73-7377f99a07af"
      },
      "source": [
        "print(\"{0:0>6}\".format(1))"
      ],
      "execution_count": null,
      "outputs": [
        {
          "output_type": "stream",
          "text": [
            "000001\n"
          ],
          "name": "stdout"
        }
      ]
    },
    {
      "cell_type": "code",
      "metadata": {
        "colab": {
          "base_uri": "https://localhost:8080/"
        },
        "id": "MpgxJPltokdi",
        "outputId": "81d1f562-7b09-4943-a9f9-dcb8f40a5ff7"
      },
      "source": [
        "print(\"{0:0>6}\".format(10))"
      ],
      "execution_count": null,
      "outputs": [
        {
          "output_type": "stream",
          "text": [
            "000010\n"
          ],
          "name": "stdout"
        }
      ]
    },
    {
      "cell_type": "markdown",
      "metadata": {
        "id": "9-4jRlfcpSJY"
      },
      "source": [
        "### Page 14 메뉴판 그리기"
      ]
    },
    {
      "cell_type": "code",
      "metadata": {
        "colab": {
          "base_uri": "https://localhost:8080/"
        },
        "id": "ljwM9fPNowKK",
        "outputId": "19aa1bfa-28f2-4c48-cb0c-18acfdf0d83d"
      },
      "source": [
        "print(\"점심 추천기 프로그램입니다.\")"
      ],
      "execution_count": null,
      "outputs": [
        {
          "output_type": "stream",
          "text": [
            "점심 추천기 프로그램입니다.\n"
          ],
          "name": "stdout"
        }
      ]
    },
    {
      "cell_type": "code",
      "metadata": {
        "colab": {
          "base_uri": "https://localhost:8080/"
        },
        "id": "_Z7CSFmWpko8",
        "outputId": "7068a70d-7064-46e2-896e-3769f1d8f86d"
      },
      "source": [
        "print(\"메뉴판\")"
      ],
      "execution_count": null,
      "outputs": [
        {
          "output_type": "stream",
          "text": [
            "메뉴판\n"
          ],
          "name": "stdout"
        }
      ]
    },
    {
      "cell_type": "code",
      "metadata": {
        "colab": {
          "base_uri": "https://localhost:8080/"
        },
        "id": "Epo82lr1pqX8",
        "outputId": "fc862d30-8e2a-4784-f152-e81dd383b2c6"
      },
      "source": [
        "print(\"=\"*30)"
      ],
      "execution_count": null,
      "outputs": [
        {
          "output_type": "stream",
          "text": [
            "==============================\n"
          ],
          "name": "stdout"
        }
      ]
    },
    {
      "cell_type": "code",
      "metadata": {
        "colab": {
          "base_uri": "https://localhost:8080/"
        },
        "id": "5dDT6Vspp39k",
        "outputId": "1c7fac5a-91ea-49d8-8dcf-24a38dd0ef5e"
      },
      "source": [
        "print(\"{0:<10}{1:>10}{won}\".format('갈비탕',10000, won=\"원\"))"
      ],
      "execution_count": null,
      "outputs": [
        {
          "output_type": "stream",
          "text": [
            "갈비탕            10000원\n"
          ],
          "name": "stdout"
        }
      ]
    },
    {
      "cell_type": "code",
      "metadata": {
        "colab": {
          "base_uri": "https://localhost:8080/"
        },
        "id": "hgGMZe9GV4Y-",
        "outputId": "b3f1e24b-327c-4985-c209-a461b3d06e55"
      },
      "source": [
        "print(\"\"\" \n",
        "메뉴판\n",
        "==============================\n",
        "{0:<10}{1:>10}{won}\n",
        "{2:<10}{3:>10}{won}\n",
        "{4:<10}{5:>10}{won}\n",
        "{6:<10}{7:>10}{won}\n",
        "{8:<10}{9:>10}{won}\n",
        "{10:<10}{11:>10}{won}\n",
        "{12:<10}{13:>10}{won}\n",
        "==============================\n",
        "\"\"\".format('갈비탕',10000,\n",
        "           '떡볶이',7000,\n",
        "           '오뎅',5000,\n",
        "           '감자탕',8000,\n",
        "           '김치찌게',8000,\n",
        "           '제육볶음',7000,\n",
        "           '김치볶음밥',5000,won=\"원\"))"
      ],
      "execution_count": null,
      "outputs": [
        {
          "output_type": "stream",
          "text": [
            " \n",
            "메뉴판\n",
            "==============================\n",
            "갈비탕            10000원\n",
            "떡볶이             7000원\n",
            "오뎅              5000원\n",
            "감자탕             8000원\n",
            "김치찌게            8000원\n",
            "제육볶음            7000원\n",
            "김치볶음밥           5000원\n",
            "==============================\n",
            "\n"
          ],
          "name": "stdout"
        }
      ]
    },
    {
      "cell_type": "code",
      "metadata": {
        "colab": {
          "base_uri": "https://localhost:8080/"
        },
        "id": "hb4beGQxrYCz",
        "outputId": "f0f7c01d-92be-4399-da8b-ca4b69a532df"
      },
      "source": [
        "# f-string으로 해보기~!\n",
        "print(\"\"\" \n",
        "메뉴판\n",
        "==============================\n",
        "{0:<10}{1:>10}{won}\n",
        "{2:<10}{3:>10}{won}\n",
        "{4:<10}{5:>10}{won}\n",
        "{6:<10}{7:>10}{won}\n",
        "{8:<10}{9:>10}{won}\n",
        "{10:<10}{11:>10}{won}\n",
        "{12:<10}{13:>10}{won}\n",
        "==============================\n",
        "\"\"\".format('갈비탕',10000,\n",
        "           '떡볶이',7000,\n",
        "           '오뎅',5000,\n",
        "           '감자탕',8000,\n",
        "           '김치찌게',8000,\n",
        "           '제육볶음',7000,\n",
        "           '김치볶음밥',5000,won=\"원\"))"
      ],
      "execution_count": null,
      "outputs": [
        {
          "output_type": "stream",
          "text": [
            " \n",
            "메뉴판\n",
            "==============================\n",
            "갈비탕            10000원\n",
            "떡볶이             7000원\n",
            "오뎅              5000원\n",
            "감자탕             8000원\n",
            "김치찌게            8000원\n",
            "제육볶음            7000원\n",
            "김치볶음밥           5000원\n",
            "==============================\n",
            "\n"
          ],
          "name": "stdout"
        }
      ]
    },
    {
      "cell_type": "code",
      "metadata": {
        "colab": {
          "base_uri": "https://localhost:8080/"
        },
        "id": "xF8aKsOetMoj",
        "outputId": "b024cd7f-c661-43b7-93e8-22053acfcd69"
      },
      "source": [
        "print(\"=\"*30)"
      ],
      "execution_count": null,
      "outputs": [
        {
          "output_type": "stream",
          "text": [
            "==============================\n"
          ],
          "name": "stdout"
        }
      ]
    },
    {
      "cell_type": "markdown",
      "metadata": {
        "id": "absffliJvDEk"
      },
      "source": [
        "### **Page 15 급여 계산기 만들기**"
      ]
    },
    {
      "cell_type": "code",
      "metadata": {
        "colab": {
          "base_uri": "https://localhost:8080/"
        },
        "id": "a4iqsUlatR4r",
        "outputId": "d9b380e7-9ff4-40d1-e9bc-518ba211ab32"
      },
      "source": [
        "pay = 7000\n",
        "time_of_day = 8\n",
        "day_of_month = 19\n",
        "\n",
        "print(pay)\n",
        "print(time_of_day)\n",
        "print(day_of_month)"
      ],
      "execution_count": null,
      "outputs": [
        {
          "output_type": "stream",
          "text": [
            "7000\n",
            "8\n",
            "19\n"
          ],
          "name": "stdout"
        }
      ]
    },
    {
      "cell_type": "code",
      "metadata": {
        "colab": {
          "base_uri": "https://localhost:8080/"
        },
        "id": "oHiemnLOxQJ5",
        "outputId": "05bd743b-ff79-4ae3-d7db-88152df055d8"
      },
      "source": [
        "# 문자열 * 숫자 : 반복\n",
        "print(\"=\"*30)"
      ],
      "execution_count": null,
      "outputs": [
        {
          "output_type": "stream",
          "text": [
            "==============================\n"
          ],
          "name": "stdout"
        }
      ]
    },
    {
      "cell_type": "code",
      "metadata": {
        "colab": {
          "base_uri": "https://localhost:8080/"
        },
        "id": "gc8o7tfzxrPN",
        "outputId": "6290a12c-7586-49fd-e1cd-65c4d21f44ce"
      },
      "source": [
        "# 숫자 * 숫자 : 곱셉\n",
        "print(7000*3)"
      ],
      "execution_count": null,
      "outputs": [
        {
          "output_type": "stream",
          "text": [
            "21000\n"
          ],
          "name": "stdout"
        }
      ]
    },
    {
      "cell_type": "code",
      "metadata": {
        "colab": {
          "base_uri": "https://localhost:8080/"
        },
        "id": "ROeBsfw8xwYk",
        "outputId": "38df25f4-b548-4dcb-8cca-d5523d82929c"
      },
      "source": [
        "print(pay*time_of_day*day_of_month)"
      ],
      "execution_count": null,
      "outputs": [
        {
          "output_type": "stream",
          "text": [
            "1064000\n"
          ],
          "name": "stdout"
        }
      ]
    },
    {
      "cell_type": "code",
      "metadata": {
        "colab": {
          "base_uri": "https://localhost:8080/"
        },
        "id": "B7nM3CcUx3Zs",
        "outputId": "7519c72d-8c41-4d30-801f-3379e6a473a3"
      },
      "source": [
        "# profit : 월급\n",
        "profit = pay*time_of_day*day_of_month\n",
        "print(profit)"
      ],
      "execution_count": null,
      "outputs": [
        {
          "output_type": "stream",
          "text": [
            "1064000\n"
          ],
          "name": "stdout"
        }
      ]
    },
    {
      "cell_type": "code",
      "metadata": {
        "colab": {
          "base_uri": "https://localhost:8080/"
        },
        "id": "iZGIhd-CyCWs",
        "outputId": "fa38ee06-41ec-49d0-85e9-f6b0ba5c56cf"
      },
      "source": [
        "print(\"급여 계산기 프로그램입니다.\")\n",
        "\n",
        "pay = 7000\n",
        "time_of_day = 8\n",
        "day_of_month = 19\n",
        "\n",
        "# 월급 계산\n",
        "profit = pay * time_of_day * day_of_month\n",
        "\n",
        "# 결과 출력\n",
        "print(f\"예상 월급은 : {profit}원 입니다.\")\n",
        "print(f\"{profit}원으로 무엇을 할 수 있을까요?\")\n",
        "# 나눈 몫만 가져올 때 //\n",
        "print(f\"PC방 (1200원 기준) : {profit / 1200}시간\")\n",
        "print(f\"점심 (7000원 기준) : {profit // 7000}끼\")\n",
        "print(f\"영화 (11000원 기준) : {profit // 11000}편\")\n",
        "print(f\"노래방 (20000원 기준) : {profit // 20000}시간\")"
      ],
      "execution_count": null,
      "outputs": [
        {
          "output_type": "stream",
          "text": [
            "급여 계산기 프로그램입니다.\n",
            "예상 월급은 : 1064000원 입니다.\n",
            "1064000원으로 무엇을 할 수 있을까요?\n",
            "PC방 (1200원 기준) : 886.6666666666666시간\n",
            "점심 (7000원 기준) : 152끼\n",
            "영화 (11000원 기준) : 96편\n",
            "노래방 (20000원 기준) : 53시간\n"
          ],
          "name": "stdout"
        }
      ]
    },
    {
      "cell_type": "code",
      "metadata": {
        "colab": {
          "base_uri": "https://localhost:8080/"
        },
        "id": "UhxtGAf81ff2",
        "outputId": "baa97119-ae0f-4eac-f0c6-21d218cefb92"
      },
      "source": [
        "print(\"급여 계산기 프로그램입니다.\")\n",
        "\n",
        "pay = input(\"시급을 입력해주세요 : \")\n",
        "time_of_day = input(\"일일근무시간 : \")\n",
        "day_of_month = input(\"한달근무일수 : \")\n",
        "\n",
        "# 형 변환\n",
        "pay = int(pay)\n",
        "time_of_day = int(time_of_day)\n",
        "day_of_month = int(day_of_month)\n",
        "\n",
        "# 월급 계산\n",
        "profit = pay * time_of_day * day_of_month\n",
        "\n",
        "# 결과 출력\n",
        "print(f\"예상 월급은 : {profit}원 입니다.\")\n",
        "print(f\"{profit}원으로 무엇을 할 수 있을까요?\")\n",
        "# 나눈 몫만 가져올 때 //\n",
        "print(f\"PC방 (1200원 기준) : {profit / 1200}시간\")\n",
        "print(f\"점심 (7000원 기준) : {profit // 7000}끼\")\n",
        "print(f\"영화 (11000원 기준) : {profit // 11000}편\")\n",
        "print(f\"노래방 (20000원 기준) : {profit // 20000}시간\")"
      ],
      "execution_count": null,
      "outputs": [
        {
          "output_type": "stream",
          "text": [
            "급여 계산기 프로그램입니다.\n",
            "시급을 입력해주세요 : 10000\n",
            "일일근무시간 : 8\n",
            "한달근무일수 : 22\n",
            "예상 월급은 : 1760000원 입니다.\n",
            "1760000원으로 무엇을 할 수 있을까요?\n",
            "PC방 (1200원 기준) : 1466.6666666666667시간\n",
            "점심 (7000원 기준) : 251끼\n",
            "영화 (11000원 기준) : 160편\n",
            "노래방 (20000원 기준) : 88시간\n"
          ],
          "name": "stdout"
        }
      ]
    },
    {
      "cell_type": "code",
      "metadata": {
        "colab": {
          "base_uri": "https://localhost:8080/"
        },
        "id": "Pc51_c4XQ3sN",
        "outputId": "8d9f007d-f99b-4f72-b206-05066a02799e"
      },
      "source": [
        "# 산술 연산자 +\n",
        "1+2"
      ],
      "execution_count": null,
      "outputs": [
        {
          "output_type": "execute_result",
          "data": {
            "text/plain": [
              "3"
            ]
          },
          "metadata": {
            "tags": []
          },
          "execution_count": 104
        }
      ]
    },
    {
      "cell_type": "code",
      "metadata": {
        "colab": {
          "base_uri": "https://localhost:8080/",
          "height": 34
        },
        "id": "wyHQjHz14-xt",
        "outputId": "b1a51a73-94f6-4e4a-c8e8-ef80d6ce2a25"
      },
      "source": [
        "# 연결 연산자 +\n",
        "\"신동욱\" + \"강사님\""
      ],
      "execution_count": null,
      "outputs": [
        {
          "output_type": "execute_result",
          "data": {
            "application/vnd.google.colaboratory.intrinsic+json": {
              "type": "string"
            },
            "text/plain": [
              "'신동욱강사님'"
            ]
          },
          "metadata": {
            "tags": []
          },
          "execution_count": 103
        }
      ]
    },
    {
      "cell_type": "code",
      "metadata": {
        "colab": {
          "base_uri": "https://localhost:8080/"
        },
        "id": "jJv4TrIJQ6fV",
        "outputId": "e6951455-2bd0-4ed0-e8bb-00ad73313a8b"
      },
      "source": [
        "print(\"신동욱\",\"강사님\")"
      ],
      "execution_count": null,
      "outputs": [
        {
          "output_type": "stream",
          "text": [
            "신동욱 강사님\n"
          ],
          "name": "stdout"
        }
      ]
    },
    {
      "cell_type": "code",
      "metadata": {
        "colab": {
          "base_uri": "https://localhost:8080/"
        },
        "id": "JD3ieg_tRMlE",
        "outputId": "f25e803f-963d-412f-a4ff-52f2b8f9b104"
      },
      "source": [
        "print(\"신동욱\" + \"VIP\")"
      ],
      "execution_count": null,
      "outputs": [
        {
          "output_type": "stream",
          "text": [
            "신동욱VIP\n"
          ],
          "name": "stdout"
        }
      ]
    },
    {
      "cell_type": "code",
      "metadata": {
        "colab": {
          "base_uri": "https://localhost:8080/"
        },
        "id": "chmk2prhRVnE",
        "outputId": "3ebcc2d0-2437-4aa0-d6ad-47fd1013e121"
      },
      "source": [
        "print(\"신동욱\", \"VIP\")"
      ],
      "execution_count": null,
      "outputs": [
        {
          "output_type": "stream",
          "text": [
            "신동욱 VIP\n"
          ],
          "name": "stdout"
        }
      ]
    },
    {
      "cell_type": "code",
      "metadata": {
        "colab": {
          "base_uri": "https://localhost:8080/"
        },
        "id": "o1S9eMddRYBc",
        "outputId": "8d595f0d-970f-46bf-e6ef-34a273105500"
      },
      "source": [
        "print('123'+'123')"
      ],
      "execution_count": null,
      "outputs": [
        {
          "output_type": "stream",
          "text": [
            "123123\n"
          ],
          "name": "stdout"
        }
      ]
    },
    {
      "cell_type": "code",
      "metadata": {
        "colab": {
          "base_uri": "https://localhost:8080/"
        },
        "id": "q0c4SNZrRwvt",
        "outputId": "b67b73f6-eb97-42b8-b1df-a87dcc9285d3"
      },
      "source": [
        "print(\"=\"*30)"
      ],
      "execution_count": null,
      "outputs": [
        {
          "output_type": "stream",
          "text": [
            "==============================\n"
          ],
          "name": "stdout"
        }
      ]
    },
    {
      "cell_type": "code",
      "metadata": {
        "colab": {
          "base_uri": "https://localhost:8080/",
          "height": 169
        },
        "id": "l74DBwJ9R4nN",
        "outputId": "d36783ab-e422-4547-b23c-b36eb2ec2b18"
      },
      "source": [
        "print(\"=\"+30)"
      ],
      "execution_count": null,
      "outputs": [
        {
          "output_type": "error",
          "ename": "TypeError",
          "evalue": "ignored",
          "traceback": [
            "\u001b[0;31m---------------------------------------------------------------------------\u001b[0m",
            "\u001b[0;31mTypeError\u001b[0m                                 Traceback (most recent call last)",
            "\u001b[0;32m<ipython-input-110-ba94fed44625>\u001b[0m in \u001b[0;36m<module>\u001b[0;34m()\u001b[0m\n\u001b[0;32m----> 1\u001b[0;31m \u001b[0mprint\u001b[0m\u001b[0;34m(\u001b[0m\u001b[0;34m\"=\"\u001b[0m\u001b[0;34m+\u001b[0m\u001b[0;36m30\u001b[0m\u001b[0;34m)\u001b[0m\u001b[0;34m\u001b[0m\u001b[0;34m\u001b[0m\u001b[0m\n\u001b[0m",
            "\u001b[0;31mTypeError\u001b[0m: can only concatenate str (not \"int\") to str"
          ]
        }
      ]
    },
    {
      "cell_type": "code",
      "metadata": {
        "colab": {
          "base_uri": "https://localhost:8080/"
        },
        "id": "Kb_ZzJ9zR6il",
        "outputId": "c2194d04-ccb7-434e-cd4d-24afc960046f"
      },
      "source": [
        "print(123*3)"
      ],
      "execution_count": null,
      "outputs": [
        {
          "output_type": "stream",
          "text": [
            "369\n"
          ],
          "name": "stdout"
        }
      ]
    },
    {
      "cell_type": "code",
      "metadata": {
        "colab": {
          "base_uri": "https://localhost:8080/",
          "height": 169
        },
        "id": "Y350o2jgSY6t",
        "outputId": "151a1268-4fd0-4201-f29a-4ef15b2df793"
      },
      "source": [
        "print(\"123\"*\"3\")"
      ],
      "execution_count": null,
      "outputs": [
        {
          "output_type": "error",
          "ename": "TypeError",
          "evalue": "ignored",
          "traceback": [
            "\u001b[0;31m---------------------------------------------------------------------------\u001b[0m",
            "\u001b[0;31mTypeError\u001b[0m                                 Traceback (most recent call last)",
            "\u001b[0;32m<ipython-input-113-9d2b3f81e6e5>\u001b[0m in \u001b[0;36m<module>\u001b[0;34m()\u001b[0m\n\u001b[0;32m----> 1\u001b[0;31m \u001b[0mprint\u001b[0m\u001b[0;34m(\u001b[0m\u001b[0;34m\"123\"\u001b[0m\u001b[0;34m*\u001b[0m\u001b[0;34m\"3\"\u001b[0m\u001b[0;34m)\u001b[0m\u001b[0;34m\u001b[0m\u001b[0;34m\u001b[0m\u001b[0m\n\u001b[0m",
            "\u001b[0;31mTypeError\u001b[0m: can't multiply sequence by non-int of type 'str'"
          ]
        }
      ]
    },
    {
      "cell_type": "code",
      "metadata": {
        "colab": {
          "base_uri": "https://localhost:8080/"
        },
        "id": "jJy7qNe-Sd5V",
        "outputId": "61842e21-00c1-4b01-a215-00655c9fbe88"
      },
      "source": [
        "print(\"123\"*3)"
      ],
      "execution_count": null,
      "outputs": [
        {
          "output_type": "stream",
          "text": [
            "123123123\n"
          ],
          "name": "stdout"
        }
      ]
    },
    {
      "cell_type": "code",
      "metadata": {
        "id": "L_QKLPnnSrJV"
      },
      "source": [
        "# C, JAVA\n",
        "int a = 1\n",
        "\n",
        "# Python\n",
        "a = 1"
      ],
      "execution_count": null,
      "outputs": []
    },
    {
      "cell_type": "code",
      "metadata": {
        "colab": {
          "base_uri": "https://localhost:8080/"
        },
        "id": "jlzNo53tS9a2",
        "outputId": "de0b19e3-5e9e-40fa-82b9-b87ce073bbf6"
      },
      "source": [
        "age = 40\n",
        "print(type(age))"
      ],
      "execution_count": null,
      "outputs": [
        {
          "output_type": "stream",
          "text": [
            "<class 'int'>\n"
          ],
          "name": "stdout"
        }
      ]
    },
    {
      "cell_type": "code",
      "metadata": {
        "colab": {
          "base_uri": "https://localhost:8080/"
        },
        "id": "mWnpGQ6zTAZm",
        "outputId": "724a55d0-8793-4f60-8361-d06e32c9188e"
      },
      "source": [
        "print('123' + '123')"
      ],
      "execution_count": null,
      "outputs": [
        {
          "output_type": "stream",
          "text": [
            "123123\n"
          ],
          "name": "stdout"
        }
      ]
    },
    {
      "cell_type": "code",
      "metadata": {
        "colab": {
          "base_uri": "https://localhost:8080/"
        },
        "id": "PkZsPCXHTSoX",
        "outputId": "52bfe8b8-7d13-4b15-a9a5-83f0e993a8f7"
      },
      "source": [
        "name = input(\"당신의 이름을 입력해주세요: \")\n",
        "\n",
        "kor = float(input(\"국어성적을 입력해주세요: \"))\n",
        "eng = float(input(\"영어성적을 입력해주세요: \"))\n",
        "mat = float(input(\"수학성적을 입력해주세요: \"))\n",
        "print(f\"국어: {kor}\"+\"\\n\"+f\"영어: {eng}\"+\"\\n\"+f\"수학: {mat}\")\n",
        "\n",
        "#평균계산\n",
        "\n",
        "avg = (kor + eng + mat) / 3\n",
        "print(f\"당신의 평균 성적은 {avg} 입니다.\")"
      ],
      "execution_count": null,
      "outputs": [
        {
          "output_type": "stream",
          "text": [
            "당신의 이름을 입력해주세요: 신동욱\n",
            "국어성적을 입력해주세요: 100\n",
            "영어성적을 입력해주세요: 90\n",
            "수학성적을 입력해주세요: 80\n",
            "국어: 100.0\n",
            "영어: 90.0\n",
            "수학: 80.0\n",
            "당신의 평균 성적은 90.0 입니다.\n"
          ],
          "name": "stdout"
        }
      ]
    },
    {
      "cell_type": "markdown",
      "metadata": {
        "id": "GAEFiefXdxhj"
      },
      "source": [
        "### **Page 40 조건문이란?**"
      ]
    },
    {
      "cell_type": "code",
      "metadata": {
        "id": "xP66qcEdaINd",
        "colab": {
          "base_uri": "https://localhost:8080/",
          "height": 136
        },
        "outputId": "d6425d90-4853-4951-b84d-0172a296d845"
      },
      "source": [
        "if 조건문: # 조건문의 결과 bool (참, 거짓)\n",
        "  조건이 참일 때 동작하는 실행구문\n",
        "else:\n",
        "  조건이 거짓일 때 동작하는 실행구문"
      ],
      "execution_count": null,
      "outputs": [
        {
          "output_type": "error",
          "ename": "SyntaxError",
          "evalue": "ignored",
          "traceback": [
            "\u001b[0;36m  File \u001b[0;32m\"<ipython-input-1-6ab79c4c7c7a>\"\u001b[0;36m, line \u001b[0;32m2\u001b[0m\n\u001b[0;31m    조건이 참일 때 동작하는 실행구문\u001b[0m\n\u001b[0m         ^\u001b[0m\n\u001b[0;31mSyntaxError\u001b[0m\u001b[0;31m:\u001b[0m invalid syntax\n"
          ]
        }
      ]
    },
    {
      "cell_type": "code",
      "metadata": {
        "id": "eA8abQqYez7s"
      },
      "source": [
        "print(\"급여 계산기 프로그램입니다.\")\n",
        "\n",
        "pay = input(\"시급을 입력해주세요 : \")\n",
        "time_of_day = input(\"일일근무시간 : \")\n",
        "day_of_month = input(\"한달근무일수 : \")\n",
        "\n",
        "# 형 변환\n",
        "pay = int(pay)\n",
        "time_of_day = int(time_of_day)\n",
        "day_of_month = int(day_of_month)\n",
        "\n",
        "# 월급 계산\n",
        "profit = pay * time_of_day * day_of_month\n",
        "\n",
        "# 수습 적용\n",
        "# ---------------------------------------------\n",
        "pratice = input(\"\"\"\n",
        "수습을 적용하나요?\n",
        "1. 적용\n",
        "2. 미적용\n",
        "\"\"\")\n",
        "\n",
        "# 수습 변수 추가\n",
        "pratice = int(pratice)\n",
        "\n",
        "if pratice == 1:\n",
        "  pratice_price = profit // 10\n",
        "else:\n",
        "  pratice_price = 0\n",
        "\n",
        "profit = profit - pratice_price\n",
        "# ---------------------------------------------\n",
        "\n",
        "\n",
        "# 결과 출력\n",
        "print(f\"예상 월급은 : {profit}원 입니다.\")\n",
        "print(f\"{profit}원으로 무엇을 할 수 있을까요?\")\n",
        "# 나눈 몫만 가져올 때 //\n",
        "print(f\"PC방 (1200원 기준) : {profit / 1200}시간\")\n",
        "print(f\"점심 (7000원 기준) : {profit // 7000}끼\")\n",
        "print(f\"영화 (11000원 기준) : {profit // 11000}편\")\n",
        "print(f\"노래방 (20000원 기준) : {profit // 20000}시간\")"
      ],
      "execution_count": null,
      "outputs": []
    },
    {
      "cell_type": "code",
      "metadata": {
        "id": "gZHbyQ7efIVh"
      },
      "source": [
        "age = int(input(\"나이를 입력하세요 : \"))\n",
        "\n",
        "if 1 <= age < 20:\n",
        "  print(\"담배를 살 수 없습니다.\")\n",
        "else:\n",
        "  print(\"담배를 살 수 있습니다.\")"
      ],
      "execution_count": null,
      "outputs": []
    },
    {
      "cell_type": "code",
      "metadata": {
        "id": "WJ7TiXgyhS0x"
      },
      "source": [
        "# a = input(\"숫자 두 개를 띄어쓰기 하셔서 입력하세요.\").split()\n",
        "# print(a)\n",
        "# print(type(a))\n",
        "# print(type(a[0]))\n",
        "\n",
        "# a = map(int, input(\"숫자 두 개를 띄어쓰기 하셔서 입력하세요.\").split())\n",
        "# int a\n",
        "\n",
        "a, b = map(int, input('숫자 두 개를 입력하세요: ').split())\n",
        "print(a)\n",
        "print(b)\n",
        "print(a + b)"
      ],
      "execution_count": null,
      "outputs": []
    },
    {
      "cell_type": "code",
      "metadata": {
        "id": "C1an_CjkibZb"
      },
      "source": [
        "names = [\"신동욱\", \"이동욱\", \"이동건\"] # 전체 고객(DB), Pandas\n",
        "\n",
        "cus_name = input(\"고객이름을 입력하세요 : \") # 고객의 이름을 입력, 이벤트 당첨 / 미당첨\n",
        "\n",
        "if cus_name in names:\n",
        "  print(f\"{cus_name}이 있습니다.\")\n",
        "else:\n",
        "  print(f\"{cus_name}이 없습니다.\")"
      ],
      "execution_count": null,
      "outputs": []
    },
    {
      "cell_type": "markdown",
      "metadata": {
        "id": "gciF8j8FtI-D"
      },
      "source": [
        "### **Page 52 세금 적용 코드**"
      ]
    },
    {
      "cell_type": "markdown",
      "metadata": {
        "id": "oC8V0hXSgWOi"
      },
      "source": [
        "### **1일차 질문.**\n",
        "강사님 =*30을 적용할 수는 없나요?"
      ]
    },
    {
      "cell_type": "code",
      "metadata": {
        "colab": {
          "base_uri": "https://localhost:8080/"
        },
        "id": "AmgY9mXwqAuL",
        "outputId": "81933564-4e3d-4cc2-9177-f82883282c33"
      },
      "source": [
        "equal_many = \"=\"*30\n",
        "# print(equal_many)\n",
        "\n",
        "print(f\"\"\" \n",
        "메뉴판\n",
        "{equal_many}\n",
        "{'갈비탕':<10}{10000:>10}{\"원\"}\n",
        "{'떡볶이':<10}{7000:>10}{\"원\"}\n",
        "{'오뎅':<10}{5000:>10}{\"원\"}\n",
        "{'감자탕':<10}{8000:>10}{\"원\"}\n",
        "{'김치찌게':<10}{8000:>10}{\"원\"}\n",
        "{'제육볶음':<10}{7000:>10}{\"원\"}\n",
        "{'김치볶음밥':<10}{5000:>10}{\"원\"}\n",
        "{equal_many}\n",
        "\"\"\")"
      ],
      "execution_count": null,
      "outputs": [
        {
          "output_type": "stream",
          "text": [
            " \n",
            "메뉴판\n",
            "==============================\n",
            "갈비탕            10000원\n",
            "떡볶이             7000원\n",
            "오뎅              5000원\n",
            "감자탕             8000원\n",
            "김치찌게            8000원\n",
            "제육볶음            7000원\n",
            "김치볶음밥           5000원\n",
            "==============================\n",
            "\n"
          ],
          "name": "stdout"
        }
      ]
    },
    {
      "cell_type": "code",
      "metadata": {
        "colab": {
          "base_uri": "https://localhost:8080/"
        },
        "id": "5r4HRdThrxHK",
        "outputId": "c385d0fe-b945-4c94-e6fe-72bb85384f3d"
      },
      "source": [
        "print(\"급여 계산기 프로그램입니다.\")\n",
        "\n",
        "pay = input(\"시급을 입력해주세요 : \")\n",
        "time_of_day = input(\"일일근무시간 : \")\n",
        "day_of_month = input(\"한달근무일수 : \")\n",
        "\n",
        "# 형 변환\n",
        "pay = int(pay)\n",
        "time_of_day = int(time_of_day)\n",
        "day_of_month = int(day_of_month)\n",
        "\n",
        "# 월급 계산\n",
        "profit = pay * time_of_day * day_of_month\n",
        "\n",
        "# 수습 적용\n",
        "# ---------------------------------------------\n",
        "pratice = input(\"\"\"\n",
        "수습을 적용하나요?\n",
        "1. 적용\n",
        "2. 미적용\n",
        "\"\"\")\n",
        "\n",
        "# 수습 변수 추가\n",
        "pratice = int(pratice)\n",
        "\n",
        "# 수습 적용\n",
        "if pratice == 1:\n",
        "  pratice_price = profit // 10\n",
        "else:\n",
        "  pratice_price = 0\n",
        "\n",
        "profit = profit - pratice_price\n",
        "\n",
        "# 세금 적용\n",
        "tax = input('''\n",
        "세금을 적용하나요?\n",
        "1. 미적용\n",
        "2. 4대 보험료 공제\n",
        "3. 소득세 공제\n",
        "4. 모두 적용\n",
        "''')\n",
        "\n",
        "# 세금 변수 추가\n",
        "tax = int(tax)\n",
        "\n",
        "# 세금 적용\n",
        "if tax == 2:\n",
        "  tax_price = profit * 841 // 10000\n",
        "elif tax == 3:\n",
        "  tax_price = profit * 33 // 1000\n",
        "elif tax == 4:\n",
        "  tax_price = profit * 841 // 10000 + profit * 33 // 1000\n",
        "else:\n",
        "  tax_price = 0\n",
        "\n",
        "profit = profit - tax_price\n",
        "# ---------------------------------------------\n",
        "\n",
        "# 결과 출력\n",
        "print(f\"예상 월급은 : {profit}원 입니다.\")\n",
        "print(f\"{profit}원으로 무엇을 할 수 있을까요?\")\n",
        "# 나눈 몫만 가져올 때 //\n",
        "print(f\"PC방 (1200원 기준) : {profit // 1200}시간\")\n",
        "print(f\"점심 (7000원 기준) : {profit // 7000}끼\")\n",
        "print(f\"영화 (11000원 기준) : {profit // 11000}편\")\n",
        "print(f\"노래방 (20000원 기준) : {profit // 20000}시간\")"
      ],
      "execution_count": null,
      "outputs": [
        {
          "output_type": "stream",
          "text": [
            "급여 계산기 프로그램입니다.\n",
            "시급을 입력해주세요 : 10000\n",
            "일일근무시간 : 8\n",
            "한달근무일수 : 22\n",
            "\n",
            "수습을 적용하나요?\n",
            "1. 적용\n",
            "2. 미적용\n",
            "1\n",
            "\n",
            "세금을 적용하나요?\n",
            "1. 미적용\n",
            "2. 4대 보험료 공제\n",
            "3. 소득세 공제\n",
            "4. 모두 적용\n",
            "4\n",
            "예상 월급은 : 1398514원 입니다.\n",
            "1398514원으로 무엇을 할 수 있을까요?\n",
            "PC방 (1200원 기준) : 1165.4283333333333시간\n",
            "점심 (7000원 기준) : 199끼\n",
            "영화 (11000원 기준) : 127편\n",
            "노래방 (20000원 기준) : 69시간\n"
          ],
          "name": "stdout"
        }
      ]
    },
    {
      "cell_type": "markdown",
      "metadata": {
        "id": "nMDObvQfzqnX"
      },
      "source": [
        "### **코로나 열체크 실전코드**"
      ]
    },
    {
      "cell_type": "code",
      "metadata": {
        "colab": {
          "base_uri": "https://localhost:8080/"
        },
        "id": "jYZUNcV1uznd",
        "outputId": "9aea617f-4d64-47f2-e971-033adfe77875"
      },
      "source": [
        "\"\"\"\n",
        "작성일자 : 2021-07-26\n",
        "작성자   : 신동욱\n",
        "\"\"\"\n",
        "# 한글 깨짐 방지 코드\n",
        "# -*- coding : utf-8 -*- \n",
        "\n",
        "# 변수 정의\n",
        "# temp : 체온\n",
        "# 확진자인지 아닌지 판별 : 37.5\n",
        "# temp = float(input(\"체온을 측정중입니다 : \"))\n",
        "# print(temp)\n",
        "# print(type(temp))\n",
        "\n",
        "# if temp > 37.5:\n",
        "#   print(\"코로나 의심 환자입니다.\")\n",
        "# else:\n",
        "#   print(\"진료를 받을 수 있는 환자입니다.\")\n",
        "\n",
        "# # msg  : 메시지\n",
        "# msg = \"당신은 코로나 양성으로 판단됩니다.\"\n",
        "# if \"양성\" in msg:\n",
        "#   print(\"코로나 의심 환자입니다.\")\n",
        "# else:\n",
        "#   print(\"진료를 받을 수 있는 환자입니다.\")\n",
        "\n",
        "msg = \"당신은 코로나 양성으로 판단됩니다.\"\n",
        "temp = float(input(\"체온을 측정중입니다 : \"))\n",
        "\n",
        "if \"양성\" in msg and temp > 37.5:\n",
        "  print(\"당신은 확진자입니다.\")\n",
        "else:\n",
        "  print(\"당신은 확진자가 아닙니다.\")"
      ],
      "execution_count": null,
      "outputs": [
        {
          "output_type": "stream",
          "text": [
            "체온을 측정중입니다 : 36.0\n",
            "당신은 확진자가 아닙니다.\n"
          ],
          "name": "stdout"
        }
      ]
    },
    {
      "cell_type": "code",
      "metadata": {
        "id": "vPxX_5jh0y-A"
      },
      "source": [
        ""
      ],
      "execution_count": null,
      "outputs": []
    },
    {
      "cell_type": "markdown",
      "metadata": {
        "id": "z61V1uFF8PeO"
      },
      "source": [
        "### **Page 60 주민등록번호 분석기**"
      ]
    },
    {
      "cell_type": "code",
      "metadata": {
        "colab": {
          "base_uri": "https://localhost:8080/"
        },
        "id": "RoZVHAM28Vjz",
        "outputId": "3a66d3de-b465-4529-d2d4-03d1729ca119"
      },
      "source": [
        "name = \"신동욱\"\n",
        "print(name)"
      ],
      "execution_count": null,
      "outputs": [
        {
          "output_type": "stream",
          "text": [
            "신동욱\n"
          ],
          "name": "stdout"
        }
      ]
    },
    {
      "cell_type": "code",
      "metadata": {
        "colab": {
          "base_uri": "https://localhost:8080/"
        },
        "id": "3DHLh5XU8gMx",
        "outputId": "f5c1109c-a176-4faa-eed9-e648124f72c7"
      },
      "source": [
        "name = \"신동욱\"\n",
        "# print(name[0])\n",
        "first_name = name[0]\n",
        "print(first_name)"
      ],
      "execution_count": null,
      "outputs": [
        {
          "output_type": "stream",
          "text": [
            "신\n",
            "신\n"
          ],
          "name": "stdout"
        }
      ]
    },
    {
      "cell_type": "code",
      "metadata": {
        "colab": {
          "base_uri": "https://localhost:8080/"
        },
        "id": "gV3SXceV8jhg",
        "outputId": "b2aef7fb-2af4-43dc-da8b-4ff6dedac789"
      },
      "source": [
        "name = \"신동욱\"\n",
        "# print(name[1:3])\n",
        "second_name = name[1:3]\n",
        "print(second_name)"
      ],
      "execution_count": null,
      "outputs": [
        {
          "output_type": "stream",
          "text": [
            "동욱\n"
          ],
          "name": "stdout"
        }
      ]
    },
    {
      "cell_type": "code",
      "metadata": {
        "colab": {
          "base_uri": "https://localhost:8080/"
        },
        "id": "BvDwYJk08nOh",
        "outputId": "d8b1bf24-c67a-421b-d793-161ce34487c0"
      },
      "source": [
        "jumin_num = \"800101-1234567\"\n",
        "# print(jumin_num[0:2])\n",
        "birth_year = jumin_num[0:2]\n",
        "print(\"19\"+birth_year+\" 년생\")"
      ],
      "execution_count": null,
      "outputs": [
        {
          "output_type": "stream",
          "text": [
            "1980 년생\n"
          ],
          "name": "stdout"
        }
      ]
    },
    {
      "cell_type": "code",
      "metadata": {
        "colab": {
          "base_uri": "https://localhost:8080/"
        },
        "id": "RM6SmOOY97yB",
        "outputId": "845a07b5-d55a-4697-facc-dbee97dc9053"
      },
      "source": [
        "jumin_num = \"800101-1234567\"\n",
        "# print(jumin_num[2:4])\n",
        "birth_month = jumin_num[2:4]\n",
        "print(birth_month + \"월\")"
      ],
      "execution_count": null,
      "outputs": [
        {
          "output_type": "stream",
          "text": [
            "01월\n"
          ],
          "name": "stdout"
        }
      ]
    },
    {
      "cell_type": "code",
      "metadata": {
        "colab": {
          "base_uri": "https://localhost:8080/"
        },
        "id": "03xDRB44-kB5",
        "outputId": "054ffe33-25cf-48af-a17b-0692e428a417"
      },
      "source": [
        "jumin_num = \"800101-1234567\"\n",
        "birth_day = jumin_num[4:6]\n",
        "print(birth_day + \"일생\")"
      ],
      "execution_count": null,
      "outputs": [
        {
          "output_type": "stream",
          "text": [
            "01일생\n"
          ],
          "name": "stdout"
        }
      ]
    },
    {
      "cell_type": "code",
      "metadata": {
        "colab": {
          "base_uri": "https://localhost:8080/"
        },
        "id": "WqNobwJD-8n5",
        "outputId": "e51b2728-7a7d-4a02-82be-1da2d7ee597e"
      },
      "source": [
        "print(\"19\"+birth_year+\"년생 \"+birth_month + \"월 \"+birth_day + \"일생\")"
      ],
      "execution_count": null,
      "outputs": [
        {
          "output_type": "stream",
          "text": [
            "1980년생 01월 01일생\n"
          ],
          "name": "stdout"
        }
      ]
    },
    {
      "cell_type": "code",
      "metadata": {
        "colab": {
          "base_uri": "https://localhost:8080/"
        },
        "id": "-rCXoN7O_NNJ",
        "outputId": "a1f4bd4c-bb61-4116-9fd2-9fa5183490ad"
      },
      "source": [
        "# % 연산자\n",
        "# 슬라이싱 => 주민번호 가지고 오셔야 됨, 주민번호 뒷자리 추출\n",
        "# if구문\n",
        "# 남, 여를 구분해보세요!\n",
        "jumin_num = \"800101-2234567\"\n",
        "# print(jumin_num[7]) # 1\n",
        "# print(type(jumin_num[7]))\n",
        "last_num = int(jumin_num[7])\n",
        "# print(type(last_num))\n",
        "# print(last_num % 2)\n",
        "\n",
        "if last_num % 2 == 0:\n",
        "  print(\"여자입니다.\")\n",
        "else:\n",
        "  print(\"남자입니다.\")"
      ],
      "execution_count": null,
      "outputs": [
        {
          "output_type": "stream",
          "text": [
            "여자입니다.\n"
          ],
          "name": "stdout"
        }
      ]
    },
    {
      "cell_type": "code",
      "metadata": {
        "colab": {
          "base_uri": "https://localhost:8080/"
        },
        "id": "seBnl4EhAa9K",
        "outputId": "b45e1b41-e207-47e1-daaa-9030f4fd001c"
      },
      "source": [
        "jumin_num = \"800101-2234567\"\n",
        "local_code = jumin_num[8:10]\n",
        "print(local_code)"
      ],
      "execution_count": null,
      "outputs": [
        {
          "output_type": "stream",
          "text": [
            "23\n"
          ],
          "name": "stdout"
        }
      ]
    },
    {
      "cell_type": "code",
      "metadata": {
        "colab": {
          "base_uri": "https://localhost:8080/"
        },
        "id": "3TWkngW8C6uo",
        "outputId": "7ed9d29e-2165-4f28-854b-7231eababd7d"
      },
      "source": [
        "print(type(local_code))\n",
        "local_code = int(local_code)\n",
        "print(type(local_code))"
      ],
      "execution_count": null,
      "outputs": [
        {
          "output_type": "stream",
          "text": [
            "<class 'str'>\n",
            "<class 'int'>\n"
          ],
          "name": "stdout"
        }
      ]
    },
    {
      "cell_type": "code",
      "metadata": {
        "colab": {
          "base_uri": "https://localhost:8080/"
        },
        "id": "NuBVeWvEC_cS",
        "outputId": "5e6056c0-6f86-49d4-fad9-ce904c69655a"
      },
      "source": [
        "if 0 <= local_code <= 8:\n",
        "  # print(\"서울특별시\")\n",
        "  local = \"서울특별시\"\n",
        "elif 9 <= local_code <= 12:\n",
        "  # print(\"부산광역시\")\n",
        "  local = \"부산광역시\"\n",
        "elif 13 <= local_code <= 15:\n",
        "  # print(\"인천광역시\")\n",
        "  local = \"인천광역시\"\n",
        "elif 16 <= local_code <= 25:\n",
        "  # print(\"경기도\")\n",
        "  local = \"경기도\"\n",
        "else:\n",
        "  # print(\"제주도\")\n",
        "  local = \"제주도\"\n",
        "\n",
        "print(\"출생지역 : \" + local)"
      ],
      "execution_count": null,
      "outputs": [
        {
          "output_type": "stream",
          "text": [
            "출생지역 : 경기도\n"
          ],
          "name": "stdout"
        }
      ]
    },
    {
      "cell_type": "markdown",
      "metadata": {
        "id": "JWMqtF_kZP8V"
      },
      "source": [
        "### **점프 투 파이썬 2장**\n",
        "[문제] https://wikidocs.net/42526<br>\n",
        "[정답] https://wikidocs.net/12769#02\n",
        "\n"
      ]
    },
    {
      "cell_type": "markdown",
      "metadata": {
        "id": "Ihxa12qMqOGH"
      },
      "source": [
        "###**Q2.**<br>\n",
        "자연수 13이 홀수인지 짝수인지 판별할 수 있는 방법에 대해 말해 보자."
      ]
    },
    {
      "cell_type": "code",
      "metadata": {
        "colab": {
          "base_uri": "https://localhost:8080/"
        },
        "id": "U5faCP8Rkd37",
        "outputId": "63362312-3875-470f-a095-1979f12505d1"
      },
      "source": [
        "#  / : 나누기, // : 몫, % 나머지\n",
        "\n",
        "# 13 입력\n",
        "num = int(input(\"숫자를 입력해주세요 : \"))\n",
        "\n",
        "if num % 2 == 0:\n",
        "  print(\"짝수입니다.\")\n",
        "else:\n",
        "  print(\"홀수입니다.\")"
      ],
      "execution_count": null,
      "outputs": [
        {
          "output_type": "stream",
          "text": [
            "숫자를 입력해주세요 : 13\n",
            "홀수입니다.\n"
          ],
          "name": "stdout"
        }
      ]
    },
    {
      "cell_type": "markdown",
      "metadata": {
        "id": "QrYJStwPZYws"
      },
      "source": [
        "###**Q3.**<br>\n",
        "홍길동 씨의 주민등록번호는 881120-1068234이다.<br> \n",
        "홍길동 씨의 주민등록번호를 연월일(YYYYMMDD) 부분과<br>\n",
        "그 뒤의 숫자 부분으로 나누어 출력해 보자.\n",
        "\n",
        "※ 문자열 슬라이싱 기법을 사용해 보자."
      ]
    },
    {
      "cell_type": "code",
      "metadata": {
        "colab": {
          "base_uri": "https://localhost:8080/"
        },
        "id": "ZcY-g8d1ZPqM",
        "outputId": "3eae6607-685d-41cd-86f7-10d894113846"
      },
      "source": [
        "# 881120-1068234 입력\n",
        "jumin_num = input(\"주민등록번호를 입력하세요 : \")\n",
        "\n",
        "first_position = jumin_num[:6]\n",
        "print(first_position)        # 881120 출력\n",
        "\n",
        "second_position = jumin_num[7:]\n",
        "print(second_position)       # 1068234 출력"
      ],
      "execution_count": null,
      "outputs": [
        {
          "output_type": "stream",
          "text": [
            "주민등록번호를 입력하세요 : 881120-1068234\n",
            "881120\n",
            "1068234\n"
          ],
          "name": "stdout"
        }
      ]
    },
    {
      "cell_type": "markdown",
      "metadata": {
        "id": "fPLKJrNlc6-c"
      },
      "source": [
        "###**Q4.**<br>\n",
        "주민등록번호 뒷자리의 맨 첫 번째 숫자는 성별을 나타낸다.<br>주민등록번호에서 성별을 나타내는 숫자를 출력해 보자."
      ]
    },
    {
      "cell_type": "code",
      "metadata": {
        "colab": {
          "base_uri": "https://localhost:8080/"
        },
        "id": "5SwzEReydD4x",
        "outputId": "c329f9f6-b54a-4ea7-df22-166a9e7d15a2"
      },
      "source": [
        "pin = \"881120-1068234\"\n",
        "\n",
        "print(pin[7])\n",
        "print(type(pin[7]))\n",
        "int_type_convert = int(pin[7])\n",
        "print(type(int_type_convert))\n",
        "\n",
        "if int_type_convert % 2 == 0:\n",
        "  print(\"여자\")\n",
        "else:\n",
        "  print(\"남자\")"
      ],
      "execution_count": null,
      "outputs": [
        {
          "output_type": "stream",
          "text": [
            "1\n",
            "<class 'str'>\n",
            "<class 'int'>\n",
            "남자\n"
          ],
          "name": "stdout"
        }
      ]
    },
    {
      "cell_type": "markdown",
      "metadata": {
        "id": "4-dZ4yGVBkyj"
      },
      "source": [
        "### **점프 투 파이썬 3장**\n",
        "[문제] https://wikidocs.net/42527<br>\n",
        "[정답] https://wikidocs.net/12769#03\n",
        "\n"
      ]
    },
    {
      "cell_type": "markdown",
      "metadata": {
        "id": "_UaZTay27h7k"
      },
      "source": [
        "###**Q1.**<br>\n",
        "\n",
        "다음 코드의 결괏값은 무엇일까?"
      ]
    },
    {
      "cell_type": "code",
      "metadata": {
        "colab": {
          "base_uri": "https://localhost:8080/"
        },
        "id": "sPUxgg-X7idu",
        "outputId": "5412a0c7-78d2-49ff-846a-371d8b6340f6"
      },
      "source": [
        "a = \"Life is too short, you need python\"\n",
        "\n",
        "if \"wife\" in a:\n",
        "  print(\"wife\")\n",
        "elif \"python\" in a and \"you\" not in a:\n",
        "  print(\"python\")\n",
        "elif \"shirt\" not in a:\n",
        "  print(\"shirt\")\n",
        "elif \"need\" in a:\n",
        "  print(\"need\")\n",
        "else:\n",
        "  print(\"none\")"
      ],
      "execution_count": null,
      "outputs": [
        {
          "output_type": "stream",
          "text": [
            "shirt\n"
          ],
          "name": "stdout"
        }
      ]
    },
    {
      "cell_type": "markdown",
      "metadata": {
        "id": "TFrUIF0x-TI0"
      },
      "source": [
        "###**Q5.**<br>\n",
        "\n",
        "A 학급에 총 10명의 학생이 있다.<br> 이 학생들의 중간고사 점수는 다음과 같다.\n",
        "\n",
        "[70, 60, 55, 75, 95, 90, 80, 80, 85, 100]\n",
        "\n",
        "for문을 사용하여 A 학급의 평균 점수를 구해 보자."
      ]
    },
    {
      "cell_type": "code",
      "metadata": {
        "colab": {
          "base_uri": "https://localhost:8080/"
        },
        "id": "KMg0ZJ_y-TI7",
        "outputId": "50d52ade-dcbe-4aa1-d530-9d4cbd46fa6f"
      },
      "source": [
        "jumsus = [70, 60, 55, 75, 95, 90, 80, 80, 85, 100]\n",
        "\n",
        "jumsu_all = 0\n",
        "\n",
        "for jumsu in jumsus:\n",
        "  # print(jumsu)\n",
        "  jumsu_all += jumsu\n",
        "\n",
        "print(jumsu_all)\n",
        "print(len(jumsus))\n",
        "\n",
        "print(jumsu_all / len(jumsus))"
      ],
      "execution_count": null,
      "outputs": [
        {
          "output_type": "stream",
          "text": [
            "790\n",
            "10\n",
            "79.0\n"
          ],
          "name": "stdout"
        }
      ]
    },
    {
      "cell_type": "markdown",
      "metadata": {
        "id": "rLb3uaypByVD"
      },
      "source": [
        "### **점프 투 파이썬 4장**\n",
        "[문제] https://wikidocs.net/42528<br>\n",
        "[정답] https://wikidocs.net/12769#04\n",
        "\n"
      ]
    },
    {
      "cell_type": "markdown",
      "metadata": {
        "id": "OiPwsYGTDa_w"
      },
      "source": [
        "###**Q3.**<br>\n",
        "다음은 두 개의 숫자를 입력받아 더하여 돌려주는 프로그램이다.\n",
        "\n",
        "3과 6을 입력했을 때 9가 아닌 36이라는 결괏값을 돌려주었다.\n",
        "\n",
        "이 프로그램의 오류를 수정해 보자.\n",
        "\n",
        "※ int 함수를 사용해 보자."
      ]
    },
    {
      "cell_type": "code",
      "metadata": {
        "colab": {
          "base_uri": "https://localhost:8080/"
        },
        "id": "_zs4C_QK-TI7",
        "outputId": "b65a6cc1-9d85-45b8-e743-01e90e9996d4"
      },
      "source": [
        "# 문제\n",
        "input1 = input(\"첫번째 숫자를 입력하세요:\") # 3 입력\n",
        "input2 = input(\"두번째 숫자를 입력하세요:\") # 6 입력\n",
        "\n",
        "total = input1 + input2\n",
        "print(\"두 수의 합은 %s 입니다\" % total)     # 36이 출력됨"
      ],
      "execution_count": null,
      "outputs": [
        {
          "output_type": "stream",
          "text": [
            "첫번째 숫자를 입력하세요:3\n",
            "두번째 숫자를 입력하세요:6\n",
            "두 수의 합은 36 입니다\n"
          ],
          "name": "stdout"
        }
      ]
    },
    {
      "cell_type": "code",
      "metadata": {
        "colab": {
          "base_uri": "https://localhost:8080/"
        },
        "id": "KnRevteJDluX",
        "outputId": "d25ec13a-8d50-4f3f-dfb8-1115709be151"
      },
      "source": [
        "# 문제\n",
        "input1 = int(input(\"첫번째 숫자를 입력하세요:\")) # 3 입력\n",
        "input2 = int(input(\"두번째 숫자를 입력하세요:\")) # 6 입력\n",
        "\n",
        "total = input1 + input2\n",
        "# print(\"두 수의 합은 %s 입니다\" % total)     # 36이 출력됨\n",
        "\n",
        "# print(\"두 수의 합은 {0} 입니다\".format(total))     # 36이 출력됨\n",
        "# print(f\"두 수의 합은 {total} 입니다\")"
      ],
      "execution_count": null,
      "outputs": [
        {
          "output_type": "stream",
          "text": [
            "첫번째 숫자를 입력하세요:3\n",
            "두번째 숫자를 입력하세요:6\n",
            "두 수의 합은 9 입니다\n"
          ],
          "name": "stdout"
        }
      ]
    },
    {
      "cell_type": "markdown",
      "metadata": {
        "id": "-47U9GdAGptA"
      },
      "source": [
        "###**Q4.**<br>\n",
        "다음 중 출력 결과가 다른 것 한 개를 고르시오.\n"
      ]
    },
    {
      "cell_type": "code",
      "metadata": {
        "colab": {
          "base_uri": "https://localhost:8080/"
        },
        "id": "t4Q--9OJGptG",
        "outputId": "d009a6e7-2f58-464d-ff81-6f30361e9d3b"
      },
      "source": [
        "print(\"you\" \"need\" \"python\")"
      ],
      "execution_count": null,
      "outputs": [
        {
          "output_type": "stream",
          "text": [
            "youneedpython\n"
          ],
          "name": "stdout"
        }
      ]
    },
    {
      "cell_type": "code",
      "metadata": {
        "colab": {
          "base_uri": "https://localhost:8080/"
        },
        "id": "W0gNqg5yGptG",
        "outputId": "abb2ea73-6a40-4b0b-d453-33877dc37936"
      },
      "source": [
        "print(\"you\"+\"need\"+\"python\")"
      ],
      "execution_count": null,
      "outputs": [
        {
          "output_type": "stream",
          "text": [
            "youneedpython\n"
          ],
          "name": "stdout"
        }
      ]
    },
    {
      "cell_type": "code",
      "metadata": {
        "colab": {
          "base_uri": "https://localhost:8080/"
        },
        "id": "bIjgTBgxGptG",
        "outputId": "3ad613b6-79d0-4351-b268-8e7a3a040752"
      },
      "source": [
        "print(\"you\", \"need\", \"python\")   # 콤마가 있는 경우 공백이 삽입되어 더해진다."
      ],
      "execution_count": null,
      "outputs": [
        {
          "output_type": "stream",
          "text": [
            "you need python\n"
          ],
          "name": "stdout"
        }
      ]
    },
    {
      "cell_type": "code",
      "metadata": {
        "colab": {
          "base_uri": "https://localhost:8080/"
        },
        "id": "FShH2xTuIWMb",
        "outputId": "657f1e12-40b0-4cc8-9298-f3e5f2dd2d70"
      },
      "source": [
        "print(\"\".join([\"you\", \"need\", \"python\"]))"
      ],
      "execution_count": null,
      "outputs": [
        {
          "output_type": "stream",
          "text": [
            "youneedpython\n"
          ],
          "name": "stdout"
        }
      ]
    },
    {
      "cell_type": "code",
      "metadata": {
        "id": "AMO_moDrIcZP"
      },
      "source": [
        ""
      ],
      "execution_count": null,
      "outputs": []
    },
    {
      "cell_type": "markdown",
      "metadata": {
        "id": "3iHdA-hNN34S"
      },
      "source": [
        "###**Q5.**<br>\n",
        "다음은 \"test.txt\"라는 파일에 \"Life is too short\" 문자열을 저장한 후 다시 그 파일을 읽어서 출력하는 프로그램이다.\n"
      ]
    },
    {
      "cell_type": "code",
      "metadata": {
        "colab": {
          "base_uri": "https://localhost:8080/"
        },
        "id": "5DzJn5E4N34X",
        "outputId": "f2b81eb5-b01f-48d2-ba12-82253cf5bb05"
      },
      "source": [
        "# [문제]\n",
        "f1 = open(\"test.txt\", 'w')\n",
        "f1.write(\"Life is too short\")\n",
        "\n",
        "f2 = open(\"test.txt\", 'r')\n",
        "print(f2.read())"
      ],
      "execution_count": null,
      "outputs": [
        {
          "output_type": "stream",
          "text": [
            "\n"
          ],
          "name": "stdout"
        }
      ]
    },
    {
      "cell_type": "code",
      "metadata": {
        "colab": {
          "base_uri": "https://localhost:8080/"
        },
        "id": "2EjeCgjyN34Y",
        "outputId": "247617ca-c5c6-495d-c2ca-bed349a7c589"
      },
      "source": [
        "# [정답1]\n",
        "f1 = open(\"test.txt\", 'w')\n",
        "f1.write(\"Life is too short!\")\n",
        "# 문제의 예와 같이 파일을 닫지 않은 상태에서 \n",
        "# 다시 열면 파일에 저장한 데이터를 읽을 수 없다.\n",
        "# 따라서 열린 파일 객체를 close로 닫아준 후 \n",
        "# 다시 열어서 파일의 내용을 읽어야 한다.\n",
        "f1.close() # 열린 파일 객체를 닫는다.\n",
        "\n",
        "f2 = open(\"test.txt\", 'r')\n",
        "print(f2.read())\n",
        "f2.close()"
      ],
      "execution_count": null,
      "outputs": [
        {
          "output_type": "stream",
          "text": [
            "Life is too short!\n"
          ],
          "name": "stdout"
        }
      ]
    },
    {
      "cell_type": "code",
      "metadata": {
        "colab": {
          "base_uri": "https://localhost:8080/"
        },
        "id": "lyqzEG_mOOgU",
        "outputId": "2c8010a3-7481-41e2-ff32-8b8b513b2860"
      },
      "source": [
        "# [정답2]\n",
        "with open(\"test.txt\", 'w') as f1:\n",
        "    f1.write(\"Life is too short! \")\n",
        "with open(\"test.txt\", 'r') as f2:\n",
        "    print(f2.read())"
      ],
      "execution_count": null,
      "outputs": [
        {
          "output_type": "stream",
          "text": [
            "Life is too short! \n"
          ],
          "name": "stdout"
        }
      ]
    },
    {
      "cell_type": "code",
      "metadata": {
        "id": "T6uLk-BtOeHd"
      },
      "source": [
        ""
      ],
      "execution_count": null,
      "outputs": []
    },
    {
      "cell_type": "markdown",
      "metadata": {
        "id": "G8nz5grDO90F"
      },
      "source": [
        "###**Q6.**<br>\n",
        "사용자의 입력을 파일(test.txt)에 저장하는 프로그램을 작성해 보자.<br> (단 프로그램을 다시 실행하더라도 <br>기존에 작성한 내용을 유지하고 새로 입력한 내용을 추가해야 한다.)\n"
      ]
    },
    {
      "cell_type": "code",
      "metadata": {
        "colab": {
          "base_uri": "https://localhost:8080/"
        },
        "id": "x8v_a47LO90G",
        "outputId": "a4fbb199-e139-4488-bbb7-490c70202754"
      },
      "source": [
        "# 기존 내용을 유지하고 새로운 내용을 덧붙이기 위해서 \n",
        "# 다음과 같이 'a' 모드를 사용해야 한다.\n",
        "\n",
        "user_input = input(\"저장할 내용을 입력하세요:\")\n",
        "\n",
        "f = open('test.txt', 'a')   # 내용을 추가하기 위해서 'a'를 사용\n",
        "\n",
        "f.write(user_input)\n",
        "f.write(\"\\n\")               # 입력된 내용을 줄 단위로 구분하기 위해 줄 바꿈 문자 삽입\n",
        "\n",
        "f.close()"
      ],
      "execution_count": null,
      "outputs": [
        {
          "output_type": "stream",
          "text": [
            "저장할 내용을 입력하세요:신동욱\n"
          ],
          "name": "stdout"
        }
      ]
    },
    {
      "cell_type": "code",
      "metadata": {
        "id": "JNXywBYxO90H"
      },
      "source": [
        ""
      ],
      "execution_count": null,
      "outputs": []
    }
  ]
}