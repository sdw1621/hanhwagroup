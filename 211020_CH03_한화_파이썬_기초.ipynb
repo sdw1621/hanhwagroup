{
  "nbformat": 4,
  "nbformat_minor": 0,
  "metadata": {
    "colab": {
      "name": "211020_CH03_한화 파이썬 기초.ipynb",
      "provenance": [],
      "collapsed_sections": [
        "ANSwzLkylgRK",
        "3GFwcRKV82pm",
        "CTzsBuID-KPc"
      ],
      "authorship_tag": "ABX9TyPrKqjXVPTZqFylyhzNEiYU",
      "include_colab_link": true
    },
    "kernelspec": {
      "name": "python3",
      "display_name": "Python 3"
    },
    "language_info": {
      "name": "python"
    }
  },
  "cells": [
    {
      "cell_type": "markdown",
      "metadata": {
        "id": "view-in-github",
        "colab_type": "text"
      },
      "source": [
        "<a href=\"https://colab.research.google.com/github/sdw1621/hanhwagroup/blob/main/211020_CH03_%ED%95%9C%ED%99%94_%ED%8C%8C%EC%9D%B4%EC%8D%AC_%EA%B8%B0%EC%B4%88.ipynb\" target=\"_parent\"><img src=\"https://colab.research.google.com/assets/colab-badge.svg\" alt=\"Open In Colab\"/></a>"
      ]
    },
    {
      "cell_type": "markdown",
      "metadata": {
        "id": "m-bDXAw8If7y"
      },
      "source": [
        "### **예제 3-1. if~else~ 구문으로 양수 판별**"
      ]
    },
    {
      "cell_type": "code",
      "metadata": {
        "colab": {
          "base_uri": "https://localhost:8080/"
        },
        "id": "JIxMXZVkH1go",
        "outputId": "278876b8-6716-4bf3-87b2-b3fabb8103aa"
      },
      "source": [
        "x = int(input('숫자를 입력하세요 : '))\n",
        "\n",
        "if x > 0:\n",
        "  print(\"양수!\")\n",
        "else:\n",
        "  print('0 또는 음수!')"
      ],
      "execution_count": 2,
      "outputs": [
        {
          "output_type": "stream",
          "name": "stdout",
          "text": [
            "숫자를 입력하세요 : 23\n",
            "양수!\n"
          ]
        }
      ]
    },
    {
      "cell_type": "markdown",
      "metadata": {
        "id": "RNnF5IFKJDmG"
      },
      "source": [
        "###**예제 3-2 비교 연산자의 참/거짓**"
      ]
    },
    {
      "cell_type": "code",
      "metadata": {
        "colab": {
          "base_uri": "https://localhost:8080/"
        },
        "id": "cisZGgLBImpn",
        "outputId": "9d36ad83-aecb-4aea-f53f-cd87df0bf197"
      },
      "source": [
        "x = 10\n",
        "y = 3\n",
        "\n",
        "print(x > 9) # x가 9보다 큰가?\n",
        "print(y <= 10) # x가 10보다 작거나 같은가?\n",
        "print(x + y == 13) # x + y가 13과 같은가?\n",
        "print(x % 2 == 0) # x를 2로 나눈 나머지가 0인가? 즉, 짝수인가?\n",
        "print(y % 2 == 0) # y를 2로 나눈 나머지가 0인가? 즉, 짝수인가?\n",
        "print(x % 4 == 0) # x가 4의 배수인가?\n",
        "print(y % 3 != 0) # y는 3의 배수가 아닌가?"
      ],
      "execution_count": 3,
      "outputs": [
        {
          "output_type": "stream",
          "name": "stdout",
          "text": [
            "True\n",
            "True\n",
            "True\n",
            "True\n",
            "False\n",
            "False\n",
            "False\n"
          ]
        }
      ]
    },
    {
      "cell_type": "markdown",
      "metadata": {
        "id": "jkwYgrYaPDAm"
      },
      "source": [
        "###**예제 3-3 짝수/홀수 판별**"
      ]
    },
    {
      "cell_type": "code",
      "metadata": {
        "colab": {
          "base_uri": "https://localhost:8080/"
        },
        "id": "YP46jxXbNg-s",
        "outputId": "74f56f88-7447-4549-88ab-1773923e789c"
      },
      "source": [
        "num = int(input('숫자를 입력하세요 : '))\n",
        "\n",
        "if num % 2 == 0:\n",
        "  print(\"짝수이다.\")\n",
        "else:\n",
        "  print(\"홀수이다.\")"
      ],
      "execution_count": 5,
      "outputs": [
        {
          "output_type": "stream",
          "name": "stdout",
          "text": [
            "숫자를 입력하세요 : 35\n",
            "홀수이다.\n"
          ]
        }
      ]
    },
    {
      "cell_type": "markdown",
      "metadata": {
        "id": "Pe6f0abMQEJ0"
      },
      "source": [
        "###**예제 3-4 자격증 시험 합격/불합격 판정**"
      ]
    },
    {
      "cell_type": "code",
      "metadata": {
        "colab": {
          "base_uri": "https://localhost:8080/"
        },
        "id": "IJd6o4KRPdfC",
        "outputId": "bdb0c61c-4dd1-441c-9e5c-3f264a31e400"
      },
      "source": [
        "score1 = int(input(\"필기성적을 입력하세요 : \"))\n",
        "score2 = int(input(\"실기성적을 입력하세요 : \"))\n",
        "\n",
        "if score1 >= 80 and score2 >= 80:\n",
        "  print('합격!')\n",
        "else:\n",
        "  print('불합격!')"
      ],
      "execution_count": 7,
      "outputs": [
        {
          "output_type": "stream",
          "name": "stdout",
          "text": [
            "필기성적을 입력하세요 : 75\n",
            "실기성적을 입력하세요 : 95\n",
            "불합격!\n"
          ]
        }
      ]
    },
    {
      "cell_type": "markdown",
      "metadata": {
        "id": "HZ1XMxjtQV5e"
      },
      "source": [
        "###**예제 3-5 홈페이지 관리자 판별**"
      ]
    },
    {
      "cell_type": "code",
      "metadata": {
        "colab": {
          "base_uri": "https://localhost:8080/"
        },
        "id": "Hi2-aRzGQIiJ",
        "outputId": "7c877d56-fcc9-45d2-e38a-f29c51f3f33b"
      },
      "source": [
        "id = input('아이디를 입력하세요 : ')\n",
        "level = int(input('회원 레벨을 입력하세요 : '))\n",
        "\n",
        "if id == 'admin' or level == 1:\n",
        "  print('관리자이다.')\n",
        "else:\n",
        "  print('관리자가 아니다.')"
      ],
      "execution_count": 11,
      "outputs": [
        {
          "output_type": "stream",
          "name": "stdout",
          "text": [
            "아이디를 입력하세요 : ocella\n",
            "회원 레벨을 입력하세요 : 7\n",
            "관리자가 아니다.\n"
          ]
        }
      ]
    },
    {
      "cell_type": "markdown",
      "metadata": {
        "id": "dgWfuaQYRmnO"
      },
      "source": [
        "###**예제 3-6 논리 연산자 not의 사용 예**"
      ]
    },
    {
      "cell_type": "code",
      "metadata": {
        "colab": {
          "base_uri": "https://localhost:8080/"
        },
        "id": "0P03kie5RmnP",
        "outputId": "0714f50c-6014-43ad-e9c2-bc87683f377e"
      },
      "source": [
        "name = input('이름을 입력하세요 : ')\n",
        "\n",
        "if not name:\n",
        "  print(\"이름이 입력되지 않았다.\")\n",
        "else:\n",
        "  print(\"이름 : %s\" %name)"
      ],
      "execution_count": 13,
      "outputs": [
        {
          "output_type": "stream",
          "name": "stdout",
          "text": [
            "이름을 입력하세요 : 홍지수\n",
            "이름 : 홍지수\n"
          ]
        }
      ]
    },
    {
      "cell_type": "markdown",
      "metadata": {
        "id": "5yFH-vBiSGn6"
      },
      "source": [
        "###**예제 3-7 참/거짓 판정**"
      ]
    },
    {
      "cell_type": "code",
      "metadata": {
        "colab": {
          "base_uri": "https://localhost:8080/"
        },
        "id": "SB6QfQqhSGn7",
        "outputId": "7e230e0f-3be7-448f-b45b-a3fe7bcf4c7e"
      },
      "source": [
        "print(True) if 15 else print(False)\n",
        "print(True) if 0 else print(False)\n",
        "print(True) if None else print(False)\n",
        "print(True) if '홍길동' else print(False)"
      ],
      "execution_count": 15,
      "outputs": [
        {
          "output_type": "stream",
          "name": "stdout",
          "text": [
            "True\n",
            "False\n",
            "False\n",
            "True\n"
          ]
        }
      ]
    },
    {
      "cell_type": "markdown",
      "metadata": {
        "id": "7tXPSYIMTw3a"
      },
      "source": [
        "###**예제 3-8 if~ 구문의 사용 예**"
      ]
    },
    {
      "cell_type": "code",
      "metadata": {
        "colab": {
          "base_uri": "https://localhost:8080/"
        },
        "id": "7UCQ_d7xTw3a",
        "outputId": "fe0c86a2-4445-4030-bff3-3b98f7ec65a0"
      },
      "source": [
        "age = int(input('나이를 입력하세요 : '))\n",
        "pay = '3000원'\n",
        "\n",
        "if age >= 65 or age < 7:\n",
        "  pay = '무료'\n",
        "\n",
        "print('입장료 :  %s' %pay)"
      ],
      "execution_count": 17,
      "outputs": [
        {
          "output_type": "stream",
          "name": "stdout",
          "text": [
            "나이를 입력하세요 : 25\n",
            "입장료 :  3000원\n"
          ]
        }
      ]
    },
    {
      "cell_type": "markdown",
      "metadata": {
        "id": "mWAF6bV7UQma"
      },
      "source": [
        "###**예제 3-9 if~else 구문의 사용 예**"
      ]
    },
    {
      "cell_type": "code",
      "metadata": {
        "colab": {
          "base_uri": "https://localhost:8080/"
        },
        "id": "70i5tc0IUQmb",
        "outputId": "46a565f3-7734-43c6-904a-0ab116bdbfc6"
      },
      "source": [
        "answer = '12345'\n",
        "password = input('비밀번호를 입력하세요 : ')\n",
        "\n",
        "if password == answer:\n",
        "  print('비밀번호 OK!')\n",
        "else:\n",
        "  print('비밀번호 Not OK!')"
      ],
      "execution_count": 19,
      "outputs": [
        {
          "output_type": "stream",
          "name": "stdout",
          "text": [
            "비밀번호를 입력하세요 : 12345\n",
            "비밀번호 OK!\n"
          ]
        }
      ]
    },
    {
      "cell_type": "markdown",
      "metadata": {
        "id": "PgxW5sKFXDv1"
      },
      "source": [
        "###**예제 3-10 if ~ elif ~ else 구문의 사용 예**"
      ]
    },
    {
      "cell_type": "code",
      "metadata": {
        "colab": {
          "base_uri": "https://localhost:8080/"
        },
        "id": "WxRa62XoUQmb",
        "outputId": "a210bc5f-2aaa-42c8-9add-dc9acb196795"
      },
      "source": [
        "score = int(input('점수를 입력하세요 : '))\n",
        "\n",
        "if score >= 90:\n",
        "  grade = 'A'\n",
        "elif score >= 80:\n",
        "  grade = 'B'\n",
        "elif score >= 70:\n",
        "  grade = 'C'\n",
        "elif score >= 60:\n",
        "  grade = 'D'\n",
        "else:\n",
        "  grade = 'F'\n",
        "\n",
        "print('성적 : %d점' %score)\n",
        "print('등급 : %s' %grade)"
      ],
      "execution_count": 21,
      "outputs": [
        {
          "output_type": "stream",
          "name": "stdout",
          "text": [
            "점수를 입력하세요 : 85\n",
            "성적 : 85점\n",
            "등급 : B\n"
          ]
        }
      ]
    },
    {
      "cell_type": "markdown",
      "metadata": {
        "id": "MwKVkeD2hzPM"
      },
      "source": [
        "###**PDF 125, Q3-1 코딩 연습 : 월을 입력받아 계절 표시하기**"
      ]
    },
    {
      "cell_type": "markdown",
      "metadata": {
        "id": "M-Hoa-SFiB2f"
      },
      "source": [
        "**실행 결과**\n",
        "\n",
        "* 월을 입력하세요 : 7<br>\n",
        "* 출력결과 :  7월은 여름입니다.\n"
      ]
    },
    {
      "cell_type": "code",
      "metadata": {
        "colab": {
          "base_uri": "https://localhost:8080/"
        },
        "id": "yS9tIGsIhzPN",
        "outputId": "bbd8fca9-703d-43f0-805f-6c100f033da3"
      },
      "source": [
        "month = int(input('월을 입력하세요 : '))\n",
        "\n",
        "if month >= 3 and month <= 5:\n",
        "  print(\"%d월은 봄입니다.\" %month)\n",
        "\n",
        "if month >= 6 and month <= 8:\n",
        "  print(\"%d월은 여름입니다.\" %month)\n",
        "\n",
        "if month >= 9 and month <= 11:\n",
        "  print(\"%d월은 가을입니다.\" %month)\n",
        "\n",
        "if month == 12 or month == 1 or month == 2:\n",
        "  print(\"%d월은 겨울입니다.\" %month)"
      ],
      "execution_count": 28,
      "outputs": [
        {
          "output_type": "stream",
          "name": "stdout",
          "text": [
            "월을 입력하세요 : 1\n",
            "1월은 겨울입니다.\n"
          ]
        }
      ]
    },
    {
      "cell_type": "markdown",
      "metadata": {
        "id": "K1kN-ieZij5X"
      },
      "source": [
        "###**PDF 127, Q3-3 코딩 연습 : 4의 배수인지 5의 배수인지 판별하기**"
      ]
    },
    {
      "cell_type": "markdown",
      "metadata": {
        "id": "MwgvgdkKij5Y"
      },
      "source": [
        "**실행 결과**\n",
        "\n",
        "* 숫자를 입력하세요 : 34\n",
        "* 34은(는) 4의 배수도 5의 배수도 아니다."
      ]
    },
    {
      "cell_type": "code",
      "metadata": {
        "colab": {
          "base_uri": "https://localhost:8080/"
        },
        "id": "hiONfEE6ij5Y",
        "outputId": "c30ff857-96ea-423b-cff0-695c4228f22c"
      },
      "source": [
        "num = int(input(\"숫자를 입력하세요 : \"))\n",
        "result = '4의 배수도 5의 배수도 아니다.'\n",
        "\n",
        "if num % 4 == 0:\n",
        "  result = '4의 배수이다.'\n",
        "elif num % 5 == 0:\n",
        "  result = '5의 배수이다.'\n",
        "  \n",
        "if num % 4 == 0 and num % 5 == 0:\n",
        "  result = '4의 배수이면서 5의 배수이다.'\n",
        "\n",
        "print(\"%d은(는) %s\" %(num, result))"
      ],
      "execution_count": 41,
      "outputs": [
        {
          "output_type": "stream",
          "name": "stdout",
          "text": [
            "숫자를 입력하세요 : 5\n",
            "5은(는) 5의 배수이다.\n"
          ]
        }
      ]
    },
    {
      "cell_type": "markdown",
      "metadata": {
        "id": "tF5T3R29kdCc"
      },
      "source": [
        "###**PDF 128, Q3-4 코딩 연습 : 영어 알파벳 모음/자음 판별하기**"
      ]
    },
    {
      "cell_type": "markdown",
      "metadata": {
        "id": "pzBdCGdvkl2R"
      },
      "source": [
        "**실행 결과**\n",
        "\n",
        "* 영어 알파벳을 입력하세요 : w\n",
        "* w은(는) 자음이다."
      ]
    },
    {
      "cell_type": "code",
      "metadata": {
        "colab": {
          "base_uri": "https://localhost:8080/"
        },
        "id": "fytWo9rwkdCc",
        "outputId": "ed9b5f91-2f2e-42ac-dde5-a5fe2cded9f9"
      },
      "source": [
        "char = input(\"영어 알파벳을 입력하세요 : \")\n",
        "char2 = char.upper()\n",
        "\n",
        "if char2 == 'A' or char2 == 'E' or char2 == 'I' or char2 == 'O' or char2 =='U':\n",
        "  print(\"%s은(는) 모음이다.\" %char2)\n",
        "else:\n",
        "  print(\"%s은(는) 자음이다.\" %char2)"
      ],
      "execution_count": 46,
      "outputs": [
        {
          "output_type": "stream",
          "name": "stdout",
          "text": [
            "영어 알파벳을 입력하세요 : b\n",
            "B은(는) 자음이다.\n"
          ]
        }
      ]
    },
    {
      "cell_type": "markdown",
      "metadata": {
        "id": "ANSwzLkylgRK"
      },
      "source": [
        "###**PDF 129, Q3-5 코딩 연습 : 키와 몸무게에 따라 체형 판정하기**"
      ]
    },
    {
      "cell_type": "markdown",
      "metadata": {
        "id": "Psqi9M6YlgRL"
      },
      "source": [
        "**실행 결과**\n",
        "\n",
        "* 키를 입력해 주세요 : 175\n",
        "* 몸무게를 입력해 주세요 : 70\n",
        "\n",
        "**출력결과**\n",
        "* 키 : 175cm<br>\n",
        "* 몸무게 : 70kg<br>\n",
        "* 딱 보기 좋습니다.<br>\n"
      ]
    },
    {
      "cell_type": "code",
      "metadata": {
        "colab": {
          "base_uri": "https://localhost:8080/"
        },
        "id": "G_Dq9YTolgRL",
        "outputId": "5146421b-05a4-4e7b-fb8f-ff6c519ea6c9"
      },
      "source": [
        "height = int(input(\"키를 입력해 주세요 : \"))\n",
        "weight = int(input(\"몸무게를 입력해 주세요 : \"))\n",
        "\n",
        "a = (height - 100) * 0.9\n",
        "\n",
        "print('-' * 30)\n",
        "print(\"키 : %dcm\" %height)\n",
        "print(\"몸무게 : %dkg\" %weight)\n",
        "\n",
        "if weight > a:\n",
        "  print(\"딱 보기 좋습니다.\")\n",
        "else:\n",
        "  print(\"표준(또는 마른) 체형입니다.\")\n",
        "\n",
        "print('-' * 30)"
      ],
      "execution_count": 49,
      "outputs": [
        {
          "output_type": "stream",
          "name": "stdout",
          "text": [
            "키를 입력해 주세요 : 175\n",
            "몸무게를 입력해 주세요 : 70\n",
            "------------------------------\n",
            "키 : 175cm\n",
            "몸무게 : 70kg\n",
            "딱 보기 좋습니다.\n",
            "------------------------------\n"
          ]
        }
      ]
    },
    {
      "cell_type": "markdown",
      "metadata": {
        "id": "3GFwcRKV82pm"
      },
      "source": [
        "###**PDF 130, Q3-6 코딩 연습 : 할인율에 따른 지불 금액 계산하기**"
      ]
    },
    {
      "cell_type": "markdown",
      "metadata": {
        "id": "24wftcdN82pr"
      },
      "source": [
        "**할인율**\n",
        "1. 10000원 이상 ~ 50000원 미만 : 5%\n",
        "2. 50000원 이상 ~ 300000원 미만 : 7.5%\n",
        "3. 300000원 이상 : 10%\n",
        "\n",
        "**실행 결과**\n",
        "\n",
        "* 물건 구매가를 입력하세요 : 60000\n",
        "* 구매가 : 60000원\n",
        "* 할인율 : 7.5%\n",
        "* 할인 금액 : 4500원\n",
        "* 지불 금액 : 55500원\n"
      ]
    },
    {
      "cell_type": "code",
      "metadata": {
        "colab": {
          "base_uri": "https://localhost:8080/"
        },
        "id": "Ikzc2hrB82ps",
        "outputId": "c2875ae8-01dd-4d95-8262-5bd7e27f4cf1"
      },
      "source": [
        "buy = int(input(\"물건 구매가를 입력하세요 : \"))\n",
        "\n",
        "if buy >= 10000 and buy < 50000:\n",
        "  rate = 5\n",
        "elif buy >= 50000 and buy < 300000:\n",
        "  rate = 7.5\n",
        "elif buy >= 300000:\n",
        "  rate = 10\n",
        "else:\n",
        "  rate = 0\n",
        "\n",
        "discount = buy * rate / 100\n",
        "pay = buy - discount\n",
        "\n",
        "print(\"구매가 : %.0f원\" %buy)\n",
        "print(\"할인율 : %.1f%%\" %rate)\n",
        "print(\"할인 금액 : %.0f원\" %discount)\n",
        "print(\"지불 금액 : %.0f원\" %pay)"
      ],
      "execution_count": 50,
      "outputs": [
        {
          "output_type": "stream",
          "name": "stdout",
          "text": [
            "물건 구매가를 입력하세요 : 20000\n",
            "구매가 : 20000원\n",
            "할인율 : 5.0%\n",
            "할인 금액 : 1000원\n",
            "지불 금액 : 19000원\n"
          ]
        }
      ]
    },
    {
      "cell_type": "markdown",
      "metadata": {
        "id": "CTzsBuID-KPc"
      },
      "source": [
        "###**PDF 131, Q3-7 코딩 연습 : 세 수 중 가장 큰 수 찾기**"
      ]
    },
    {
      "cell_type": "markdown",
      "metadata": {
        "id": "cAPgTSF1-KPd"
      },
      "source": [
        "**실행 결과**\n",
        "\n",
        "* 첫 번째 정수를 입력하세요 : 34\n",
        "* 두 번째 정수를 입력하세요 : 33\n",
        "* 세 번째 정수를 입력하세요 : 27\n",
        "* 입력된 세 수 34, 33, 27 중에서 가장 큰 수는 34 입니다.\n",
        "\n",
        "\n"
      ]
    },
    {
      "cell_type": "code",
      "metadata": {
        "colab": {
          "base_uri": "https://localhost:8080/"
        },
        "id": "9r1ksltE-KPd",
        "outputId": "e80f5da3-64a3-4c69-9023-5f3b0d11a969"
      },
      "source": [
        "num1 = int(input('첫 번째 정수를 입력하세요 : '))\n",
        "num2 = int(input('두 번째 정수를 입력하세요 : '))\n",
        "num3 = int(input('세 번째 정수를 입력하세요 : '))\n",
        "\n",
        "if (num1 >= num2) and (num1 >= num3):\n",
        "  largest = num1\n",
        "elif (num2 >= num1) and (num2 >= num3):\n",
        "  largest = num2\n",
        "else:\n",
        "  largest = num3\n",
        "\n",
        "print('입력된 세 수 %d, %d, %d 중에서 가장 큰 수는 %d 입니다.' %(num1, num2, num3, largest))"
      ],
      "execution_count": 51,
      "outputs": [
        {
          "output_type": "stream",
          "name": "stdout",
          "text": [
            "첫 번째 정수를 입력하세요 : 10\n",
            "두 번째 정수를 입력하세요 : 20\n",
            "세 번째 정수를 입력하세요 : 30\n",
            "입력된 세 수 10, 20, 30 중에서 가장 큰 수는 30 입니다.\n"
          ]
        }
      ]
    },
    {
      "cell_type": "markdown",
      "metadata": {
        "id": "icaO6ztB_CbU"
      },
      "source": [
        "###**PDF 132, Q3-8 코딩 연습 : 고객 만족도에 따른 팁 계산하기**"
      ]
    },
    {
      "cell_type": "markdown",
      "metadata": {
        "id": "mxcsvso__CbV"
      },
      "source": [
        "**팁 : 매우만족(1) 20%. 만족(2) 10%, 불만족(3) 5%**\n",
        "\n",
        "**실행 결과**\n",
        "\n",
        "* 서비스 만족도 :<br>\n",
        "1: 매우만족<br>\n",
        "2: 만족<br>\n",
        "3: 불만족<br>\n",
        "서비스 만족도를 입력해주세요(예: 1 또는 2 또는 3) : 2<br>\n",
        "음식값을 입력해주세요(예:8000) : 9000\n",
        "\n",
        "서비스 만족도 : 만족, 팁 : 900원\n"
      ]
    },
    {
      "cell_type": "code",
      "metadata": {
        "colab": {
          "base_uri": "https://localhost:8080/"
        },
        "id": "29cHNStq_CbV",
        "outputId": "70cc829c-cd7d-4a28-c716-75ce8ef56e80"
      },
      "source": [
        "print(\"서비스 만족도 : \")\n",
        "print(\" 1: 매우 만족 \")\n",
        "print(\" 2: 만족 \")\n",
        "print(\" 3: 불만족 \")\n",
        "\n",
        "a = input(\"서비스 만족도를 입력해주세요(예: 1 또는 2 또는 3) : \")\n",
        "\n",
        "price = int(input('음식값을 입력해 주세요(예:8000) : '))\n",
        "\n",
        "if a == \"1\" :\n",
        "  tip = int(price * 0.2)\n",
        "  service = '매우 만족'\n",
        "elif a == \"2\":\n",
        "  tip = int(price * 0.1)\n",
        "  service = '만족'\n",
        "else :\n",
        "  tip = int(price * 0.05)\n",
        "  service = '불만족'\n",
        "\n",
        "print()\n",
        "print('서비스 만족도 :%s, 팁 : %d원' %(service, tip))"
      ],
      "execution_count": 53,
      "outputs": [
        {
          "output_type": "stream",
          "name": "stdout",
          "text": [
            "서비스 만족도 : \n",
            " 1: 매우 만족 \n",
            " 2: 만족 \n",
            " 3: 불만족 \n",
            "서비스 만족도를 입력해주세요(예: 1 또는 2 또는 3) : 1\n",
            "음식값을 입력해 주세요(예:8000) : 9000\n",
            "\n",
            "서비스 만족도 :매우 만족, 팁 : 1800원\n"
          ]
        }
      ]
    },
    {
      "cell_type": "markdown",
      "metadata": {
        "id": "I31NcF_Dnsxm"
      },
      "source": [
        "###**예제 3-11 만 나이 계산하기**"
      ]
    },
    {
      "cell_type": "code",
      "metadata": {
        "id": "86w0L2BSnfdm",
        "colab": {
          "base_uri": "https://localhost:8080/"
        },
        "outputId": "07fd9805-675d-4297-9a23-54d87e278ad9"
      },
      "source": [
        "now_year = int(input(\"현재년을 입력해 주세요 : \"))\n",
        "now_month = int(input(\"현재월을 입력해 주세요 : \"))\n",
        "now_day = int(input(\"현재일을 입력해 주세요 : \"))\n",
        "\n",
        "birth_year = int(input(\"출생년을 입력해 주세요 : \"))\n",
        "birth_month = int(input(\"출생월을 입력해 주세요 : \"))\n",
        "birth_day = int(input(\"출생일을 입력해 주세요 : \"))\n",
        "\n",
        "if birth_month < now_month :\n",
        "  age = now_year - birth_year\n",
        "elif birth_month == now_month :\n",
        "  if birth_day < now_day:\n",
        "    age = now_year - birth_year\n",
        "  else:\n",
        "    age = now_year - birth_year - 1\n",
        "else:\n",
        "  age = now_year - birth_year - 1\n",
        "\n",
        "print('-' * 50)\n",
        "print('오늘 날짜 :  %d년 %d월 %d일' %(now_year, now_month, now_day))\n",
        "print('생년 월일 :  %d년 %d월 %d일' %(birth_year, birth_month, birth_day))\n",
        "print('-' * 50)\n",
        "print('만 나이 : %d세' %age)\n",
        "print('-' * 50)"
      ],
      "execution_count": 55,
      "outputs": [
        {
          "output_type": "stream",
          "name": "stdout",
          "text": [
            "현재년을 입력해 주세요 : 2021\n",
            "현재월을 입력해 주세요 : 10\n",
            "현재일을 입력해 주세요 : 21\n",
            "출생년을 입력해 주세요 : 1980\n",
            "출생월을 입력해 주세요 : 1\n",
            "출생일을 입력해 주세요 : 1\n",
            "--------------------------------------------------\n",
            "오늘 날짜 :  2021년 10월 21일\n",
            "생년 월일 :  1980년 1월 1일\n",
            "--------------------------------------------------\n",
            "만 나이 : 41세\n",
            "--------------------------------------------------\n"
          ]
        }
      ]
    },
    {
      "cell_type": "markdown",
      "metadata": {
        "id": "HJlZIu4MCY8z"
      },
      "source": [
        "###**PDF 137, 1일차 과제 : 4번 ~ 6번 문제**"
      ]
    },
    {
      "cell_type": "markdown",
      "metadata": {
        "id": "Ucehl1-6n9mP"
      },
      "source": [
        "**문제 4.** <br>\n",
        "물의 섭씨 또는 화씨 온도를 입력받아 섭씨 온도와 물의 상태를 판별하는 프로그램을 작성하시오 <br>단, 화씨 온도가 입력될 경우에는 섭씨 온도로 변환한다.<br>\n",
        "\n",
        "* 힌트 : 섭씨 = (회씨 - 32) * 5 / 9"
      ]
    },
    {
      "cell_type": "markdown",
      "metadata": {
        "id": "8AcKcS1voeim"
      },
      "source": [
        "**실행 결과**\n",
        "\n",
        "* 단위를 입력하세요(1:섭씨, 2:화씨): 2\n",
        "* 온도를 입력하세요: 80\n",
        "* 물의 섭씨 온도 : 26.67, 상태:액체"
      ]
    },
    {
      "cell_type": "markdown",
      "metadata": {
        "id": "mHbAv9xzn8_o"
      },
      "source": [
        "**문제 5.** <br>\n",
        "아이디를 입력받아 아이디가 'admin'이면 '모든 컨텐츠 이용 가능'을 출력하고 프로그램을 종료한다.<br> 아이디가 'admin'이 아니면 회원 레벨을 입력받아 회원 레벨이 2~7이면 '일부 컨텐츠 이용 가능'을 출력하고, 그렇지 않으면 '콘텐츠 이용 불가'를 출력하는 프로그램을 작성하시오."
      ]
    },
    {
      "cell_type": "markdown",
      "metadata": {
        "id": "tR2zjEWWo6xW"
      },
      "source": [
        "**실행 결과**\n",
        "\n",
        "* 아이디를 입력하세요 : rubato\n",
        "* 회원 레벨을 입력해 주세요 : 3\n",
        "* 일부 컨텐츠 이용 가능"
      ]
    },
    {
      "cell_type": "markdown",
      "metadata": {
        "id": "DFUhVxGwpHbY"
      },
      "source": [
        "**문제 6.** <br>\n",
        "나이를 입력받아 입장료를 계산하는 프로그램을 작성하시오.<br> 단, 10세 이하의 입장료는 1000원, 65세 이상의 입장료는 0원, 기본 입장료는 2000원이다."
      ]
    },
    {
      "cell_type": "markdown",
      "metadata": {
        "id": "HdtvZ6gRpklR"
      },
      "source": [
        "**실행 결과**\n",
        "\n",
        "* 나이를 입력하세요 : 6\n",
        "* 입장료는 1000원 입니다."
      ]
    },
    {
      "cell_type": "markdown",
      "metadata": {
        "id": "S8hsJ2klDvKd"
      },
      "source": [
        "**문제 7.** <br>\n",
        "영어와 수학이 모두 80점 이상이면 '합격', 영어와 수학이 모두 80점 미만이면 '불합격', 두 시험 중 한 과목이 80점 이상이면 '재시험 기회제공'의 메시지를 출력하는 프로그램을 작성하시오.\n"
      ]
    },
    {
      "cell_type": "markdown",
      "metadata": {
        "id": "9DqMy5UfD-bc"
      },
      "source": [
        "**실행 결과**\n",
        "\n",
        "* 영어시험 점수를 입력하세요 : 85\n",
        "* 수학시험 점수를 입력하세요 : 75\n",
        "* 재시험 기회제공"
      ]
    },
    {
      "cell_type": "code",
      "metadata": {
        "id": "9rnYBuq6CY80"
      },
      "source": [
        ""
      ],
      "execution_count": null,
      "outputs": []
    }
  ]
}