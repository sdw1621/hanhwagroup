{
  "nbformat": 4,
  "nbformat_minor": 0,
  "metadata": {
    "colab": {
      "name": "211026_CH03_조건문.ipynb",
      "provenance": [],
      "collapsed_sections": [
        "5MmrUfWkLjZ8",
        "D_KiWaIK8wV7",
        "TGxr1uH0B9Kj",
        "UHVvsaCGE9Yu"
      ],
      "authorship_tag": "ABX9TyMcjlRsFU699qGchw7WH8LP",
      "include_colab_link": true
    },
    "kernelspec": {
      "name": "python3",
      "display_name": "Python 3"
    },
    "language_info": {
      "name": "python"
    }
  },
  "cells": [
    {
      "cell_type": "markdown",
      "metadata": {
        "id": "view-in-github",
        "colab_type": "text"
      },
      "source": [
        "<a href=\"https://colab.research.google.com/github/sdw1621/hanhwagroup/blob/main/211026_CH03_%EC%A1%B0%EA%B1%B4%EB%AC%B8.ipynb\" target=\"_parent\"><img src=\"https://colab.research.google.com/assets/colab-badge.svg\" alt=\"Open In Colab\"/></a>"
      ]
    },
    {
      "cell_type": "markdown",
      "metadata": {
        "id": "JzDtRlOp0_E7"
      },
      "source": [
        "**코딩스쿨 연습문제**\n",
        "\n",
        "http://codingschool.info/content/prob_basic.php?prob_type=view&num=25&cat=string"
      ]
    },
    {
      "cell_type": "code",
      "metadata": {
        "colab": {
          "base_uri": "https://localhost:8080/"
        },
        "id": "587eH6YX1Bfw",
        "outputId": "bbd74c20-f753-416f-b13d-d9b7b4d0124c"
      },
      "source": [
        "# Q25. 다음은 문자열의 끝 부분의 문자열을 추출하는 프로그램이다. 빈 칸을 채워 프로그램을 완성하시오. (100점)\n",
        "\n",
        "data = \"우리는 자연을 사랑하고 환경을 보존해야 한다.\"\n",
        "\n",
        "# word = data[13:]\n",
        "word = data[-12:]\n",
        "\n",
        "print(word)\n",
        "\n",
        "# 결과\n",
        "# 환경을 보존해야 한다."
      ],
      "execution_count": 2,
      "outputs": [
        {
          "output_type": "stream",
          "name": "stdout",
          "text": [
            "환경을 보존해야 한다.\n"
          ]
        }
      ]
    },
    {
      "cell_type": "markdown",
      "metadata": {
        "id": "5MmrUfWkLjZ8"
      },
      "source": [
        "###**예제 3-1. if~else 구문으로 양수 판별**"
      ]
    },
    {
      "cell_type": "code",
      "metadata": {
        "colab": {
          "base_uri": "https://localhost:8080/"
        },
        "id": "6BfGTz3mL12q",
        "outputId": "a7e64f45-e6b8-4dcf-8212-c41cd4a101c8"
      },
      "source": [
        " x = int(input('숫자를 입력하세요 : ')) # \"50\"\n",
        " print(x)"
      ],
      "execution_count": 3,
      "outputs": [
        {
          "output_type": "stream",
          "name": "stdout",
          "text": [
            "숫자를 입력하세요 : 23\n",
            "23\n"
          ]
        }
      ]
    },
    {
      "cell_type": "code",
      "metadata": {
        "colab": {
          "base_uri": "https://localhost:8080/"
        },
        "id": "kN4PSX_E7MV0",
        "outputId": "577a12be-b616-419e-e49c-82b2e0fc98ab"
      },
      "source": [
        "if x > 0:\n",
        "  print(\"양수\")\n",
        "\n",
        "if x < 0:\n",
        "  print(\"양수\")"
      ],
      "execution_count": 4,
      "outputs": [
        {
          "output_type": "stream",
          "name": "stdout",
          "text": [
            "양수\n"
          ]
        }
      ]
    },
    {
      "cell_type": "code",
      "metadata": {
        "colab": {
          "base_uri": "https://localhost:8080/"
        },
        "id": "bV28Oj-97Xcr",
        "outputId": "338d8ec2-9973-455f-e47d-d0292d83e7ae"
      },
      "source": [
        "if x > 0:\n",
        "  print(\"양수\")\n",
        "else:\n",
        "  print(\"0 또는 음수\")"
      ],
      "execution_count": 6,
      "outputs": [
        {
          "output_type": "stream",
          "name": "stdout",
          "text": [
            "양수\n"
          ]
        }
      ]
    },
    {
      "cell_type": "code",
      "metadata": {
        "colab": {
          "base_uri": "https://localhost:8080/"
        },
        "id": "mbXR9uuf7h8i",
        "outputId": "7f9e6a00-472c-42e5-ab76-2ff5a440ce73"
      },
      "source": [
        "x = int(input('숫자를 입력하세요 : '))\n",
        "\n",
        "if x > 0:\n",
        "  print(\"양수\")\n",
        "else:\n",
        "  print(\"0 또는 음수\")"
      ],
      "execution_count": 7,
      "outputs": [
        {
          "output_type": "stream",
          "name": "stdout",
          "text": [
            "숫자를 입력하세요 : -6\n",
            "0 또는 음수\n"
          ]
        }
      ]
    },
    {
      "cell_type": "markdown",
      "metadata": {
        "id": "D_KiWaIK8wV7"
      },
      "source": [
        "###**예제 3-2. 비교 연산자의 참/거짓**"
      ]
    },
    {
      "cell_type": "code",
      "metadata": {
        "id": "rHx_nUPM7oVC"
      },
      "source": [
        "x = 10\n",
        "y = 3\n",
        "print( x % 4 == 0)\n",
        "print( y % 3 != 0)"
      ],
      "execution_count": 9,
      "outputs": []
    },
    {
      "cell_type": "markdown",
      "metadata": {
        "id": "TGxr1uH0B9Kj"
      },
      "source": [
        "###**예제 3-3. 자격증 시험 합격/불합격 판정**"
      ]
    },
    {
      "cell_type": "code",
      "metadata": {
        "colab": {
          "base_uri": "https://localhost:8080/"
        },
        "id": "yHIiQQqlCCgX",
        "outputId": "36e1b114-6d1d-4aa3-93d1-fd6b278bdc16"
      },
      "source": [
        "score1 = int(input(\"필기시험 성적을 입력하세요 : \"))\n",
        "score2 = int(input(\"실기시험 성적을 입력하세요 : \"))\n",
        "\n",
        "print(score1)\n",
        "print(score2)"
      ],
      "execution_count": 11,
      "outputs": [
        {
          "name": "stdout",
          "output_type": "stream",
          "text": [
            "필기시험 성적을 입력하세요 : 90\n",
            "실기시험 성적을 입력하세요 : 85\n"
          ]
        }
      ]
    },
    {
      "cell_type": "code",
      "metadata": {
        "colab": {
          "base_uri": "https://localhost:8080/"
        },
        "id": "b-2HKeu3CbX7",
        "outputId": "e7da6888-d51a-4d27-cbd8-2dc3bc4fe318"
      },
      "source": [
        "print(score1 >= 80) # 시험 합격 기준 : 80점"
      ],
      "execution_count": 13,
      "outputs": [
        {
          "output_type": "stream",
          "name": "stdout",
          "text": [
            "True\n"
          ]
        }
      ]
    },
    {
      "cell_type": "code",
      "metadata": {
        "colab": {
          "base_uri": "https://localhost:8080/"
        },
        "id": "HivknCBNCnUq",
        "outputId": "13f4eb68-1916-4a5d-b608-908a38c86310"
      },
      "source": [
        "print(score2 >= 80) # 시험 합격 기준 : 80점"
      ],
      "execution_count": 14,
      "outputs": [
        {
          "output_type": "stream",
          "name": "stdout",
          "text": [
            "True\n"
          ]
        }
      ]
    },
    {
      "cell_type": "code",
      "metadata": {
        "colab": {
          "base_uri": "https://localhost:8080/"
        },
        "id": "Li8_EyV5Cu-R",
        "outputId": "48aa8a74-f5ad-4923-f8e6-133f533d97c1"
      },
      "source": [
        "if score1 >= 80 and score2 >= 80:\n",
        "  print(\"합격!\")"
      ],
      "execution_count": 15,
      "outputs": [
        {
          "output_type": "stream",
          "name": "stdout",
          "text": [
            "합격!\n"
          ]
        }
      ]
    },
    {
      "cell_type": "code",
      "metadata": {
        "colab": {
          "base_uri": "https://localhost:8080/"
        },
        "id": "ygFMnQuHDNpF",
        "outputId": "c25b1e42-47a9-4b8e-8dd1-ab8f910f3023"
      },
      "source": [
        "if score1 >= 80 and score2 >= 80:\n",
        "  print(\"합격!\")\n",
        "else:\n",
        "  print(\"불합격!\")"
      ],
      "execution_count": 16,
      "outputs": [
        {
          "output_type": "stream",
          "name": "stdout",
          "text": [
            "합격!\n"
          ]
        }
      ]
    },
    {
      "cell_type": "code",
      "metadata": {
        "colab": {
          "base_uri": "https://localhost:8080/"
        },
        "id": "3CDlR1RpDS8u",
        "outputId": "ff84d9ae-68ae-439d-922c-87a18e4ffbbb"
      },
      "source": [
        "score1 = int(input(\"필기시험 성적을 입력하세요 : \"))\n",
        "score2 = int(input(\"실기시험 성적을 입력하세요 : \"))\n",
        "\n",
        "if score1 >= 80 and score2 >= 80:\n",
        "  print(\"합격!\")\n",
        "else:\n",
        "  print(\"불합격!\")"
      ],
      "execution_count": 17,
      "outputs": [
        {
          "output_type": "stream",
          "name": "stdout",
          "text": [
            "필기시험 성적을 입력하세요 : 75\n",
            "실기시험 성적을 입력하세요 : 95\n",
            "불합격!\n"
          ]
        }
      ]
    },
    {
      "cell_type": "code",
      "metadata": {
        "colab": {
          "base_uri": "https://localhost:8080/"
        },
        "id": "ExRgacYkDf0b",
        "outputId": "a43f8d83-d880-4cb9-d7be-9ba6982cc149"
      },
      "source": [
        "# 김치찌게, 된장찌게\n",
        "\n",
        "menu1 = input(\"첫 번쨰 메뉴를 입력하세요 : \") # 김치찌게\n",
        "menu2 = input(\"두 번째 메뉴를 입력하세요 : \") # 된장찌게\n",
        "\n",
        "if menu1 == '김치찌게' and menu2 == '된장찌게':\n",
        "  print(\"이 식당에서 점심 드시죠!\")\n",
        "else:\n",
        "  print(\"다른 식당 가시죠!\")"
      ],
      "execution_count": 20,
      "outputs": [
        {
          "output_type": "stream",
          "name": "stdout",
          "text": [
            "첫 번쨰 메뉴를 입력하세요 : 김치찌게\n",
            "두 번째 메뉴를 입력하세요 : 제육\n",
            "다른 식당 가시죠!\n"
          ]
        }
      ]
    },
    {
      "cell_type": "markdown",
      "metadata": {
        "id": "UHVvsaCGE9Yu"
      },
      "source": [
        "###**예제 3-4. 홈페이지 관리자 판별**"
      ]
    },
    {
      "cell_type": "code",
      "metadata": {
        "colab": {
          "base_uri": "https://localhost:8080/"
        },
        "id": "A3KvwcmFEN0N",
        "outputId": "3b1f4c5d-2826-4f7c-e49a-ecde54adbd3e"
      },
      "source": [
        "user_id = input(\"아이디를 입력하세요 :\")\n",
        "level = int(input(\"회원 레벨을 입력하세요 : \"))\n",
        "\n",
        "print(user_id)\n",
        "print(level)"
      ],
      "execution_count": 21,
      "outputs": [
        {
          "output_type": "stream",
          "name": "stdout",
          "text": [
            "아이디를 입력하세요 :admin\n",
            "회원 레벨을 입력하세요 : 1\n",
            "admin\n",
            "1\n"
          ]
        }
      ]
    },
    {
      "cell_type": "code",
      "metadata": {
        "colab": {
          "base_uri": "https://localhost:8080/"
        },
        "id": "s7Czs9ZbFZSm",
        "outputId": "8bb38eee-4624-4dc8-b6f0-b4d4a531afd3"
      },
      "source": [
        "print(type(user_id))\n",
        "print(type(level))"
      ],
      "execution_count": 22,
      "outputs": [
        {
          "output_type": "stream",
          "name": "stdout",
          "text": [
            "<class 'str'>\n",
            "<class 'int'>\n"
          ]
        }
      ]
    },
    {
      "cell_type": "code",
      "metadata": {
        "colab": {
          "base_uri": "https://localhost:8080/"
        },
        "id": "wEaMxyQlFh0-",
        "outputId": "194e80e5-e1b5-4df7-ca2e-d0d7a0440bfc"
      },
      "source": [
        "print(user_id == 'admin')"
      ],
      "execution_count": 23,
      "outputs": [
        {
          "output_type": "stream",
          "name": "stdout",
          "text": [
            "True\n"
          ]
        }
      ]
    },
    {
      "cell_type": "code",
      "metadata": {
        "colab": {
          "base_uri": "https://localhost:8080/"
        },
        "id": "0FD-FdNdFoni",
        "outputId": "f01b554c-0b3a-44fa-90c2-a35bab593b20"
      },
      "source": [
        "print(level == 1)"
      ],
      "execution_count": 24,
      "outputs": [
        {
          "output_type": "stream",
          "name": "stdout",
          "text": [
            "True\n"
          ]
        }
      ]
    },
    {
      "cell_type": "code",
      "metadata": {
        "colab": {
          "base_uri": "https://localhost:8080/"
        },
        "id": "pwwR0GAqFsZC",
        "outputId": "f344ec55-14a2-4901-d490-0a35912d019e"
      },
      "source": [
        "if user_id == 'admin' or level == 1:\n",
        "  print(\"관리자이다.\")\n",
        "else:\n",
        "  print(\"관리자가 아니다.\")"
      ],
      "execution_count": 25,
      "outputs": [
        {
          "output_type": "stream",
          "name": "stdout",
          "text": [
            "관리자이다.\n"
          ]
        }
      ]
    },
    {
      "cell_type": "code",
      "metadata": {
        "colab": {
          "base_uri": "https://localhost:8080/"
        },
        "id": "9CcO-0REGAGz",
        "outputId": "d77aa7a4-70cd-456d-94e7-8a162ad2049a"
      },
      "source": [
        "user_id = input(\"아이디를 입력하세요 :\")\n",
        "level = int(input(\"회원 레벨을 입력하세요 : \"))\n",
        "\n",
        "if user_id == 'admin' or level == 1:\n",
        "  print(\"관리자이다.\")\n",
        "else:\n",
        "  print(\"관리자가 아니다.\")"
      ],
      "execution_count": 26,
      "outputs": [
        {
          "output_type": "stream",
          "name": "stdout",
          "text": [
            "아이디를 입력하세요 :rubato\n",
            "회원 레벨을 입력하세요 : 1\n",
            "관리자이다.\n"
          ]
        }
      ]
    },
    {
      "cell_type": "code",
      "metadata": {
        "colab": {
          "base_uri": "https://localhost:8080/"
        },
        "id": "-HmwBh56GFuG",
        "outputId": "a9b1fd7a-e378-4b44-e169-963634bf28de"
      },
      "source": [
        "user_id = input(\"아이디를 입력하세요 :\")\n",
        "level = int(input(\"회원 레벨을 입력하세요 : \"))\n",
        "\n",
        "if user_id == 'admin' or level == 1:\n",
        "  print(\"관리자이다.\")\n",
        "else:\n",
        "  print(\"관리자가 아니다.\")"
      ],
      "execution_count": 27,
      "outputs": [
        {
          "output_type": "stream",
          "name": "stdout",
          "text": [
            "아이디를 입력하세요 :ocella\n",
            "회원 레벨을 입력하세요 : 7\n",
            "관리자가 아니다.\n"
          ]
        }
      ]
    },
    {
      "cell_type": "code",
      "metadata": {
        "colab": {
          "base_uri": "https://localhost:8080/"
        },
        "id": "G--AHT9aGPFi",
        "outputId": "90b3a028-39bf-498d-a2a0-65f257886a72"
      },
      "source": [
        "# or 응용!\n",
        "\n",
        "# 김치찌게, 된장찌게\n",
        "\n",
        "menu1 = input(\"첫 번쨰 메뉴를 입력하세요 : \") # 김치찌게\n",
        "menu2 = input(\"두 번째 메뉴를 입력하세요 : \") # 된장찌게\n",
        "\n",
        "if menu1 == '김치찌게' or menu2 == '된장찌게':\n",
        "  print(\"이 식당에서 점심 드시죠!\")\n",
        "else:\n",
        "  print(\"다른 식당 가시죠!\")"
      ],
      "execution_count": 31,
      "outputs": [
        {
          "output_type": "stream",
          "name": "stdout",
          "text": [
            "첫 번쨰 메뉴를 입력하세요 : 제육\n",
            "두 번째 메뉴를 입력하세요 : 김치\n",
            "다른 식당 가시죠!\n"
          ]
        }
      ]
    },
    {
      "cell_type": "markdown",
      "metadata": {
        "id": "hQPZRgOWHTtG"
      },
      "source": [
        "###**예제 3-6. 논리 연산자 not의 사용 예**"
      ]
    },
    {
      "cell_type": "code",
      "metadata": {
        "colab": {
          "base_uri": "https://localhost:8080/"
        },
        "id": "duDZz-ZUGcrU",
        "outputId": "389b34a7-1c75-41b3-bcab-bcbf57d87e3b"
      },
      "source": [
        "print(not True)"
      ],
      "execution_count": 32,
      "outputs": [
        {
          "output_type": "stream",
          "name": "stdout",
          "text": [
            "False\n"
          ]
        }
      ]
    },
    {
      "cell_type": "code",
      "metadata": {
        "colab": {
          "base_uri": "https://localhost:8080/"
        },
        "id": "3wAgPn2aHcLG",
        "outputId": "94a398a4-7bcc-428a-96af-9ed9be5c76cf"
      },
      "source": [
        "print(not False)"
      ],
      "execution_count": 33,
      "outputs": [
        {
          "output_type": "stream",
          "name": "stdout",
          "text": [
            "True\n"
          ]
        }
      ]
    },
    {
      "cell_type": "code",
      "metadata": {
        "colab": {
          "base_uri": "https://localhost:8080/"
        },
        "id": "VTiIbAlHHdlc",
        "outputId": "380ea760-5ff5-4f66-fd6d-f93fdc66aa68"
      },
      "source": [
        "name = input(\"이름을 입력하세요 : \")\n",
        "\n",
        "if not name:\n",
        "  print(\"이름이 입력되지 않았다.\")\n",
        "else:\n",
        "  print(f\"이름 : {name}\")"
      ],
      "execution_count": 35,
      "outputs": [
        {
          "output_type": "stream",
          "name": "stdout",
          "text": [
            "이름을 입력하세요 : 신동욱\n",
            "이름 : 신동욱\n"
          ]
        }
      ]
    },
    {
      "cell_type": "code",
      "metadata": {
        "id": "-f9UqrbvH0B8"
      },
      "source": [
        "name = input(\"이름을 입력하세요 : \")\n",
        "\n",
        "if not name:\n",
        "  print(\"이름이 입력되지 않습니다. 이름을 입력해주세요\")\n",
        "else:\n",
        "  print(f\"이름 : {name}\")\n",
        "\n",
        "# while 반복구문\n",
        "# 비밀번호 틀렸을 때 5번까지는 다시 입력할 수 있게\n",
        "# 5번 틀렸을 때는\n",
        "# 대면 : 영업점에 와서 비번 관리자가 바꾸게 해\n",
        "# 비대면 : 초기화할거니까 너의 정보를 정확하게 입력(이메일, 앱(PASS), 지문)\n",
        "\n",
        "wrong_cnt = 0 # 숫자 데이터 초기화\n",
        "\n",
        "while wrong_cnt < 5: # 조건문이 False 무한반복 X\n",
        "  wrong_cnt = wrong_cnt + 1 # 한 개씩 증가"
      ],
      "execution_count": null,
      "outputs": []
    },
    {
      "cell_type": "markdown",
      "metadata": {
        "id": "IEcmkxu9I-35"
      },
      "source": [
        "###**예제 3-7. 참/거짓 판별**"
      ]
    },
    {
      "cell_type": "code",
      "metadata": {
        "colab": {
          "base_uri": "https://localhost:8080/"
        },
        "id": "Z1-tmYtrIwOE",
        "outputId": "18c02ff8-6eb5-4594-83d6-fa6ce3028153"
      },
      "source": [
        "if 15:\n",
        "  print(True)\n",
        "else:\n",
        "  print(False)"
      ],
      "execution_count": 36,
      "outputs": [
        {
          "output_type": "stream",
          "name": "stdout",
          "text": [
            "True\n"
          ]
        }
      ]
    },
    {
      "cell_type": "code",
      "metadata": {
        "colab": {
          "base_uri": "https://localhost:8080/"
        },
        "id": "nTVChmz2JL6r",
        "outputId": "171a6472-e7fb-46aa-d741-08fd15918057"
      },
      "source": [
        "if 0:\n",
        "  print(True)\n",
        "else:\n",
        "  print(False)"
      ],
      "execution_count": 37,
      "outputs": [
        {
          "output_type": "stream",
          "name": "stdout",
          "text": [
            "False\n"
          ]
        }
      ]
    },
    {
      "cell_type": "code",
      "metadata": {
        "id": "QqTd2NrAJO_h"
      },
      "source": [
        "# 숫자 데이터 초기화(값 없다)\n",
        "num = 0 # False\n",
        "\n",
        "# 숫자 데이터 있음(값 있음)\n",
        "num = 100 # True\n",
        "\n",
        "# 문자 데이터 초기화 (문자 없다)\n",
        "word = '' # False\n",
        "\n",
        "# 문자 데이터 초기화 (문자 없다)\n",
        "word = '홍길동' # True"
      ],
      "execution_count": null,
      "outputs": []
    },
    {
      "cell_type": "code",
      "metadata": {
        "colab": {
          "base_uri": "https://localhost:8080/"
        },
        "id": "olRdJ_vdKjX_",
        "outputId": "2e503115-ebb4-4c78-dec5-85152b7f95c9"
      },
      "source": [
        "if None == True:\n",
        "  print(\"해당 셀에 값이 없습니다.\")\n",
        "else:\n",
        "  print(\"특정 값이 존재합니다.\")"
      ],
      "execution_count": 38,
      "outputs": [
        {
          "output_type": "stream",
          "name": "stdout",
          "text": [
            "False\n"
          ]
        }
      ]
    },
    {
      "cell_type": "code",
      "metadata": {
        "colab": {
          "base_uri": "https://localhost:8080/"
        },
        "id": "pJyUeahAKqBt",
        "outputId": "0b23c9d0-8272-4cb2-af1f-f910b8c34e31"
      },
      "source": [
        "# IOT 데이터\n",
        "# 특이사항 있음 / 없음\n",
        "\n",
        "# 밑에 보이는 문자열 보는 방법 (데이터시트 = 설명서)\n",
        "# IOT[0:4] : yyyy(년도)\n",
        "# IOT[4:6] : mm(월)\n",
        "# IOT[-1] : 비 여부\n",
        "# 1 : 비 옴\n",
        "# 0 : 비 안 옴\n",
        "IOT = \"20211025AM10151\"\n",
        "\n",
        "print(IOT[-1])"
      ],
      "execution_count": 39,
      "outputs": [
        {
          "output_type": "stream",
          "name": "stdout",
          "text": [
            "1\n"
          ]
        }
      ]
    },
    {
      "cell_type": "code",
      "metadata": {
        "colab": {
          "base_uri": "https://localhost:8080/"
        },
        "id": "htmzrAaALl0I",
        "outputId": "591f4c0b-c976-4ef0-b872-52f11d68718b"
      },
      "source": [
        "if IOT[-1] == \"1\":\n",
        "  print(\"오늘 비가 옵니다.\")\n",
        "else:\n",
        "  print(\"오늘 비가 안 옵니다.\")"
      ],
      "execution_count": 40,
      "outputs": [
        {
          "output_type": "stream",
          "name": "stdout",
          "text": [
            "오늘 비가 옵니다.\n"
          ]
        }
      ]
    },
    {
      "cell_type": "code",
      "metadata": {
        "colab": {
          "base_uri": "https://localhost:8080/"
        },
        "id": "0iHLSVsFLuAU",
        "outputId": "3455b303-1dd3-48e5-b152-3b4e299ce0d9"
      },
      "source": [
        "IOT = \"20211025AM10151\"\n",
        "\n",
        "print(IOT[14])\n",
        "print(bool(IOT[14]))"
      ],
      "execution_count": 44,
      "outputs": [
        {
          "output_type": "stream",
          "name": "stdout",
          "text": [
            "1\n",
            "True\n"
          ]
        }
      ]
    },
    {
      "cell_type": "markdown",
      "metadata": {
        "id": "grKgAcGfMUBy"
      },
      "source": [
        "###**예제 3-8. if~ 구문 사용 예**"
      ]
    },
    {
      "cell_type": "code",
      "metadata": {
        "colab": {
          "base_uri": "https://localhost:8080/"
        },
        "id": "CYxNhZlWMAtv",
        "outputId": "26f4f846-935d-4c81-b4e6-bdf1b1322bb7"
      },
      "source": [
        "age = int(input(\"나이를 입력하세요 :\"))\n",
        "pay = '3000원'\n",
        "\n",
        "if age < 7 or age >= 65:\n",
        "  pay = \"무료\"\n",
        "  print(f\"입장료 : {pay}\")\n",
        "else:\n",
        "  print(f\"입장료 : {pay}\")"
      ],
      "execution_count": 56,
      "outputs": [
        {
          "output_type": "stream",
          "name": "stdout",
          "text": [
            "나이를 입력하세요 :25\n",
            "입장료 : 3000원\n"
          ]
        }
      ]
    },
    {
      "cell_type": "code",
      "metadata": {
        "colab": {
          "base_uri": "https://localhost:8080/"
        },
        "id": "4u2PTzxyN_rE",
        "outputId": "4db6f6db-e8ca-469c-f793-2835fd60b18a"
      },
      "source": [
        "age = int(input(\"나이를 입력하세요 :\"))\n",
        "pay = '3000원'\n",
        "\n",
        "if age < 7 or age >= 65:\n",
        "  pay = \"무료\"\n",
        "\n",
        "print(f\"입장료 : {pay}\")"
      ],
      "execution_count": 58,
      "outputs": [
        {
          "output_type": "stream",
          "name": "stdout",
          "text": [
            "나이를 입력하세요 :20\n",
            "입장료 : 3000원\n"
          ]
        }
      ]
    },
    {
      "cell_type": "code",
      "metadata": {
        "id": "zIWqDOX4MvhG"
      },
      "source": [
        "if 0 <= age <= 19:\n",
        "  print(\"미성년자입니다.\")\n",
        "else:\n",
        "  print(\"성인입니다.\")"
      ],
      "execution_count": null,
      "outputs": []
    },
    {
      "cell_type": "code",
      "metadata": {
        "colab": {
          "base_uri": "https://localhost:8080/"
        },
        "id": "9thbXAK5M18j",
        "outputId": "0718e854-c8d9-45f8-c214-e6fb5b5e7968"
      },
      "source": [
        "age = int(input(\"나이를 입력하세요 :\"))\n",
        "\n",
        "if 0 <= age <= 7:\n",
        "  print(\"유치원생입니다.\")\n",
        "elif 8 <= age <= 13:\n",
        "  print(\"초등학생입니다.\")  \n",
        "elif 14 <= age <= 16:\n",
        "  print(\"중학생입니다.\")\n",
        "elif 17 <= age <= 19:\n",
        "  print(\"고등학생입니다.\")  \n",
        "else:\n",
        "  print(\"성인입니다.\")"
      ],
      "execution_count": 53,
      "outputs": [
        {
          "output_type": "stream",
          "name": "stdout",
          "text": [
            "나이를 입력하세요 :22\n",
            "성인입니다.\n"
          ]
        }
      ]
    },
    {
      "cell_type": "markdown",
      "metadata": {
        "id": "r17hn5jyRzMX"
      },
      "source": [
        "###**예제 3-9. if~else 구문 사용 예**"
      ]
    },
    {
      "cell_type": "code",
      "metadata": {
        "colab": {
          "base_uri": "https://localhost:8080/"
        },
        "id": "2BEllKbSNIQj",
        "outputId": "c3c9635b-1a68-408c-ddef-96362876333f"
      },
      "source": [
        "name = \"카미센세\"\n",
        "answer = '12345'\n",
        "password = input('비밀번호를 입력하세요 :')\n",
        "\n",
        "# 반복구문 while\n",
        "if password == answer:\n",
        "  print(f'{name}님 환영합니다.')\n",
        "else:\n",
        "  print(\"아이디 또는 비밀번호가 잘못 입력 되었습니다.\\n아이디와 비밀번호를 정확히 입력해 주세요.\")"
      ],
      "execution_count": 60,
      "outputs": [
        {
          "output_type": "stream",
          "name": "stdout",
          "text": [
            "비밀번호를 입력하세요 :1111\n",
            "아이디 또는 비밀번호가 잘못 입력 되었습니다.\n",
            "아이디와 비밀번호를 정확히 입력해 주세요.\n"
          ]
        }
      ]
    },
    {
      "cell_type": "markdown",
      "metadata": {
        "id": "m5KzsvCxTGVg"
      },
      "source": [
        "###**예제 3-10. if~ elif ~else 구문 사용 예**"
      ]
    },
    {
      "cell_type": "code",
      "metadata": {
        "colab": {
          "base_uri": "https://localhost:8080/"
        },
        "id": "B9FOiAoTSdDi",
        "outputId": "afd1e04e-79df-4cf8-9a80-bb3972820585"
      },
      "source": [
        "score = int(input(\"점수를 입력하세요 : \"))\n",
        "\n",
        "if score >= 90: # 90 ~ 100\n",
        "  grade = 'A'\n",
        "elif score >= 80: # 80~89\n",
        "  grade = 'B'\n",
        "elif score >= 70: # 70~79\n",
        "  grade = 'C'\n",
        "elif score >= 60: # 60~69\n",
        "  grade = 'D'\n",
        "else:\n",
        "  grade = 'F' # 0~59\n",
        "\n",
        "print(f\"성적 : {score}점\")\n",
        "print(f\"등급 : {grade}\")"
      ],
      "execution_count": 61,
      "outputs": [
        {
          "output_type": "stream",
          "name": "stdout",
          "text": [
            "점수를 입력하세요 : 85\n",
            "성적 : 85점\n",
            "등급 : B\n"
          ]
        }
      ]
    },
    {
      "cell_type": "markdown",
      "metadata": {
        "id": "DlBxK_7XUBgz"
      },
      "source": [
        "###**PDF 125. Q3-1. 코딩 연습 : 월을 입력받아 계절 표시하기**"
      ]
    },
    {
      "cell_type": "code",
      "metadata": {
        "colab": {
          "base_uri": "https://localhost:8080/"
        },
        "id": "3aUBNfaXT1Uf",
        "outputId": "21b1ee6f-9d5a-4484-8b62-4765878d3040"
      },
      "source": [
        "# 상식\n",
        "# 겨울 : 1, 2, 12\n",
        "# 봄 : 3, 4, 5\n",
        "# 여름 : 6, 7, 8\n",
        "# 가을 : 9, 10, 11\n",
        "\n",
        "# 4계절\n",
        "month = int(input(\"1~12의 숫자를 입력하세요 : \"))\n",
        "\n",
        "if 3 <= month <= 5:\n",
        "  print(f\"{month}월은 봄입니다.\")\n",
        "elif 6 <= month <= 8:\n",
        "  print(f\"{month}월은 여름입니다.\")\n",
        "elif 9 <= month <= 11:\n",
        "  print(f\"{month}월은 가을입니다.\")\n",
        "else: # 12, 1, 2\n",
        "  print(f\"{month}월은 겨울입니다.\")"
      ],
      "execution_count": 66,
      "outputs": [
        {
          "output_type": "stream",
          "name": "stdout",
          "text": [
            "1~12의 숫자를 입력하세요 : 10\n",
            "10월은 가을입니다.\n"
          ]
        }
      ]
    },
    {
      "cell_type": "code",
      "metadata": {
        "colab": {
          "base_uri": "https://localhost:8080/"
        },
        "id": "HDKZbu9-VMe4",
        "outputId": "00da0552-2df2-41b8-d943-c15b30ec1b13"
      },
      "source": [
        "# https://knowallworld.tistory.com/5\n",
        "\n",
        "start_num = 1\n",
        "end_num = 12\n",
        "input_num = 0\n",
        "\n",
        "while True:\n",
        "  input_num = int(input(f\"{start_num} ~ {end_num} 숫자를 입력하세요 : \"))\n",
        "\n",
        "  if (start_num <= input_num <= end_num):\n",
        "    if 3 <= month <= 5:\n",
        "      print(f\"{month}월은 봄입니다.\")\n",
        "      break\n",
        "    elif 6 <= month <= 8:\n",
        "      print(f\"{month}월은 여름입니다.\")\n",
        "      break\n",
        "    elif 9 <= month <= 11:\n",
        "      print(f\"{month}월은 가을입니다.\")\n",
        "      break\n",
        "    else: # 12, 1, 2\n",
        "      print(f\"{month}월은 겨울입니다.\")\n",
        "      break\n",
        "  else : \n",
        "    limit_cnt = 0\n",
        "    while limit_cnt < 5:\n",
        "      input_num = int(input(f\"{start_num} ~ {end_num} 숫자를 입력하세요 : \"))\n",
        "      limit_cnt = limit_cnt + 1\n",
        "      break\n",
        "  break"
      ],
      "execution_count": 74,
      "outputs": [
        {
          "name": "stdout",
          "output_type": "stream",
          "text": [
            "1 ~ 12 숫자를 입력하세요 : 13\n",
            "1 ~ 12 숫자를 입력하세요 : 10\n"
          ]
        }
      ]
    },
    {
      "cell_type": "markdown",
      "metadata": {
        "id": "AQqFOuQrYi4b"
      },
      "source": [
        "####**1단계. 변수처리**"
      ]
    },
    {
      "cell_type": "code",
      "metadata": {
        "colab": {
          "base_uri": "https://localhost:8080/"
        },
        "id": "bOrgCLVFXTEh",
        "outputId": "78b1ef14-e849-403d-ab3f-03d4a6cd2ecf"
      },
      "source": [
        "# https://knowallworld.tistory.com/5\n",
        "\n",
        "# 시작달 : 1월\n",
        "start_num = 1 \n",
        "\n",
        "# 마지막달 : 12월\n",
        "end_num = 12 \n",
        "\n",
        "# 정수형 초기값 : 0\n",
        "input_num = 0\n",
        "\n",
        "input_num = int(input(f\"{start_num}~{end_num} 숫자를 입력하세요 : \"))\n",
        "print(input_num)"
      ],
      "execution_count": 76,
      "outputs": [
        {
          "output_type": "stream",
          "name": "stdout",
          "text": [
            "1~12 숫자를 입력하세요 : 1\n",
            "1\n"
          ]
        }
      ]
    },
    {
      "cell_type": "markdown",
      "metadata": {
        "id": "__-OXWnNYtPz"
      },
      "source": [
        "####**2단계.**"
      ]
    },
    {
      "cell_type": "code",
      "metadata": {
        "colab": {
          "base_uri": "https://localhost:8080/"
        },
        "id": "5ISHuj91YaYk",
        "outputId": "54fd721f-1c25-48f5-a20c-255c981f894c"
      },
      "source": [
        "# while 구문 문법\n",
        "# while 조건식:\n",
        "\n",
        "# 조건식의 결과는 True, False가 나와야 함\n",
        "\n",
        "# 조건식의 결과는 True : 무한 반복\n",
        "while True:\n",
        "  limit_cnt = 0 # 초기값, limit(제한)_cnt(count)\n",
        "\n",
        "  while limit_cnt < 5:\n",
        "    # limit_cnt +=  1\n",
        "    limit_cnt = limit_cnt + 1\n",
        "    print(limit_cnt)\n",
        "\n",
        "    # 반복구문(for, while) 깰 수 있는 키워드 break문\n",
        "    # break구문은 가장 가까운 부모 반복(while limit_cnt < 5)을 깰 수 있음\n",
        "\n",
        "  # 반복구문(for, while) 깰 수 있는 키워드 break문\n",
        "  # break구문은 가장 가까운 부모 반복(while True)을 깰 수 있음\n",
        "  break"
      ],
      "execution_count": 80,
      "outputs": [
        {
          "output_type": "stream",
          "name": "stdout",
          "text": [
            "1\n",
            "2\n",
            "3\n",
            "4\n",
            "5\n"
          ]
        }
      ]
    },
    {
      "cell_type": "code",
      "metadata": {
        "colab": {
          "base_uri": "https://localhost:8080/"
        },
        "id": "8bn0J192aHt3",
        "outputId": "05f1cb10-5eb6-477a-ca8a-cead24a2369f"
      },
      "source": [
        "limit_cnt = 0\n",
        "\n",
        "while limit_cnt < 5:\n",
        "  limit_cnt = limit_cnt + 1\n",
        "  print(limit_cnt)"
      ],
      "execution_count": 79,
      "outputs": [
        {
          "output_type": "stream",
          "name": "stdout",
          "text": [
            "1\n",
            "2\n",
            "3\n",
            "4\n",
            "5\n"
          ]
        }
      ]
    },
    {
      "cell_type": "code",
      "metadata": {
        "id": "iJwMBtRkabDS"
      },
      "source": [
        "name = \"카미센세\"\n",
        "answer = '12345'\n",
        "password = input('비밀번호를 입력하세요 :')\n",
        "\n",
        "# 비밀번호 초기화 제한\n",
        "ini_cnt = 0 # 초기값 0\n",
        "limit_cnt = 5 # 제한값 5\n",
        "\n",
        "if password == answer:\n",
        "  print(f'{name}님 환영합니다.')\n",
        "else:\n",
        "  while ini_cnt < limit_cnt:\n",
        "    print(f\"비밀번호 총 {ini_cnt+1}/{limit_cnt} 틀렸습니다.\")\n",
        "    ini_cnt = ini_cnt + 1\n",
        "    print(\"아이디 또는 비밀번호가 잘못 입력 되었습니다.\\n아이디와 비밀번호를 정확히 입력해 주세요.\\n\")\n",
        "    if ini_cnt == limit_cnt:\n",
        "      print(\"비밀번호를 초기화합니다.\")\n",
        "      break\n",
        "    password = input('비밀번호를 입력하세요 :')"
      ],
      "execution_count": null,
      "outputs": []
    },
    {
      "cell_type": "code",
      "metadata": {
        "colab": {
          "base_uri": "https://localhost:8080/"
        },
        "id": "801q1rc5eTyk",
        "outputId": "d3b8dc0e-bbc7-4065-fdd9-c73bd9c874a9"
      },
      "source": [
        "answer = '12345' # 데이터베이스 비밀번호\n",
        "\n",
        "password = input('비밀번호를 입력하세요 :') # 사용자 웹으로 입력하신 비번\n",
        "\n",
        "if password == answer:\n",
        "  print(f'{name}님 환영합니다.')\n",
        "else:\n",
        "  ini_cnt = 0\n",
        "  limit_cnt = 5\n",
        "\n",
        "  while ini_cnt < limit_cnt:\n",
        "    print(f\"비밀번호 총 {ini_cnt+1}/{limit_cnt} 틀렸습니다.\")\n",
        "    ini_cnt = ini_cnt + 1\n",
        "    password = input('비밀번호를 입력하세요 :')"
      ],
      "execution_count": 109,
      "outputs": [
        {
          "name": "stdout",
          "output_type": "stream",
          "text": [
            "비밀번호를 입력하세요 :1\n",
            "비밀번호 총 1/5 틀렸습니다.\n",
            "비밀번호를 입력하세요 :1\n",
            "비밀번호 총 2/5 틀렸습니다.\n",
            "비밀번호를 입력하세요 :1\n",
            "비밀번호 총 3/5 틀렸습니다.\n",
            "비밀번호를 입력하세요 :1\n",
            "비밀번호 총 4/5 틀렸습니다.\n",
            "비밀번호를 입력하세요 :1\n",
            "비밀번호 총 5/5 틀렸습니다.\n",
            "비밀번호를 입력하세요 :1\n"
          ]
        }
      ]
    },
    {
      "cell_type": "code",
      "metadata": {
        "colab": {
          "base_uri": "https://localhost:8080/"
        },
        "id": "_HiadHKgfli8",
        "outputId": "98ce8b80-9b91-4754-b116-54394998db76"
      },
      "source": [
        "# 비밀번호 초기화 제한\n",
        "ini_cnt = 0 # 초기값 0\n",
        "limit_cnt = 5 # 제한값 5\n",
        "\n",
        "while ini_cnt < limit_cnt:\n",
        "  print(f\"비밀번호 총 {ini_cnt+1}/{limit_cnt} 틀렸습니다.\")\n",
        "  ini_cnt = ini_cnt + 1\n",
        "  print(\"아이디 또는 비밀번호가 잘못 입력 되었습니다.\\n아이디와 비밀번호를 정확히 입력해 주세요.\\n\")\n",
        "  if ini_cnt == limit_cnt:\n",
        "    print(\"비밀번호를 초기화합니다.\")\n",
        "    break\n",
        "  password = input('비밀번호를 입력하세요 :')"
      ],
      "execution_count": 110,
      "outputs": [
        {
          "output_type": "stream",
          "name": "stdout",
          "text": [
            "비밀번호 총 1/5 틀렸습니다.\n",
            "아이디 또는 비밀번호가 잘못 입력 되었습니다.\n",
            "아이디와 비밀번호를 정확히 입력해 주세요.\n",
            "\n",
            "비밀번호를 입력하세요 :1\n",
            "비밀번호 총 2/5 틀렸습니다.\n",
            "아이디 또는 비밀번호가 잘못 입력 되었습니다.\n",
            "아이디와 비밀번호를 정확히 입력해 주세요.\n",
            "\n",
            "비밀번호를 입력하세요 :1\n",
            "비밀번호 총 3/5 틀렸습니다.\n",
            "아이디 또는 비밀번호가 잘못 입력 되었습니다.\n",
            "아이디와 비밀번호를 정확히 입력해 주세요.\n",
            "\n",
            "비밀번호를 입력하세요 :1\n",
            "비밀번호 총 4/5 틀렸습니다.\n",
            "아이디 또는 비밀번호가 잘못 입력 되었습니다.\n",
            "아이디와 비밀번호를 정확히 입력해 주세요.\n",
            "\n",
            "비밀번호를 입력하세요 :1\n",
            "비밀번호 총 5/5 틀렸습니다.\n",
            "아이디 또는 비밀번호가 잘못 입력 되었습니다.\n",
            "아이디와 비밀번호를 정확히 입력해 주세요.\n",
            "\n",
            "비밀번호를 초기화합니다.\n"
          ]
        }
      ]
    },
    {
      "cell_type": "markdown",
      "metadata": {
        "id": "So3Qtf2-g_Gk"
      },
      "source": [
        "###**PDF 128. Q3-4. 코딩 연습 : 영어 알파벳 모음/자음 판별하기**"
      ]
    },
    {
      "cell_type": "code",
      "metadata": {
        "colab": {
          "base_uri": "https://localhost:8080/"
        },
        "id": "QxIePWG0gUqs",
        "outputId": "5fd3685a-26ad-4a3f-996a-c5613193c722"
      },
      "source": [
        "# 응용\n",
        "\n",
        "passport = input(\"본인의 이름을 영어로 입력하세요 : \")\n",
        "\n",
        "passport_up = passport.upper()\n",
        "\n",
        "print(passport_up)\n",
        "\n",
        "# 파이썬 중급\n",
        "# 나중에는 정규식을 통해서 영어만 입력받게 제한을 둘 수 있음"
      ],
      "execution_count": 112,
      "outputs": [
        {
          "output_type": "stream",
          "name": "stdout",
          "text": [
            "본인의 이름을 영어로 입력하세요 : shindongwook\n",
            "SHINDONGWOOK\n"
          ]
        }
      ]
    },
    {
      "cell_type": "markdown",
      "metadata": {
        "id": "MwWRBj_01hOG"
      },
      "source": [
        "###**PDF 130. Q3-6. 코딩 연습 : 할인율에 따른 지불 금액 계산하기**"
      ]
    },
    {
      "cell_type": "code",
      "metadata": {
        "colab": {
          "base_uri": "https://localhost:8080/"
        },
        "id": "1owHHtWFhc4v",
        "outputId": "0f16b401-216d-4b05-cbc7-e1b43ea158ba"
      },
      "source": [
        "# 할인율 (rate)\n",
        "# 10000 <= buy < 50000 # 5%\n",
        "# 50000 <= buy <= 300000 # 7.5%\n",
        "# buy >= 300000 # 10%\n",
        "# 그 외 0~9999 # 0%\n",
        "\n",
        "\n",
        "buy = int(input('물건 구매가를 입력하세요: '))\n",
        "\n",
        "if 10000 <= buy < 50000:\n",
        "  # print(5)\n",
        "  rate = 5\n",
        "elif 50000 <= buy <= 300000:\n",
        "  rate = 7.5\n",
        "elif buy >= 300000:\n",
        "  rate = 7.5\n",
        "else:\n",
        "  rate = 0\n",
        "\n",
        "# 할인금액(discount)\n",
        "# 지불금액(pay)\n",
        "discount = buy * rate /100\n",
        "pay = buy - discount\n",
        "\n",
        "# print(type(rate))\n",
        "print('할인율 : %.1f%%' %rate)\n",
        "print('할인 금액 : %.0f원' %discount)\n",
        "print('지불 금액 : %.0f원' %pay)"
      ],
      "execution_count": 119,
      "outputs": [
        {
          "output_type": "stream",
          "name": "stdout",
          "text": [
            "물건 구매가를 입력하세요: 60000\n",
            "할인율 : 7.5%\n",
            "할인 금액 : 4500원\n",
            "지불 금액 : 55500원\n"
          ]
        }
      ]
    },
    {
      "cell_type": "code",
      "metadata": {
        "colab": {
          "base_uri": "https://localhost:8080/"
        },
        "id": "-mvXdUoE2saq",
        "outputId": "ab21a1e6-cf51-4837-9fa6-774b6621bf62"
      },
      "source": [
        "# 응용\n",
        "# 쿠폰 발행\n",
        "# 10000 <= buy < 50000 # 5000원\n",
        "# 50000 <= buy <= 300000 # 7500원\n",
        "# buy >= 300000 # 10000원\n",
        "# 그 외 0~9999 # 0원\n",
        "\n",
        "buy = int(input('물건 구매가를 입력하세요: '))\n",
        "\n",
        "if 10000 <= buy < 50000:\n",
        "  coupon = 5000\n",
        "elif 50000 <= buy <= 300000:\n",
        "  coupon = 7500\n",
        "elif buy >= 300000:\n",
        "  coupon = 10000\n",
        "else:\n",
        "  coupon = 10000\n",
        "\n",
        "print(f'쿠폰 {coupon} 받으실 수 있어요~!')"
      ],
      "execution_count": 120,
      "outputs": [
        {
          "output_type": "stream",
          "name": "stdout",
          "text": [
            "물건 구매가를 입력하세요: 60000\n",
            "쿠폰 7500 받으실 수 있어요~!\n"
          ]
        }
      ]
    },
    {
      "cell_type": "code",
      "metadata": {
        "id": "fuFR-Cu84eST"
      },
      "source": [
        ""
      ],
      "execution_count": null,
      "outputs": []
    }
  ]
}